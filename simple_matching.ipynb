{
 "cells": [
  {
   "cell_type": "code",
   "execution_count": null,
   "metadata": {
    "autoscroll": false,
    "collapsed": false,
    "ein.hycell": false,
    "ein.tags": "worksheet-0",
    "slideshow": {
     "slide_type": "-"
    }
   },
   "outputs": [],
   "source": [
    "%reset\n",
    "%load_ext autoreload\n",
    "%autoreload 2\n",
    "\n",
    "import Sampling\n",
    "import UsefulFunctions as fun\n",
    "import DeformationModules as df\n",
    "import Models\n",
    "import Hamiltonian\n",
    "\n",
    "import numpy as np\n",
    "import matplotlib.pyplot as plt\n",
    "import torch\n",
    "\n",
    "torch.set_default_tensor_type(torch.DoubleTensor)"
   ]
  },
  {
   "cell_type": "code",
   "execution_count": null,
   "metadata": {
    "autoscroll": false,
    "collapsed": false,
    "ein.hycell": false,
    "ein.tags": "worksheet-0",
    "slideshow": {
     "slide_type": "-"
    }
   },
   "outputs": [],
   "source": [
    "source = Sampling.sampleFromGreyscale(\"data/density_a.png\")\n",
    "target = Sampling.sampleFromGreyscale(\"data/density_b.png\")\n",
    "source[0].requires_grad_()"
   ]
  },
  {
   "cell_type": "code",
   "execution_count": null,
   "metadata": {
    "autoscroll": false,
    "collapsed": false,
    "ein.hycell": false,
    "ein.tags": "worksheet-0",
    "slideshow": {
     "slide_type": "-"
    }
   },
   "outputs": [],
   "source": [
    "fun.plotTensorScatter(source, 0.4)\n",
    "fun.plotTensorScatter(target, 0.4)\n",
    "plt.show()"
   ]
  },
  {
   "cell_type": "code",
   "execution_count": null,
   "metadata": {
    "autoscroll": false,
    "collapsed": false,
    "ein.hycell": false,
    "ein.tags": "worksheet-0",
    "slideshow": {
     "slide_type": "-"
    }
   },
   "outputs": [],
   "source": [
    "points = torch.cat((source[0], target[0]), 0).detach().numpy()\n",
    "minx, miny, maxx, maxy = np.min(points[:, 0]), np.min(points[:, 1]), np.max(points[:, 0]), np.max(points[:, 1])"
   ]
  },
  {
   "cell_type": "code",
   "execution_count": null,
   "metadata": {
    "autoscroll": false,
    "collapsed": false,
    "ein.hycell": false,
    "ein.tags": "worksheet-0",
    "slideshow": {
     "slide_type": "-"
    }
   },
   "outputs": [],
   "source": [
    "nbGD = 500\n",
    "GD = torch.rand(nbGD, 2)\n",
    "GD[:, 0] = (maxx - minx) * GD[:, 0] + minx\n",
    "GD[:, 1] = (maxy - miny) * GD[:, 1] + miny\n",
    "GD = GD.view(-1)"
   ]
  },
  {
   "cell_type": "code",
   "execution_count": null,
   "metadata": {
    "autoscroll": false,
    "collapsed": false,
    "ein.hycell": false,
    "ein.tags": "worksheet-0",
    "slideshow": {
     "slide_type": "-"
    }
   },
   "outputs": [],
   "source": [
    "nbGD = 1000\n",
    "x, y = torch.meshgrid([torch.arange(minx, maxx, step=(maxx-minx)/np.sqrt(nbGD)), torch.arange(miny, maxy, step=(maxy-miny)/np.sqrt(nbGD))])\n",
    "GD = fun.grid2vec(x, y)\n",
    "GD = GD.contiguous().view(-1)\n"
   ]
  },
  {
   "cell_type": "code",
   "execution_count": null,
   "metadata": {
    "autoscroll": false,
    "collapsed": false,
    "ein.hycell": false,
    "ein.tags": "worksheet-0",
    "slideshow": {
     "slide_type": "-"
    }
   },
   "outputs": [],
   "source": [
    "fun.plotTensorScatter(source)\n",
    "fun.plotTensorScatter(target)\n",
    "plt.plot(GD.view(-1, 2).detach()[:, 1].numpy(), GD.view(-1, 2).detach()[:, 0].numpy(), '.')\n",
    "plt.show()"
   ]
  },
  {
   "cell_type": "code",
   "execution_count": null,
   "metadata": {
    "autoscroll": false,
    "collapsed": false,
    "ein.hycell": false,
    "ein.tags": "worksheet-0",
    "slideshow": {
     "slide_type": "-"
    }
   },
   "outputs": [],
   "source": [
    "myModel = Models.ModelTranslationModuleRegistration(0.05, 2, source, GD)\n",
    "\n",
    "costs = myModel.fit(target, 100)"
   ]
  },
  {
   "cell_type": "code",
   "execution_count": null,
   "metadata": {
    "autoscroll": false,
    "collapsed": false,
    "ein.hycell": false,
    "ein.tags": "worksheet-0",
    "slideshow": {
     "slide_type": "-"
    }
   },
   "outputs": [],
   "source": [
    "out = myModel()\n",
    "outGD, outMOM = myModel.getVars()\n",
    "%matplotlib qt5\n",
    "fun.plotTensorScatter(target, alpha=0.4)\n",
    "fun.plotTensorScatter(out, alpha=0.4)\n",
    "plt.plot(GD.view(-1, 2).detach()[:, 1].numpy(), GD.view(-1, 2).detach()[:, 0].numpy(), '.')\n",
    "plt.quiver(y, x, outMOM.view(-1, 2).detach()[:, 1].numpy(), outMOM.view(-1, 2).detach()[:, 0].numpy())\n",
    "plt.show()"
   ]
  },
  {
   "cell_type": "code",
   "execution_count": null,
   "metadata": {
    "autoscroll": false,
    "collapsed": false,
    "ein.hycell": false,
    "ein.tags": "worksheet-0",
    "slideshow": {
     "slide_type": "-"
    }
   },
   "outputs": [],
   "source": [
    "plt.plot(range(0, len(costs)), costs)\n",
    "plt.show()"
   ]
  }
 ],
 "metadata": {
  "kernelspec": {
   "display_name": "Python 3",
   "name": "python3"
  },
  "name": "simple_matching.ipynb"
 },
 "nbformat": 4,
 "nbformat_minor": 2
}
