{
 "cells": [
  {
   "cell_type": "code",
   "execution_count": null,
   "metadata": {
    "autoscroll": false,
    "collapsed": false,
    "ein.hycell": false,
    "ein.tags": "worksheet-0",
    "slideshow": {
     "slide_type": "-"
    }
   },
   "outputs": [],
   "source": [
    "%reset\n",
    "%load_ext autoreload\n",
    "%autoreload 2\n",
    "\n",
    "import Sampling\n",
    "import UsefulFunctions as fun\n",
    "import DeformationModules as df\n",
    "import Models\n",
    "import Hamiltonian\n",
    "\n",
    "import numpy as np\n",
    "import matplotlib.pyplot as plt\n",
    "import torch\n",
    "\n",
    "torch.set_default_tensor_type(torch.DoubleTensor)"
   ]
  },
  {
   "cell_type": "code",
   "execution_count": null,
   "metadata": {
    "autoscroll": false,
    "collapsed": false,
    "ein.hycell": false,
    "ein.tags": "worksheet-0",
    "slideshow": {
     "slide_type": "-"
    }
   },
   "outputs": [],
   "source": [
    "source = Sampling.sampleFromGreyscale(\"data/density_a.png\", threshold=0.5, centered=True)\n",
    "target = Sampling.sampleFromGreyscale(\"data/density_b.png\", threshold=0.5, centered=True)"
   ]
  },
  {
   "cell_type": "code",
   "execution_count": null,
   "metadata": {
    "autoscroll": false,
    "collapsed": false,
    "ein.hycell": false,
    "ein.tags": "worksheet-0",
    "slideshow": {
     "slide_type": "-"
    }
   },
   "outputs": [],
   "source": [
    "minx, miny, maxx, maxy = torch.min(source[0][:, 0]).detach().numpy(), torch.min(source[0][:, 1]).detach().numpy(), torch.max(source[0][:, 0]).detach().numpy(), torch.max(source[0][:, 1]).detach().numpy()"
   ]
  },
  {
   "cell_type": "code",
   "execution_count": null,
   "metadata": {
    "autoscroll": false,
    "collapsed": false,
    "ein.hycell": false,
    "ein.tags": "worksheet-0",
    "slideshow": {
     "slide_type": "-"
    }
   },
   "outputs": [],
   "source": [
    "sigma = 0.05\n",
    "x, y = torch.meshgrid([torch.arange(minx-sigma, maxx+sigma, step=sigma), torch.arange(miny-sigma, maxy+sigma, step=sigma)])\n",
    "GD = fun.grid2vec(x, y)\n",
    "GD = GD.contiguous().view(-1)"
   ]
  },
  {
   "cell_type": "code",
   "execution_count": null,
   "metadata": {
    "autoscroll": false,
    "collapsed": false,
    "ein.hycell": false,
    "ein.tags": "worksheet-0",
    "slideshow": {
     "slide_type": "-"
    }
   },
   "outputs": [],
   "source": [
    "fun.plotTensorScatter(source, alpha=0.4)\n",
    "fun.plotTensorScatter(target, alpha=0.4)\n",
    "plt.plot(GD.view(-1, 2).detach()[:, 1].numpy(), GD.view(-1, 2).detach()[:, 0].numpy(), '.')\n",
    "plt.show()"
   ]
  },
  {
   "cell_type": "code",
   "execution_count": null,
   "metadata": {
    "autoscroll": false,
    "collapsed": false,
    "ein.hycell": false,
    "ein.tags": "worksheet-0",
    "slideshow": {
     "slide_type": "-"
    }
   },
   "outputs": [],
   "source": [
    "myModel = Models.ModelTranslationModuleRegistration(sigma, 2, source, GD, True)\n",
    "costs = myModel.fit(target, maxiter=10, l=100., lr=1e-4, logInterval=5)"
   ]
  },
  {
   "cell_type": "code",
   "execution_count": null,
   "metadata": {
    "autoscroll": false,
    "collapsed": false,
    "ein.hycell": false,
    "ein.tags": "worksheet-0",
    "slideshow": {
     "slide_type": "-"
    }
   },
   "outputs": [],
   "source": [
    "out = myModel()\n",
    "outGD, _ = myModel.shootList()\n",
    "%matplotlib qt5\n",
    "plt.subplot(1, 2, 1)\n",
    "fun.plotTensorScatter(target, alpha=0.4)\n",
    "fun.plotTensorScatter(out, alpha=0.4)\n",
    "plt.plot(outGD[1].view(-1, 2).detach()[:, 1].numpy(), outGD[1].view(-1, 2).detach()[:, 0].numpy(), '.')\n",
    "plt.subplot(1, 2, 2)\n",
    "fun.plotTensorScatter(target, alpha=0.4)\n",
    "fun.plotTensorScatter(source, alpha=0.4)\n",
    "plt.show()\n"
   ]
  },
  {
   "cell_type": "code",
   "execution_count": null,
   "metadata": {
    "autoscroll": false,
    "collapsed": false,
    "ein.hycell": false,
    "ein.tags": "worksheet-0",
    "slideshow": {
     "slide_type": "-"
    }
   },
   "outputs": [],
   "source": [
    "plt.plot(range(0, len(costs)), costs)\n",
    "plt.show()"
   ]
  }
 ],
 "metadata": {
  "kernelspec": {
   "display_name": "Python 3",
   "name": "python3"
  },
  "name": "simple_matching.ipynb"
 },
 "nbformat": 4,
 "nbformat_minor": 2
}
