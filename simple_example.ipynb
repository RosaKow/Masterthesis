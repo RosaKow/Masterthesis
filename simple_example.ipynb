{
 "cells": [
  {
   "cell_type": "code",
   "execution_count": 25,
   "metadata": {
    "autoscroll": false,
    "collapsed": false,
    "ein.hycell": false,
    "ein.tags": "worksheet-0",
    "slideshow": {
     "slide_type": "-"
    }
   },
   "outputs": [
    {
     "name": "stdout",
     "output_type": "stream",
     "text": [
      "The autoreload extension is already loaded. To reload it, use:\n",
      "  %reload_ext autoreload\n"
     ]
    }
   ],
   "source": [
    "%load_ext autoreload\n",
    "%autoreload 2\n",
    "\n",
    "import torch\n",
    "import numpy as np\n",
    "import matplotlib.pyplot as plt\n",
    "\n",
    "import DeformationModules as defmod\n",
    "import Shooting as shoot\n",
    "import Hamiltonian as ham\n",
    "import useful_fun"
   ]
  },
  {
   "cell_type": "code",
   "execution_count": 70,
   "metadata": {
    "autoscroll": false,
    "collapsed": false,
    "ein.hycell": false,
    "ein.tags": "worksheet-0",
    "slideshow": {
     "slide_type": "-"
    }
   },
   "outputs": [],
   "source": [
    "\"\"\"Dimension of the space\"\"\"\n",
    "d = 2"
   ]
  },
  {
   "cell_type": "code",
   "execution_count": 71,
   "metadata": {
    "autoscroll": false,
    "collapsed": false,
    "ein.hycell": false,
    "ein.tags": "worksheet-0",
    "slideshow": {
     "slide_type": "-"
    }
   },
   "outputs": [],
   "source": [
    "σ = 0.5\n",
    "nbPts = 2\n",
    "\n",
    "Trans = defmod.TranslationsIdenticalCost(σ, d, nbPts)"
   ]
  },
  {
   "cell_type": "code",
   "execution_count": 72,
   "metadata": {
    "autoscroll": false,
    "collapsed": false,
    "ein.hycell": false,
    "ein.tags": "worksheet-0",
    "slideshow": {
     "slide_type": "-"
    }
   },
   "outputs": [],
   "source": [
    "hamiltonian = ham.Hamilt(Trans)"
   ]
  },
  {
   "cell_type": "code",
   "execution_count": 73,
   "metadata": {
    "autoscroll": false,
    "collapsed": false,
    "ein.hycell": false,
    "ein.tags": "worksheet-0",
    "slideshow": {
     "slide_type": "-"
    }
   },
   "outputs": [],
   "source": [
    "def H_r(GD, MOM):\n",
    "    return hamiltonian(GD, MOM, hamiltonian.Cont_geo(GD, MOM))"
   ]
  },
  {
   "cell_type": "code",
   "execution_count": 74,
   "metadata": {
    "autoscroll": false,
    "collapsed": false,
    "ein.hycell": false,
    "ein.tags": "worksheet-0",
    "slideshow": {
     "slide_type": "-"
    }
   },
   "outputs": [],
   "source": [
    "GD_Trans = torch.tensor([[0., 0.], [0., 1.]], requires_grad=True).view(-1)\n",
    "MOM_Trans = torch.tensor([[-0.5, 0.5], [0.5, 0.5]], requires_grad=True).view(-1)"
   ]
  },
  {
   "cell_type": "code",
   "execution_count": 89,
   "metadata": {
    "autoscroll": false,
    "collapsed": false,
    "ein.hycell": false,
    "ein.tags": "worksheet-0",
    "slideshow": {
     "slide_type": "-"
    }
   },
   "outputs": [],
   "source": [
    "cont = hamiltonian.Cont_geo(GD_Trans, MOM_Trans)"
   ]
  },
  {
   "cell_type": "code",
   "execution_count": 90,
   "metadata": {
    "autoscroll": false,
    "collapsed": false,
    "ein.hycell": false,
    "ein.tags": "worksheet-0",
    "slideshow": {
     "slide_type": "-"
    }
   },
   "outputs": [
    {
     "name": "stdout",
     "output_type": "stream",
     "text": [
      "tensor([[-0.4910,  0.5085],\n",
      "        [ 0.4910,  1.5100]], grad_fn=<ViewBackward>)\n",
      "tensor([[-0.5002,  0.4990],\n",
      "        [ 0.5002,  0.5010]], grad_fn=<ViewBackward>)\n",
      "tensor([[-0.4908,  0.5092],\n",
      "        [ 0.4908,  0.5092]], grad_fn=<ViewBackward>)\n"
     ]
    }
   ],
   "source": [
    "GD_final, MOM_final = shoot.shoot(Trans, GD_Trans, MOM_Trans, H_r, 10)\n",
    "print(GD_final.view(-1, 2))\n",
    "print(MOM_final.view(-1, 2))\n",
    "print(cont.view(-1, 2))"
   ]
  },
  {
   "cell_type": "code",
   "execution_count": 84,
   "metadata": {
    "autoscroll": false,
    "collapsed": false,
    "ein.hycell": false,
    "ein.tags": "worksheet-0",
    "slideshow": {
     "slide_type": "-"
    }
   },
   "outputs": [
    {
     "name": "stdout",
     "output_type": "stream",
     "text": [
      "(tensor([-0.9910,  1.0076,  0.9910,  2.0110], grad_fn=<AddBackward0>), tensor([-0.5002,  0.4990,  0.5002,  0.5010], grad_fn=<SubBackward0>))\n"
     ]
    }
   ],
   "source": [
    "print(shoot.shoot(Trans, GD_final, MOM_final, H_r, 5))"
   ]
  },
  {
   "cell_type": "code",
   "execution_count": 85,
   "metadata": {
    "autoscroll": false,
    "collapsed": false,
    "ein.hycell": false,
    "ein.tags": "worksheet-0",
    "slideshow": {
     "slide_type": "-"
    }
   },
   "outputs": [
    {
     "data": {
      "text/plain": [
       "<matplotlib.quiver.Quiver at 0x7fa64c2ca470>"
      ]
     },
     "execution_count": 85,
     "metadata": {},
     "output_type": "execute_result"
    },
    {
     "data": {
      "image/png": "[encoded data removed]",
      "text/plain": [
       "<Figure size 432x288 with 1 Axes>"
      ]
     },
     "metadata": {},
     "output_type": "display_data"
    }
   ],
   "source": [
    "nx, ny = 20, 20\n",
    "sx, sy = 10, 10\n",
    "x, y = torch.meshgrid([torch.arange(0, nx), torch.arange(0, ny)])\n",
    "x = sx*(x.type(torch.FloatTensor)/nx - 0.5)\n",
    "y = sy*(y.type(torch.FloatTensor)/ny - 0.5)\n",
    "\"\"\"u, v = torch.zeros([nx, ny]), torch.zeros([nx, ny])\"\"\"\n",
    "\n",
    "u, v = useful_fun.vec2grid(Trans(GD_final, cont, useful_fun.grid2vec(x, y).type(torch.FloatTensor)), nx, ny)\n",
    "\n",
    "plt.quiver(x.numpy(), y.numpy(), u.detach().numpy(), v.detach().numpy())"
   ]
  }
 ],
 "metadata": {
  "kernelspec": {
   "display_name": "Python 3",
   "name": "python3"
  },
  "name": "Untitled.ipynb"
 },
 "nbformat": 4,
 "nbformat_minor": 2
}
