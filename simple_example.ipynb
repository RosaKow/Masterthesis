{
 "cells": [
  {
   "cell_type": "code",
   "execution_count": null,
   "metadata": {
    "autoscroll": false,
    "collapsed": false,
    "ein.hycell": false,
    "ein.tags": "worksheet-0",
    "slideshow": {
     "slide_type": "-"
    }
   },
   "outputs": [],
   "source": [
    "%reset\n",
    "%load_ext autoreload\n",
    "%autoreload 2\n",
    "\n",
    "import torch\n",
    "import numpy as np\n",
    "import matplotlib.pyplot as plt\n",
    "\n",
    "import DeformationModules as defmod\n",
    "import Shooting as shoot\n",
    "import Hamiltonian as ham\n",
    "import UsefulFunctions as fun"
   ]
  },
  {
   "cell_type": "code",
   "execution_count": null,
   "metadata": {
    "autoscroll": false,
    "collapsed": false,
    "ein.hycell": false,
    "ein.tags": "worksheet-0",
    "slideshow": {
     "slide_type": "-"
    }
   },
   "outputs": [],
   "source": [
    "\"\"\"Dimension of the space\"\"\"\n",
    "d = 2"
   ]
  },
  {
   "cell_type": "code",
   "execution_count": null,
   "metadata": {
    "autoscroll": false,
    "collapsed": false,
    "ein.hycell": false,
    "ein.tags": "worksheet-0",
    "slideshow": {
     "slide_type": "-"
    }
   },
   "outputs": [],
   "source": [
    "σ = 1.5\n",
    "nbPts = 4\n",
    "\n",
    "Trans = defmod.Translations(σ, d, nbPts)\n",
    "Trans_Id = defmod.TranslationsIdenticalCost(σ, d, nbPts)"
   ]
  },
  {
   "cell_type": "code",
   "execution_count": null,
   "metadata": {
    "autoscroll": false,
    "collapsed": false,
    "ein.hycell": false,
    "ein.tags": "worksheet-0",
    "slideshow": {
     "slide_type": "-"
    }
   },
   "outputs": [],
   "source": [
    "Hamiltonian = ham.Hamilt(Trans)\n",
    "Hamiltonian_Id = ham.Hamilt(Trans_Id)"
   ]
  },
  {
   "cell_type": "code",
   "execution_count": null,
   "metadata": {
    "autoscroll": false,
    "collapsed": false,
    "ein.hycell": false,
    "ein.tags": "worksheet-0",
    "slideshow": {
     "slide_type": "-"
    }
   },
   "outputs": [],
   "source": [
    "GD_Trans = torch.tensor([[1., 2.], [-1., -2.], [1., -2.5], [-2., 1.5]], requires_grad=True)\n",
    "MOM_Trans = torch.tensor([[0., 0.5], [0.5, 0.5], [-1., -0.2], [0.1, -0.4]], requires_grad=True)\n",
    "\n",
    "GD_Trans_Id = GD_Trans.clone().detach()\n",
    "MOM_Trans_Id = MOM_Trans.clone().detach()\n",
    "GD_Trans_Id.requires_grad_()\n",
    "MOM_Trans_Id.requires_grad_()"
   ]
  },
  {
   "cell_type": "code",
   "execution_count": null,
   "metadata": {
    "autoscroll": false,
    "collapsed": false,
    "ein.hycell": false,
    "ein.tags": "worksheet-0",
    "slideshow": {
     "slide_type": "-"
    }
   },
   "outputs": [],
   "source": [
    "Controls = Hamiltonian.Cont_geo(GD_Trans, MOM_Trans)\n",
    "Controls_Id = Hamiltonian_Id.Cont_geo(GD_Trans_Id, MOM_Trans_Id)"
   ]
  },
  {
   "cell_type": "code",
   "execution_count": null,
   "metadata": {
    "autoscroll": false,
    "collapsed": false,
    "ein.hycell": false,
    "ein.tags": "worksheet-0",
    "slideshow": {
     "slide_type": "-"
    }
   },
   "outputs": [],
   "source": [
    "GD_Final, MOM_Final = shoot.shoot(Trans, GD_Trans, MOM_Trans, Hamiltonian, 100)\n",
    "GD_Final_Id, MOM_Final_Id = shoot.shoot(Trans_Id, GD_Trans_Id, MOM_Trans_Id, Hamiltonian_Id, 100)"
   ]
  },
  {
   "cell_type": "code",
   "execution_count": null,
   "metadata": {
    "autoscroll": false,
    "collapsed": false,
    "ein.hycell": false,
    "ein.tags": "worksheet-0",
    "slideshow": {
     "slide_type": "-"
    }
   },
   "outputs": [],
   "source": [
    "print(GD_Final.view(-1, 2))\n",
    "print(MOM_Final.view(-1, 2))\n",
    "print(Controls.view(-1, 2))\n",
    "print(\"========================\")\n",
    "print(GD_Final_Id.view(-1, 2))\n",
    "print(MOM_Final_Id.view(-1, 2))\n",
    "print(Controls_Id.view(-1, 2))"
   ]
  },
  {
   "cell_type": "code",
   "execution_count": null,
   "metadata": {
    "autoscroll": false,
    "collapsed": false,
    "ein.hycell": false,
    "ein.tags": "worksheet-0",
    "slideshow": {
     "slide_type": "-"
    }
   },
   "outputs": [],
   "source": [
    "nx, ny = 100, 100\n",
    "sx, sy = 10, 10\n",
    "x, y = torch.meshgrid([torch.arange(0, nx), torch.arange(0, ny)])\n",
    "x = sx*(x.type(torch.FloatTensor)/nx - 0.5)\n",
    "y = sy*(y.type(torch.FloatTensor)/ny - 0.5)\n",
    "u, v = fun.vec2grid(Trans(GD_Final, Controls, fun.grid2vec(x, y).type(torch.FloatTensor)), nx, ny)\n",
    "u_id, v_id = fun.vec2grid(Trans(GD_Final_Id, Controls_Id, fun.grid2vec(x, y).type(torch.FloatTensor)), nx, ny)\n"
   ]
  },
  {
   "cell_type": "code",
   "execution_count": null,
   "metadata": {
    "autoscroll": false,
    "collapsed": false,
    "ein.hycell": false,
    "ein.tags": "worksheet-0",
    "slideshow": {
     "slide_type": "-"
    }
   },
   "outputs": [],
   "source": [
    "%matplotlib qt5\n",
    "plt.subplot(1, 2, 1)\n",
    "plt.title('Real cost')\n",
    "plt.quiver(x.numpy(), y.numpy(), u.detach().numpy(), v.detach().numpy())\n",
    "plt.subplot(1, 2, 2)\n",
    "plt.title('Identical cost')\n",
    "plt.quiver(x.numpy(), y.numpy(), u_id.detach().numpy(), v_id.detach().numpy())\n",
    "plt.show()"
   ]
  }
 ],
 "metadata": {
  "kernelspec": {
   "display_name": "Python 3",
   "name": "python3"
  },
  "name": "simple_example.ipynb"
 },
 "nbformat": 4,
 "nbformat_minor": 2
}
