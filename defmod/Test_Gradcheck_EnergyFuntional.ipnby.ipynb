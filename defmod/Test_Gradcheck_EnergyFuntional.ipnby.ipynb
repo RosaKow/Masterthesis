{
 "cells": [
  {
   "cell_type": "code",
   "execution_count": 1,
   "metadata": {},
   "outputs": [
    {
     "name": "stdout",
     "output_type": "stream",
     "text": [
      "Once deleted, variables cannot be recovered. Proceed (y/[n])? y\n"
     ]
    }
   ],
   "source": [
    "%reset\n",
    "%load_ext autoreload\n",
    "%autoreload 2\n",
    "\n",
    "import sys\n",
    "\n",
    "sys.path.append(\"../\")\n",
    "import torch\n",
    "import numpy as np\n",
    "import defmod as dm\n",
    "import multimodule_usefulfunctions as mm \n",
    "import matplotlib.pyplot as plt\n",
    "import defmod.hamiltonian_multishape as hamiltonian\n",
    "import model_graddesc as model\n",
    "\n",
    "\n",
    "torch.set_default_tensor_type(torch.DoubleTensor)"
   ]
  },
  {
   "cell_type": "code",
   "execution_count": 2,
   "metadata": {},
   "outputs": [],
   "source": [
    "nb_pts1 = 10\n",
    "nb_pts2 = 7\n",
    "dim = 2\n",
    "\n",
    "o1 = torch.tensor([0,0]).float()\n",
    "o2 = torch.tensor([10,0]).float()\n",
    "origin = [o1,o2]\n",
    "r1 = 2\n",
    "r2 = 1\n",
    "radius = [r1, r2]\n",
    "nb_pts = [nb_pts1, nb_pts2]\n",
    "source = mm.multipleCircles(origin, radius, nb_pts)\n",
    "\n",
    "origin_target = [[0,5], [10,-5]]\n",
    "target = mm.multipleCircles(origin_target, radius, nb_pts)"
   ]
  },
  {
   "cell_type": "code",
   "execution_count": 3,
   "metadata": {},
   "outputs": [],
   "source": [
    "# Defining the deformation modules\n",
    "sigma1 = 10\n",
    "manifold1 = dm.manifold.Landmarks(dim, nb_pts1, gd=source[0].view(-1))\n",
    "trans1 = dm.deformationmodules.Translations(manifold1, sigma1)\n",
    "\n",
    "sigma2 = 10\n",
    "manifold2 = dm.manifold.Landmarks(dim, nb_pts2, gd=source[1].view(-1))\n",
    "trans2 = dm.deformationmodules.Translations(manifold2, sigma2)\n",
    "\n",
    "module_list = [trans1, trans2]\n",
    "sigma_bg = 0.1\n",
    "modules = dm.multishape.MultiShapeModule(module_list, sigma_bg)"
   ]
  },
  {
   "cell_type": "code",
   "execution_count": 4,
   "metadata": {},
   "outputs": [],
   "source": [
    "constr_Id = dm.constraints.Identity()\n",
    "H = hamiltonian.Hamiltonian_multi(modules, constr_Id)"
   ]
  },
  {
   "cell_type": "code",
   "execution_count": 5,
   "metadata": {},
   "outputs": [],
   "source": [
    "gd0_list = [*source, source]\n",
    "mom0_list = [*[torch.rand(gd.shape) for gd in modules.manifold.gd[:-1]], [torch.rand(gd.shape) for gd in modules.manifold.gd[-1]]]\n",
    "\n",
    "# set parameters\n",
    "reg_param = 10**-2 # regularisation parameter\n",
    "\n",
    "#gd0_tensor = torch.cat([gd0_list[0], gd0_list[1], gd0_list[2][0], gd0_list[2][1]],0).requires_grad_().view(-1).double()\n",
    "#mom0_tensor = torch.cat([mom0_list[0], mom0_list[1], mom0_list[2][0], mom0_list[2][1]],0).requires_grad_().view(-1).double()\n",
    "    \n",
    "EnergyFunctional = model.EnergyFunctional(modules, H, constr_Id, target, dim, reg_param)\n",
    "gd0_tensor = EnergyFunctional.list2tensor(gd0_list)\n",
    "mom0_tensor = EnergyFunctional.list2tensor(mom0_list)\n",
    "\n",
    "#gradE = torch.autograd.grad(EnergyFunctional.energy_tensor(gd0_tensor, mom0_tensor), mom0_tensor, create_graph=True, allow_unused=True)"
   ]
  },
  {
   "cell_type": "code",
   "execution_count": 6,
   "metadata": {},
   "outputs": [
    {
     "data": {
      "text/plain": [
       "True"
      ]
     },
     "execution_count": 6,
     "metadata": {},
     "output_type": "execute_result"
    }
   ],
   "source": [
    "def test_gradcheck_tensor2list():\n",
    "    def tensor2list(x):\n",
    " \n",
    "        return EnergyFunctional.tensor2list(x)[2]\n",
    "    \n",
    "    return torch.autograd.gradcheck(tensor2list, gd0_tensor, raise_exception=True)\n",
    "\n",
    "test_gradcheck_tensor2list()"
   ]
  },
  {
   "cell_type": "code",
   "execution_count": 7,
   "metadata": {},
   "outputs": [
    {
     "data": {
      "text/plain": [
       "True"
      ]
     },
     "execution_count": 7,
     "metadata": {},
     "output_type": "execute_result"
    }
   ],
   "source": [
    "def test_gradcheck_attach():\n",
    "    def attach(gd, t):\n",
    "        t = [t[:nb_pts1,:], t[nb_pts1:,:]]\n",
    "        gd = EnergyFunctional.tensor2list(gd)\n",
    "        EnergyFunctional.modules.manifold.fill_gd(gd)\n",
    "        return EnergyFunctional.attach(t)\n",
    "    \n",
    "    return torch.autograd.gradcheck(attach, (gd0_tensor, torch.cat(target)), raise_exception=True)\n",
    "\n",
    "test_gradcheck_attach()"
   ]
  },
  {
   "cell_type": "code",
   "execution_count": 9,
   "metadata": {},
   "outputs": [
    {
     "data": {
      "text/plain": [
       "True"
      ]
     },
     "execution_count": 9,
     "metadata": {},
     "output_type": "execute_result"
    }
   ],
   "source": [
    "def controlslist2tensor(controls_list):\n",
    "    return torch.cat([controls_list[0].view(-1),controls_list[1].view(-1), controls_list[-1][0].view(-1),controls_list[-1][1].view(-1)])\n",
    "\n",
    "def controlstensor2list(controls, nb_pts, dim):\n",
    "    n = sum(nb_pts)\n",
    "    return [controls[:dim*nb_pts[0]], controls[dim*nb_pts[0]:dim*(nb_pts[0]+nb_pts[1])], [controls[dim*n:dim*(n+nb_pts[0])], controls[dim*(n+nb_pts[0]):]]]\n",
    "\n",
    "def test_gradcheck_cost():\n",
    "    def cost(gd, cont):\n",
    "        cont = controlstensor2list(cont, nb_pts, dim)\n",
    "        gd = EnergyFunctional.tensor2list(gd)\n",
    "        EnergyFunctional.modules.manifold.fill_gd(gd)\n",
    "        EnergyFunctional.modules.fill_controls(cont)\n",
    "        return EnergyFunctional.cost()\n",
    "    \n",
    "    return torch.autograd.gradcheck(cost, (gd0_tensor, controlslist2tensor(modules.controls)), raise_exception=True)\n",
    "\n",
    "test_gradcheck_cost()"
   ]
  },
  {
   "cell_type": "code",
   "execution_count": 10,
   "metadata": {},
   "outputs": [
    {
     "data": {
      "text/plain": [
       "True"
      ]
     },
     "execution_count": 10,
     "metadata": {},
     "output_type": "execute_result"
    }
   ],
   "source": [
    "def test_gradcheck_shoot():\n",
    "    def shoot(x, y):\n",
    "        x = EnergyFunctional.tensor2list(x)\n",
    "        y = EnergyFunctional.tensor2list(y)\n",
    "        \n",
    "        EnergyFunctional.modules.manifold.fill_gd(x)\n",
    "        EnergyFunctional.modules.manifold.fill_cotan(y)  \n",
    "        \n",
    "        intermediate_states, intermediate_controls = EnergyFunctional.shoot()\n",
    "        return EnergyFunctional.modules.manifold.gd[0]\n",
    "    \n",
    "    return torch.autograd.gradcheck(shoot, (gd0_tensor, mom0_tensor), raise_exception=True)\n",
    "\n",
    "test_gradcheck_shoot()"
   ]
  },
  {
   "cell_type": "code",
   "execution_count": 11,
   "metadata": {},
   "outputs": [
    {
     "data": {
      "text/plain": [
       "True"
      ]
     },
     "execution_count": 11,
     "metadata": {},
     "output_type": "execute_result"
    }
   ],
   "source": [
    "def test_gradcheck_energy_tensor():\n",
    "    def energy_tensor(x,y):\n",
    "         \n",
    "        return EnergyFunctional.energy_tensor(x,y)\n",
    "    \n",
    "    return torch.autograd.gradcheck(energy_tensor, (gd0_tensor, mom0_tensor), raise_exception=True)\n",
    "\n",
    "test_gradcheck_energy_tensor()"
   ]
  }
 ],
 "metadata": {
  "kernelspec": {
   "display_name": "Python 3",
   "language": "python",
   "name": "python3"
  },
  "language_info": {
   "codemirror_mode": {
    "name": "ipython",
    "version": 3
   },
   "file_extension": ".py",
   "mimetype": "text/x-python",
   "name": "python",
   "nbconvert_exporter": "python",
   "pygments_lexer": "ipython3",
   "version": "3.6.8"
  }
 },
 "nbformat": 4,
 "nbformat_minor": 2
}
