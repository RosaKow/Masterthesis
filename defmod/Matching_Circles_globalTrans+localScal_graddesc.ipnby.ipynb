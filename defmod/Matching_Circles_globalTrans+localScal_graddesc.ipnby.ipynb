{
 "cells": [
  {
   "cell_type": "code",
   "execution_count": 2,
   "metadata": {},
   "outputs": [
    {
     "name": "stdout",
     "output_type": "stream",
     "text": [
      "Once deleted, variables cannot be recovered. Proceed (y/[n])? y\n",
      "The autoreload extension is already loaded. To reload it, use:\n",
      "  %reload_ext autoreload\n"
     ]
    }
   ],
   "source": [
    "%reset\n",
    "%load_ext autoreload\n",
    "%autoreload 2\n",
    "\n",
    "import sys\n",
    "\n",
    "sys.path.append(\"../\")\n",
    "import torch\n",
    "import numpy as np\n",
    "import defmod as dm\n",
    "import multimodule_usefulfunctions as mm \n",
    "import matplotlib.pyplot as plt\n",
    "import defmod.hamiltonian_multishape as hamiltonian\n",
    "import model_MultiShapeCirclesTranslation as model"
   ]
  },
  {
   "cell_type": "code",
   "execution_count": 4,
   "metadata": {},
   "outputs": [],
   "source": [
    "nb_pts1 = 10\n",
    "nb_pts2 = 7\n",
    "dim = 2\n",
    "\n",
    "o1 = torch.tensor([0,0]).float()\n",
    "o2 = torch.tensor([10,0]).float()\n",
    "origin = [o1,o2]\n",
    "r1 = 2\n",
    "r2 = 1\n",
    "radius = [r1, r2]\n",
    "nb_pts = [nb_pts1, nb_pts2]\n",
    "source = mm.multipleCircles(origin, radius, nb_pts)\n",
    "\n",
    "origin_target = [[0,5], [10,-5]]\n",
    "target = mm.multipleCircles(origin_target, [1.6, 2], nb_pts)"
   ]
  },
  {
   "cell_type": "code",
   "execution_count": 5,
   "metadata": {},
   "outputs": [
    {
     "data": {
      "image/png": "[encoded data removed]",
      "text/plain": [
       "<matplotlib.figure.Figure at 0x7f275c26b320>"
      ]
     },
     "metadata": {},
     "output_type": "display_data"
    },
    {
     "data": {
      "image/png": "[encoded data removed]",
      "text/plain": [
       "<matplotlib.figure.Figure at 0x7f275a24ae80>"
      ]
     },
     "metadata": {},
     "output_type": "display_data"
    }
   ],
   "source": [
    "plt.figure()\n",
    "plt.scatter(source[0][:, 0].detach().numpy(), source[0][:, 1].detach().numpy(), c='red')\n",
    "plt.scatter(source[1][:, 0].detach().numpy(), source[1][:, 1].detach().numpy(), c='blue')\n",
    "\n",
    "plt.figure()\n",
    "plt.scatter(target[0][:, 0].detach().numpy(), target[0][:, 1].detach().numpy(), c='red')\n",
    "plt.scatter(target[1][:, 0].detach().numpy(), target[1][:, 1].detach().numpy(), c='blue')\n",
    "\n",
    "plt.axis('equal')\n",
    "plt.show()"
   ]
  },
  {
   "cell_type": "code",
   "execution_count": 6,
   "metadata": {},
   "outputs": [],
   "source": [
    "# Defining the deformation modules\n",
    "sigma1 = 3\n",
    "manifold1 = dm.manifold.Landmarks(dim, nb_pts1, gd=source[0].view(-1))\n",
    "trans1 = dm.deformationmodules.Translations(manifold1, sigma1)\n",
    "scal1 = \n",
    "\n",
    "sigma2 = 3\n",
    "manifold2 = dm.manifold.Landmarks(dim, nb_pts2, gd=source[1].view(-1))\n",
    "trans2 = dm.deformationmodules.Translations(manifold2, sigma2)\n",
    "scal2 = \n",
    "\n",
    "module_list = [trans1, trans2]\n",
    "sigma_bg = 0.1\n",
    "modules = dm.multishape.MultiShapeModule(module_list, sigma_bg)"
   ]
  },
  {
   "cell_type": "code",
   "execution_count": 51,
   "metadata": {},
   "outputs": [],
   "source": [
    "constr_Id = dm.constraints.Identity()\n",
    "H = hamiltonian.Hamiltonian_multi(modules, constr_Id)"
   ]
  },
  {
   "cell_type": "code",
   "execution_count": 52,
   "metadata": {},
   "outputs": [],
   "source": [
    "gd0_list = [*source, source]\n",
    "mom0_list = [*[torch.zeros(gd.shape) for gd in modules.manifold.gd[:-1]], [torch.zeros(gd.shape) for gd in modules.manifold.gd[-1]]]"
   ]
  },
  {
   "cell_type": "code",
   "execution_count": 53,
   "metadata": {},
   "outputs": [],
   "source": [
    "H.module.manifold.fill_gd([gd0_list[0].view(-1), gd0_list[1].view(-1), [gd0_list[2][0].view(-1), gd0_list[2][1].view(-1)]])\n",
    "H.module.manifold.fill_cotan([mom0_list[0].view(-1), mom0_list[1].view(-1), [mom0_list[2][0].view(-1), mom0_list[2][1].view(-1)]])\n",
    "H.geodesic_controls()"
   ]
  },
  {
   "cell_type": "code",
   "execution_count": 55,
   "metadata": {
    "scrolled": true
   },
   "outputs": [
    {
     "name": "stdout",
     "output_type": "stream",
     "text": [
      " iter : 0  ,total energy: 56.87947463989258\n",
      " iter : 1  ,total energy: 55.682823181152344\n",
      " iter : 2  ,total energy: 54.49032211303711\n",
      " iter : 3  ,total energy: 53.30195617675781\n",
      " iter : 4  ,total energy: 52.11771774291992\n",
      " iter : 5  ,total energy: 50.93759536743164\n",
      " iter : 6  ,total energy: 49.761573791503906\n",
      " iter : 7  ,total energy: 48.58963394165039\n",
      " iter : 8  ,total energy: 47.421775817871094\n",
      " iter : 9  ,total energy: 46.25798416137695\n",
      " iter : 10  ,total energy: 45.098243713378906\n",
      " iter : 11  ,total energy: 43.942543029785156\n",
      " iter : 12  ,total energy: 42.790870666503906\n",
      " iter : 13  ,total energy: 41.64322280883789\n",
      " iter : 14  ,total energy: 40.49957275390625\n",
      " iter : 15  ,total energy: 39.35991287231445\n",
      " iter : 16  ,total energy: 38.2242431640625\n",
      " iter : 17  ,total energy: 37.09253692626953\n",
      " iter : 18  ,total energy: 35.96479034423828\n",
      " iter : 19  ,total energy: 34.84099197387695\n",
      " iter : 20  ,total energy: 33.72112274169922\n",
      " iter : 21  ,total energy: 32.60517883300781\n",
      " iter : 22  ,total energy: 31.49315071105957\n",
      " iter : 23  ,total energy: 30.385026931762695\n",
      " iter : 24  ,total energy: 29.280786514282227\n",
      " iter : 25  ,total energy: 28.18043327331543\n",
      " iter : 26  ,total energy: 27.08394432067871\n",
      " iter : 27  ,total energy: 25.991317749023438\n",
      " iter : 28  ,total energy: 24.902542114257812\n",
      " iter : 29  ,total energy: 23.817607879638672\n",
      " iter : 30  ,total energy: 22.73651123046875\n",
      " iter : 31  ,total energy: 21.659236907958984\n",
      " iter : 32  ,total energy: 20.585786819458008\n",
      " iter : 33  ,total energy: 19.516157150268555\n",
      " iter : 34  ,total energy: 18.45034408569336\n",
      " iter : 35  ,total energy: 17.388351440429688\n",
      " iter : 36  ,total energy: 16.330188751220703\n",
      " iter : 37  ,total energy: 15.275871276855469\n",
      " iter : 38  ,total energy: 14.225436210632324\n",
      " iter : 39  ,total energy: 13.178935050964355\n",
      " iter : 40  ,total energy: 12.136468887329102\n",
      " iter : 41  ,total energy: 11.09824275970459\n",
      " iter : 42  ,total energy: 10.064672470092773\n",
      " iter : 43  ,total energy: 9.03681755065918\n",
      " iter : 44  ,total energy: 8.01846694946289\n",
      " iter : 45  ,total energy: 7.044946670532227\n",
      " iter : 46  ,total energy: 6.6216840744018555\n",
      " iter : 47  ,total energy: 6.168951988220215\n",
      " iter : 48  ,total energy: 5.524807929992676\n",
      " iter : 49  ,total energy: 5.208572864532471\n",
      " iter : 50  ,total energy: 4.440146446228027\n",
      "Condition 1, 2, 3: tensor(0, dtype=torch.uint8) tensor(0, dtype=torch.uint8) tensor(0, dtype=torch.uint8)\n",
      "Contition 4: tensor(0, dtype=torch.uint8)\n",
      "Condition 5: True\n",
      " iter : 51  ,total energy: 4.440146446228027\n"
     ]
    }
   ],
   "source": [
    "# set parameters\n",
    "reg_param = 10**-2 # regularisation parameter\n",
    "\n",
    "gd0_tensor = torch.cat([gd0_list[0], gd0_list[1], gd0_list[2][0], gd0_list[2][1]],0).requires_grad_().view(-1)\n",
    "mom0_tensor = torch.cat([mom0_list[0], mom0_list[1], mom0_list[2][0], mom0_list[2][1]],0).requires_grad_().view(-1)\n",
    "    \n",
    "gd0_tensor.retain_grad()\n",
    "mom0_tensor.retain_grad()\n",
    "    \n",
    "EnergyFunctional = model.EnergyFunctional(modules, H, constr_Id, target, dim, reg_param)\n",
    "\n",
    "# do registration\n",
    "X = [gd0_tensor, mom0_tensor]\n",
    "X = model.gradientdescent(EnergyFunctional, X)"
   ]
  },
  {
   "cell_type": "code",
   "execution_count": 56,
   "metadata": {},
   "outputs": [
    {
     "data": {
      "text/plain": [
       "tensor([[ 1.0431e-07,  9.5367e-07],\n",
       "        [ 0.0000e+00, -1.4305e-06],\n",
       "        [-8.1956e-08,  0.0000e+00],\n",
       "        [ 2.2352e-08, -2.3842e-06],\n",
       "        [ 2.9802e-08, -9.5367e-07],\n",
       "        [ 8.9407e-08,  0.0000e+00],\n",
       "        [-5.9605e-08, -4.7684e-07],\n",
       "        [ 7.4506e-08,  0.0000e+00],\n",
       "        [-2.2352e-08, -4.7684e-07],\n",
       "        [ 2.5332e-07, -1.4305e-06],\n",
       "        [-4.4703e-08,  0.0000e+00],\n",
       "        [-1.4901e-08,  0.0000e+00],\n",
       "        [-5.0291e-08,  9.5367e-07],\n",
       "        [-5.2154e-08,  9.5367e-07],\n",
       "        [ 0.0000e+00,  0.0000e+00],\n",
       "        [-1.1176e-08,  9.5367e-07],\n",
       "        [-5.2154e-08,  1.9073e-06]], grad_fn=<CatBackward>)"
      ]
     },
     "execution_count": 56,
     "metadata": {},
     "output_type": "execute_result"
    }
   ],
   "source": [
    "EnergyFunctional.modules.compute_geodesic_variables(constr_Id)\n",
    "constr_Id(EnergyFunctional.modules)"
   ]
  },
  {
   "cell_type": "code",
   "execution_count": 57,
   "metadata": {},
   "outputs": [
    {
     "data": {
      "image/png": "[encoded data removed]",
      "text/plain": [
       "<matplotlib.figure.Figure at 0x7f3e9d5383c8>"
      ]
     },
     "metadata": {},
     "output_type": "display_data"
    },
    {
     "data": {
      "image/png": "[encoded data removed]",
      "text/plain": [
       "<matplotlib.figure.Figure at 0x7f3e9687cd68>"
      ]
     },
     "metadata": {},
     "output_type": "display_data"
    }
   ],
   "source": [
    "plt.figure()\n",
    "plt.scatter(gd0_list[0].view(-1,2)[:, 0].detach().numpy(), gd0_list[0].view(-1,2)[:, 1].detach().numpy(), c='red')\n",
    "plt.scatter(gd0_list[1].view(-1,2)[:, 0].detach().numpy(), gd0_list[1].view(-1,2)[:, 1].detach().numpy(), c='blue')\n",
    "\n",
    "\n",
    "gd_moved = EnergyFunctional.h.module.manifold.gd\n",
    "\n",
    "plt.figure()\n",
    "plt.scatter(gd_moved[0].view(-1,2)[:, 0].detach().numpy(), gd_moved[0].view(-1,2)[:, 1].detach().numpy(), c='red')\n",
    "plt.scatter(gd_moved[1].view(-1,2)[:, 0].detach().numpy(), gd_moved[1].view(-1,2)[:, 1].detach().numpy(), c='blue')\n",
    "\n",
    "plt.show()"
   ]
  },
  {
   "cell_type": "code",
   "execution_count": 58,
   "metadata": {},
   "outputs": [
    {
     "data": {
      "text/plain": [
       "[tensor([ 2.0219,  4.6797,  1.6351,  5.8674,  0.6244,  6.6010, -0.6244,  6.6010,\n",
       "         -1.6351,  5.8674, -2.0219,  4.6797, -1.6363,  3.4911, -0.6251,  2.7561,\n",
       "          0.6251,  2.7561,  1.6363,  3.4911], grad_fn=<AddBackward0>),\n",
       " tensor([11.0078, -5.0226, 10.6284, -4.2348,  9.7757, -4.0403,  9.0920, -4.5854,\n",
       "          9.0921, -5.4597,  9.7758, -6.0047, 10.6283, -5.8102],\n",
       "        grad_fn=<AddBackward0>),\n",
       " [tensor([ 2.0219,  4.6797,  1.6351,  5.8674,  0.6244,  6.6010, -0.6244,  6.6010,\n",
       "          -1.6351,  5.8674, -2.0219,  4.6797, -1.6363,  3.4911, -0.6251,  2.7561,\n",
       "           0.6251,  2.7561,  1.6363,  3.4911], grad_fn=<AddBackward0>),\n",
       "  tensor([11.0078, -5.0226, 10.6284, -4.2348,  9.7757, -4.0403,  9.0920, -4.5854,\n",
       "           9.0921, -5.4597,  9.7758, -6.0047, 10.6283, -5.8102],\n",
       "         grad_fn=<AddBackward0>)]]"
      ]
     },
     "execution_count": 58,
     "metadata": {},
     "output_type": "execute_result"
    }
   ],
   "source": [
    "gd_moved\n"
   ]
  },
  {
   "cell_type": "code",
   "execution_count": 59,
   "metadata": {},
   "outputs": [
    {
     "name": "stdout",
     "output_type": "stream",
     "text": [
      "tensor([[ 1.0431e-07,  9.5367e-07],\n",
      "        [ 0.0000e+00, -1.4305e-06],\n",
      "        [-8.1956e-08,  0.0000e+00],\n",
      "        [ 2.2352e-08, -2.3842e-06],\n",
      "        [ 2.9802e-08, -9.5367e-07],\n",
      "        [ 8.9407e-08,  0.0000e+00],\n",
      "        [-5.9605e-08, -4.7684e-07],\n",
      "        [ 7.4506e-08,  0.0000e+00],\n",
      "        [-2.2352e-08, -4.7684e-07],\n",
      "        [ 2.5332e-07, -1.4305e-06],\n",
      "        [-4.4703e-08,  0.0000e+00],\n",
      "        [-1.4901e-08,  0.0000e+00],\n",
      "        [-5.0291e-08,  9.5367e-07],\n",
      "        [-5.2154e-08,  9.5367e-07],\n",
      "        [ 0.0000e+00,  0.0000e+00],\n",
      "        [-1.1176e-08,  9.5367e-07],\n",
      "        [-5.2154e-08,  1.9073e-06]], grad_fn=<CatBackward>)\n",
      "tensor(-2.3131e-05, grad_fn=<DotBackward>)\n"
     ]
    }
   ],
   "source": [
    "man_final = EnergyFunctional.h.module.manifold\n",
    "\n",
    "\n",
    "l, h = EnergyFunctional.h.module.compute_geodesic_variables(constr_Id)\n",
    "constr_final = constr_Id(EnergyFunctional.h.module)\n",
    "print(constr_final)\n",
    "print(torch.dot(l.view(-1), constr_final.view(-1)))"
   ]
  },
  {
   "cell_type": "code",
   "execution_count": null,
   "metadata": {},
   "outputs": [],
   "source": []
  }
 ],
 "metadata": {
  "kernelspec": {
   "display_name": "Python 3",
   "language": "python",
   "name": "python3"
  },
  "language_info": {
   "codemirror_mode": {
    "name": "ipython",
    "version": 3
   },
   "file_extension": ".py",
   "mimetype": "text/x-python",
   "name": "python",
   "nbconvert_exporter": "python",
   "pygments_lexer": "ipython3",
   "version": "3.6.8"
  }
 },
 "nbformat": 4,
 "nbformat_minor": 2
}
