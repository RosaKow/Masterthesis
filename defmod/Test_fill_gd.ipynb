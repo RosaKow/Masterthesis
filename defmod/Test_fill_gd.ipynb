{
 "cells": [
  {
   "cell_type": "code",
   "execution_count": 1,
   "metadata": {},
   "outputs": [],
   "source": [
    "import sys\n",
    "\n",
    "sys.path.append(\"../\")\n",
    "import torch\n",
    "import numpy as np\n",
    "import defmod as dm\n",
    "torch.set_default_tensor_type(torch.DoubleTensor)"
   ]
  },
  {
   "cell_type": "code",
   "execution_count": 2,
   "metadata": {},
   "outputs": [
    {
     "data": {
      "text/plain": [
       "True"
      ]
     },
     "execution_count": 2,
     "metadata": {},
     "output_type": "execute_result"
    }
   ],
   "source": [
    "def test_gradcheck_man_fill():\n",
    "    def man_fill(gd):\n",
    "        \n",
    "        out = dm.manifold.Landmarks(2, 10)\n",
    "        out.fill_gd(man.gd, copy=True)\n",
    "        \n",
    "        \n",
    "        #out.fill_gd(man.gd.clone().requires_grad_())\n",
    "        \n",
    "        return out.gd\n",
    "    \n",
    "    return torch.autograd.gradcheck(man_fill, (gd), raise_exception=True)\n",
    "\n",
    "\n",
    "man = dm.manifold.Landmarks(2, 10)\n",
    "gd = torch.rand(2*10, requires_grad=True)\n",
    "man.fill_gd(gd)\n",
    "\n",
    "\n",
    "test_gradcheck_man_fill()\n"
   ]
  },
  {
   "cell_type": "code",
   "execution_count": 3,
   "metadata": {},
   "outputs": [
    {
     "data": {
      "text/plain": [
       "True"
      ]
     },
     "execution_count": 3,
     "metadata": {},
     "output_type": "execute_result"
    }
   ],
   "source": [
    "def test_gradcheck_compound_man_fill():\n",
    "    def man_fill(gd):\n",
    "        \n",
    "        out = dm.manifold.CompoundManifold([dm.manifold.Landmarks(2, 10)])\n",
    "        out.fill_gd(man.gd, copy=True)\n",
    "                \n",
    "        return out.gd\n",
    "    \n",
    "    return torch.autograd.gradcheck(man_fill, (gd), raise_exception=True)\n",
    "\n",
    "\n",
    "man = dm.manifold.CompoundManifold([dm.manifold.Landmarks(2, 10)])\n",
    "gd = torch.rand(2*10, requires_grad=True)\n",
    "man.fill_gd([gd])\n",
    "\n",
    "\n",
    "test_gradcheck_compound_man_fill()\n"
   ]
  },
  {
   "cell_type": "code",
   "execution_count": 4,
   "metadata": {},
   "outputs": [
    {
     "data": {
      "text/plain": [
       "True"
      ]
     },
     "execution_count": 4,
     "metadata": {},
     "output_type": "execute_result"
    }
   ],
   "source": [
    "def test_gradcheck_bg_man_fill():\n",
    "    def man_fill(gd):\n",
    "        \n",
    "        out = dm.manifold.CompoundManifold([dm.manifold.Landmarks(2, 10)])\n",
    "        out.fill_gd(man.gd, copy=True)\n",
    "                \n",
    "        return out.gd\n",
    "    \n",
    "    return torch.autograd.gradcheck(man_fill, (gd), raise_exception=True)\n",
    "\n",
    "\n",
    "man = dm.manifold.CompoundManifold([dm.manifold.Landmarks(2, 10)])\n",
    "gd = torch.rand(2*10, requires_grad=True)\n",
    "man.fill_gd([gd])\n",
    "\n",
    "mod = dm.deformationmodules.Background([dm.deformationmodules.Translations(dm.manifold.Landmarks(2, 10), 1)], 1)\n",
    "gd = [gd]\n",
    "man = mod.manifold\n",
    "\n",
    "test_gradcheck_bg_man_fill()\n"
   ]
  },
  {
   "cell_type": "code",
   "execution_count": 38,
   "metadata": {},
   "outputs": [
    {
     "data": {
      "text/plain": [
       "True"
      ]
     },
     "execution_count": 38,
     "metadata": {},
     "output_type": "execute_result"
    }
   ],
   "source": [
    "def test_gradcheck_bg_man_fill():\n",
    "    def man_fill(gd):\n",
    "        \n",
    "        man = background.manifold\n",
    "        \n",
    "        \n",
    "        #out = dm.manifold.CompoundManifold([trans.manifold]) #false\n",
    "        #out = dm.manifold.CompoundManifold([trans.manifold.copy()]) #true        \n",
    "        #out = dm.manifold.CompoundManifold([dm.manifold.Landmarks(2, 10)]) #true\n",
    "        \n",
    "        #out = background.manifold # false\n",
    "        out = background.manifold.copy() # true\n",
    "        \n",
    "        #out = dm.manifold.CompoundManifold([background.module_list[0].manifold.copy()])\n",
    "        \n",
    "        #out = dm.manifold.CompoundManifold([m.manifold.copy() for m in background.module_list]) # true\n",
    "        #out = background.manifold # false\n",
    "                \n",
    "        \n",
    "        out.fill(man, copy=True)\n",
    "                \n",
    "        return man.gd\n",
    "    \n",
    "    return torch.autograd.gradcheck(man_fill, (gd), raise_exception=True)\n",
    "\n",
    "\n",
    "man = dm.manifold.CompoundManifold([dm.manifold.Landmarks(2, 10)])\n",
    "gd = torch.rand(2*10, requires_grad=True)\n",
    "man.fill_gd([gd])\n",
    "\n",
    "trans = dm.deformationmodules.Translations(dm.manifold.Landmarks(2, 10), 1)\n",
    "\n",
    "background = dm.deformationmodules.Background([trans], 1)\n",
    "gd = background.manifold.gd\n",
    "\n",
    "\n",
    "test_gradcheck_bg_man_fill()\n"
   ]
  },
  {
   "cell_type": "code",
   "execution_count": 34,
   "metadata": {},
   "outputs": [
    {
     "data": {
      "text/plain": [
       "True"
      ]
     },
     "execution_count": 34,
     "metadata": {},
     "output_type": "execute_result"
    }
   ],
   "source": [
    "def test_gradcheck_bg_man_fill():\n",
    "    def man_fill(gd):\n",
    "        \n",
    "        man = background.manifold\n",
    "                \n",
    "        return man.gd\n",
    "    \n",
    "    return torch.autograd.gradcheck(man_fill, (gd), raise_exception=True)\n",
    "\n",
    "\n",
    "man = dm.manifold.CompoundManifold([dm.manifold.Landmarks(2, 10)])\n",
    "gd = torch.rand(2*10, requires_grad=True)\n",
    "man.fill_gd([gd])\n",
    "\n",
    "trans = dm.deformationmodules.Translations(dm.manifold.Landmarks(2, 10), 1)\n",
    "\n",
    "background = dm.deformationmodules.Background([trans], 1)\n",
    "gd = background.manifold.gd\n",
    "\n",
    "\n",
    "test_gradcheck_bg_man_fill()\n"
   ]
  },
  {
   "cell_type": "code",
   "execution_count": null,
   "metadata": {},
   "outputs": [],
   "source": []
  }
 ],
 "metadata": {
  "kernelspec": {
   "display_name": "Python 3",
   "language": "python",
   "name": "python3"
  },
  "language_info": {
   "codemirror_mode": {
    "name": "ipython",
    "version": 3
   },
   "file_extension": ".py",
   "mimetype": "text/x-python",
   "name": "python",
   "nbconvert_exporter": "python",
   "pygments_lexer": "ipython3",
   "version": "3.6.8"
  }
 },
 "nbformat": 4,
 "nbformat_minor": 2
}
