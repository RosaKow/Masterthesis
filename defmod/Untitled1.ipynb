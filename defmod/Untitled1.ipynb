{
 "cells": [
  {
   "cell_type": "code",
   "execution_count": 1,
   "metadata": {},
   "outputs": [
    {
     "name": "stdout",
     "output_type": "stream",
     "text": [
      "Once deleted, variables cannot be recovered. Proceed (y/[n])? y\n"
     ]
    }
   ],
   "source": [
    "%reset\n",
    "%load_ext autoreload\n",
    "%autoreload 2\n",
    "\n",
    "import sys\n",
    "\n",
    "sys.path.append(\"../\")\n",
    "import torch\n",
    "import numpy as np\n",
    "import defmod as dm\n",
    "import multimodule_usefulfunctions as mm \n",
    "import matplotlib.pyplot as plt\n",
    "import defmod.hamiltonian_multishape as hamiltonian\n",
    "import model_MultiShapeCirclesTranslation as model\n",
    "\n",
    "torch.set_default_tensor_type(torch.DoubleTensor)"
   ]
  },
  {
   "cell_type": "code",
   "execution_count": 2,
   "metadata": {},
   "outputs": [],
   "source": [
    "nb_pts1 = 10\n",
    "nb_pts2 = 7\n",
    "dim = 2\n",
    "\n",
    "o1 = torch.tensor([0.,0.])\n",
    "o2 = torch.tensor([10.,0.])\n",
    "origin = [o1,o2]\n",
    "r1 = 2\n",
    "r2 = 1\n",
    "radius = [r1, r2]\n",
    "nb_pts = [nb_pts1, nb_pts2]\n",
    "source = mm.multipleCircles(origin, radius, nb_pts)\n",
    "\n",
    "origin_target = [[10., 0.], [0.,0.]]\n",
    "target = mm.multipleCircles(origin_target, radius, nb_pts)"
   ]
  },
  {
   "cell_type": "code",
   "execution_count": 3,
   "metadata": {},
   "outputs": [],
   "source": [
    "sigma1 = 20\n",
    "manifold1 = dm.manifold.Landmarks(dim, nb_pts1, gd=source[0].view(-1))\n",
    "trans1 = dm.deformationmodules.GlobalTranslation(manifold1, sigma1)\n",
    "\n",
    "sigma2 = 20\n",
    "manifold2 = dm.manifold.Landmarks(dim, nb_pts2, gd=source[1].view(-1))\n",
    "trans2 = dm.deformationmodules.GlobalTranslation(manifold2, sigma2)\n",
    "\n",
    "module_list = [trans1, trans2]\n",
    "sigma_bg = 1\n",
    "modules = dm.multishape.MultiShapeModule(module_list, sigma_bg)"
   ]
  },
  {
   "cell_type": "code",
   "execution_count": 4,
   "metadata": {},
   "outputs": [
    {
     "data": {
      "text/plain": [
       "tensor([[ 2.0000e+00,  0.0000e+00],\n",
       "        [ 1.6180e+00,  1.1756e+00],\n",
       "        [ 6.1803e-01,  1.9021e+00],\n",
       "        [-6.1803e-01,  1.9021e+00],\n",
       "        [-1.6180e+00,  1.1756e+00],\n",
       "        [-2.0000e+00,  2.4493e-16],\n",
       "        [-1.6180e+00, -1.1756e+00],\n",
       "        [-6.1803e-01, -1.9021e+00],\n",
       "        [ 6.1803e-01, -1.9021e+00],\n",
       "        [ 1.6180e+00, -1.1756e+00]], grad_fn=<ViewBackward>)"
      ]
     },
     "execution_count": 4,
     "metadata": {},
     "output_type": "execute_result"
    }
   ],
   "source": [
    "manifold1.gd_points()"
   ]
  },
  {
   "cell_type": "code",
   "execution_count": 8,
   "metadata": {},
   "outputs": [],
   "source": [
    "compound = dm.deformationmodules.CompoundModule([trans1, trans2, trans1])"
   ]
  },
  {
   "cell_type": "code",
   "execution_count": 9,
   "metadata": {},
   "outputs": [],
   "source": [
    "compound2 = dm.deformationmodules.CompoundModule([compound, trans1])"
   ]
  },
  {
   "cell_type": "code",
   "execution_count": 10,
   "metadata": {},
   "outputs": [
    {
     "data": {
      "text/plain": [
       "[<defmod.deformationmodules.GlobalTranslation at 0x7f9eae4de8d0>,\n",
       " <defmod.deformationmodules.GlobalTranslation at 0x7f9eae4de9b0>,\n",
       " <defmod.deformationmodules.GlobalTranslation at 0x7f9eae4de8d0>]"
      ]
     },
     "execution_count": 10,
     "metadata": {},
     "output_type": "execute_result"
    }
   ],
   "source": [
    "compound.module_list"
   ]
  },
  {
   "cell_type": "code",
   "execution_count": 11,
   "metadata": {},
   "outputs": [
    {
     "data": {
      "text/plain": [
       "[<defmod.deformationmodules.GlobalTranslation at 0x7f9eae4de8d0>,\n",
       " <defmod.deformationmodules.GlobalTranslation at 0x7f9eae4de9b0>,\n",
       " <defmod.deformationmodules.GlobalTranslation at 0x7f9eae4de8d0>,\n",
       " <defmod.deformationmodules.GlobalTranslation at 0x7f9eae4de8d0>]"
      ]
     },
     "execution_count": 11,
     "metadata": {},
     "output_type": "execute_result"
    }
   ],
   "source": [
    "compound2.module_list"
   ]
  },
  {
   "cell_type": "code",
   "execution_count": 13,
   "metadata": {},
   "outputs": [
    {
     "data": {
      "text/plain": [
       "tensor([[0., 0.],\n",
       "        [0., 0.],\n",
       "        [0., 0.],\n",
       "        [0., 0.],\n",
       "        [0., 0.],\n",
       "        [0., 0.],\n",
       "        [0., 0.],\n",
       "        [0., 0.],\n",
       "        [0., 0.],\n",
       "        [0., 0.]], grad_fn=<AddBackward0>)"
      ]
     },
     "execution_count": 13,
     "metadata": {},
     "output_type": "execute_result"
    }
   ],
   "source": [
    "points = compound.manifold.gd_points()[0]\n",
    "\n",
    "compound.field_generator()(points)"
   ]
  },
  {
   "cell_type": "code",
   "execution_count": null,
   "metadata": {},
   "outputs": [],
   "source": []
  }
 ],
 "metadata": {
  "kernelspec": {
   "display_name": "Python 3",
   "language": "python",
   "name": "python3"
  },
  "language_info": {
   "codemirror_mode": {
    "name": "ipython",
    "version": 3
   },
   "file_extension": ".py",
   "mimetype": "text/x-python",
   "name": "python",
   "nbconvert_exporter": "python",
   "pygments_lexer": "ipython3",
   "version": "3.6.8"
  }
 },
 "nbformat": 4,
 "nbformat_minor": 2
}
