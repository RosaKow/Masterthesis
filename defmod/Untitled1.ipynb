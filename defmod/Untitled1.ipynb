{
 "cells": [
  {
   "cell_type": "code",
   "execution_count": 2,
   "metadata": {},
   "outputs": [],
   "source": [
    "import sys\n",
    "sys.path.append(\"../\")\n",
    "\n",
    "import torch\n",
    "import numpy as np\n",
    "import defmod as dm"
   ]
  },
  {
   "cell_type": "code",
   "execution_count": 34,
   "metadata": {},
   "outputs": [],
   "source": [
    "nb_pts1 = 3\n",
    "nb_pts2 = 5\n",
    "dim = 2\n",
    "\n",
    "mom = [torch.zeros(nb_pts1*dim), torch.zeros(nb_pts2*dim), [torch.zeros(nb_pts1*dim), torch.zeros(nb_pts2*dim)]]\n",
    "manifold1 = dm.manifold.Landmarks(dim, nb_pts1)\n",
    "manifold2 = dm.manifold.Landmarks(dim, nb_pts2)\n",
    "\n",
    "manifold = dm.manifold.CompoundManifold([manifold1, manifold2])\n",
    "manifold = dm.manifold.CompoundManifold([manifold1, manifold2, manifold])\n",
    "manifold.fill_cotan(mom)"
   ]
  },
  {
   "cell_type": "code",
   "execution_count": 35,
   "metadata": {},
   "outputs": [
    {
     "data": {
      "text/plain": [
       "[tensor([0., 0., 0., 0., 0., 0.], requires_grad=True),\n",
       " tensor([0., 0., 0., 0., 0., 0., 0., 0., 0., 0.], requires_grad=True),\n",
       " [tensor([0., 0., 0., 0., 0., 0.], requires_grad=True),\n",
       "  tensor([0., 0., 0., 0., 0., 0., 0., 0., 0., 0.], requires_grad=True)]]"
      ]
     },
     "execution_count": 35,
     "metadata": {},
     "output_type": "execute_result"
    }
   ],
   "source": [
    "manifold.cotan"
   ]
  },
  {
   "cell_type": "code",
   "execution_count": 40,
   "metadata": {},
   "outputs": [
    {
     "name": "stdout",
     "output_type": "stream",
     "text": [
      "[tensor([0., 0., 0., 0., 0., 0.], requires_grad=True), tensor([0., 0., 0., 0., 0., 0., 0., 0., 0., 0.], requires_grad=True), tensor([0., 0., 0., 0., 0., 0.], requires_grad=True), tensor([0., 0., 0., 0., 0., 0., 0., 0., 0., 0.], requires_grad=True)]\n"
     ]
    }
   ],
   "source": [
    "cotan_unrolled = manifold.unroll_cotan()\n",
    "print(cotan_unrolled)"
   ]
  },
  {
   "cell_type": "code",
   "execution_count": 52,
   "metadata": {},
   "outputs": [
    {
     "name": "stdout",
     "output_type": "stream",
     "text": [
      "[[...], [...], tensor([0., 0., 0., 0., 0., 0., 0., 0., 0., 0.], requires_grad=True), [...], [...], [...], [...], [...], tensor([0., 0., 0., 0., 0., 0.], requires_grad=True), [...], [...], [...], [...], tensor([0., 0., 0., 0., 0., 0., 0., 0., 0., 0.], requires_grad=True), tensor([0., 0., 0., 0., 0., 0.], requires_grad=True), [...]]\n"
     ]
    }
   ],
   "source": [
    "print(manifold.roll_cotan(cotan_unrolled))"
   ]
  },
  {
   "cell_type": "code",
   "execution_count": null,
   "metadata": {},
   "outputs": [],
   "source": []
  }
 ],
 "metadata": {
  "kernelspec": {
   "display_name": "Python 3",
   "language": "python",
   "name": "python3"
  },
  "language_info": {
   "codemirror_mode": {
    "name": "ipython",
    "version": 3
   },
   "file_extension": ".py",
   "mimetype": "text/x-python",
   "name": "python",
   "nbconvert_exporter": "python",
   "pygments_lexer": "ipython3",
   "version": "3.6.8"
  }
 },
 "nbformat": 4,
 "nbformat_minor": 2
}
