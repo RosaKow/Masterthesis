{
 "cells": [
  {
   "cell_type": "code",
   "execution_count": 1,
   "metadata": {},
   "outputs": [
    {
     "name": "stdout",
     "output_type": "stream",
     "text": [
      "Once deleted, variables cannot be recovered. Proceed (y/[n])? \n",
      "Nothing done.\n"
     ]
    }
   ],
   "source": [
    "%reset\n",
    "%load_ext autoreload\n",
    "%autoreload 2\n",
    "\n",
    "import sys\n",
    "\n",
    "sys.path.append(\"../\")\n",
    "import torch\n",
    "import numpy as np\n",
    "import defmod as dm\n",
    "import multimodule_usefulfunctions as mm \n",
    "import matplotlib.pyplot as plt\n",
    "\n",
    "torch.set_default_tensor_type(torch.DoubleTensor)"
   ]
  },
  {
   "cell_type": "code",
   "execution_count": 2,
   "metadata": {},
   "outputs": [],
   "source": [
    "nb_pts1 = 10\n",
    "nb_pts2 = 7\n",
    "dim = 2\n",
    "\n",
    "o1 = torch.tensor([1.,1.])\n",
    "o2 = torch.tensor([5.,5.])\n",
    "origin = [o1,o2]\n",
    "radius = [2.,1.]\n",
    "numberPoints = [nb_pts1, nb_pts2]\n",
    "gd_list = mm.multipleCircles(origin, radius, numberPoints)"
   ]
  },
  {
   "cell_type": "code",
   "execution_count": 3,
   "metadata": {},
   "outputs": [],
   "source": [
    "\n",
    "#nb_pts1 = 10\n",
    "#gd_list = mm.multipleCircles([o1], [radius[1]], [nb_pts1])"
   ]
  },
  {
   "cell_type": "code",
   "execution_count": 4,
   "metadata": {},
   "outputs": [],
   "source": [
    "# Defining the deformation modules\n",
    "sigma1 = 10\n",
    "manifold1 = dm.manifold.Landmarks(dim, nb_pts1, gd=gd_list[0].view(-1))\n",
    "trans1 = dm.deformationmodules.Translations(manifold1, sigma1)\n",
    "\n",
    "sigma2 = 10\n",
    "manifold2 = dm.manifold.Landmarks(dim, nb_pts2, gd=gd_list[1].view(-1))\n",
    "trans2 = dm.deformationmodules.Translations(manifold2, sigma2)\n",
    "\n",
    "module_list = [trans1, trans2]\n",
    "sigma_bg = 1\n",
    "modules = dm.multishape.MultiShapeModule(module_list, sigma_bg)\n"
   ]
  },
  {
   "cell_type": "code",
   "execution_count": 5,
   "metadata": {},
   "outputs": [],
   "source": [
    "# 2 Modules\n",
    "# Setting cotangent variables\n",
    "p1 = torch.cat([torch.ones(nb_pts1,1, requires_grad=True), torch.zeros(nb_pts1,1)],1).view(-1)\n",
    "p2 = torch.cat([-torch.ones(nb_pts2,1,requires_grad=True), torch.zeros(nb_pts2,1)],1).view(-1)\n",
    "cotan = [p1, p2, [p1, p2]]\n",
    "cotan = [torch.rand(nb_pts1*dim, requires_grad=True), -torch.rand(nb_pts2*dim, requires_grad=True), [torch.rand((nb_pts1)*dim, requires_grad=True),-torch.rand((nb_pts2)*dim, requires_grad=True)]]\n",
    "\n",
    "modules.manifold.fill_cotan(cotan)\n",
    "\n"
   ]
  },
  {
   "cell_type": "code",
   "execution_count": 10,
   "metadata": {},
   "outputs": [],
   "source": [
    "# 1 Module\n",
    "modules = dm.multishape.MultiShapeModule([trans1], sigma_bg)\n",
    "# Setting cotangent variables\n",
    "p1 = torch.cat([torch.ones(nb_pts1,1, requires_grad=True), torch.zeros(nb_pts1,1)],1).view(-1)\n",
    "p2 = torch.cat([-torch.ones(nb_pts2,1,requires_grad=True), torch.zeros(nb_pts2,1)],1).view(-1)\n",
    "#cotan2 = [p1, p2, [p1, p2]]\n",
    "#cotan = [torch.rand(nb_pts1*dim, requires_grad=True), -torch.rand(nb_pts2*dim, requires_grad=True), [torch.rand((nb_pts1)*dim, requires_grad=True),-torch.rand((nb_pts2)*dim, requires_grad=True)]]\n",
    "\n",
    "p1 = torch.ones(nb_pts1,dim, requires_grad=True).view(-1)\n",
    "cotan = [p1, [p1]]\n",
    "modules.manifold.fill_cotan(cotan)\n",
    "\n"
   ]
  },
  {
   "cell_type": "code",
   "execution_count": 11,
   "metadata": {},
   "outputs": [
    {
     "ename": "IndexError",
     "evalue": "list index out of range",
     "output_type": "error",
     "traceback": [
      "\u001b[0;31m---------------------------------------------------------------------------\u001b[0m",
      "\u001b[0;31mIndexError\u001b[0m                                Traceback (most recent call last)",
      "\u001b[0;32m<ipython-input-11-0c02bb7dbcb7>\u001b[0m in \u001b[0;36m<module>\u001b[0;34m\u001b[0m\n\u001b[0;32m----> 1\u001b[0;31m \u001b[0mmodules\u001b[0m\u001b[0;34m.\u001b[0m\u001b[0mbackground\u001b[0m\u001b[0;34m.\u001b[0m\u001b[0mfill_controls\u001b[0m\u001b[0;34m(\u001b[0m\u001b[0;34m[\u001b[0m\u001b[0mtorch\u001b[0m\u001b[0;34m.\u001b[0m\u001b[0mones\u001b[0m\u001b[0;34m(\u001b[0m\u001b[0mmodules\u001b[0m\u001b[0;34m.\u001b[0m\u001b[0mbackground\u001b[0m\u001b[0;34m.\u001b[0m\u001b[0mcontrols\u001b[0m\u001b[0;34m[\u001b[0m\u001b[0mi\u001b[0m\u001b[0;34m]\u001b[0m\u001b[0;34m.\u001b[0m\u001b[0mshape\u001b[0m\u001b[0;34m)\u001b[0m \u001b[0;32mfor\u001b[0m \u001b[0mi\u001b[0m \u001b[0;32min\u001b[0m \u001b[0mrange\u001b[0m\u001b[0;34m(\u001b[0m\u001b[0;36m2\u001b[0m\u001b[0;34m)\u001b[0m\u001b[0;34m]\u001b[0m\u001b[0;34m)\u001b[0m\u001b[0;34m\u001b[0m\u001b[0;34m\u001b[0m\u001b[0m\n\u001b[0m\u001b[1;32m      2\u001b[0m \u001b[0;34m\u001b[0m\u001b[0m\n\u001b[1;32m      3\u001b[0m \u001b[0mmodules\u001b[0m\u001b[0;34m.\u001b[0m\u001b[0mbackground\u001b[0m\u001b[0;34m.\u001b[0m\u001b[0mcontrols\u001b[0m\u001b[0;34m\u001b[0m\u001b[0;34m\u001b[0m\u001b[0m\n\u001b[1;32m      4\u001b[0m \u001b[0mmodules\u001b[0m\u001b[0;34m.\u001b[0m\u001b[0mbackground\u001b[0m\u001b[0;34m.\u001b[0m\u001b[0mfill_controls_zero\u001b[0m\u001b[0;34m(\u001b[0m\u001b[0;34m)\u001b[0m\u001b[0;34m\u001b[0m\u001b[0;34m\u001b[0m\u001b[0m\n\u001b[1;32m      5\u001b[0m \u001b[0mmodules\u001b[0m\u001b[0;34m.\u001b[0m\u001b[0mbackground\u001b[0m\u001b[0;34m.\u001b[0m\u001b[0mcontrols\u001b[0m\u001b[0;34m[\u001b[0m\u001b[0;36m0\u001b[0m\u001b[0;34m]\u001b[0m\u001b[0;34m.\u001b[0m\u001b[0mshape\u001b[0m\u001b[0;34m\u001b[0m\u001b[0;34m\u001b[0m\u001b[0m\n",
      "\u001b[0;32m<ipython-input-11-0c02bb7dbcb7>\u001b[0m in \u001b[0;36m<listcomp>\u001b[0;34m(.0)\u001b[0m\n\u001b[0;32m----> 1\u001b[0;31m \u001b[0mmodules\u001b[0m\u001b[0;34m.\u001b[0m\u001b[0mbackground\u001b[0m\u001b[0;34m.\u001b[0m\u001b[0mfill_controls\u001b[0m\u001b[0;34m(\u001b[0m\u001b[0;34m[\u001b[0m\u001b[0mtorch\u001b[0m\u001b[0;34m.\u001b[0m\u001b[0mones\u001b[0m\u001b[0;34m(\u001b[0m\u001b[0mmodules\u001b[0m\u001b[0;34m.\u001b[0m\u001b[0mbackground\u001b[0m\u001b[0;34m.\u001b[0m\u001b[0mcontrols\u001b[0m\u001b[0;34m[\u001b[0m\u001b[0mi\u001b[0m\u001b[0;34m]\u001b[0m\u001b[0;34m.\u001b[0m\u001b[0mshape\u001b[0m\u001b[0;34m)\u001b[0m \u001b[0;32mfor\u001b[0m \u001b[0mi\u001b[0m \u001b[0;32min\u001b[0m \u001b[0mrange\u001b[0m\u001b[0;34m(\u001b[0m\u001b[0;36m2\u001b[0m\u001b[0;34m)\u001b[0m\u001b[0;34m]\u001b[0m\u001b[0;34m)\u001b[0m\u001b[0;34m\u001b[0m\u001b[0;34m\u001b[0m\u001b[0m\n\u001b[0m\u001b[1;32m      2\u001b[0m \u001b[0;34m\u001b[0m\u001b[0m\n\u001b[1;32m      3\u001b[0m \u001b[0mmodules\u001b[0m\u001b[0;34m.\u001b[0m\u001b[0mbackground\u001b[0m\u001b[0;34m.\u001b[0m\u001b[0mcontrols\u001b[0m\u001b[0;34m\u001b[0m\u001b[0;34m\u001b[0m\u001b[0m\n\u001b[1;32m      4\u001b[0m \u001b[0mmodules\u001b[0m\u001b[0;34m.\u001b[0m\u001b[0mbackground\u001b[0m\u001b[0;34m.\u001b[0m\u001b[0mfill_controls_zero\u001b[0m\u001b[0;34m(\u001b[0m\u001b[0;34m)\u001b[0m\u001b[0;34m\u001b[0m\u001b[0;34m\u001b[0m\u001b[0m\n\u001b[1;32m      5\u001b[0m \u001b[0mmodules\u001b[0m\u001b[0;34m.\u001b[0m\u001b[0mbackground\u001b[0m\u001b[0;34m.\u001b[0m\u001b[0mcontrols\u001b[0m\u001b[0;34m[\u001b[0m\u001b[0;36m0\u001b[0m\u001b[0;34m]\u001b[0m\u001b[0;34m.\u001b[0m\u001b[0mshape\u001b[0m\u001b[0;34m\u001b[0m\u001b[0;34m\u001b[0m\u001b[0m\n",
      "\u001b[0;31mIndexError\u001b[0m: list index out of range"
     ]
    }
   ],
   "source": [
    "modules.background.fill_controls([torch.ones(modules.background.controls[i].shape) for i in range(2)])\n",
    "\n",
    "modules.background.controls\n",
    "modules.background.fill_controls_zero()\n",
    "modules.background.controls[0].shape"
   ]
  },
  {
   "cell_type": "code",
   "execution_count": 6,
   "metadata": {},
   "outputs": [],
   "source": [
    "constr_Id = dm.constraints.Identity()\n",
    "#l, h = modules.compute_geodesic_variables(modules.manifold, constr_Id)"
   ]
  },
  {
   "cell_type": "code",
   "execution_count": 7,
   "metadata": {},
   "outputs": [],
   "source": [
    "import defmod.hamiltonian_multishape as hamiltonian\n",
    "H = hamiltonian.Hamiltonian_multi(modules, constr_Id)"
   ]
  },
  {
   "cell_type": "code",
   "execution_count": 8,
   "metadata": {},
   "outputs": [],
   "source": [
    "# 2 Modules\n",
    "def controlslist2tensor(controls_list):\n",
    "    return torch.cat([controls_list[0].view(-1,1),controls_list[1].view(-1,1), controls_list[-1][0].view(-1,1),controls_list[-1][1].view(-1,1)])\n",
    "\n",
    "def controlstensor2list(controls, nb_pts, dim):\n",
    "    n = sum(nb_pts)\n",
    "    return [controls[:dim*nb_pts[0]], controls[dim*nb_pts[0]:dim*(nb_pts[0]+nb_pts[1])], [controls[dim*n:dim*(n+nb_pts[0])], controls[dim*(n+nb_pts[0]):]]]\n",
    "\n",
    "def gdtensor2list(gdtensor, nb_pts, dim):\n",
    "    gdlist = []\n",
    "    gdlist_bg = []\n",
    "    j = 0\n",
    "    n = sum(nb_pts)\n",
    "    for i in range(len(nb_pts)):\n",
    "        gdlist.append(gdtensor[dim*j:dim*(j+nb_pts[i])])\n",
    "        gdlist_bg.append(gdtensor[dim*(n+j):dim*(n+j+nb_pts[i])])\n",
    "        j = j + nb_pts[i]\n",
    "    return [*gdlist, gdlist_bg]\n",
    "\n",
    "def gdlist2tensor(gdlist):\n",
    "    return torch.cat([*gdlist[:-1],*gdlist[-1]],0)\n",
    "\n",
    "nb_pts = [nb_pts1, nb_pts2]"
   ]
  },
  {
   "cell_type": "code",
   "execution_count": 12,
   "metadata": {},
   "outputs": [],
   "source": [
    "# 1 Module\n",
    "def controlslist2tensor(controls_list):\n",
    "    return torch.cat([controls_list[0].view(-1,1), controls_list[-1][0].view(-1,1)])\n",
    "\n",
    "def controlstensor2list(controls, nb_pts, dim):\n",
    "    n = sum(nb_pts)\n",
    "    return [controls[:dim*nb_pts[0]], [controls[dim*n:dim*(n+nb_pts[0])]]]\n",
    "\n",
    "def gdtensor2list(gdtensor, nb_pts, dim):\n",
    "    gdlist = []\n",
    "    gdlist_bg = []\n",
    "    j = 0\n",
    "    n = sum(nb_pts)\n",
    "    for i in range(len(nb_pts)):\n",
    "        gdlist.append(gdtensor[dim*j:dim*(j+nb_pts[i])])\n",
    "        gdlist_bg.append(gdtensor[dim*(n+j):dim*(n+j+nb_pts[i])])\n",
    "        j = j + nb_pts[i]\n",
    "    return [*gdlist, gdlist_bg]\n",
    "\n",
    "def gdlist2tensor(gdlist):\n",
    "    return torch.cat([*gdlist[:-1],*gdlist[-1]],0)\n",
    "\n",
    "nb_pts = [nb_pts1]"
   ]
  },
  {
   "cell_type": "code",
   "execution_count": 23,
   "metadata": {},
   "outputs": [
    {
     "data": {
      "text/plain": [
       "True"
      ]
     },
     "execution_count": 23,
     "metadata": {},
     "output_type": "execute_result"
    }
   ],
   "source": [
    "def test_gradcheck_list2tensor():\n",
    "    def list2tensor(controls):\n",
    "        \n",
    "        controls = controlstensor2list(controls, nb_pts, dim)\n",
    "        \n",
    "        return controlslist2tensor(controls)\n",
    "    \n",
    "    controls = torch.cat([torch.ones(modules.controls[0].shape, requires_grad=True), torch.ones(modules.controls[0].shape, requires_grad=True)])\n",
    "\n",
    "    return torch.autograd.gradcheck(list2tensor, controls, raise_exception=True)\n",
    "\n",
    "test_gradcheck_list2tensor()"
   ]
  },
  {
   "cell_type": "code",
   "execution_count": 24,
   "metadata": {},
   "outputs": [
    {
     "data": {
      "text/plain": [
       "True"
      ]
     },
     "execution_count": 24,
     "metadata": {},
     "output_type": "execute_result"
    }
   ],
   "source": [
    "def test_gradcheck_man_fill():\n",
    "    def man_fill(gd):\n",
    "        \n",
    "        out = dm.manifold.Landmarks(2, 10)\n",
    "        out.fill(man, copy=True)\n",
    "        \n",
    "        return out.gd\n",
    "    \n",
    "    return torch.autograd.gradcheck(man_fill, (gd), raise_exception=True)\n",
    "\n",
    "\n",
    "man = dm.manifold.Landmarks(2, 10)\n",
    "man.fill_gd(torch.rand(2*10, requires_grad=True))\n",
    "\n",
    "gd = man.gd\n",
    "\n",
    "test_gradcheck_man_fill()\n"
   ]
  },
  {
   "cell_type": "code",
   "execution_count": 25,
   "metadata": {},
   "outputs": [
    {
     "data": {
      "text/plain": [
       "True"
      ]
     },
     "execution_count": 25,
     "metadata": {},
     "output_type": "execute_result"
    }
   ],
   "source": [
    "def test_gradcheck_background():\n",
    "    def background_no_copy(gd):\n",
    "        \n",
    "        man = mod.manifold\n",
    "        man2 = man\n",
    "\n",
    "        return man2.gd\n",
    "    \n",
    "    def background_copy(gd):\n",
    "        \n",
    "        man=mod.manifold\n",
    "        man2 = man.copy()\n",
    "\n",
    "        return man2.gd\n",
    "    \n",
    "    def man_fill(gd):\n",
    "        man = mod.manifold\n",
    "        out = dm.manifold.CompoundManifold([trans1.manifold])\n",
    "        out.fill(man, copy=True)\n",
    "        \n",
    "        return man.gd\n",
    "    \n",
    "    #return torch.autograd.gradcheck(background_no_copy, (gd), raise_exception=True)\n",
    "    #return torch.autograd.gradcheck(background_copy, (gd), raise_exception=True)\n",
    "    return torch.autograd.gradcheck(man_fill, (gd), raise_exception=True)\n",
    "\n",
    "mod = trans1\n",
    "gd = mod.manifold.gd\n",
    "\n",
    "mod = dm.deformationmodules.Background([trans1], 1)\n",
    "gd = mod.manifold.gd\n",
    "\n",
    "#multimodule = dm.multishape.MultiShapeModule([trans1], 1)\n",
    "#mod = multimodule.background\n",
    "#gd = mod.manifold.gd\n",
    "\n",
    "#mod = modules.background\n",
    "#gd = mod.manifold.gd\n",
    "\n",
    "test_gradcheck_background()\n"
   ]
  },
  {
   "cell_type": "code",
   "execution_count": 26,
   "metadata": {},
   "outputs": [
    {
     "data": {
      "text/plain": [
       "True"
      ]
     },
     "execution_count": 26,
     "metadata": {},
     "output_type": "execute_result"
    }
   ],
   "source": [
    "def test_gradcheck_cot_to_vs():\n",
    "    def background_gd(gd):  \n",
    "        \n",
    "        man = mod.manifold.copy()\n",
    "        man[0].fill_cotan(torch.ones(mod.controls[0].shape).view(-1,1)) \n",
    "        man[0].fill_cotan(mod.controls[0].view(-1,1), copy=True)\n",
    "\n",
    "        field = man.cot_to_vs(1)\n",
    "        return field(points)\n",
    "    \n",
    "    return torch.autograd.gradcheck(background_gd, (gd), raise_exception=True)\n",
    "\n",
    "mod = modules.background\n",
    "#mod = modules.module_list[0]\n",
    "\n",
    "modules.compute_geodesic_control(modules.manifold)\n",
    "#mod.fill_controls_zero\n",
    "\n",
    "gd = mod.manifold.gd\n",
    "points = torch.rand(dim*nb_pts1).view(-1,2)\n",
    "\n",
    "\n",
    "test_gradcheck_cot_to_vs()"
   ]
  },
  {
   "cell_type": "code",
   "execution_count": 27,
   "metadata": {},
   "outputs": [
    {
     "data": {
      "text/plain": [
       "True"
      ]
     },
     "execution_count": 27,
     "metadata": {},
     "output_type": "execute_result"
    }
   ],
   "source": [
    "def test_gradcheck_background_gd():\n",
    "    def background_gd(gd):\n",
    "        #field = mod.field_generator()    \n",
    "        \n",
    "        man = mod.manifold.copy()\n",
    "        for i in range(len(mod.module_list)):\n",
    "            man[i].fill_cotan(mod.controls[i].view(-1))\n",
    "        field = man.cot_to_vs(1)\n",
    "        \n",
    "        return field(points)\n",
    "    \n",
    "    return torch.autograd.gradcheck(background_gd, (gd), raise_exception=True)\n",
    "\n",
    "mod = modules.background\n",
    "#mod = modules.module_list[0]\n",
    "\n",
    "gd = mod.manifold.gd\n",
    "#gd = [torch.ones(mod.manifold.gd[0].shape, requires_grad=True)]\n",
    "\n",
    "points = torch.rand(dim*nb_pts1).view(-1,2)\n",
    "\n",
    "test_gradcheck_background_gd()"
   ]
  },
  {
   "cell_type": "code",
   "execution_count": 28,
   "metadata": {},
   "outputs": [
    {
     "data": {
      "text/plain": [
       "True"
      ]
     },
     "execution_count": 28,
     "metadata": {},
     "output_type": "execute_result"
    }
   ],
   "source": [
    "def test_gradcheck_background_field():\n",
    "    def background_field(gd):\n",
    "            \n",
    "        return mod.field_generator()(gd.view(-1,dim))\n",
    "    \n",
    "    return torch.autograd.gradcheck(background_field, (gd), raise_exception=True)\n",
    "\n",
    "mod = modules.background\n",
    "\n",
    "#gd = [mod.manifold.gd[0]]\n",
    "gd = mod.manifold.gd\n",
    "#gd = [torch.ones(mod.manifold.gd[0].shape, requires_grad=True)]\n",
    "\n",
    "test_gradcheck_background_field()\n",
    "\n",
    "#print(gd[0].requires_grad, mom[0].requires_grad)"
   ]
  },
  {
   "cell_type": "code",
   "execution_count": 29,
   "metadata": {},
   "outputs": [
    {
     "data": {
      "text/plain": [
       "True"
      ]
     },
     "execution_count": 29,
     "metadata": {},
     "output_type": "execute_result"
    }
   ],
   "source": [
    "def test_gradcheck_innerprod():\n",
    "    def innerprod(gd, mom):\n",
    "        \n",
    "        mod.manifold.fill_gd([gd])\n",
    "        mod.manifold.fill_cotan([mom])   \n",
    "                \n",
    "        return mod.manifold.inner_prod_field(mod.field_generator())\n",
    "    \n",
    "    return torch.autograd.gradcheck(innerprod, (gd, mom), raise_exception=True)\n",
    "\n",
    "mod = modules.background\n",
    "\n",
    "gd = mod.manifold.gd[0]\n",
    "mom = mod.manifold.cotan[0]\n",
    "\n",
    "test_gradcheck_innerprod()"
   ]
  },
  {
   "cell_type": "code",
   "execution_count": 16,
   "metadata": {},
   "outputs": [
    {
     "data": {
      "text/plain": [
       "True"
      ]
     },
     "execution_count": 16,
     "metadata": {},
     "output_type": "execute_result"
    }
   ],
   "source": [
    "def test_gradcheck_innerprod():\n",
    "    def innerprod(gd, mom, controls, l):\n",
    "        \n",
    "        #H.module.manifold.fill_gd(gdtensor2list(gd, [nb_pts1, nb_pts2], dim))\n",
    "        #H.module.manifold.fill_cotan(controlstensor2list(mom, [nb_pts1, nb_pts2], dim))\n",
    "        #H.module.fill_controls(controlstensor2list(controls, [nb_pts1, nb_pts2], dim))\n",
    "        H.module.fill_l(l)\n",
    "        \n",
    "        H.module.manifold.fill_gd(gdtensor2list(gd, [nb_pts1], dim))\n",
    "        H.module.manifold.fill_cotan(controlstensor2list(mom, [nb_pts1], dim))\n",
    "        H.module.fill_controls(controlstensor2list(controls, [nb_pts1], dim))\n",
    "        \n",
    "        \n",
    "        return sum([H.module.manifold.manifold_list[i].inner_prod_field(H.module.module_list[i].field_generator()) for i in range(2)])\n",
    "    \n",
    "    modules.compute_geodesic_variables(modules.manifold, constr_Id)\n",
    "    gd = gdlist2tensor(modules.manifold.gd)\n",
    "    mom = controlslist2tensor(modules.manifold.cotan)\n",
    "    controls = controlslist2tensor(modules.controls)\n",
    "    return torch.autograd.gradcheck(innerprod, (gd, mom, controls, modules.l), raise_exception=True)\n",
    "\n",
    "test_gradcheck_innerprod()"
   ]
  },
  {
   "cell_type": "code",
   "execution_count": 34,
   "metadata": {},
   "outputs": [
    {
     "data": {
      "text/plain": [
       "True"
      ]
     },
     "execution_count": 34,
     "metadata": {},
     "output_type": "execute_result"
    }
   ],
   "source": [
    "def test_gradcheck_autoaction():\n",
    "    def autoaction(gd, mom):\n",
    "        #H.module.manifold.fill_gd(gdtensor2list(gd, [nb_pts1, nb_pts2], dim))\n",
    "        #H.module.manifold.fill_cotan(controlstensor2list(mom, [nb_pts1, nb_pts2], dim))\n",
    "        \n",
    "        \n",
    "        H.module.manifold.fill_gd(gdtensor2list(gd, [nb_pts1], dim))\n",
    "        H.module.manifold.fill_cotan(controlstensor2list(mom, [nb_pts1], dim))\n",
    "\n",
    "        return H.module.autoaction()\n",
    "\n",
    "\n",
    "    gd = gdlist2tensor(modules.manifold.gd)\n",
    "    mom = controlslist2tensor(modules.manifold.cotan)\n",
    "\n",
    "\n",
    "    return torch.autograd.gradcheck(autoaction, (gd, mom), raise_exception=True)\n",
    "\n",
    "\n",
    "test_gradcheck_autoaction()"
   ]
  },
  {
   "cell_type": "code",
   "execution_count": null,
   "metadata": {},
   "outputs": [],
   "source": []
  },
  {
   "cell_type": "code",
   "execution_count": null,
   "metadata": {},
   "outputs": [],
   "source": []
  },
  {
   "cell_type": "code",
   "execution_count": 31,
   "metadata": {},
   "outputs": [
    {
     "ename": "IndexError",
     "evalue": "invalid index of a 0-dim tensor. Use tensor.item() to convert a 0-dim tensor to a Python number",
     "output_type": "error",
     "traceback": [
      "\u001b[0;31m---------------------------------------------------------------------------\u001b[0m",
      "\u001b[0;31mIndexError\u001b[0m                                Traceback (most recent call last)",
      "\u001b[0;32m<ipython-input-31-0baf84404707>\u001b[0m in \u001b[0;36m<module>\u001b[0;34m\u001b[0m\n\u001b[1;32m     17\u001b[0m \u001b[0;34m\u001b[0m\u001b[0m\n\u001b[1;32m     18\u001b[0m \u001b[0;34m\u001b[0m\u001b[0m\n\u001b[0;32m---> 19\u001b[0;31m \u001b[0mtest_gradcheck_geodesic_cont_self\u001b[0m\u001b[0;34m(\u001b[0m\u001b[0;34m)\u001b[0m\u001b[0;34m\u001b[0m\u001b[0;34m\u001b[0m\u001b[0m\n\u001b[0m",
      "\u001b[0;32m<ipython-input-31-0baf84404707>\u001b[0m in \u001b[0;36mtest_gradcheck_geodesic_cont_self\u001b[0;34m()\u001b[0m\n\u001b[1;32m     14\u001b[0m     \u001b[0mmom\u001b[0m \u001b[0;34m=\u001b[0m \u001b[0mmodules\u001b[0m\u001b[0;34m.\u001b[0m\u001b[0mmanifold\u001b[0m\u001b[0;34m.\u001b[0m\u001b[0mcotan\u001b[0m\u001b[0;34m[\u001b[0m\u001b[0;36m0\u001b[0m\u001b[0;34m]\u001b[0m\u001b[0;34m\u001b[0m\u001b[0;34m\u001b[0m\u001b[0m\n\u001b[1;32m     15\u001b[0m \u001b[0;34m\u001b[0m\u001b[0m\n\u001b[0;32m---> 16\u001b[0;31m     \u001b[0;32mreturn\u001b[0m \u001b[0mtorch\u001b[0m\u001b[0;34m.\u001b[0m\u001b[0mautograd\u001b[0m\u001b[0;34m.\u001b[0m\u001b[0mgradcheck\u001b[0m\u001b[0;34m(\u001b[0m\u001b[0mgeodesic_cont_self\u001b[0m\u001b[0;34m,\u001b[0m \u001b[0;34m(\u001b[0m\u001b[0mgd\u001b[0m\u001b[0;34m,\u001b[0m \u001b[0mmom\u001b[0m\u001b[0;34m)\u001b[0m\u001b[0;34m,\u001b[0m \u001b[0mraise_exception\u001b[0m\u001b[0;34m=\u001b[0m\u001b[0;32mTrue\u001b[0m\u001b[0;34m)\u001b[0m\u001b[0;34m\u001b[0m\u001b[0;34m\u001b[0m\u001b[0m\n\u001b[0m\u001b[1;32m     17\u001b[0m \u001b[0;34m\u001b[0m\u001b[0m\n\u001b[1;32m     18\u001b[0m \u001b[0;34m\u001b[0m\u001b[0m\n",
      "\u001b[0;32m~/.local/share/miniconda2/envs/py3projects/lib/python3.6/site-packages/torch/autograd/gradcheck.py\u001b[0m in \u001b[0;36mgradcheck\u001b[0;34m(func, inputs, eps, atol, rtol, raise_exception)\u001b[0m\n\u001b[1;32m    179\u001b[0m             'but none of the them have requires_grad=True.')\n\u001b[1;32m    180\u001b[0m \u001b[0;34m\u001b[0m\u001b[0m\n\u001b[0;32m--> 181\u001b[0;31m     \u001b[0moutput\u001b[0m \u001b[0;34m=\u001b[0m \u001b[0m_differentiable_outputs\u001b[0m\u001b[0;34m(\u001b[0m\u001b[0mfunc\u001b[0m\u001b[0;34m(\u001b[0m\u001b[0;34m*\u001b[0m\u001b[0mtupled_inputs\u001b[0m\u001b[0;34m)\u001b[0m\u001b[0;34m)\u001b[0m\u001b[0;34m\u001b[0m\u001b[0;34m\u001b[0m\u001b[0m\n\u001b[0m\u001b[1;32m    182\u001b[0m \u001b[0;34m\u001b[0m\u001b[0m\n\u001b[1;32m    183\u001b[0m     \u001b[0;32mdef\u001b[0m \u001b[0mfail_test\u001b[0m\u001b[0;34m(\u001b[0m\u001b[0mmsg\u001b[0m\u001b[0;34m)\u001b[0m\u001b[0;34m:\u001b[0m\u001b[0;34m\u001b[0m\u001b[0;34m\u001b[0m\u001b[0m\n",
      "\u001b[0;32m<ipython-input-31-0baf84404707>\u001b[0m in \u001b[0;36mgeodesic_cont_self\u001b[0;34m(gd, mom)\u001b[0m\n\u001b[1;32m      9\u001b[0m \u001b[0;34m\u001b[0m\u001b[0m\n\u001b[1;32m     10\u001b[0m         \u001b[0mtrans1\u001b[0m\u001b[0;34m.\u001b[0m\u001b[0mcompute_geodesic_control_from_self\u001b[0m\u001b[0;34m(\u001b[0m\u001b[0;34m)\u001b[0m\u001b[0;34m\u001b[0m\u001b[0;34m\u001b[0m\u001b[0m\n\u001b[0;32m---> 11\u001b[0;31m         \u001b[0;32mreturn\u001b[0m \u001b[0mcontrolslist2tensor\u001b[0m\u001b[0;34m(\u001b[0m\u001b[0mtrans1\u001b[0m\u001b[0;34m.\u001b[0m\u001b[0mcontrols\u001b[0m\u001b[0;34m)\u001b[0m\u001b[0;34m\u001b[0m\u001b[0;34m\u001b[0m\u001b[0m\n\u001b[0m\u001b[1;32m     12\u001b[0m \u001b[0;34m\u001b[0m\u001b[0m\n\u001b[1;32m     13\u001b[0m     \u001b[0mgd\u001b[0m \u001b[0;34m=\u001b[0m \u001b[0mmodules\u001b[0m\u001b[0;34m.\u001b[0m\u001b[0mmanifold\u001b[0m\u001b[0;34m.\u001b[0m\u001b[0mgd\u001b[0m\u001b[0;34m[\u001b[0m\u001b[0;36m0\u001b[0m\u001b[0;34m]\u001b[0m\u001b[0;34m\u001b[0m\u001b[0;34m\u001b[0m\u001b[0m\n",
      "\u001b[0;32m<ipython-input-22-94c5312e57d3>\u001b[0m in \u001b[0;36mcontrolslist2tensor\u001b[0;34m(controls_list)\u001b[0m\n\u001b[1;32m      1\u001b[0m \u001b[0;31m# 1 Module\u001b[0m\u001b[0;34m\u001b[0m\u001b[0;34m\u001b[0m\u001b[0;34m\u001b[0m\u001b[0m\n\u001b[1;32m      2\u001b[0m \u001b[0;32mdef\u001b[0m \u001b[0mcontrolslist2tensor\u001b[0m\u001b[0;34m(\u001b[0m\u001b[0mcontrols_list\u001b[0m\u001b[0;34m)\u001b[0m\u001b[0;34m:\u001b[0m\u001b[0;34m\u001b[0m\u001b[0;34m\u001b[0m\u001b[0m\n\u001b[0;32m----> 3\u001b[0;31m     \u001b[0;32mreturn\u001b[0m \u001b[0mtorch\u001b[0m\u001b[0;34m.\u001b[0m\u001b[0mcat\u001b[0m\u001b[0;34m(\u001b[0m\u001b[0;34m[\u001b[0m\u001b[0mcontrols_list\u001b[0m\u001b[0;34m[\u001b[0m\u001b[0;36m0\u001b[0m\u001b[0;34m]\u001b[0m\u001b[0;34m.\u001b[0m\u001b[0mview\u001b[0m\u001b[0;34m(\u001b[0m\u001b[0;34m-\u001b[0m\u001b[0;36m1\u001b[0m\u001b[0;34m,\u001b[0m\u001b[0;36m1\u001b[0m\u001b[0;34m)\u001b[0m\u001b[0;34m,\u001b[0m \u001b[0mcontrols_list\u001b[0m\u001b[0;34m[\u001b[0m\u001b[0;34m-\u001b[0m\u001b[0;36m1\u001b[0m\u001b[0;34m]\u001b[0m\u001b[0;34m[\u001b[0m\u001b[0;36m0\u001b[0m\u001b[0;34m]\u001b[0m\u001b[0;34m.\u001b[0m\u001b[0mview\u001b[0m\u001b[0;34m(\u001b[0m\u001b[0;34m-\u001b[0m\u001b[0;36m1\u001b[0m\u001b[0;34m,\u001b[0m\u001b[0;36m1\u001b[0m\u001b[0;34m)\u001b[0m\u001b[0;34m]\u001b[0m\u001b[0;34m)\u001b[0m\u001b[0;34m\u001b[0m\u001b[0;34m\u001b[0m\u001b[0m\n\u001b[0m\u001b[1;32m      4\u001b[0m \u001b[0;34m\u001b[0m\u001b[0m\n\u001b[1;32m      5\u001b[0m \u001b[0;32mdef\u001b[0m \u001b[0mcontrolstensor2list\u001b[0m\u001b[0;34m(\u001b[0m\u001b[0mcontrols\u001b[0m\u001b[0;34m,\u001b[0m \u001b[0mnb_pts\u001b[0m\u001b[0;34m,\u001b[0m \u001b[0mdim\u001b[0m\u001b[0;34m)\u001b[0m\u001b[0;34m:\u001b[0m\u001b[0;34m\u001b[0m\u001b[0;34m\u001b[0m\u001b[0m\n",
      "\u001b[0;31mIndexError\u001b[0m: invalid index of a 0-dim tensor. Use tensor.item() to convert a 0-dim tensor to a Python number"
     ]
    }
   ],
   "source": [
    "def test_gradcheck_geodesic_cont_self():\n",
    "    def geodesic_cont_self(gd, mom):\n",
    "        #H.module.manifold.fill_gd(gdtensor2list(gd, [nb_pts1, nb_pts2], dim))\n",
    "        #H.module.manifold.fill_cotan(controlstensor2list(mom, [nb_pts1, nb_pts2], dim))\n",
    "        \n",
    "        \n",
    "        trans1.manifold.fill_gd(gd)\n",
    "        trans1.manifold.fill_cotan(mom)\n",
    "\n",
    "        trans1.compute_geodesic_control_from_self()\n",
    "        return controlslist2tensor(trans1.controls)\n",
    "\n",
    "    gd = modules.manifold.gd[0]\n",
    "    mom = modules.manifold.cotan[0]\n",
    "\n",
    "    return torch.autograd.gradcheck(geodesic_cont_self, (gd, mom), raise_exception=True)\n",
    "\n",
    "\n",
    "test_gradcheck_geodesic_cont_self()"
   ]
  },
  {
   "cell_type": "code",
   "execution_count": 35,
   "metadata": {},
   "outputs": [
    {
     "ename": "ValueError",
     "evalue": "gradcheck expects at least one input tensor to require gradient, but none of the them have requires_grad=True.",
     "output_type": "error",
     "traceback": [
      "\u001b[0;31m---------------------------------------------------------------------------\u001b[0m",
      "\u001b[0;31mValueError\u001b[0m                                Traceback (most recent call last)",
      "\u001b[0;32m<ipython-input-35-82f7e1b78538>\u001b[0m in \u001b[0;36m<module>\u001b[0;34m\u001b[0m\n\u001b[1;32m     20\u001b[0m \u001b[0;34m\u001b[0m\u001b[0m\n\u001b[1;32m     21\u001b[0m \u001b[0;34m\u001b[0m\u001b[0m\n\u001b[0;32m---> 22\u001b[0;31m \u001b[0mtest_gradcheck_geo_cont_self\u001b[0m\u001b[0;34m(\u001b[0m\u001b[0;34m)\u001b[0m\u001b[0;34m\u001b[0m\u001b[0;34m\u001b[0m\u001b[0m\n\u001b[0m",
      "\u001b[0;32m<ipython-input-35-82f7e1b78538>\u001b[0m in \u001b[0;36mtest_gradcheck_geo_cont_self\u001b[0;34m()\u001b[0m\n\u001b[1;32m     17\u001b[0m     \u001b[0mmom\u001b[0m \u001b[0;34m=\u001b[0m \u001b[0mmodules\u001b[0m\u001b[0;34m.\u001b[0m\u001b[0mmanifold\u001b[0m\u001b[0;34m.\u001b[0m\u001b[0mcotan\u001b[0m\u001b[0;34m[\u001b[0m\u001b[0mj\u001b[0m\u001b[0;34m]\u001b[0m\u001b[0;34m\u001b[0m\u001b[0;34m\u001b[0m\u001b[0m\n\u001b[1;32m     18\u001b[0m \u001b[0;34m\u001b[0m\u001b[0m\n\u001b[0;32m---> 19\u001b[0;31m     \u001b[0;32mreturn\u001b[0m \u001b[0mtorch\u001b[0m\u001b[0;34m.\u001b[0m\u001b[0mautograd\u001b[0m\u001b[0;34m.\u001b[0m\u001b[0mgradcheck\u001b[0m\u001b[0;34m(\u001b[0m\u001b[0mgeodesic_geo_cont_self\u001b[0m\u001b[0;34m,\u001b[0m \u001b[0;34m(\u001b[0m\u001b[0mgd\u001b[0m\u001b[0;34m,\u001b[0m \u001b[0mmom\u001b[0m\u001b[0;34m)\u001b[0m\u001b[0;34m,\u001b[0m \u001b[0mraise_exception\u001b[0m\u001b[0;34m=\u001b[0m\u001b[0;32mTrue\u001b[0m\u001b[0;34m)\u001b[0m\u001b[0;34m\u001b[0m\u001b[0;34m\u001b[0m\u001b[0m\n\u001b[0m\u001b[1;32m     20\u001b[0m \u001b[0;34m\u001b[0m\u001b[0m\n\u001b[1;32m     21\u001b[0m \u001b[0;34m\u001b[0m\u001b[0m\n",
      "\u001b[0;32m~/.local/share/miniconda2/envs/py3projects/lib/python3.6/site-packages/torch/autograd/gradcheck.py\u001b[0m in \u001b[0;36mgradcheck\u001b[0;34m(func, inputs, eps, atol, rtol, raise_exception)\u001b[0m\n\u001b[1;32m    176\u001b[0m     \u001b[0;32mif\u001b[0m \u001b[0;32mnot\u001b[0m \u001b[0many_input_requiring_grad\u001b[0m\u001b[0;34m:\u001b[0m\u001b[0;34m\u001b[0m\u001b[0;34m\u001b[0m\u001b[0m\n\u001b[1;32m    177\u001b[0m         raise ValueError(\n\u001b[0;32m--> 178\u001b[0;31m             \u001b[0;34m'gradcheck expects at least one input tensor to require gradient, '\u001b[0m\u001b[0;34m\u001b[0m\u001b[0;34m\u001b[0m\u001b[0m\n\u001b[0m\u001b[1;32m    179\u001b[0m             'but none of the them have requires_grad=True.')\n\u001b[1;32m    180\u001b[0m \u001b[0;34m\u001b[0m\u001b[0m\n",
      "\u001b[0;31mValueError\u001b[0m: gradcheck expects at least one input tensor to require gradient, but none of the them have requires_grad=True."
     ]
    }
   ],
   "source": [
    "def test_gradcheck_geo_cont_self():\n",
    "    def geodesic_geo_cont_self(gd, mom):\n",
    "        #H.module.manifold.fill_gd(gdtensor2list(gd, [nb_pts1, nb_pts2], dim))\n",
    "        #H.module.manifold.fill_cotan(controlstensor2list(mom, [nb_pts1, nb_pts2], dim))\n",
    "                \n",
    "        H.module.manifold.manifold_list[j].fill_gd(gd)\n",
    "        H.module.manifold.manifold_list[j].fill_cotan(mom)\n",
    "                \n",
    "        #print(H.module.manifold.gd[j])\n",
    "        #print(H.module.manifold.cotan[j])\n",
    "\n",
    "        \n",
    "        return controlslist2tensor(H.module.controls[1])\n",
    "\n",
    "    j = 1\n",
    "    gd = modules.manifold.gd[j]\n",
    "    mom = modules.manifold.cotan[j]\n",
    "\n",
    "    return torch.autograd.gradcheck(geodesic_geo_cont_self, (gd, mom), raise_exception=True)\n",
    "\n",
    "\n",
    "test_gradcheck_geo_cont_self()"
   ]
  },
  {
   "cell_type": "code",
   "execution_count": 20,
   "metadata": {},
   "outputs": [
    {
     "data": {
      "text/plain": [
       "True"
      ]
     },
     "execution_count": 20,
     "metadata": {},
     "output_type": "execute_result"
    }
   ],
   "source": [
    "def test_gradcheck_geodesic_controls():\n",
    "    def geodesic_controls(gd, mom):        \n",
    "        \n",
    "        H.module.manifold.fill_gd(gdtensor2list(gd, [nb_pts1], dim))\n",
    "        H.module.manifold.fill_cotan(controlstensor2list(mom, [nb_pts1], dim))\n",
    "\n",
    "        return controlslist2tensor(H.module.controls)\n",
    "\n",
    "    gd = gdlist2tensor(modules.manifold.gd)\n",
    "    mom = controlslist2tensor(modules.manifold.cotan)\n",
    "    \n",
    "\n",
    "    return torch.autograd.gradcheck(geodesic_controls, (gd, mom), raise_exception=True)\n",
    "\n",
    "\n",
    "test_gradcheck_geodesic_controls()"
   ]
  },
  {
   "cell_type": "code",
   "execution_count": 21,
   "metadata": {},
   "outputs": [
    {
     "data": {
      "text/plain": [
       "True"
      ]
     },
     "execution_count": 21,
     "metadata": {},
     "output_type": "execute_result"
    }
   ],
   "source": [
    "def test_gradcheck_geodesic_var():\n",
    "    def geodesic_var(gd, mom):\n",
    "        \n",
    "        H.module.manifold.fill_gd(gdtensor2list(gd, [nb_pts1], dim))\n",
    "        H.module.manifold.fill_cotan(controlstensor2list(mom, [nb_pts1], dim))\n",
    "\n",
    "        H.module.compute_geodesic_variables(modules.manifold, constr_Id)\n",
    "        return H.module.l\n",
    "\n",
    "    gd = gdlist2tensor(modules.manifold.gd)\n",
    "    mom = controlslist2tensor(modules.manifold.cotan)\n",
    "\n",
    "    return torch.autograd.gradcheck(geodesic_var, (gd, mom), raise_exception=True)\n",
    "\n",
    "\n",
    "test_gradcheck_geodesic_var()"
   ]
  },
  {
   "cell_type": "code",
   "execution_count": 22,
   "metadata": {},
   "outputs": [],
   "source": [
    "def test_gradcheck_geodesic_var():\n",
    "    def geodesic_var(gd, mom):\n",
    "        #H.module.manifold.fill_gd(gdtensor2list(gd, [nb_pts1, nb_pts2], dim))\n",
    "        #H.module.manifold.fill_cotan(controlstensor2list(mom, [nb_pts1, nb_pts2], dim))\n",
    "        \n",
    "        \n",
    "        H.module.manifold.fill_gd(gdtensor2list(gd, [nb_pts1], dim))\n",
    "        H.module.manifold.fill_cotan(controlstensor2list(mom, [nb_pts1], dim))\n",
    "\n",
    "        H.module.compute_geodesic_variables(H.module.manifold, constr_Id)\n",
    "        return H.module.l\n",
    "\n",
    "    gd = gdlist2tensor(modules.manifold.gd)\n",
    "    mom = controlslist2tensor(modules.manifold.cotan)\n",
    "\n",
    "\n",
    "    return torch.autograd.gradcheck(geodesic_var, (gd, mom), raise_exception=True)\n",
    "\n",
    "\n",
    "#test_gradcheck_geodesic_var()"
   ]
  },
  {
   "cell_type": "code",
   "execution_count": 140,
   "metadata": {},
   "outputs": [],
   "source": [
    "def test_gradcheck_apply_mom():\n",
    "    def apply_mom(gd, mom, controls, l):\n",
    "\n",
    "        #H.module.manifold.fill_gd(gdtensor2list(gd, [nb_pts1, nb_pts2], dim))\n",
    "        #H.module.manifold.fill_cotan(controlstensor2list(mom, [nb_pts1, nb_pts2], dim))\n",
    "        #H.module.fill_controls(controlstensor2list(controls, [nb_pts1, nb_pts2], dim))\n",
    "        \n",
    "        H.module.fill_l(l)\n",
    "        \n",
    "        H.module.manifold.fill_gd(gdtensor2list(gd, [nb_pts1], dim))\n",
    "        H.module.manifold.fill_cotan(controlstensor2list(mom, [nb_pts1], dim))\n",
    "        H.module.fill_controls(controlstensor2list(controls, [nb_pts1], dim))\n",
    "        \n",
    "        return H.apply_mom()\n",
    "\n",
    "    modules.compute_geodesic_variables(modules.manifold, constr_Id)\n",
    "    gd = gdlist2tensor(modules.manifold.gd)\n",
    "    mom = controlslist2tensor(modules.manifold.cotan)\n",
    "    controls = controlslist2tensor(modules.controls)\n",
    "\n",
    "    return torch.autograd.gradcheck(apply_mom, (gd, mom, controls, modules.l), raise_exception=True)\n",
    "\n",
    "#test_gradcheck_apply_mom()"
   ]
  },
  {
   "cell_type": "code",
   "execution_count": 25,
   "metadata": {},
   "outputs": [
    {
     "data": {
      "text/plain": [
       "True"
      ]
     },
     "execution_count": 25,
     "metadata": {},
     "output_type": "execute_result"
    }
   ],
   "source": [
    "def test_gradcheck_Hamiltonian():\n",
    "    def hamiltonian(gd, mom, controls, l):\n",
    "        \n",
    "        H.module.fill_l(l)\n",
    "        H.module.manifold.fill_gd(gdtensor2list(gd, [nb_pts1], dim))\n",
    "        H.module.manifold.fill_cotan(controlstensor2list(mom, [nb_pts1], dim))\n",
    "        H.module.fill_controls(controlstensor2list(controls, [nb_pts1], dim))\n",
    "        H.geodesic_controls()\n",
    "        \n",
    "        return H()\n",
    "    return torch.autograd.gradcheck(hamiltonian, (gd, mom, controls, modules.l), raise_exception=True)\n",
    "\n",
    "modules.compute_geodesic_variables(modules.manifold, constr_Id)\n",
    "\n",
    "gd = gdlist2tensor(modules.manifold.gd)\n",
    "mom = controlslist2tensor(modules.manifold.cotan)\n",
    "controls = controlslist2tensor(modules.controls)\n",
    "l = modules.l\n",
    "\n",
    "test_gradcheck_Hamiltonian()"
   ]
  },
  {
   "cell_type": "code",
   "execution_count": 61,
   "metadata": {},
   "outputs": [
    {
     "data": {
      "text/plain": [
       "True"
      ]
     },
     "execution_count": 61,
     "metadata": {},
     "output_type": "execute_result"
    }
   ],
   "source": [
    "def test_gradcheck_Hamiltonian_2modules():\n",
    "    def hamiltonian(gd, mom, controls, l):\n",
    "        \n",
    "        H.module.fill_l(l)\n",
    "        H.module.manifold.fill_gd(gdtensor2list(gd, [nb_pts1, nb_pts2], dim))\n",
    "        H.module.manifold.fill_cotan(controlstensor2list(mom, [nb_pts1, nb_pts2], dim))\n",
    "        H.module.fill_controls(controlstensor2list(controls, [nb_pts1, nb_pts2], dim))\n",
    "        H.geodesic_controls()\n",
    "        \n",
    "        return H()\n",
    "    return torch.autograd.gradcheck(hamiltonian, (gd, mom, controls, modules.l), raise_exception=True)\n",
    "\n",
    "modules.compute_geodesic_variables(modules.manifold, constr_Id)\n",
    "\n",
    "gd = gdlist2tensor(modules.manifold.gd)\n",
    "mom = controlslist2tensor(modules.manifold.cotan)\n",
    "controls = controlslist2tensor(modules.controls)\n",
    "l = modules.l\n",
    "\n",
    "test_gradcheck_Hamiltonian_2modules()"
   ]
  },
  {
   "cell_type": "code",
   "execution_count": 9,
   "metadata": {},
   "outputs": [
    {
     "ename": "AssertionError",
     "evalue": "",
     "output_type": "error",
     "traceback": [
      "\u001b[0;31m---------------------------------------------------------------------------\u001b[0m",
      "\u001b[0;31mAssertionError\u001b[0m                            Traceback (most recent call last)",
      "\u001b[0;32m<ipython-input-9-58a376d18745>\u001b[0m in \u001b[0;36m<module>\u001b[0;34m\u001b[0m\n\u001b[1;32m     12\u001b[0m \u001b[0;34m\u001b[0m\u001b[0m\n\u001b[1;32m     13\u001b[0m \u001b[0;34m\u001b[0m\u001b[0m\n\u001b[0;32m---> 14\u001b[0;31m \u001b[0mgrad_H\u001b[0m \u001b[0;34m=\u001b[0m \u001b[0mgrad_H\u001b[0m\u001b[0;34m(\u001b[0m\u001b[0;34m)\u001b[0m\u001b[0;34m\u001b[0m\u001b[0;34m\u001b[0m\u001b[0m\n\u001b[0m\u001b[1;32m     15\u001b[0m \u001b[0mprint\u001b[0m\u001b[0;34m(\u001b[0m\u001b[0mcontrolstensor2list\u001b[0m\u001b[0;34m(\u001b[0m\u001b[0mgrad_H\u001b[0m\u001b[0;34m[\u001b[0m\u001b[0;36m0\u001b[0m\u001b[0;34m]\u001b[0m\u001b[0;34m,\u001b[0m \u001b[0;34m[\u001b[0m\u001b[0mnb_pts1\u001b[0m\u001b[0;34m,\u001b[0m \u001b[0mnb_pts2\u001b[0m\u001b[0;34m]\u001b[0m\u001b[0;34m,\u001b[0m \u001b[0mdim\u001b[0m\u001b[0;34m)\u001b[0m\u001b[0;34m)\u001b[0m\u001b[0;34m\u001b[0m\u001b[0;34m\u001b[0m\u001b[0m\n",
      "\u001b[0;32m<ipython-input-9-58a376d18745>\u001b[0m in \u001b[0;36mgrad_H\u001b[0;34m()\u001b[0m\n\u001b[1;32m      6\u001b[0m \u001b[0;34m\u001b[0m\u001b[0m\n\u001b[1;32m      7\u001b[0m         \u001b[0;32mreturn\u001b[0m \u001b[0mH\u001b[0m\u001b[0;34m(\u001b[0m\u001b[0;34m)\u001b[0m\u001b[0;34m\u001b[0m\u001b[0;34m\u001b[0m\u001b[0m\n\u001b[0;32m----> 8\u001b[0;31m     \u001b[0;32mreturn\u001b[0m \u001b[0mtorch\u001b[0m\u001b[0;34m.\u001b[0m\u001b[0mautograd\u001b[0m\u001b[0;34m.\u001b[0m\u001b[0mgrad\u001b[0m\u001b[0;34m(\u001b[0m\u001b[0mhamiltonian\u001b[0m\u001b[0;34m(\u001b[0m\u001b[0mmom\u001b[0m\u001b[0;34m)\u001b[0m\u001b[0;34m,\u001b[0m \u001b[0mmom\u001b[0m\u001b[0;34m,\u001b[0m \u001b[0mcreate_graph\u001b[0m\u001b[0;34m=\u001b[0m\u001b[0;32mTrue\u001b[0m \u001b[0;34m)\u001b[0m\u001b[0;34m\u001b[0m\u001b[0;34m\u001b[0m\u001b[0m\n\u001b[0m\u001b[1;32m      9\u001b[0m \u001b[0;34m\u001b[0m\u001b[0m\n\u001b[1;32m     10\u001b[0m \u001b[0mgd\u001b[0m \u001b[0;34m=\u001b[0m \u001b[0mgdlist2tensor\u001b[0m\u001b[0;34m(\u001b[0m\u001b[0mmodules\u001b[0m\u001b[0;34m.\u001b[0m\u001b[0mmanifold\u001b[0m\u001b[0;34m.\u001b[0m\u001b[0mgd\u001b[0m\u001b[0;34m)\u001b[0m\u001b[0;34m\u001b[0m\u001b[0;34m\u001b[0m\u001b[0m\n",
      "\u001b[0;32m<ipython-input-9-58a376d18745>\u001b[0m in \u001b[0;36mhamiltonian\u001b[0;34m(mom)\u001b[0m\n\u001b[1;32m      3\u001b[0m \u001b[0;34m\u001b[0m\u001b[0m\n\u001b[1;32m      4\u001b[0m         \u001b[0mH\u001b[0m\u001b[0;34m.\u001b[0m\u001b[0mmodule\u001b[0m\u001b[0;34m.\u001b[0m\u001b[0mmanifold\u001b[0m\u001b[0;34m.\u001b[0m\u001b[0mfill_cotan\u001b[0m\u001b[0;34m(\u001b[0m\u001b[0mcontrolstensor2list\u001b[0m\u001b[0;34m(\u001b[0m\u001b[0mmom\u001b[0m\u001b[0;34m,\u001b[0m \u001b[0;34m[\u001b[0m\u001b[0mnb_pts1\u001b[0m\u001b[0;34m,\u001b[0m \u001b[0mnb_pts2\u001b[0m\u001b[0;34m]\u001b[0m\u001b[0;34m,\u001b[0m \u001b[0mdim\u001b[0m\u001b[0;34m)\u001b[0m\u001b[0;34m)\u001b[0m\u001b[0;34m\u001b[0m\u001b[0;34m\u001b[0m\u001b[0m\n\u001b[0;32m----> 5\u001b[0;31m         \u001b[0mH\u001b[0m\u001b[0;34m.\u001b[0m\u001b[0mgeodesic_controls\u001b[0m\u001b[0;34m(\u001b[0m\u001b[0;34m)\u001b[0m\u001b[0;34m\u001b[0m\u001b[0;34m\u001b[0m\u001b[0m\n\u001b[0m\u001b[1;32m      6\u001b[0m \u001b[0;34m\u001b[0m\u001b[0m\n\u001b[1;32m      7\u001b[0m         \u001b[0;32mreturn\u001b[0m \u001b[0mH\u001b[0m\u001b[0;34m(\u001b[0m\u001b[0;34m)\u001b[0m\u001b[0;34m\u001b[0m\u001b[0;34m\u001b[0m\u001b[0m\n",
      "\u001b[0;32m~/git/Masterthesis/src/deformationmodules/defmod/hamiltonian_multishape.py\u001b[0m in \u001b[0;36mgeodesic_controls\u001b[0;34m(self)\u001b[0m\n\u001b[1;32m     32\u001b[0m \u001b[0;34m\u001b[0m\u001b[0m\n\u001b[1;32m     33\u001b[0m     \u001b[0;32mdef\u001b[0m \u001b[0mgeodesic_controls\u001b[0m\u001b[0;34m(\u001b[0m\u001b[0mself\u001b[0m\u001b[0;34m)\u001b[0m\u001b[0;34m:\u001b[0m\u001b[0;34m\u001b[0m\u001b[0;34m\u001b[0m\u001b[0m\n\u001b[0;32m---> 34\u001b[0;31m         \u001b[0mself\u001b[0m\u001b[0;34m.\u001b[0m\u001b[0m__modules\u001b[0m\u001b[0;34m.\u001b[0m\u001b[0mcompute_geodesic_variables\u001b[0m\u001b[0;34m(\u001b[0m\u001b[0mself\u001b[0m\u001b[0;34m.\u001b[0m\u001b[0m__constr\u001b[0m\u001b[0;34m)\u001b[0m\u001b[0;34m\u001b[0m\u001b[0;34m\u001b[0m\u001b[0m\n\u001b[0m\u001b[1;32m     35\u001b[0m \u001b[0;34m\u001b[0m\u001b[0m\n\u001b[1;32m     36\u001b[0m     \u001b[0;32mdef\u001b[0m \u001b[0mapply_constr\u001b[0m\u001b[0;34m(\u001b[0m\u001b[0mself\u001b[0m\u001b[0;34m)\u001b[0m\u001b[0;34m:\u001b[0m\u001b[0;34m\u001b[0m\u001b[0;34m\u001b[0m\u001b[0m\n",
      "\u001b[0;32m~/git/Masterthesis/src/deformationmodules/defmod/multishape.py\u001b[0m in \u001b[0;36mcompute_geodesic_variables\u001b[0;34m(self, constr)\u001b[0m\n\u001b[1;32m    146\u001b[0m     \u001b[0;32mdef\u001b[0m \u001b[0mcompute_geodesic_variables\u001b[0m\u001b[0;34m(\u001b[0m\u001b[0mself\u001b[0m\u001b[0;34m,\u001b[0m \u001b[0mconstr\u001b[0m\u001b[0;34m)\u001b[0m\u001b[0;34m:\u001b[0m\u001b[0;34m\u001b[0m\u001b[0;34m\u001b[0m\u001b[0m\n\u001b[1;32m    147\u001b[0m \u001b[0;34m\u001b[0m\u001b[0m\n\u001b[0;32m--> 148\u001b[0;31m         \u001b[0mself\u001b[0m\u001b[0;34m.\u001b[0m\u001b[0mcompute_geodesic_control_from_self\u001b[0m\u001b[0;34m(\u001b[0m\u001b[0mself\u001b[0m\u001b[0;34m.\u001b[0m\u001b[0mmanifold\u001b[0m\u001b[0;34m)\u001b[0m\u001b[0;34m\u001b[0m\u001b[0;34m\u001b[0m\u001b[0m\n\u001b[0m\u001b[1;32m    149\u001b[0m         \u001b[0mfields\u001b[0m \u001b[0;34m=\u001b[0m \u001b[0mself\u001b[0m\u001b[0;34m.\u001b[0m\u001b[0mfield_generator\u001b[0m\u001b[0;34m(\u001b[0m\u001b[0;34m)\u001b[0m\u001b[0;34m\u001b[0m\u001b[0;34m\u001b[0m\u001b[0m\n\u001b[1;32m    150\u001b[0m         \u001b[0mconstr_mat\u001b[0m \u001b[0;34m=\u001b[0m \u001b[0mconstr\u001b[0m\u001b[0;34m.\u001b[0m\u001b[0mconstraintsmatrix\u001b[0m\u001b[0;34m(\u001b[0m\u001b[0mself\u001b[0m\u001b[0;34m)\u001b[0m\u001b[0;34m\u001b[0m\u001b[0;34m\u001b[0m\u001b[0m\n",
      "\u001b[0;32m~/git/Masterthesis/src/deformationmodules/defmod/multishape.py\u001b[0m in \u001b[0;36mcompute_geodesic_control_from_self\u001b[0;34m(self, manifold)\u001b[0m\n\u001b[1;32m    185\u001b[0m         \u001b[0;31m# TODO: check manifold and self.manifold have the same type\u001b[0m\u001b[0;34m\u001b[0m\u001b[0;34m\u001b[0m\u001b[0;34m\u001b[0m\u001b[0m\n\u001b[1;32m    186\u001b[0m         \u001b[0;32mfor\u001b[0m \u001b[0mm\u001b[0m\u001b[0;34m,\u001b[0m \u001b[0mman\u001b[0m \u001b[0;32min\u001b[0m \u001b[0mzip\u001b[0m\u001b[0;34m(\u001b[0m\u001b[0mself\u001b[0m\u001b[0;34m.\u001b[0m\u001b[0m__module_list\u001b[0m\u001b[0;34m,\u001b[0m \u001b[0mmanifold\u001b[0m\u001b[0;34m.\u001b[0m\u001b[0mmanifold_list\u001b[0m\u001b[0;34m)\u001b[0m\u001b[0;34m:\u001b[0m\u001b[0;34m\u001b[0m\u001b[0;34m\u001b[0m\u001b[0m\n\u001b[0;32m--> 187\u001b[0;31m             \u001b[0mm\u001b[0m\u001b[0;34m.\u001b[0m\u001b[0mcompute_geodesic_control_from_self\u001b[0m\u001b[0;34m(\u001b[0m\u001b[0mman\u001b[0m\u001b[0;34m)\u001b[0m\u001b[0;34m\u001b[0m\u001b[0;34m\u001b[0m\u001b[0m\n\u001b[0m\u001b[1;32m    188\u001b[0m \u001b[0;34m\u001b[0m\u001b[0m\n\u001b[1;32m    189\u001b[0m \u001b[0;34m\u001b[0m\u001b[0m\n",
      "\u001b[0;32m~/git/Masterthesis/src/deformationmodules/defmod/deformationmodules.py\u001b[0m in \u001b[0;36mcompute_geodesic_control_from_self\u001b[0;34m(self, manifold)\u001b[0m\n\u001b[1;32m    314\u001b[0m         \u001b[0;34m\"\"\" assume man is of the same type and has the same gd as self.__man\"\"\"\u001b[0m\u001b[0;34m\u001b[0m\u001b[0;34m\u001b[0m\u001b[0m\n\u001b[1;32m    315\u001b[0m         \u001b[0;31m# TODO: check manifold and self.manifold have the same type\u001b[0m\u001b[0;34m\u001b[0m\u001b[0;34m\u001b[0m\u001b[0;34m\u001b[0m\u001b[0m\n\u001b[0;32m--> 316\u001b[0;31m         \u001b[0mself\u001b[0m\u001b[0;34m.\u001b[0m\u001b[0mfill_controls\u001b[0m\u001b[0;34m(\u001b[0m\u001b[0mmanifold\u001b[0m\u001b[0;34m.\u001b[0m\u001b[0mcotan\u001b[0m\u001b[0;34m.\u001b[0m\u001b[0mcopy\u001b[0m\u001b[0;34m(\u001b[0m\u001b[0;34m)\u001b[0m\u001b[0;34m)\u001b[0m\u001b[0;34m\u001b[0m\u001b[0;34m\u001b[0m\u001b[0m\n\u001b[0m\u001b[1;32m    317\u001b[0m \u001b[0;34m\u001b[0m\u001b[0m\n\u001b[1;32m    318\u001b[0m     \u001b[0;32mdef\u001b[0m \u001b[0mcompute_geodesic_control\u001b[0m\u001b[0;34m(\u001b[0m\u001b[0mself\u001b[0m\u001b[0;34m,\u001b[0m \u001b[0mman\u001b[0m\u001b[0;34m)\u001b[0m\u001b[0;34m:\u001b[0m\u001b[0;34m\u001b[0m\u001b[0;34m\u001b[0m\u001b[0m\n",
      "\u001b[0;32m~/git/Masterthesis/src/deformationmodules/defmod/deformationmodules.py\u001b[0m in \u001b[0;36mfill_controls\u001b[0;34m(self, controls, copy)\u001b[0m\n\u001b[1;32m    273\u001b[0m         \u001b[0;32massert\u001b[0m \u001b[0mlen\u001b[0m\u001b[0;34m(\u001b[0m\u001b[0mcontrols\u001b[0m\u001b[0;34m)\u001b[0m \u001b[0;34m==\u001b[0m \u001b[0mself\u001b[0m\u001b[0;34m.\u001b[0m\u001b[0mnb_module\u001b[0m\u001b[0;34m\u001b[0m\u001b[0;34m\u001b[0m\u001b[0m\n\u001b[1;32m    274\u001b[0m         \u001b[0;32mfor\u001b[0m \u001b[0mi\u001b[0m \u001b[0;32min\u001b[0m \u001b[0mrange\u001b[0m\u001b[0;34m(\u001b[0m\u001b[0mlen\u001b[0m\u001b[0;34m(\u001b[0m\u001b[0mcontrols\u001b[0m\u001b[0;34m)\u001b[0m\u001b[0;34m)\u001b[0m\u001b[0;34m:\u001b[0m\u001b[0;34m\u001b[0m\u001b[0;34m\u001b[0m\u001b[0m\n\u001b[0;32m--> 275\u001b[0;31m             \u001b[0;32massert\u001b[0m \u001b[0mcontrols\u001b[0m\u001b[0;34m[\u001b[0m\u001b[0mi\u001b[0m\u001b[0;34m]\u001b[0m\u001b[0;34m.\u001b[0m\u001b[0mshape\u001b[0m \u001b[0;34m==\u001b[0m \u001b[0mself\u001b[0m\u001b[0;34m.\u001b[0m\u001b[0m__module_list\u001b[0m\u001b[0;34m[\u001b[0m\u001b[0mi\u001b[0m\u001b[0;34m]\u001b[0m\u001b[0;34m.\u001b[0m\u001b[0mmanifold\u001b[0m\u001b[0;34m.\u001b[0m\u001b[0mdim_gd\u001b[0m\u001b[0;34m\u001b[0m\u001b[0;34m\u001b[0m\u001b[0m\n\u001b[0m\u001b[1;32m    276\u001b[0m         \u001b[0;32mif\u001b[0m \u001b[0mcopy\u001b[0m\u001b[0;34m:\u001b[0m\u001b[0;34m\u001b[0m\u001b[0;34m\u001b[0m\u001b[0m\n\u001b[1;32m    277\u001b[0m             \u001b[0;32mfor\u001b[0m \u001b[0mi\u001b[0m \u001b[0;32min\u001b[0m \u001b[0mrange\u001b[0m\u001b[0;34m(\u001b[0m\u001b[0mself\u001b[0m\u001b[0;34m.\u001b[0m\u001b[0mnb_module\u001b[0m\u001b[0;34m)\u001b[0m\u001b[0;34m:\u001b[0m\u001b[0;34m\u001b[0m\u001b[0;34m\u001b[0m\u001b[0m\n",
      "\u001b[0;31mAssertionError\u001b[0m: "
     ]
    }
   ],
   "source": [
    "def grad_H():    \n",
    "    def hamiltonian(mom):\n",
    "        \n",
    "        H.module.manifold.fill_cotan(controlstensor2list(mom, [nb_pts1, nb_pts2], dim))        \n",
    "        H.geodesic_controls()\n",
    "        \n",
    "        return H()\n",
    "    return torch.autograd.grad(hamiltonian(mom), mom, create_graph=True )\n",
    "\n",
    "gd = gdlist2tensor(modules.manifold.gd)\n",
    "mom = controlslist2tensor(modules.manifold.cotan)\n",
    "\n",
    "\n",
    "grad_H = grad_H()\n",
    "print(controlstensor2list(grad_H[0], [nb_pts1, nb_pts2], dim))"
   ]
  },
  {
   "cell_type": "code",
   "execution_count": 63,
   "metadata": {},
   "outputs": [
    {
     "name": "stdout",
     "output_type": "stream",
     "text": [
      "[tensor([3.3984, 0.0000, 3.3980, 0.0000, 3.3981, 0.0000, 3.3989, 0.0000, 3.3998,\n",
      "        0.0000, 3.4007, 0.0000, 3.4011, 0.0000, 3.4009, 0.0000, 3.4003, 0.0000,\n",
      "        3.3993, 0.0000], grad_fn=<ViewBackward>), tensor([-4.4250,  0.0000, -4.4251,  0.0000, -4.4249,  0.0000, -4.4244,  0.0000,\n",
      "        -4.4240,  0.0000, -4.4241,  0.0000, -4.4245,  0.0000],\n",
      "       grad_fn=<ViewBackward>), [tensor([3.3984, 0.0000, 3.3980, 0.0000, 3.3981, 0.0000, 3.3989, 0.0000, 3.3998,\n",
      "        0.0000, 3.4007, 0.0000, 3.4011, 0.0000, 3.4009, 0.0000, 3.4003, 0.0000,\n",
      "        3.3993, 0.0000], grad_fn=<ViewBackward>), tensor([-4.4250,  0.0000, -4.4251,  0.0000, -4.4249,  0.0000, -4.4244,  0.0000,\n",
      "        -4.4240,  0.0000, -4.4241,  0.0000, -4.4245,  0.0000],\n",
      "       grad_fn=<ViewBackward>)]]\n"
     ]
    },
    {
     "data": {
      "text/plain": [
       "tensor(129.9349, grad_fn=<AddBackward0>)"
      ]
     },
     "execution_count": 63,
     "metadata": {},
     "output_type": "execute_result"
    }
   ],
   "source": [
    "# action \n",
    "speed_action = [gdi.action(modulei).tan for gdi, modulei in zip(H.module.manifold.manifold_list, H.module)] \n",
    "\n",
    "print(speed_action)\n",
    "H.module.manifold.fill_tan(speed_action)\n",
    "\n",
    "sum([H.module.manifold.manifold_list[i].inner_prod_field(H.module.module_list[i].field_generator()) for i in range(3)])"
   ]
  },
  {
   "cell_type": "code",
   "execution_count": null,
   "metadata": {},
   "outputs": [],
   "source": []
  },
  {
   "cell_type": "code",
   "execution_count": null,
   "metadata": {},
   "outputs": [],
   "source": []
  }
 ],
 "metadata": {
  "kernelspec": {
   "display_name": "Python 3",
   "language": "python",
   "name": "python3"
  },
  "language_info": {
   "codemirror_mode": {
    "name": "ipython",
    "version": 3
   },
   "file_extension": ".py",
   "mimetype": "text/x-python",
   "name": "python",
   "nbconvert_exporter": "python",
   "pygments_lexer": "ipython3",
   "version": "3.6.8"
  }
 },
 "nbformat": 4,
 "nbformat_minor": 2
}
