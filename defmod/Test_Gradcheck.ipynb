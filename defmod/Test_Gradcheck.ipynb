{
 "cells": [
  {
   "cell_type": "code",
   "execution_count": 488,
   "metadata": {},
   "outputs": [
    {
     "name": "stdout",
     "output_type": "stream",
     "text": [
      "Once deleted, variables cannot be recovered. Proceed (y/[n])? y\n",
      "The autoreload extension is already loaded. To reload it, use:\n",
      "  %reload_ext autoreload\n"
     ]
    }
   ],
   "source": [
    "%reset\n",
    "%load_ext autoreload\n",
    "%autoreload 2\n",
    "\n",
    "import sys\n",
    "\n",
    "sys.path.append(\"../\")\n",
    "import torch\n",
    "import numpy as np\n",
    "import defmod as dm\n",
    "import multimodule_usefulfunctions as mm \n",
    "import matplotlib.pyplot as plt\n",
    "import defmod.hamiltonian_multishape as hamiltonian\n",
    "\n",
    "\n",
    "torch.set_default_tensor_type(torch.DoubleTensor)"
   ]
  },
  {
   "cell_type": "code",
   "execution_count": 489,
   "metadata": {},
   "outputs": [],
   "source": [
    "nb_pts1 = 2\n",
    "nb_pts2 = 3\n",
    "nb_pts = [nb_pts1, nb_pts2]\n",
    "dim = 2\n",
    "\n",
    "o1 = torch.tensor([1.,1.])\n",
    "o2 = torch.tensor([5.,5.])\n",
    "origin = [o1,o2]\n",
    "radius = [2.,1.]\n",
    "numberPoints = [nb_pts1, nb_pts2]\n",
    "gd_list = mm.multipleCircles(origin, radius, numberPoints)"
   ]
  },
  {
   "cell_type": "code",
   "execution_count": 490,
   "metadata": {},
   "outputs": [],
   "source": [
    "# Defining the deformation modules\n",
    "sigma1 = 2\n",
    "manifold1 = dm.manifold.Landmarks(dim, nb_pts1, gd=gd_list[0].view(-1))\n",
    "trans1 = dm.deformationmodules.Translations(manifold1, sigma1)\n",
    "\n",
    "sigma2 = 2\n",
    "manifold2 = dm.manifold.Landmarks(dim, nb_pts2, gd=gd_list[1].view(-1))\n",
    "trans2 = dm.deformationmodules.Translations(manifold2, sigma2)\n",
    "\n",
    "module_list = [trans1, trans2]\n",
    "sigma_bg = 0.2\n",
    "modules = dm.multishape.MultiShapeModule(module_list, sigma_bg)"
   ]
  },
  {
   "cell_type": "code",
   "execution_count": 491,
   "metadata": {},
   "outputs": [],
   "source": [
    "# Setting cotangent variables\n",
    "p1 = torch.cat([torch.ones(nb_pts1,1, requires_grad=True), torch.zeros(nb_pts1,1)],1).view(-1)\n",
    "p2 = torch.cat([-torch.ones(nb_pts2,1,requires_grad=True), torch.zeros(nb_pts2,1)],1).view(-1)\n",
    "cotan = [p1, p2, [p1, p2]]\n",
    "\n",
    "modules.manifold.fill_cotan(cotan)"
   ]
  },
  {
   "cell_type": "code",
   "execution_count": 492,
   "metadata": {},
   "outputs": [],
   "source": [
    "constr_Id = dm.constraints.Identity()\n",
    "H = hamiltonian.Hamiltonian_multi(modules, constr_Id)"
   ]
  },
  {
   "cell_type": "code",
   "execution_count": 493,
   "metadata": {},
   "outputs": [],
   "source": [
    "# 2 Modules\n",
    "def controlslist2tensor(controls_list):\n",
    "    return torch.cat([controls_list[0].view(-1),controls_list[1].view(-1), controls_list[-1][0].view(-1),controls_list[-1][1].view(-1)])\n",
    "\n",
    "def controlstensor2list(controls, nb_pts, dim):\n",
    "    n = sum(nb_pts)\n",
    "    return [controls[:dim*nb_pts[0]], controls[dim*nb_pts[0]:dim*(nb_pts[0]+nb_pts[1])], [controls[dim*n:dim*(n+nb_pts[0])], controls[dim*(n+nb_pts[0]):]]]\n",
    "\n",
    "def gdtensor2list(gdtensor, nb_pts, dim):\n",
    "    gdlist = []\n",
    "    gdlist_bg = []\n",
    "    j = 0\n",
    "    n = sum(nb_pts)\n",
    "    for i in range(len(nb_pts)):\n",
    "        gdlist.append(gdtensor[dim*j:dim*(j+nb_pts[i])])\n",
    "        gdlist_bg.append(gdtensor[dim*(n+j):dim*(n+j+nb_pts[i])])\n",
    "        j = j + nb_pts[i]\n",
    "    return [*gdlist, gdlist_bg]\n",
    "\n",
    "def gdlist2tensor(gdlist):\n",
    "    return torch.cat([*gdlist[:-1],*gdlist[-1]],0)"
   ]
  },
  {
   "cell_type": "code",
   "execution_count": 420,
   "metadata": {},
   "outputs": [
    {
     "data": {
      "text/plain": [
       "True"
      ]
     },
     "execution_count": 420,
     "metadata": {},
     "output_type": "execute_result"
    }
   ],
   "source": [
    "def test_gradcheck_list2tensor():\n",
    "    def list2tensor(controls):\n",
    "        \n",
    "        controls = controlstensor2list(controls, [nb_pts1, nb_pts2], dim)\n",
    "        \n",
    "        return controlslist2tensor(controls)\n",
    "    \n",
    "    controls = torch.cat([torch.ones(modules.controls[0].shape, requires_grad=True), torch.ones(modules.controls[0].shape, requires_grad=True)])\n",
    "\n",
    "    return torch.autograd.gradcheck(list2tensor, controls, raise_exception=True)\n",
    "\n",
    "test_gradcheck_list2tensor()"
   ]
  },
  {
   "cell_type": "code",
   "execution_count": 477,
   "metadata": {},
   "outputs": [],
   "source": [
    "def test_gradcheck_man_fill():\n",
    "    def man_fill(gd):\n",
    "        \n",
    "        out = dm.manifold.Landmarks(2, 10)\n",
    "        out.fill(man, copy=True)\n",
    "        \n",
    "        return out.gd\n",
    "    \n",
    "    return torch.autograd.gradcheck(man_fill, (gd), raise_exception=True)\n",
    "\n",
    "\n",
    "man = dm.manifold.Landmarks(2, 10)\n",
    "man.fill_gd(torch.rand(2*10, requires_grad=True))\n",
    "\n",
    "gd = man.gd\n",
    "\n",
    "#test_gradcheck_man_fill()\n",
    "\n",
    "## return false is normal"
   ]
  },
  {
   "cell_type": "code",
   "execution_count": 137,
   "metadata": {},
   "outputs": [
    {
     "data": {
      "text/plain": [
       "True"
      ]
     },
     "execution_count": 137,
     "metadata": {},
     "output_type": "execute_result"
    }
   ],
   "source": [
    "def test_gradcheck_cot_to_vs():\n",
    "    def cot_to_vs(cotan):  \n",
    "        \n",
    "        man = mod.manifold.copy()\n",
    "        \n",
    "        if j in [-1, 2]:\n",
    "            cotan = controlstensor2list(cotan, nb_pts, dim)\n",
    "\n",
    "        man.fill_cotan(cotan) \n",
    "\n",
    "        field = man.cot_to_vs(1)\n",
    "        return field(points)\n",
    "    \n",
    "    return torch.autograd.gradcheck(cot_to_vs, (cotan), raise_exception=True)\n",
    "\n",
    "modules.compute_geodesic_variables(modules.manifold, constr_Id)\n",
    "\n",
    "j = 2\n",
    "\n",
    "mod = modules.module_list[j]\n",
    "if j in [-1, 2]:\n",
    "    cotan = controlslist2tensor(mod.manifold.cotan)\n",
    "else:\n",
    "    cotan = mod.manifold.cotan\n",
    "\n",
    "\n",
    "points = torch.rand(dim*nb_pts1).view(-1,2)\n",
    "\n",
    "\n",
    "test_gradcheck_cot_to_vs()"
   ]
  },
  {
   "cell_type": "code",
   "execution_count": 138,
   "metadata": {},
   "outputs": [
    {
     "data": {
      "text/plain": [
       "True"
      ]
     },
     "execution_count": 138,
     "metadata": {},
     "output_type": "execute_result"
    }
   ],
   "source": [
    "def test_gradcheck_innerprod():\n",
    "    def innerprod(gd, mom):\n",
    "        \n",
    "        manifold.fill_gd(gd)\n",
    "        manifold.fill_cotan(mom)  \n",
    "                \n",
    "        return mod.manifold.inner_prod_field(mod.field_generator())\n",
    "    \n",
    "    return torch.autograd.gradcheck(innerprod, (gd, mom), raise_exception=True)\n",
    "\n",
    "manifold = dm.manifold.Landmarks(dim, nb_pts1)\n",
    "mod = dm.deformationmodules.Translations(manifold, 1)\n",
    "\n",
    "gd = torch.rand(nb_pts1*dim,1, requires_grad=True)\n",
    "mom = torch.rand(nb_pts1*dim,1, requires_grad=True)\n",
    "\n",
    "test_gradcheck_innerprod()"
   ]
  },
  {
   "cell_type": "code",
   "execution_count": 139,
   "metadata": {},
   "outputs": [
    {
     "data": {
      "text/plain": [
       "True"
      ]
     },
     "execution_count": 139,
     "metadata": {},
     "output_type": "execute_result"
    }
   ],
   "source": [
    "def test_gradcheck_autoaction():\n",
    "    def autoaction(gd, mom):        \n",
    "        \n",
    "        H.module.manifold.fill_gd(gdtensor2list(gd, nb_pts, dim))\n",
    "        H.module.manifold.fill_cotan(controlstensor2list(mom, nb_pts, dim))\n",
    "        \n",
    "        return H.module.autoaction()\n",
    "\n",
    "    gd = gdlist2tensor(modules.manifold.gd)\n",
    "    mom = controlslist2tensor(modules.manifold.cotan)\n",
    "\n",
    "\n",
    "    return torch.autograd.gradcheck(autoaction, (gd, mom), raise_exception=True)\n",
    "\n",
    "test_gradcheck_autoaction()"
   ]
  },
  {
   "cell_type": "code",
   "execution_count": 226,
   "metadata": {},
   "outputs": [
    {
     "data": {
      "text/plain": [
       "True"
      ]
     },
     "execution_count": 226,
     "metadata": {},
     "output_type": "execute_result"
    }
   ],
   "source": [
    "def test_gradcheck_geodesic_cont_self():\n",
    "    def geodesic_cont_self(gd, mom):\n",
    "        H.module.manifold.fill_gd(gdtensor2list(gd, [nb_pts1, nb_pts2], dim))\n",
    "        H.module.manifold.fill_cotan(controlstensor2list(mom, [nb_pts1, nb_pts2], dim))\n",
    "        \n",
    "        H.module.compute_geodesic_control_from_self()\n",
    "\n",
    "        return controlslist2tensor(H.module.controls)\n",
    "\n",
    "    gd = gdlist2tensor(modules.manifold.gd)\n",
    "    mom = controlslist2tensor(modules.manifold.cotan)\n",
    "\n",
    "    return torch.autograd.gradcheck(geodesic_cont_self, (gd, mom), raise_exception=True)\n",
    "\n",
    "\n",
    "test_gradcheck_geodesic_cont_self()"
   ]
  },
  {
   "cell_type": "code",
   "execution_count": 241,
   "metadata": {},
   "outputs": [
    {
     "data": {
      "text/plain": [
       "True"
      ]
     },
     "execution_count": 241,
     "metadata": {},
     "output_type": "execute_result"
    }
   ],
   "source": [
    "def test_gradcheck_geodesic_controls():\n",
    "    def geodesic_controls(gd, mom):\n",
    "        modules.background.manifold.fill_gd([gd[:nb_pts1*dim], gd[nb_pts1*dim:]], copy=False)\n",
    "        modules.background.manifold.fill_cotan([mom[:nb_pts1*dim], mom[nb_pts1*dim:]], copy=False)\n",
    "        \n",
    "        modules.background.compute_geodesic_control_from_self()\n",
    "\n",
    "        return modules.background.controls\n",
    "           \n",
    "\n",
    "    gd = torch.cat(modules.background.manifold.gd.copy())\n",
    "    gd.requires_grad_()\n",
    "    mom = torch.cat(modules.background.manifold.cotan.copy())\n",
    "    mom.requires_grad_()\n",
    "\n",
    "\n",
    "    return torch.autograd.gradcheck(geodesic_controls, (gd, mom), raise_exception=True)\n",
    "\n",
    "\n",
    "test_gradcheck_geodesic_controls()"
   ]
  },
  {
   "cell_type": "code",
   "execution_count": 242,
   "metadata": {},
   "outputs": [
    {
     "data": {
      "text/plain": [
       "True"
      ]
     },
     "execution_count": 242,
     "metadata": {},
     "output_type": "execute_result"
    }
   ],
   "source": [
    "def test_gradcheck_geodesic_controls():\n",
    "    def geodesic_controls(gd, mom):        \n",
    "        man = H.module.manifold.copy()\n",
    "        H.module.manifold.fill_gd(gdtensor2list(gd, nb_pts, dim))\n",
    "        H.module.manifold.fill_cotan(controlstensor2list(mom, nb_pts, dim))\n",
    "        \n",
    "        H.module.compute_geodesic_control(man)\n",
    "\n",
    "        return controlslist2tensor(H.module.controls)\n",
    "\n",
    "    gd = gdlist2tensor(modules.manifold.gd)\n",
    "    mom = controlslist2tensor(modules.manifold.cotan)\n",
    "    \n",
    "\n",
    "    return torch.autograd.gradcheck(geodesic_controls, (gd, mom), raise_exception=True)\n",
    "\n",
    "\n",
    "test_gradcheck_geodesic_controls()"
   ]
  },
  {
   "cell_type": "code",
   "execution_count": 506,
   "metadata": {},
   "outputs": [
    {
     "ename": "RuntimeError",
     "evalue": "Jacobian mismatch for output 0 with respect to input 0,\nnumerical:tensor([[ 5.9362e-02,  0.0000e+00,  5.9362e-02,  0.0000e+00,  0.0000e+00,\n          0.0000e+00,  0.0000e+00,  0.0000e+00,  0.0000e+00,  0.0000e+00,\n         -5.9362e-02,  0.0000e+00, -5.9362e-02,  0.0000e+00,  0.0000e+00,\n          0.0000e+00,  0.0000e+00,  0.0000e+00,  0.0000e+00,  0.0000e+00],\n        [ 0.0000e+00,  0.0000e+00,  0.0000e+00,  0.0000e+00,  0.0000e+00,\n          0.0000e+00,  0.0000e+00,  0.0000e+00,  0.0000e+00,  0.0000e+00,\n          0.0000e+00,  0.0000e+00,  0.0000e+00,  0.0000e+00,  0.0000e+00,\n          0.0000e+00,  0.0000e+00,  0.0000e+00,  0.0000e+00,  0.0000e+00],\n        [-5.9362e-02,  0.0000e+00, -5.9362e-02,  0.0000e+00,  0.0000e+00,\n          0.0000e+00,  0.0000e+00,  0.0000e+00,  0.0000e+00,  0.0000e+00,\n          5.9362e-02,  0.0000e+00,  5.9362e-02,  0.0000e+00,  0.0000e+00,\n          0.0000e+00,  0.0000e+00,  0.0000e+00,  0.0000e+00,  0.0000e+00],\n        [ 0.0000e+00,  0.0000e+00,  0.0000e+00,  0.0000e+00,  0.0000e+00,\n          0.0000e+00,  0.0000e+00,  0.0000e+00,  0.0000e+00,  0.0000e+00,\n          0.0000e+00,  0.0000e+00,  0.0000e+00,  0.0000e+00,  0.0000e+00,\n          0.0000e+00,  0.0000e+00,  0.0000e+00,  0.0000e+00,  0.0000e+00],\n        [ 0.0000e+00,  0.0000e+00,  0.0000e+00,  0.0000e+00, -1.3793e-01,\n          0.0000e+00, -2.1566e-02,  0.0000e+00, -2.1566e-02,  0.0000e+00,\n          0.0000e+00,  0.0000e+00,  0.0000e+00,  0.0000e+00,  1.3793e-01,\n          0.0000e+00,  2.1566e-02,  0.0000e+00,  2.1566e-02,  0.0000e+00],\n        [ 0.0000e+00,  0.0000e+00,  0.0000e+00,  0.0000e+00, -3.8858e-10,\n          0.0000e+00,  6.7182e-02,  0.0000e+00, -6.7182e-02,  0.0000e+00,\n          0.0000e+00,  0.0000e+00,  0.0000e+00,  0.0000e+00,  1.1102e-10,\n          0.0000e+00, -6.7182e-02,  0.0000e+00,  6.7182e-02,  0.0000e+00],\n        [ 0.0000e+00,  0.0000e+00,  0.0000e+00,  0.0000e+00,  6.8964e-02,\n          0.0000e+00,  6.8964e-02,  0.0000e+00, -4.7398e-02,  0.0000e+00,\n          0.0000e+00,  0.0000e+00,  0.0000e+00,  0.0000e+00, -6.8964e-02,\n          0.0000e+00, -6.8964e-02,  0.0000e+00,  4.7398e-02,  0.0000e+00],\n        [ 0.0000e+00,  0.0000e+00,  0.0000e+00,  0.0000e+00,  1.4914e-02,\n          0.0000e+00, -1.1945e-01,  0.0000e+00, -5.2267e-02,  0.0000e+00,\n          0.0000e+00,  0.0000e+00,  0.0000e+00,  0.0000e+00, -1.4914e-02,\n          0.0000e+00,  1.1945e-01,  0.0000e+00,  5.2267e-02,  0.0000e+00],\n        [ 0.0000e+00,  0.0000e+00,  0.0000e+00,  0.0000e+00,  6.8964e-02,\n          0.0000e+00, -4.7398e-02,  0.0000e+00,  6.8964e-02,  0.0000e+00,\n          0.0000e+00,  0.0000e+00,  0.0000e+00,  0.0000e+00, -6.8964e-02,\n          0.0000e+00,  4.7398e-02,  0.0000e+00, -6.8964e-02,  0.0000e+00],\n        [ 0.0000e+00,  0.0000e+00,  0.0000e+00,  0.0000e+00, -1.4914e-02,\n          0.0000e+00,  5.2267e-02,  0.0000e+00,  1.1945e-01,  0.0000e+00,\n          0.0000e+00,  0.0000e+00,  0.0000e+00,  0.0000e+00,  1.4914e-02,\n          0.0000e+00, -5.2267e-02,  0.0000e+00, -1.1945e-01,  0.0000e+00],\n        [ 0.0000e+00,  0.0000e+00,  0.0000e+00,  0.0000e+00,  0.0000e+00,\n          0.0000e+00,  0.0000e+00,  0.0000e+00,  0.0000e+00,  0.0000e+00,\n          0.0000e+00,  0.0000e+00,  0.0000e+00,  0.0000e+00,  0.0000e+00,\n          0.0000e+00,  0.0000e+00,  0.0000e+00,  0.0000e+00,  0.0000e+00],\n        [ 0.0000e+00,  0.0000e+00,  0.0000e+00,  0.0000e+00,  0.0000e+00,\n          0.0000e+00,  0.0000e+00,  0.0000e+00,  0.0000e+00,  0.0000e+00,\n          0.0000e+00,  0.0000e+00,  0.0000e+00,  0.0000e+00,  0.0000e+00,\n          0.0000e+00,  0.0000e+00,  0.0000e+00,  0.0000e+00,  0.0000e+00],\n        [ 0.0000e+00,  0.0000e+00,  0.0000e+00,  0.0000e+00,  0.0000e+00,\n          0.0000e+00,  0.0000e+00,  0.0000e+00,  0.0000e+00,  0.0000e+00,\n          0.0000e+00,  0.0000e+00,  0.0000e+00,  0.0000e+00,  0.0000e+00,\n          0.0000e+00,  0.0000e+00,  0.0000e+00,  0.0000e+00,  0.0000e+00],\n        [ 0.0000e+00,  0.0000e+00,  0.0000e+00,  0.0000e+00,  0.0000e+00,\n          0.0000e+00,  0.0000e+00,  0.0000e+00,  0.0000e+00,  0.0000e+00,\n          0.0000e+00,  0.0000e+00,  0.0000e+00,  0.0000e+00,  0.0000e+00,\n          0.0000e+00,  0.0000e+00,  0.0000e+00,  0.0000e+00,  0.0000e+00],\n        [ 0.0000e+00,  0.0000e+00,  0.0000e+00,  0.0000e+00,  0.0000e+00,\n          0.0000e+00,  0.0000e+00,  0.0000e+00,  0.0000e+00,  0.0000e+00,\n          0.0000e+00,  0.0000e+00,  0.0000e+00,  0.0000e+00,  0.0000e+00,\n          0.0000e+00,  0.0000e+00,  0.0000e+00,  0.0000e+00,  0.0000e+00],\n        [ 0.0000e+00,  0.0000e+00,  0.0000e+00,  0.0000e+00,  0.0000e+00,\n          0.0000e+00,  0.0000e+00,  0.0000e+00,  0.0000e+00,  0.0000e+00,\n          0.0000e+00,  0.0000e+00,  0.0000e+00,  0.0000e+00,  0.0000e+00,\n          0.0000e+00,  0.0000e+00,  0.0000e+00,  0.0000e+00,  0.0000e+00],\n        [ 0.0000e+00,  0.0000e+00,  0.0000e+00,  0.0000e+00,  0.0000e+00,\n          0.0000e+00,  0.0000e+00,  0.0000e+00,  0.0000e+00,  0.0000e+00,\n          0.0000e+00,  0.0000e+00,  0.0000e+00,  0.0000e+00,  0.0000e+00,\n          0.0000e+00,  0.0000e+00,  0.0000e+00,  0.0000e+00,  0.0000e+00],\n        [ 0.0000e+00,  0.0000e+00,  0.0000e+00,  0.0000e+00,  0.0000e+00,\n          0.0000e+00,  0.0000e+00,  0.0000e+00,  0.0000e+00,  0.0000e+00,\n          0.0000e+00,  0.0000e+00,  0.0000e+00,  0.0000e+00,  0.0000e+00,\n          0.0000e+00,  0.0000e+00,  0.0000e+00,  0.0000e+00,  0.0000e+00],\n        [ 0.0000e+00,  0.0000e+00,  0.0000e+00,  0.0000e+00,  0.0000e+00,\n          0.0000e+00,  0.0000e+00,  0.0000e+00,  0.0000e+00,  0.0000e+00,\n          0.0000e+00,  0.0000e+00,  0.0000e+00,  0.0000e+00,  0.0000e+00,\n          0.0000e+00,  0.0000e+00,  0.0000e+00,  0.0000e+00,  0.0000e+00],\n        [ 0.0000e+00,  0.0000e+00,  0.0000e+00,  0.0000e+00,  0.0000e+00,\n          0.0000e+00,  0.0000e+00,  0.0000e+00,  0.0000e+00,  0.0000e+00,\n          0.0000e+00,  0.0000e+00,  0.0000e+00,  0.0000e+00,  0.0000e+00,\n          0.0000e+00,  0.0000e+00,  0.0000e+00,  0.0000e+00,  0.0000e+00]])\nanalytical:tensor([[  4.1887e-02,   0.0000e+00,   1.8848e-01,   0.0000e+00,   2.6936e-68,\n           0.0000e+00,   2.6936e-68,   0.0000e+00,  -1.0532e-67,   0.0000e+00,\n          -5.9362e-02,   0.0000e+00,  -5.9362e-02,   0.0000e+00,  -2.6936e-68,\n           0.0000e+00,  -2.6936e-68,   0.0000e+00,   1.0532e-67,   0.0000e+00],\n        [ -2.3252e-18,   0.0000e+00,  -1.0463e-17,   0.0000e+00,  -1.4952e-84,\n           0.0000e+00,  -1.4952e-84,   0.0000e+00,   5.8463e-84,   0.0000e+00,\n           3.2953e-18,   0.0000e+00,   3.2953e-18,   0.0000e+00,   1.4952e-84,\n           0.0000e+00,   1.4952e-84,   0.0000e+00,  -5.8463e-84,   0.0000e+00],\n        [ -1.8848e-01,   0.0000e+00,  -4.1887e-02,   0.0000e+00,  -2.6936e-68,\n           0.0000e+00,  -2.6936e-68,   0.0000e+00,   1.0532e-67,   0.0000e+00,\n           5.9362e-02,   0.0000e+00,   5.9362e-02,   0.0000e+00,   2.6936e-68,\n           0.0000e+00,   2.6936e-68,   0.0000e+00,  -1.0532e-67,   0.0000e+00],\n        [  1.0463e-17,   0.0000e+00,   2.3252e-18,   0.0000e+00,   1.4952e-84,\n           0.0000e+00,   1.4952e-84,   0.0000e+00,  -5.8463e-84,   0.0000e+00,\n          -3.2953e-18,   0.0000e+00,  -3.2953e-18,   0.0000e+00,  -1.4952e-84,\n           0.0000e+00,  -1.4952e-84,   0.0000e+00,   5.8463e-84,   0.0000e+00],\n        [  3.1681e-68,   0.0000e+00,  -2.1438e-69,   0.0000e+00,   1.4483e-01,\n           0.0000e+00,  -2.2727e-01,   0.0000e+00,  -2.2727e-01,   0.0000e+00,\n          -3.1681e-68,   0.0000e+00,   2.1438e-69,   0.0000e+00,   1.3793e-01,\n           0.0000e+00,   2.1566e-02,   0.0000e+00,   2.1566e-02,   0.0000e+00],\n        [  9.8692e-68,   0.0000e+00,  -6.6782e-69,   0.0000e+00,  -6.9389e-18,\n           0.0000e+00,   3.4920e-01,   0.0000e+00,  -3.4920e-01,   0.0000e+00,\n          -9.8692e-68,   0.0000e+00,   6.6782e-69,   0.0000e+00,   1.2143e-17,\n           0.0000e+00,  -6.7182e-02,   0.0000e+00,   6.7182e-02,   0.0000e+00],\n        [  6.9629e-68,   0.0000e+00,  -4.7116e-69,   0.0000e+00,   4.1605e-01,\n           0.0000e+00,  -7.2417e-02,   0.0000e+00,  -1.8878e-01,   0.0000e+00,\n          -6.9629e-68,   0.0000e+00,   4.7116e-69,   0.0000e+00,  -6.8964e-02,\n           0.0000e+00,  -6.8964e-02,   0.0000e+00,   4.7398e-02,   0.0000e+00],\n        [  7.6782e-68,   0.0000e+00,  -5.1957e-69,   0.0000e+00,  -2.2225e-02,\n           0.0000e+00,   1.2543e-01,   0.0000e+00,  -3.7143e-01,   0.0000e+00,\n          -7.6782e-68,   0.0000e+00,   5.1957e-69,   0.0000e+00,  -1.4914e-02,\n           0.0000e+00,   1.1945e-01,   0.0000e+00,   5.2267e-02,   0.0000e+00],\n        [ -1.0131e-67,   0.0000e+00,   6.8554e-69,   0.0000e+00,   4.1605e-01,\n           0.0000e+00,  -1.8878e-01,   0.0000e+00,  -7.2417e-02,   0.0000e+00,\n           1.0131e-67,   0.0000e+00,  -6.8554e-69,   0.0000e+00,  -6.8964e-02,\n           0.0000e+00,   4.7398e-02,   0.0000e+00,  -6.8964e-02,   0.0000e+00],\n        [ -1.7547e-67,   0.0000e+00,   1.1874e-68,   0.0000e+00,   2.2225e-02,\n           0.0000e+00,   3.7143e-01,   0.0000e+00,  -1.2543e-01,   0.0000e+00,\n           1.7547e-67,   0.0000e+00,  -1.1874e-68,   0.0000e+00,   1.4914e-02,\n           0.0000e+00,  -5.2267e-02,   0.0000e+00,  -1.1945e-01,   0.0000e+00],\n        [ -7.7528e-65,   0.0000e+00,   5.2461e-66,   0.0000e+00,  -1.8094e-65,\n           0.0000e+00,  -1.8094e-65,   0.0000e+00,   7.0748e-65,   0.0000e+00,\n           7.7528e-65,   0.0000e+00,  -5.2461e-66,   0.0000e+00,   1.8094e-65,\n           0.0000e+00,   1.8094e-65,   0.0000e+00,  -7.0748e-65,   0.0000e+00],\n        [ -1.6198e-64,   0.0000e+00,   1.0961e-65,   0.0000e+00,  -3.7804e-65,\n           0.0000e+00,  -3.7804e-65,   0.0000e+00,   1.4781e-64,   0.0000e+00,\n           1.6198e-64,   0.0000e+00,  -1.0961e-65,   0.0000e+00,   3.7804e-65,\n           0.0000e+00,   3.7804e-65,   0.0000e+00,  -1.4781e-64,   0.0000e+00],\n        [  6.8917e-86,   0.0000e+00,   6.8917e-86,   0.0000e+00,  3.1271e-152,\n           0.0000e+00,  3.1271e-152,   0.0000e+00, -1.2227e-151,   0.0000e+00,\n          -6.8917e-86,   0.0000e+00,  -6.8917e-86,   0.0000e+00, -3.1271e-152,\n           0.0000e+00, -3.1271e-152,   0.0000e+00,  1.2227e-151,   0.0000e+00],\n        [-3.8257e-102,   0.0000e+00, -3.8257e-102,   0.0000e+00, -1.7359e-168,\n           0.0000e+00, -1.7359e-168,   0.0000e+00,  6.7873e-168,   0.0000e+00,\n          3.8257e-102,   0.0000e+00,  3.8257e-102,   0.0000e+00,  1.7359e-168,\n           0.0000e+00,  1.7359e-168,   0.0000e+00, -6.7873e-168,   0.0000e+00],\n        [ -5.6650e-82,   0.0000e+00,   3.8334e-83,   0.0000e+00,   2.4664e-15,\n           0.0000e+00,   3.8563e-16,   0.0000e+00,   3.8563e-16,   0.0000e+00,\n           5.6650e-82,   0.0000e+00,  -3.8334e-83,   0.0000e+00,  -2.4664e-15,\n           0.0000e+00,  -3.8563e-16,   0.0000e+00,  -3.8563e-16,   0.0000e+00],\n        [ -1.7648e-81,   0.0000e+00,   1.1942e-82,   0.0000e+00, -1.1639e-134,\n           0.0000e+00,  -1.2013e-15,   0.0000e+00,   1.2013e-15,   0.0000e+00,\n           1.7648e-81,   0.0000e+00,  -1.1942e-82,   0.0000e+00,  -6.1630e-32,\n           0.0000e+00,   1.2013e-15,   0.0000e+00,  -1.2013e-15,   0.0000e+00],\n        [ -1.2451e-81,   0.0000e+00,   8.4251e-83,   0.0000e+00,  -1.2332e-15,\n           0.0000e+00,  -1.2332e-15,   0.0000e+00,   8.4755e-16,   0.0000e+00,\n           1.2451e-81,   0.0000e+00,  -8.4251e-83,   0.0000e+00,   1.2332e-15,\n           0.0000e+00,   1.2332e-15,   0.0000e+00,  -8.4755e-16,   0.0000e+00],\n        [ -1.3730e-81,   0.0000e+00,   9.2906e-83,   0.0000e+00,  -2.6669e-16,\n           0.0000e+00,   2.1359e-15,   0.0000e+00,   9.3462e-16,   0.0000e+00,\n           1.3730e-81,   0.0000e+00,  -9.2906e-83,   0.0000e+00,   2.6669e-16,\n           0.0000e+00,  -2.1359e-15,   0.0000e+00,  -9.3462e-16,   0.0000e+00],\n        [  7.7528e-65,   0.0000e+00,  -5.2461e-66,   0.0000e+00,  -1.2332e-15,\n           0.0000e+00,   8.4755e-16,   0.0000e+00,  -1.2332e-15,   0.0000e+00,\n          -7.7528e-65,   0.0000e+00,   5.2461e-66,   0.0000e+00,   1.2332e-15,\n           0.0000e+00,  -8.4755e-16,   0.0000e+00,   1.2332e-15,   0.0000e+00],\n        [  1.6198e-64,   0.0000e+00,  -1.0961e-65,   0.0000e+00,   2.6669e-16,\n           0.0000e+00,  -9.3462e-16,   0.0000e+00,  -2.1359e-15,   0.0000e+00,\n          -1.6198e-64,   0.0000e+00,   1.0961e-65,   0.0000e+00,  -2.6669e-16,\n           0.0000e+00,   9.3462e-16,   0.0000e+00,   2.1359e-15,   0.0000e+00]])\n",
     "output_type": "error",
     "traceback": [
      "\u001b[0;31m---------------------------------------------------------------------------\u001b[0m",
      "\u001b[0;31mRuntimeError\u001b[0m                              Traceback (most recent call last)",
      "\u001b[0;32m<ipython-input-506-d4cd7cc0986d>\u001b[0m in \u001b[0;36m<module>\u001b[0;34m\u001b[0m\n\u001b[1;32m     15\u001b[0m \u001b[0;34m\u001b[0m\u001b[0m\n\u001b[1;32m     16\u001b[0m \u001b[0;34m\u001b[0m\u001b[0m\n\u001b[0;32m---> 17\u001b[0;31m \u001b[0mtest_gradcheck_geodesic_var\u001b[0m\u001b[0;34m(\u001b[0m\u001b[0;34m)\u001b[0m\u001b[0;34m\u001b[0m\u001b[0;34m\u001b[0m\u001b[0m\n\u001b[0m",
      "\u001b[0;32m<ipython-input-506-d4cd7cc0986d>\u001b[0m in \u001b[0;36mtest_gradcheck_geodesic_var\u001b[0;34m()\u001b[0m\n\u001b[1;32m     12\u001b[0m     \u001b[0mmom\u001b[0m \u001b[0;34m=\u001b[0m \u001b[0mcontrolslist2tensor\u001b[0m\u001b[0;34m(\u001b[0m\u001b[0mmodules\u001b[0m\u001b[0;34m.\u001b[0m\u001b[0mmanifold\u001b[0m\u001b[0;34m.\u001b[0m\u001b[0mcotan\u001b[0m\u001b[0;34m)\u001b[0m\u001b[0;34m\u001b[0m\u001b[0;34m\u001b[0m\u001b[0m\n\u001b[1;32m     13\u001b[0m \u001b[0;34m\u001b[0m\u001b[0m\n\u001b[0;32m---> 14\u001b[0;31m     \u001b[0;32mreturn\u001b[0m \u001b[0mtorch\u001b[0m\u001b[0;34m.\u001b[0m\u001b[0mautograd\u001b[0m\u001b[0;34m.\u001b[0m\u001b[0mgradcheck\u001b[0m\u001b[0;34m(\u001b[0m\u001b[0mgeodesic_var\u001b[0m\u001b[0;34m,\u001b[0m \u001b[0;34m(\u001b[0m\u001b[0mgd\u001b[0m\u001b[0;34m,\u001b[0m \u001b[0mmom\u001b[0m\u001b[0;34m)\u001b[0m\u001b[0;34m,\u001b[0m \u001b[0mraise_exception\u001b[0m\u001b[0;34m=\u001b[0m\u001b[0;32mTrue\u001b[0m\u001b[0;34m)\u001b[0m\u001b[0;34m\u001b[0m\u001b[0;34m\u001b[0m\u001b[0m\n\u001b[0m\u001b[1;32m     15\u001b[0m \u001b[0;34m\u001b[0m\u001b[0m\n\u001b[1;32m     16\u001b[0m \u001b[0;34m\u001b[0m\u001b[0m\n",
      "\u001b[0;32m~/.local/share/miniconda2/envs/py3projects/lib/python3.6/site-packages/torch/autograd/gradcheck.py\u001b[0m in \u001b[0;36mgradcheck\u001b[0;34m(func, inputs, eps, atol, rtol, raise_exception)\u001b[0m\n\u001b[1;32m    203\u001b[0m                 \u001b[0;32mif\u001b[0m \u001b[0;32mnot\u001b[0m \u001b[0mtorch\u001b[0m\u001b[0;34m.\u001b[0m\u001b[0mallclose\u001b[0m\u001b[0;34m(\u001b[0m\u001b[0ma\u001b[0m\u001b[0;34m,\u001b[0m \u001b[0mn\u001b[0m\u001b[0;34m,\u001b[0m \u001b[0mrtol\u001b[0m\u001b[0;34m,\u001b[0m \u001b[0matol\u001b[0m\u001b[0;34m)\u001b[0m\u001b[0;34m:\u001b[0m\u001b[0;34m\u001b[0m\u001b[0;34m\u001b[0m\u001b[0m\n\u001b[1;32m    204\u001b[0m                     return fail_test('Jacobian mismatch for output %d with respect to input %d,\\n'\n\u001b[0;32m--> 205\u001b[0;31m                                      'numerical:%s\\nanalytical:%s\\n' % (i, j, n, a))\n\u001b[0m\u001b[1;32m    206\u001b[0m \u001b[0;34m\u001b[0m\u001b[0m\n\u001b[1;32m    207\u001b[0m         \u001b[0;32mif\u001b[0m \u001b[0;32mnot\u001b[0m \u001b[0mreentrant\u001b[0m\u001b[0;34m:\u001b[0m\u001b[0;34m\u001b[0m\u001b[0;34m\u001b[0m\u001b[0m\n",
      "\u001b[0;32m~/.local/share/miniconda2/envs/py3projects/lib/python3.6/site-packages/torch/autograd/gradcheck.py\u001b[0m in \u001b[0;36mfail_test\u001b[0;34m(msg)\u001b[0m\n\u001b[1;32m    183\u001b[0m     \u001b[0;32mdef\u001b[0m \u001b[0mfail_test\u001b[0m\u001b[0;34m(\u001b[0m\u001b[0mmsg\u001b[0m\u001b[0;34m)\u001b[0m\u001b[0;34m:\u001b[0m\u001b[0;34m\u001b[0m\u001b[0;34m\u001b[0m\u001b[0m\n\u001b[1;32m    184\u001b[0m         \u001b[0;32mif\u001b[0m \u001b[0mraise_exception\u001b[0m\u001b[0;34m:\u001b[0m\u001b[0;34m\u001b[0m\u001b[0;34m\u001b[0m\u001b[0m\n\u001b[0;32m--> 185\u001b[0;31m             \u001b[0;32mraise\u001b[0m \u001b[0mRuntimeError\u001b[0m\u001b[0;34m(\u001b[0m\u001b[0mmsg\u001b[0m\u001b[0;34m)\u001b[0m\u001b[0;34m\u001b[0m\u001b[0;34m\u001b[0m\u001b[0m\n\u001b[0m\u001b[1;32m    186\u001b[0m         \u001b[0;32mreturn\u001b[0m \u001b[0;32mFalse\u001b[0m\u001b[0;34m\u001b[0m\u001b[0;34m\u001b[0m\u001b[0m\n\u001b[1;32m    187\u001b[0m \u001b[0;34m\u001b[0m\u001b[0m\n",
      "\u001b[0;31mRuntimeError\u001b[0m: Jacobian mismatch for output 0 with respect to input 0,\nnumerical:tensor([[ 5.9362e-02,  0.0000e+00,  5.9362e-02,  0.0000e+00,  0.0000e+00,\n          0.0000e+00,  0.0000e+00,  0.0000e+00,  0.0000e+00,  0.0000e+00,\n         -5.9362e-02,  0.0000e+00, -5.9362e-02,  0.0000e+00,  0.0000e+00,\n          0.0000e+00,  0.0000e+00,  0.0000e+00,  0.0000e+00,  0.0000e+00],\n        [ 0.0000e+00,  0.0000e+00,  0.0000e+00,  0.0000e+00,  0.0000e+00,\n          0.0000e+00,  0.0000e+00,  0.0000e+00,  0.0000e+00,  0.0000e+00,\n          0.0000e+00,  0.0000e+00,  0.0000e+00,  0.0000e+00,  0.0000e+00,\n          0.0000e+00,  0.0000e+00,  0.0000e+00,  0.0000e+00,  0.0000e+00],\n        [-5.9362e-02,  0.0000e+00, -5.9362e-02,  0.0000e+00,  0.0000e+00,\n          0.0000e+00,  0.0000e+00,  0.0000e+00,  0.0000e+00,  0.0000e+00,\n          5.9362e-02,  0.0000e+00,  5.9362e-02,  0.0000e+00,  0.0000e+00,\n          0.0000e+00,  0.0000e+00,  0.0000e+00,  0.0000e+00,  0.0000e+00],\n        [ 0.0000e+00,  0.0000e+00,  0.0000e+00,  0.0000e+00,  0.0000e+00,\n          0.0000e+00,  0.0000e+00,  0.0000e+00,  0.0000e+00,  0.0000e+00,\n          0.0000e+00,  0.0000e+00,  0.0000e+00,  0.0000e+00,  0.0000e+00,\n          0.0000e+00,  0.0000e+00,  0.0000e+00,  0.0000e+00,  0.0000e+00],\n        [ 0.0000e+00,  0.0000e+00,  0.0000e+00,  0.0000e+00, -1.3793e-01,\n          0.0000e+00, -2.1566e-02,  0.0000e+00, -2.1566e-02,  0.0000e+00,\n          0.0000e+00,  0.0000e+00,  0.0000e+00,  0.0000e+00,  1.3793e-01,\n          0.0000e+00,  2.1566e-02,  0.0000e+00,  2.1566e-02,  0.0000e+00],\n        [ 0.0000e+00,  0.0000e+00,  0.0000e+00,  0.0000e+00, -3.8858e-10,\n          0.0000e+00,  6.7182e-02,  0.0000e+00, -6.7182e-02,  0.0000e+00,\n          0.0000e+00,  0.0000e+00,  0.0000e+00,  0.0000e+00,  1.1102e-10,\n          0.0000e+00, -6.7182e-02,  0.0000e+00,  6.7182e-02,  0.0000e+00],\n        [ 0.0000e+00,  0.0000e+00,  0.0000e+00,  0.0000e+00,  6.8964e-02,\n          0.0000e+00,  6.8964e-02,  0.0000e+00, -4.7398e-02,  0.0000e+00,\n          0.0000e+00,  0.0000e+00,  0.0000e+00,  0.0000e+00, -6.8964e-02,\n          0.0000e+00, -6.8964e-02,  0.0000e+00,  4.7398e-02,  0.0000e+00],\n        [ 0.0000e+00,  0.0000e+00,  0.0000e+00,  0.0000e+00,  1.4914e-02,\n          0.0000e+00, -1.1945e-01,  0.0000e+00, -5.2267e-02,  0.0000e+00,\n          0.0000e+00,  0.0000e+00,  0.0000e+00,  0.0000e+00, -1.4914e-02,\n          0.0000e+00,  1.1945e-01,  0.0000e+00,  5.2267e-02,  0.0000e+00],\n        [ 0.0000e+00,  0.0000e+00,  0.0000e+00,  0.0000e+00,  6.8964e-02,\n          0.0000e+00, -4.7398e-02,  0.0000e+00,  6.8964e-02,  0.0000e+00,\n          0.0000e+00,  0.0000e+00,  0.0000e+00,  0.0000e+00, -6.8964e-02,\n          0.0000e+00,  4.7398e-02,  0.0000e+00, -6.8964e-02,  0.0000e+00],\n        [ 0.0000e+00,  0.0000e+00,  0.0000e+00,  0.0000e+00, -1.4914e-02,\n          0.0000e+00,  5.2267e-02,  0.0000e+00,  1.1945e-01,  0.0000e+00,\n          0.0000e+00,  0.0000e+00,  0.0000e+00,  0.0000e+00,  1.4914e-02,\n          0.0000e+00, -5.2267e-02,  0.0000e+00, -1.1945e-01,  0.0000e+00],\n        [ 0.0000e+00,  0.0000e+00,  0.0000e+00,  0.0000e+00,  0.0000e+00,\n          0.0000e+00,  0.0000e+00,  0.0000e+00,  0.0000e+00,  0.0000e+00,\n          0.0000e+00,  0.0000e+00,  0.0000e+00,  0.0000e+00,  0.0000e+00,\n          0.0000e+00,  0.0000e+00,  0.0000e+00,  0.0000e+00,  0.0000e+00],\n        [ 0.0000e+00,  0.0000e+00,  0.0000e+00,  0.0000e+00,  0.0000e+00,\n          0.0000e+00,  0.0000e+00,  0.0000e+00,  0.0000e+00,  0.0000e+00,\n          0.0000e+00,  0.0000e+00,  0.0000e+00,  0.0000e+00,  0.0000e+00,\n          0.0000e+00,  0.0000e+00,  0.0000e+00,  0.0000e+00,  0.0000e+00],\n        [ 0.0000e+00,  0.0000e+00,  0.0000e+00,  0.0000e+00,  0.0000e+00,\n          0.0000e+00,  0.0000e+00,  0.0000e+00,  0.0000e+00,  0.0000e+00,\n          0.0000e+00,  0.0000e+00,  0.0000e+00,  0.0000e+00,  0.0000e+00,\n          0.0000e+00,  0.0000e+00,  0.0000e+00,  0.0000e+00,  0.0000e+00],\n        [ 0.0000e+00,  0.0000e+00,  0.0000e+00,  0.0000e+00,  0.0000e+00,\n          0.0000e+00,  0.0000e+00,  0.0000e+00,  0.0000e+00,  0.0000e+00,\n          0.0000e+00,  0.0000e+00,  0.0000e+00,  0.0000e+00,  0.0000e+00,\n          0.0000e+00,  0.0000e+00,  0.0000e+00,  0.0000e+00,  0.0000e+00],\n        [ 0.0000e+00,  0.0000e+00,  0.0000e+00,  0.0000e+00,  0.0000e+00,\n          0.0000e+00,  0.0000e+00,  0.0000e+00,  0.0000e+00,  0.0000e+00,\n          0.0000e+00,  0.0000e+00,  0.0000e+00,  0.0000e+00,  0.0000e+00,\n          0.0000e+00,  0.0000e+00,  0.0000e+00,  0.0000e+00,  0.0000e+00],\n        [ 0.0000e+00,  0.0000e+00,  0.0000e+00,  0.0000e+00,  0.0000e+00,\n          0.0000e+00,  0.0000e+00,  0.0000e+00,  0.0000e+00,  0.0000e+00,\n          0.0000e+00,  0.0000e+00,  0.0000e+00,  0.0000e+00,  0.0000e+00,\n          0.0000e+00,  0.0000e+00,  0.0000e+00,  0.0000e+00,  0.0000e+00],\n        [ 0.0000e+00,  0.0000e+00,  0.0000e+00,  0.0000e+00,  0.0000e+00,\n          0.0000e+00,  0.0000e+00,  0.0000e+00,  0.0000e+00,  0.0000e+00,\n          0.0000e+00,  0.0000e+00,  0.0000e+00,  0.0000e+00,  0.0000e+00,\n          0.0000e+00,  0.0000e+00,  0.0000e+00,  0.0000e+00,  0.0000e+00],\n        [ 0.0000e+00,  0.0000e+00,  0.0000e+00,  0.0000e+00,  0.0000e+00,\n          0.0000e+00,  0.0000e+00,  0.0000e+00,  0.0000e+00,  0.0000e+00,\n          0.0000e+00,  0.0000e+00,  0.0000e+00,  0.0000e+00,  0.0000e+00,\n          0.0000e+00,  0.0000e+00,  0.0000e+00,  0.0000e+00,  0.0000e+00],\n        [ 0.0000e+00,  0.0000e+00,  0.0000e+00,  0.0000e+00,  0.0000e+00,\n          0.0000e+00,  0.0000e+00,  0.0000e+00,  0.0000e+00,  0.0000e+00,\n          0.0000e+00,  0.0000e+00,  0.0000e+00,  0.0000e+00,  0.0000e+00,\n          0.0000e+00,  0.0000e+00,  0.0000e+00,  0.0000e+00,  0.0000e+00],\n        [ 0.0000e+00,  0.0000e+00,  0.0000e+00,  0.0000e+00,  0.0000e+00,\n          0.0000e+00,  0.0000e+00,  0.0000e+00,  0.0000e+00,  0.0000e+00,\n          0.0000e+00,  0.0000e+00,  0.0000e+00,  0.0000e+00,  0.0000e+00,\n          0.0000e+00,  0.0000e+00,  0.0000e+00,  0.0000e+00,  0.0000e+00]])\nanalytical:tensor([[  4.1887e-02,   0.0000e+00,   1.8848e-01,   0.0000e+00,   2.6936e-68,\n           0.0000e+00,   2.6936e-68,   0.0000e+00,  -1.0532e-67,   0.0000e+00,\n          -5.9362e-02,   0.0000e+00,  -5.9362e-02,   0.0000e+00,  -2.6936e-68,\n           0.0000e+00,  -2.6936e-68,   0.0000e+00,   1.0532e-67,   0.0000e+00],\n        [ -2.3252e-18,   0.0000e+00,  -1.0463e-17,   0.0000e+00,  -1.4952e-84,\n           0.0000e+00,  -1.4952e-84,   0.0000e+00,   5.8463e-84,   0.0000e+00,\n           3.2953e-18,   0.0000e+00,   3.2953e-18,   0.0000e+00,   1.4952e-84,\n           0.0000e+00,   1.4952e-84,   0.0000e+00,  -5.8463e-84,   0.0000e+00],\n        [ -1.8848e-01,   0.0000e+00,  -4.1887e-02,   0.0000e+00,  -2.6936e-68,\n           0.0000e+00,  -2.6936e-68,   0.0000e+00,   1.0532e-67,   0.0000e+00,\n           5.9362e-02,   0.0000e+00,   5.9362e-02,   0.0000e+00,   2.6936e-68,\n           0.0000e+00,   2.6936e-68,   0.0000e+00,  -1.0532e-67,   0.0000e+00],\n        [  1.0463e-17,   0.0000e+00,   2.3252e-18,   0.0000e+00,   1.4952e-84,\n           0.0000e+00,   1.4952e-84,   0.0000e+00,  -5.8463e-84,   0.0000e+00,\n          -3.2953e-18,   0.0000e+00,  -3.2953e-18,   0.0000e+00,  -1.4952e-84,\n           0.0000e+00,  -1.4952e-84,   0.0000e+00,   5.8463e-84,   0.0000e+00],\n        [  3.1681e-68,   0.0000e+00,  -2.1438e-69,   0.0000e+00,   1.4483e-01,\n           0.0000e+00,  -2.2727e-01,   0.0000e+00,  -2.2727e-01,   0.0000e+00,\n          -3.1681e-68,   0.0000e+00,   2.1438e-69,   0.0000e+00,   1.3793e-01,\n           0.0000e+00,   2.1566e-02,   0.0000e+00,   2.1566e-02,   0.0000e+00],\n        [  9.8692e-68,   0.0000e+00,  -6.6782e-69,   0.0000e+00,  -6.9389e-18,\n           0.0000e+00,   3.4920e-01,   0.0000e+00,  -3.4920e-01,   0.0000e+00,\n          -9.8692e-68,   0.0000e+00,   6.6782e-69,   0.0000e+00,   1.2143e-17,\n           0.0000e+00,  -6.7182e-02,   0.0000e+00,   6.7182e-02,   0.0000e+00],\n        [  6.9629e-68,   0.0000e+00,  -4.7116e-69,   0.0000e+00,   4.1605e-01,\n           0.0000e+00,  -7.2417e-02,   0.0000e+00,  -1.8878e-01,   0.0000e+00,\n          -6.9629e-68,   0.0000e+00,   4.7116e-69,   0.0000e+00,  -6.8964e-02,\n           0.0000e+00,  -6.8964e-02,   0.0000e+00,   4.7398e-02,   0.0000e+00],\n        [  7.6782e-68,   0.0000e+00,  -5.1957e-69,   0.0000e+00,  -2.2225e-02,\n           0.0000e+00,   1.2543e-01,   0.0000e+00,  -3.7143e-01,   0.0000e+00,\n          -7.6782e-68,   0.0000e+00,   5.1957e-69,   0.0000e+00,  -1.4914e-02,\n           0.0000e+00,   1.1945e-01,   0.0000e+00,   5.2267e-02,   0.0000e+00],\n        [ -1.0131e-67,   0.0000e+00,   6.8554e-69,   0.0000e+00,   4.1605e-01,\n           0.0000e+00,  -1.8878e-01,   0.0000e+00,  -7.2417e-02,   0.0000e+00,\n           1.0131e-67,   0.0000e+00,  -6.8554e-69,   0.0000e+00,  -6.8964e-02,\n           0.0000e+00,   4.7398e-02,   0.0000e+00,  -6.8964e-02,   0.0000e+00],\n        [ -1.7547e-67,   0.0000e+00,   1.1874e-68,   0.0000e+00,   2.2225e-02,\n           0.0000e+00,   3.7143e-01,   0.0000e+00,  -1.2543e-01,   0.0000e+00,\n           1.7547e-67,   0.0000e+00,  -1.1874e-68,   0.0000e+00,   1.4914e-02,\n           0.0000e+00,  -5.2267e-02,   0.0000e+00,  -1.1945e-01,   0.0000e+00],\n        [ -7.7528e-65,   0.0000e+00,   5.2461e-66,   0.0000e+00,  -1.8094e-65,\n           0.0000e+00,  -1.8094e-65,   0.0000e+00,   7.0748e-65,   0.0000e+00,\n           7.7528e-65,   0.0000e+00,  -5.2461e-66,   0.0000e+00,   1.8094e-65,\n           0.0000e+00,   1.8094e-65,   0.0000e+00,  -7.0748e-65,   0.0000e+00],\n        [ -1.6198e-64,   0.0000e+00,   1.0961e-65,   0.0000e+00,  -3.7804e-65,\n           0.0000e+00,  -3.7804e-65,   0.0000e+00,   1.4781e-64,   0.0000e+00,\n           1.6198e-64,   0.0000e+00,  -1.0961e-65,   0.0000e+00,   3.7804e-65,\n           0.0000e+00,   3.7804e-65,   0.0000e+00,  -1.4781e-64,   0.0000e+00],\n        [  6.8917e-86,   0.0000e+00,   6.8917e-86,   0.0000e+00,  3.1271e-152,\n           0.0000e+00,  3.1271e-152,   0.0000e+00, -1.2227e-151,   0.0000e+00,\n          -6.8917e-86,   0.0000e+00,  -6.8917e-86,   0.0000e+00, -3.1271e-152,\n           0.0000e+00, -3.1271e-152,   0.0000e+00,  1.2227e-151,   0.0000e+00],\n        [-3.8257e-102,   0.0000e+00, -3.8257e-102,   0.0000e+00, -1.7359e-168,\n           0.0000e+00, -1.7359e-168,   0.0000e+00,  6.7873e-168,   0.0000e+00,\n          3.8257e-102,   0.0000e+00,  3.8257e-102,   0.0000e+00,  1.7359e-168,\n           0.0000e+00,  1.7359e-168,   0.0000e+00, -6.7873e-168,   0.0000e+00],\n        [ -5.6650e-82,   0.0000e+00,   3.8334e-83,   0.0000e+00,   2.4664e-15,\n           0.0000e+00,   3.8563e-16,   0.0000e+00,   3.8563e-16,   0.0000e+00,\n           5.6650e-82,   0.0000e+00,  -3.8334e-83,   0.0000e+00,  -2.4664e-15,\n           0.0000e+00,  -3.8563e-16,   0.0000e+00,  -3.8563e-16,   0.0000e+00],\n        [ -1.7648e-81,   0.0000e+00,   1.1942e-82,   0.0000e+00, -1.1639e-134,\n           0.0000e+00,  -1.2013e-15,   0.0000e+00,   1.2013e-15,   0.0000e+00,\n           1.7648e-81,   0.0000e+00,  -1.1942e-82,   0.0000e+00,  -6.1630e-32,\n           0.0000e+00,   1.2013e-15,   0.0000e+00,  -1.2013e-15,   0.0000e+00],\n        [ -1.2451e-81,   0.0000e+00,   8.4251e-83,   0.0000e+00,  -1.2332e-15,\n           0.0000e+00,  -1.2332e-15,   0.0000e+00,   8.4755e-16,   0.0000e+00,\n           1.2451e-81,   0.0000e+00,  -8.4251e-83,   0.0000e+00,   1.2332e-15,\n           0.0000e+00,   1.2332e-15,   0.0000e+00,  -8.4755e-16,   0.0000e+00],\n        [ -1.3730e-81,   0.0000e+00,   9.2906e-83,   0.0000e+00,  -2.6669e-16,\n           0.0000e+00,   2.1359e-15,   0.0000e+00,   9.3462e-16,   0.0000e+00,\n           1.3730e-81,   0.0000e+00,  -9.2906e-83,   0.0000e+00,   2.6669e-16,\n           0.0000e+00,  -2.1359e-15,   0.0000e+00,  -9.3462e-16,   0.0000e+00],\n        [  7.7528e-65,   0.0000e+00,  -5.2461e-66,   0.0000e+00,  -1.2332e-15,\n           0.0000e+00,   8.4755e-16,   0.0000e+00,  -1.2332e-15,   0.0000e+00,\n          -7.7528e-65,   0.0000e+00,   5.2461e-66,   0.0000e+00,   1.2332e-15,\n           0.0000e+00,  -8.4755e-16,   0.0000e+00,   1.2332e-15,   0.0000e+00],\n        [  1.6198e-64,   0.0000e+00,  -1.0961e-65,   0.0000e+00,   2.6669e-16,\n           0.0000e+00,  -9.3462e-16,   0.0000e+00,  -2.1359e-15,   0.0000e+00,\n          -1.6198e-64,   0.0000e+00,   1.0961e-65,   0.0000e+00,  -2.6669e-16,\n           0.0000e+00,   9.3462e-16,   0.0000e+00,   2.1359e-15,   0.0000e+00]])\n"
     ]
    }
   ],
   "source": [
    "def test_gradcheck_geodesic_var():\n",
    "    def geodesic_var(gd, mom):\n",
    "        \n",
    "        H.module.manifold.fill_gd(gdtensor2list(gd, nb_pts, dim))\n",
    "        H.module.manifold.fill_cotan(controlstensor2list(mom, nb_pts, dim))\n",
    "\n",
    "        H.geodesic_controls()\n",
    "        return controlslist2tensor(H.module.controls)\n",
    "        #return H.module.l\n",
    "\n",
    "    gd = gdlist2tensor(modules.manifold.gd)\n",
    "    mom = controlslist2tensor(modules.manifold.cotan)\n",
    "\n",
    "    return torch.autograd.gradcheck(geodesic_var, (gd, mom), raise_exception=True)\n",
    "\n",
    "\n",
    "test_gradcheck_geodesic_var()"
   ]
  },
  {
   "cell_type": "code",
   "execution_count": 185,
   "metadata": {},
   "outputs": [
    {
     "data": {
      "text/plain": [
       "True"
      ]
     },
     "execution_count": 185,
     "metadata": {},
     "output_type": "execute_result"
    }
   ],
   "source": [
    "def test_gradcheck_apply_mom():\n",
    "    def apply_mom(gd, mom):\n",
    "\n",
    "        H.module.manifold.fill_gd(gdtensor2list(gd, [nb_pts1, nb_pts2], dim))\n",
    "        H.module.manifold.fill_cotan(controlstensor2list(mom, [nb_pts1, nb_pts2], dim))\n",
    "\n",
    "        modules.compute_geodesic_variables(modules.manifold, constr_Id)\n",
    "        return H.apply_mom()\n",
    "\n",
    "    \n",
    "    gd = gdlist2tensor(modules.manifold.gd)\n",
    "    mom = controlslist2tensor(modules.manifold.cotan)\n",
    "\n",
    "\n",
    "    return torch.autograd.gradcheck(apply_mom, (gd, mom), raise_exception=True)\n",
    "\n",
    "test_gradcheck_apply_mom()"
   ]
  },
  {
   "cell_type": "code",
   "execution_count": 476,
   "metadata": {},
   "outputs": [
    {
     "data": {
      "text/plain": [
       "True"
      ]
     },
     "execution_count": 476,
     "metadata": {},
     "output_type": "execute_result"
    }
   ],
   "source": [
    "def test_gradcheck_Hamiltonian_2modules():\n",
    "    def hamiltonian(gd, mom):\n",
    "        \n",
    "        H.module.manifold.fill_gd(gdtensor2list(gd, [nb_pts1, nb_pts2], dim))\n",
    "        H.module.manifold.fill_cotan(controlstensor2list(mom, [nb_pts1, nb_pts2], dim))\n",
    "        H.geodesic_controls()\n",
    "        \n",
    "        return H()\n",
    "    return torch.autograd.gradcheck(hamiltonian, (gd, mom), raise_exception=True)\n",
    "\n",
    "#modules.compute_geodesic_variables(modules.manifold, constr_Id)\n",
    "\n",
    "gd = gdlist2tensor(modules.manifold.gd)\n",
    "mom = controlslist2tensor(modules.manifold.cotan)\n",
    "\n",
    "\n",
    "test_gradcheck_Hamiltonian_2modules()"
   ]
  },
  {
   "cell_type": "code",
   "execution_count": 514,
   "metadata": {},
   "outputs": [
    {
     "ename": "RuntimeError",
     "evalue": "One of the differentiated Tensors appears to not have been used in the graph. Set allow_unused=True if this is the desired behavior.",
     "output_type": "error",
     "traceback": [
      "\u001b[0;31m---------------------------------------------------------------------------\u001b[0m",
      "\u001b[0;31mRuntimeError\u001b[0m                              Traceback (most recent call last)",
      "\u001b[0;32m<ipython-input-514-2a8bc18e5338>\u001b[0m in \u001b[0;36m<module>\u001b[0;34m\u001b[0m\n\u001b[1;32m     12\u001b[0m \u001b[0mcontrols\u001b[0m\u001b[0;34m.\u001b[0m\u001b[0mretain_grad\u001b[0m\u001b[0;34m(\u001b[0m\u001b[0;34m)\u001b[0m\u001b[0;34m\u001b[0m\u001b[0;34m\u001b[0m\u001b[0m\n\u001b[1;32m     13\u001b[0m \u001b[0;34m\u001b[0m\u001b[0m\n\u001b[0;32m---> 14\u001b[0;31m \u001b[0ma\u001b[0m \u001b[0;34m=\u001b[0m \u001b[0mtorch\u001b[0m\u001b[0;34m.\u001b[0m\u001b[0mautograd\u001b[0m\u001b[0;34m.\u001b[0m\u001b[0mgrad\u001b[0m\u001b[0;34m(\u001b[0m\u001b[0mHamiltonian\u001b[0m\u001b[0;34m(\u001b[0m\u001b[0mcontrols\u001b[0m\u001b[0;34m)\u001b[0m\u001b[0;34m,\u001b[0m \u001b[0mcontrols\u001b[0m\u001b[0;34m,\u001b[0m \u001b[0mretain_graph\u001b[0m\u001b[0;34m=\u001b[0m\u001b[0;32mTrue\u001b[0m\u001b[0;34m)\u001b[0m\u001b[0;34m\u001b[0m\u001b[0;34m\u001b[0m\u001b[0m\n\u001b[0m\u001b[1;32m     15\u001b[0m \u001b[0;34m\u001b[0m\u001b[0m\n\u001b[1;32m     16\u001b[0m \u001b[0mprint\u001b[0m\u001b[0;34m(\u001b[0m\u001b[0ma\u001b[0m\u001b[0;34m)\u001b[0m\u001b[0;34m\u001b[0m\u001b[0;34m\u001b[0m\u001b[0m\n",
      "\u001b[0;32m~/.local/share/miniconda2/envs/py3projects/lib/python3.6/site-packages/torch/autograd/__init__.py\u001b[0m in \u001b[0;36mgrad\u001b[0;34m(outputs, inputs, grad_outputs, retain_graph, create_graph, only_inputs, allow_unused)\u001b[0m\n\u001b[1;32m    143\u001b[0m     return Variable._execution_engine.run_backward(\n\u001b[1;32m    144\u001b[0m         \u001b[0moutputs\u001b[0m\u001b[0;34m,\u001b[0m \u001b[0mgrad_outputs\u001b[0m\u001b[0;34m,\u001b[0m \u001b[0mretain_graph\u001b[0m\u001b[0;34m,\u001b[0m \u001b[0mcreate_graph\u001b[0m\u001b[0;34m,\u001b[0m\u001b[0;34m\u001b[0m\u001b[0;34m\u001b[0m\u001b[0m\n\u001b[0;32m--> 145\u001b[0;31m         inputs, allow_unused)\n\u001b[0m\u001b[1;32m    146\u001b[0m \u001b[0;34m\u001b[0m\u001b[0m\n\u001b[1;32m    147\u001b[0m \u001b[0;34m\u001b[0m\u001b[0m\n",
      "\u001b[0;31mRuntimeError\u001b[0m: One of the differentiated Tensors appears to not have been used in the graph. Set allow_unused=True if this is the desired behavior."
     ]
    }
   ],
   "source": [
    "# check derivative of Hamiltonian wrt controls is zero\n",
    "\n",
    "def Hamiltonian(controls):\n",
    "    controls = controlstensor2list(controls, nb_pts, dim)\n",
    "    modules.fill_controls(controls)\n",
    "    H = hamiltonian.Hamiltonian_multi(modules, constr_Id)\n",
    "    H.geodesic_controls()\n",
    "    return H()\n",
    "\n",
    "#controls = dm.usefulfunctions.flatten_tensor_list(modules.controls, [])\n",
    "controls = controlslist2tensor(modules.controls)\n",
    "\n",
    "a = torch.autograd.grad(Hamiltonian(controls), controls, retain_graph=True)\n",
    "\n",
    "print(a)"
   ]
  },
  {
   "cell_type": "code",
   "execution_count": 486,
   "metadata": {},
   "outputs": [
    {
     "data": {
      "text/plain": [
       "True"
      ]
     },
     "execution_count": 486,
     "metadata": {},
     "output_type": "execute_result"
    }
   ],
   "source": [
    "def test_gradcheck_shooting():\n",
    "    def shooting(gd, mom):\n",
    "        \n",
    "        H.module.manifold.fill_gd(gdtensor2list(gd, [nb_pts1, nb_pts2], dim))\n",
    "        H.module.manifold.fill_cotan(controlstensor2list(mom, [nb_pts1, nb_pts2], dim))\n",
    "        \n",
    "        return dm.shooting.shoot_euler(H, it=2)\n",
    "        #return dm.shooting.shoot_euler_multishape(H, it=2)\n",
    "    return torch.autograd.gradcheck(shooting, (gd, mom), raise_exception=True,atol=1e-2)\n",
    "\n",
    "gd = gdlist2tensor(modules.manifold.gd)\n",
    "mom = controlslist2tensor(modules.manifold.cotan)\n",
    "\n",
    "\n",
    "test_gradcheck_shooting()"
   ]
  },
  {
   "cell_type": "code",
   "execution_count": null,
   "metadata": {},
   "outputs": [],
   "source": []
  }
 ],
 "metadata": {
  "kernelspec": {
   "display_name": "Python 3",
   "language": "python",
   "name": "python3"
  },
  "language_info": {
   "codemirror_mode": {
    "name": "ipython",
    "version": 3
   },
   "file_extension": ".py",
   "mimetype": "text/x-python",
   "name": "python",
   "nbconvert_exporter": "python",
   "pygments_lexer": "ipython3",
   "version": "3.6.8"
  }
 },
 "nbformat": 4,
 "nbformat_minor": 2
}
