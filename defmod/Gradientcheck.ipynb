{
 "cells": [
  {
   "cell_type": "code",
   "execution_count": 1,
   "metadata": {},
   "outputs": [],
   "source": [
    "%load_ext autoreload\n",
    "%autoreload 2\n",
    "\n",
    "import sys\n",
    "\n",
    "sys.path.append(\"../\")\n",
    "\n",
    "import pickle\n",
    "import time\n",
    "\n",
    "import torch\n",
    "\n",
    "import matplotlib.pyplot as plt\n",
    "import defmod as dm\n",
    "import model_graddesc as model\n",
    "\n",
    "torch.set_default_tensor_type(torch.DoubleTensor)\n"
   ]
  },
  {
   "cell_type": "code",
   "execution_count": 25,
   "metadata": {},
   "outputs": [],
   "source": [
    "gd = torch.tensor([0.,0.,1.,1.,2.,2.,3.,3.,4.,4.]).requires_grad_()\n",
    "\n",
    "\n",
    "n = 5\n",
    "#gd = torch.rand(2,n).requires_grad_()\n",
    "\n",
    "\n",
    "man = dm.manifold.Landmarks(2,n, gd=gd.view(-1))\n",
    "comp1 = dm.deformationmodules.CompoundModule([dm.deformationmodules.Translations(man, sigma=1.)])\n",
    "globaltrans = dm.deformationmodules.GlobalTranslation(man, sigma=1.)\n",
    "localscal = dm.deformationmodules.LocalScaling(man, sigma=1.)\n",
    "localrot = dm.deformationmodules.LocalRotation(man, sigma=1.)\n",
    "\n",
    "comp2 = dm.deformationmodules.CompoundModule([globaltrans])\n",
    "\n",
    "modules = dm.multishape.MultiShapeModule([comp1, comp2], 0.5, reduce_background=False)\n",
    "modules.fill_controls_zero()\n",
    "constr_Id = dm.constraints.Identity_Silent()\n",
    "#constr_Id = dm.constraints.Identity_Silent_reduced()\n",
    "H = dm.hamiltonian_multishape.Hamiltonian_multi(modules, constr_Id)\n",
    "\n",
    "# set parameters\n",
    "reg_param = 10**-3 \n",
    "\n",
    "gd0_tensor = torch.cat(H.module.manifold.unroll_gd().copy(),0).requires_grad_().view(-1)\n",
    "mom0_tensor = torch.cat(H.module.manifold.unroll_cotan().copy(),0).requires_grad_().view(-1)\n",
    "    \n",
    "gd0_tensor.retain_grad()\n",
    "mom0_tensor.retain_grad()\n",
    "    \n",
    "#EnergyFunctional = model.EnergyFunctional(modules, H, constr_Id,source, target, 2, reg_param)"
   ]
  },
  {
   "cell_type": "code",
   "execution_count": null,
   "metadata": {},
   "outputs": [],
   "source": [
    "def test_gradcheck_autoaction():\n",
    "    def autoaction(gd, mom):\n",
    "        mod.manifold.fill_gd(gd)\n",
    "        mod.manifold.fill_cotan(mom)\n",
    "        return mod.autoaction()\n",
    "    return torch.autograd.gradcheck(autoaction, (gd, mom), raise_exception=True)\n",
    "\n",
    "mod = modules\n",
    "gd0_tensor = torch.cat(H.module.manifold.unroll_gd().copy(),0).requires_grad_().view(-1)\n",
    "gd = gd0_tensor\n",
    "mom = 1000*torch.rand(mom0_tensor.shape)\n",
    "\n",
    "test_gradcheck_autoaction()"
   ]
  },
  {
   "cell_type": "code",
   "execution_count": null,
   "metadata": {},
   "outputs": [],
   "source": [
    "def test_gradcheck_fields():\n",
    "    def autoaction(gd, mom):\n",
    "        mod.manifold.fill_gd(gd)\n",
    "        mod.manifold.fill_cotan(mom)\n",
    "        points = torch.tensor([0.,0.]).view(-1,2)\n",
    "        return mod.field_generator().fields[0](points)\n",
    "    return torch.autograd.gradcheck(autoaction, (gd, mom), raise_exception=True)\n",
    "\n",
    "mod = modules\n",
    "gd0_tensor = torch.cat(H.module.manifold.unroll_gd().copy(),0).requires_grad_().view(-1)\n",
    "gd = gd0_tensor\n",
    "mom = 1000*torch.rand(mom0_tensor.shape)\n",
    "\n",
    "test_gradcheck_fields()"
   ]
  },
  {
   "cell_type": "code",
   "execution_count": null,
   "metadata": {},
   "outputs": [],
   "source": [
    "def test_gradcheck_fields():\n",
    "    def autoaction(gd, mom):\n",
    "        mod.manifold.fill_gd(gd)\n",
    "        mod.manifold.fill_cotan(mom)\n",
    "        points = torch.tensor([0.,0.]).view(-1,2)\n",
    "        #return mod.background.field_generator()(points)\n",
    "        return mod.field_generator().fields[-1](points)\n",
    "    return torch.autograd.gradcheck(autoaction, (gd, mom), raise_exception=True)\n",
    "\n",
    "mod = modules\n",
    "gd0_tensor = torch.cat(H.module.manifold.unroll_gd().copy(),0).requires_grad_().view(-1)\n",
    "gd = gd0_tensor\n",
    "mom = 1000*torch.rand(mom0_tensor.shape)\n",
    "\n",
    "test_gradcheck_fields()"
   ]
  },
  {
   "cell_type": "code",
   "execution_count": null,
   "metadata": {},
   "outputs": [],
   "source": [
    "def test_gradcheck_fields():\n",
    "    def autoaction(gd, mom):\n",
    "        mod.manifold.fill_gd(gd)\n",
    "        mod.manifold.fill_cotan(mom)\n",
    "        \n",
    "        fields = mod.field_generator().fieldlist\n",
    "\n",
    "        gd_bg = mod.manifold.manifold_list[-1].gd_points()[0]\n",
    "        \n",
    "        return fields[0](gd_bg)\n",
    "    \n",
    "    return torch.autograd.gradcheck(autoaction, (gd, mom), raise_exception=True)\n",
    "\n",
    "mod = modules\n",
    "gd0_tensor = torch.cat(H.module.manifold.unroll_gd().copy(),0).requires_grad_().view(-1)\n",
    "gd = gd0_tensor\n",
    "mom = 1000*torch.rand(mom0_tensor.shape)\n",
    "\n",
    "test_gradcheck_fields()"
   ]
  },
  {
   "cell_type": "code",
   "execution_count": null,
   "metadata": {},
   "outputs": [],
   "source": [
    "def test_gradcheck_geocont_from_self():\n",
    "    def fun(gd, mom):\n",
    "        mod.manifold.fill_gd(gd)\n",
    "        mod.manifold.fill_cotan(mom)\n",
    "        \n",
    "        man = mod.manifold\n",
    "        vs = mod.adjoint(man)\n",
    "        K_q = dm.kernels.K_xx(mod.manifold.gd.view(-1, mod.manifold.dim), mod.sigma)\n",
    "        x = vs(mod.manifold.gd.view(-1, mod.manifold.dim))\n",
    "        controls, _ = torch.gesv(x, K_q)\n",
    "        mod.fill_controls(controls.contiguous().view(-1))\n",
    "        \n",
    "        mod.compute_geodesic_control_from_self(mod.manifold)\n",
    "        return mod.controls\n",
    "    return torch.autograd.gradcheck(fun, (gd, mom), raise_exception=True)\n",
    "\n",
    "mod = dm.deformationmodules.Translations(man, sigma=1.)\n",
    "#mod = H.module\n",
    "\n",
    "gd0_tensor = torch.cat(mod.manifold.unroll_gd().copy(),0).requires_grad_().view(-1)\n",
    "gd = gd0_tensor\n",
    "mom = 1000*torch.rand(gd.shape).requires_grad_()\n",
    "\n",
    "test_gradcheck_geocont_from_self()"
   ]
  },
  {
   "cell_type": "code",
   "execution_count": 34,
   "metadata": {},
   "outputs": [
    {
     "data": {
      "text/plain": [
       "True"
      ]
     },
     "execution_count": 34,
     "metadata": {},
     "output_type": "execute_result"
    }
   ],
   "source": [
    "def test_gradcheck_H_geodesic_controls():\n",
    "    def fun(gd, mom):\n",
    "        H.module.manifold.fill_gd(gd)\n",
    "        H.module.manifold.fill_cotan(mom)\n",
    "        H.geodesic_controls()\n",
    "        \n",
    "        return torch.cat([*H.module.controls[0], *H.module.controls[1], *H.module.controls[-1]],0)\n",
    "        #return H.constraints(H.module)\n",
    "    \n",
    "    return torch.autograd.gradcheck(fun, (gd, mom), raise_exception=True)\n",
    "\n",
    "constr = dm.constraints.Identity_Silent()\n",
    "\n",
    "mod = modules\n",
    "gd0_tensor = torch.cat(H.module.manifold.unroll_gd().copy(),0).requires_grad_().view(-1)\n",
    "gd = gd0_tensor\n",
    "mom = 1000*torch.rand(mom0_tensor.shape)\n",
    "\n",
    "test_gradcheck_H_geodesic_controls()"
   ]
  },
  {
   "cell_type": "code",
   "execution_count": null,
   "metadata": {},
   "outputs": [],
   "source": [
    "def test_gradcheck_apply_constr():\n",
    "    def hamiltonian(gd, mom):\n",
    "        \n",
    "        \n",
    "        H.module.manifold.fill_gd(gd)\n",
    "        H.module.manifold.fill_cotan(mom)\n",
    "        #H.geodesic_controls()\n",
    "        \n",
    "        modules.manifold.fill_gd(gd)\n",
    "        modules.manifold.fill_cotan(mom)\n",
    "               \n",
    "        appl_constr = torch.dot(H.module.l.view(-1,1).squeeze(), constr(H.module).view(-1,1).squeeze())\n",
    "        #return appl_constr\n",
    "        return H.apply_constr()    \n",
    "    \n",
    "    return torch.autograd.gradcheck(hamiltonian, (gd, mom), raise_exception=True)\n",
    "\n",
    "gd0_tensor = torch.cat(H.module.manifold.unroll_gd().copy(),0).requires_grad_().view(-1)\n",
    "gd = gd0_tensor\n",
    "mom = 1000*torch.rand(mom0_tensor.shape).requires_grad_()\n",
    "\n",
    "constr = dm.constraints.Identity_Silent()\n",
    "\n",
    "test_gradcheck_apply_constr()"
   ]
  },
  {
   "cell_type": "code",
   "execution_count": null,
   "metadata": {},
   "outputs": [],
   "source": [
    "def test_gradcheck_apply_mom():\n",
    "    def hamiltonian(gd, mom):\n",
    "        \n",
    "        H.module.manifold.fill_gd(gd)\n",
    "        H.module.manifold.fill_cotan(mom)\n",
    "        #H.geodesic_controls()\n",
    "               \n",
    "        appl_mom = H.appl_mom()\n",
    "        return apply_mom\n",
    "            \n",
    "    \n",
    "    return torch.autograd.gradcheck(hamiltonian, (gd, mom), raise_exception=True)\n",
    "\n",
    "gd0_tensor = torch.cat(H.module.manifold.unroll_gd().copy(),0).requires_grad_().view(-1)\n",
    "gd = gd0_tensor\n",
    "\n",
    "constr = dm.constraints.Identity_Silent()\n",
    "\n",
    "test_gradcheck_apply_constr()"
   ]
  },
  {
   "cell_type": "code",
   "execution_count": 29,
   "metadata": {},
   "outputs": [
    {
     "data": {
      "text/plain": [
       "True"
      ]
     },
     "execution_count": 29,
     "metadata": {},
     "output_type": "execute_result"
    }
   ],
   "source": [
    "def test_gradcheck_H_applconstr():\n",
    "    def fun(gd, mom):\n",
    "        H.module.manifold.fill_gd(gd)\n",
    "        H.module.manifold.fill_cotan(mom)\n",
    "        H.geodesic_controls()\n",
    "        \n",
    "        x = H.module.l.view(-1,1).squeeze()\n",
    "        y = H.constraints(H.module).view(-1,1).squeeze()\n",
    "        appl_constr = torch.dot(x, y)\n",
    "\n",
    "        return x, y#torch.dot(x,y)\n",
    "    \n",
    "    return torch.autograd.gradcheck(fun, (gd, mom), raise_exception=True)\n",
    "\n",
    "\n",
    "gd0_tensor = torch.cat(H.module.manifold.unroll_gd().copy(),0).requires_grad_().view(-1)\n",
    "gd = gd0_tensor\n",
    "mom = 1000*torch.rand(mom0_tensor.shape)\n",
    "\n",
    "test_gradcheck_H_applconstr()"
   ]
  },
  {
   "cell_type": "code",
   "execution_count": 31,
   "metadata": {},
   "outputs": [
    {
     "ename": "RuntimeError",
     "evalue": "Jacobian mismatch for output 0 with respect to input 0,\nnumerical:tensor([[ 0.0000e+00],\n        [ 0.0000e+00],\n        [ 0.0000e+00],\n        [ 0.0000e+00],\n        [ 0.0000e+00],\n        [ 0.0000e+00],\n        [ 0.0000e+00],\n        [ 0.0000e+00],\n        [ 0.0000e+00],\n        [ 0.0000e+00],\n        [-3.6446e+05],\n        [-3.6446e+05],\n        [-2.3162e+06],\n        [-2.3162e+06],\n        [ 1.4817e+06],\n        [ 1.4817e+06],\n        [ 1.2093e+06],\n        [ 1.2093e+06],\n        [-1.0346e+04],\n        [-1.0346e+04],\n        [-1.1017e+05],\n        [-1.1017e+05],\n        [ 3.0324e+05],\n        [ 3.0324e+05],\n        [-2.9104e-03],\n        [-2.9104e-03],\n        [-2.8315e+05],\n        [-2.8315e+05],\n        [ 7.5670e+04],\n        [ 7.5670e+04],\n        [ 1.0962e+05],\n        [ 1.0962e+05],\n        [-3.4819e+05],\n        [-3.4819e+05],\n        [ 0.0000e+00],\n        [ 0.0000e+00],\n        [ 3.2809e+05],\n        [ 3.2809e+05],\n        [-7.5121e+04],\n        [-7.5121e+04]])\nanalytical:tensor([[ 0.0000e+00],\n        [ 0.0000e+00],\n        [ 0.0000e+00],\n        [ 0.0000e+00],\n        [ 0.0000e+00],\n        [ 0.0000e+00],\n        [ 0.0000e+00],\n        [ 0.0000e+00],\n        [ 0.0000e+00],\n        [ 0.0000e+00],\n        [-3.6446e+05],\n        [-3.6446e+05],\n        [-2.3162e+06],\n        [-2.3162e+06],\n        [ 1.4817e+06],\n        [ 1.4817e+06],\n        [ 1.2093e+06],\n        [ 1.2093e+06],\n        [-1.0346e+04],\n        [-1.0346e+04],\n        [-1.1017e+05],\n        [-1.1017e+05],\n        [ 3.0324e+05],\n        [ 3.0324e+05],\n        [ 4.6566e-10],\n        [ 4.6566e-10],\n        [-2.8315e+05],\n        [-2.8315e+05],\n        [ 7.5670e+04],\n        [ 7.5670e+04],\n        [ 1.0962e+05],\n        [ 1.0962e+05],\n        [-3.4819e+05],\n        [-3.4819e+05],\n        [-6.4028e-10],\n        [-6.4028e-10],\n        [ 3.2809e+05],\n        [ 3.2809e+05],\n        [-7.5121e+04],\n        [-7.5121e+04]])\n",
     "output_type": "error",
     "traceback": [
      "\u001b[0;31m---------------------------------------------------------------------------\u001b[0m",
      "\u001b[0;31mRuntimeError\u001b[0m                              Traceback (most recent call last)",
      "\u001b[0;32m<ipython-input-31-0392f9044121>\u001b[0m in \u001b[0;36m<module>\u001b[0;34m\u001b[0m\n\u001b[1;32m     16\u001b[0m \u001b[0;34m\u001b[0m\u001b[0m\n\u001b[1;32m     17\u001b[0m \u001b[0;34m\u001b[0m\u001b[0m\n\u001b[0;32m---> 18\u001b[0;31m \u001b[0mtest_gradcheck_Hamiltonian\u001b[0m\u001b[0;34m(\u001b[0m\u001b[0;34m)\u001b[0m\u001b[0;34m\u001b[0m\u001b[0;34m\u001b[0m\u001b[0m\n\u001b[0m",
      "\u001b[0;32m<ipython-input-31-0392f9044121>\u001b[0m in \u001b[0;36mtest_gradcheck_Hamiltonian\u001b[0;34m()\u001b[0m\n\u001b[1;32m      9\u001b[0m         \u001b[0;32mreturn\u001b[0m \u001b[0mH\u001b[0m\u001b[0;34m.\u001b[0m\u001b[0mapply_constr\u001b[0m\u001b[0;34m(\u001b[0m\u001b[0;34m)\u001b[0m\u001b[0;34m\u001b[0m\u001b[0;34m\u001b[0m\u001b[0m\n\u001b[1;32m     10\u001b[0m \u001b[0;34m\u001b[0m\u001b[0m\n\u001b[0;32m---> 11\u001b[0;31m     \u001b[0;32mreturn\u001b[0m \u001b[0mtorch\u001b[0m\u001b[0;34m.\u001b[0m\u001b[0mautograd\u001b[0m\u001b[0;34m.\u001b[0m\u001b[0mgradcheck\u001b[0m\u001b[0;34m(\u001b[0m\u001b[0mhamiltonian\u001b[0m\u001b[0;34m,\u001b[0m \u001b[0;34m(\u001b[0m\u001b[0mgd\u001b[0m\u001b[0;34m,\u001b[0m \u001b[0mmom\u001b[0m\u001b[0;34m)\u001b[0m\u001b[0;34m,\u001b[0m \u001b[0mraise_exception\u001b[0m\u001b[0;34m=\u001b[0m\u001b[0;32mTrue\u001b[0m\u001b[0;34m)\u001b[0m\u001b[0;34m\u001b[0m\u001b[0;34m\u001b[0m\u001b[0m\n\u001b[0m\u001b[1;32m     12\u001b[0m \u001b[0;34m\u001b[0m\u001b[0m\n\u001b[1;32m     13\u001b[0m \u001b[0mgd0_tensor\u001b[0m \u001b[0;34m=\u001b[0m \u001b[0mtorch\u001b[0m\u001b[0;34m.\u001b[0m\u001b[0mcat\u001b[0m\u001b[0;34m(\u001b[0m\u001b[0mH\u001b[0m\u001b[0;34m.\u001b[0m\u001b[0mmodule\u001b[0m\u001b[0;34m.\u001b[0m\u001b[0mmanifold\u001b[0m\u001b[0;34m.\u001b[0m\u001b[0munroll_gd\u001b[0m\u001b[0;34m(\u001b[0m\u001b[0;34m)\u001b[0m\u001b[0;34m.\u001b[0m\u001b[0mcopy\u001b[0m\u001b[0;34m(\u001b[0m\u001b[0;34m)\u001b[0m\u001b[0;34m,\u001b[0m\u001b[0;36m0\u001b[0m\u001b[0;34m)\u001b[0m\u001b[0;34m.\u001b[0m\u001b[0mrequires_grad_\u001b[0m\u001b[0;34m(\u001b[0m\u001b[0;34m)\u001b[0m\u001b[0;34m.\u001b[0m\u001b[0mview\u001b[0m\u001b[0;34m(\u001b[0m\u001b[0;34m-\u001b[0m\u001b[0;36m1\u001b[0m\u001b[0;34m)\u001b[0m\u001b[0;34m\u001b[0m\u001b[0;34m\u001b[0m\u001b[0m\n",
      "\u001b[0;32m~/.local/share/miniconda2/envs/py3projects/lib/python3.6/site-packages/torch/autograd/gradcheck.py\u001b[0m in \u001b[0;36mgradcheck\u001b[0;34m(func, inputs, eps, atol, rtol, raise_exception)\u001b[0m\n\u001b[1;32m    203\u001b[0m                 \u001b[0;32mif\u001b[0m \u001b[0;32mnot\u001b[0m \u001b[0mtorch\u001b[0m\u001b[0;34m.\u001b[0m\u001b[0mallclose\u001b[0m\u001b[0;34m(\u001b[0m\u001b[0ma\u001b[0m\u001b[0;34m,\u001b[0m \u001b[0mn\u001b[0m\u001b[0;34m,\u001b[0m \u001b[0mrtol\u001b[0m\u001b[0;34m,\u001b[0m \u001b[0matol\u001b[0m\u001b[0;34m)\u001b[0m\u001b[0;34m:\u001b[0m\u001b[0;34m\u001b[0m\u001b[0;34m\u001b[0m\u001b[0m\n\u001b[1;32m    204\u001b[0m                     return fail_test('Jacobian mismatch for output %d with respect to input %d,\\n'\n\u001b[0;32m--> 205\u001b[0;31m                                      'numerical:%s\\nanalytical:%s\\n' % (i, j, n, a))\n\u001b[0m\u001b[1;32m    206\u001b[0m \u001b[0;34m\u001b[0m\u001b[0m\n\u001b[1;32m    207\u001b[0m         \u001b[0;32mif\u001b[0m \u001b[0;32mnot\u001b[0m \u001b[0mreentrant\u001b[0m\u001b[0;34m:\u001b[0m\u001b[0;34m\u001b[0m\u001b[0;34m\u001b[0m\u001b[0m\n",
      "\u001b[0;32m~/.local/share/miniconda2/envs/py3projects/lib/python3.6/site-packages/torch/autograd/gradcheck.py\u001b[0m in \u001b[0;36mfail_test\u001b[0;34m(msg)\u001b[0m\n\u001b[1;32m    183\u001b[0m     \u001b[0;32mdef\u001b[0m \u001b[0mfail_test\u001b[0m\u001b[0;34m(\u001b[0m\u001b[0mmsg\u001b[0m\u001b[0;34m)\u001b[0m\u001b[0;34m:\u001b[0m\u001b[0;34m\u001b[0m\u001b[0;34m\u001b[0m\u001b[0m\n\u001b[1;32m    184\u001b[0m         \u001b[0;32mif\u001b[0m \u001b[0mraise_exception\u001b[0m\u001b[0;34m:\u001b[0m\u001b[0;34m\u001b[0m\u001b[0;34m\u001b[0m\u001b[0m\n\u001b[0;32m--> 185\u001b[0;31m             \u001b[0;32mraise\u001b[0m \u001b[0mRuntimeError\u001b[0m\u001b[0;34m(\u001b[0m\u001b[0mmsg\u001b[0m\u001b[0;34m)\u001b[0m\u001b[0;34m\u001b[0m\u001b[0;34m\u001b[0m\u001b[0m\n\u001b[0m\u001b[1;32m    186\u001b[0m         \u001b[0;32mreturn\u001b[0m \u001b[0;32mFalse\u001b[0m\u001b[0;34m\u001b[0m\u001b[0;34m\u001b[0m\u001b[0m\n\u001b[1;32m    187\u001b[0m \u001b[0;34m\u001b[0m\u001b[0m\n",
      "\u001b[0;31mRuntimeError\u001b[0m: Jacobian mismatch for output 0 with respect to input 0,\nnumerical:tensor([[ 0.0000e+00],\n        [ 0.0000e+00],\n        [ 0.0000e+00],\n        [ 0.0000e+00],\n        [ 0.0000e+00],\n        [ 0.0000e+00],\n        [ 0.0000e+00],\n        [ 0.0000e+00],\n        [ 0.0000e+00],\n        [ 0.0000e+00],\n        [-3.6446e+05],\n        [-3.6446e+05],\n        [-2.3162e+06],\n        [-2.3162e+06],\n        [ 1.4817e+06],\n        [ 1.4817e+06],\n        [ 1.2093e+06],\n        [ 1.2093e+06],\n        [-1.0346e+04],\n        [-1.0346e+04],\n        [-1.1017e+05],\n        [-1.1017e+05],\n        [ 3.0324e+05],\n        [ 3.0324e+05],\n        [-2.9104e-03],\n        [-2.9104e-03],\n        [-2.8315e+05],\n        [-2.8315e+05],\n        [ 7.5670e+04],\n        [ 7.5670e+04],\n        [ 1.0962e+05],\n        [ 1.0962e+05],\n        [-3.4819e+05],\n        [-3.4819e+05],\n        [ 0.0000e+00],\n        [ 0.0000e+00],\n        [ 3.2809e+05],\n        [ 3.2809e+05],\n        [-7.5121e+04],\n        [-7.5121e+04]])\nanalytical:tensor([[ 0.0000e+00],\n        [ 0.0000e+00],\n        [ 0.0000e+00],\n        [ 0.0000e+00],\n        [ 0.0000e+00],\n        [ 0.0000e+00],\n        [ 0.0000e+00],\n        [ 0.0000e+00],\n        [ 0.0000e+00],\n        [ 0.0000e+00],\n        [-3.6446e+05],\n        [-3.6446e+05],\n        [-2.3162e+06],\n        [-2.3162e+06],\n        [ 1.4817e+06],\n        [ 1.4817e+06],\n        [ 1.2093e+06],\n        [ 1.2093e+06],\n        [-1.0346e+04],\n        [-1.0346e+04],\n        [-1.1017e+05],\n        [-1.1017e+05],\n        [ 3.0324e+05],\n        [ 3.0324e+05],\n        [ 4.6566e-10],\n        [ 4.6566e-10],\n        [-2.8315e+05],\n        [-2.8315e+05],\n        [ 7.5670e+04],\n        [ 7.5670e+04],\n        [ 1.0962e+05],\n        [ 1.0962e+05],\n        [-3.4819e+05],\n        [-3.4819e+05],\n        [-6.4028e-10],\n        [-6.4028e-10],\n        [ 3.2809e+05],\n        [ 3.2809e+05],\n        [-7.5121e+04],\n        [-7.5121e+04]])\n"
     ]
    }
   ],
   "source": [
    "def test_gradcheck_Hamiltonian():\n",
    "    def hamiltonian(gd, mom):\n",
    "        \n",
    "        H.module.manifold.fill_gd(gd)\n",
    "        H.module.manifold.fill_cotan(mom)\n",
    "        H.geodesic_controls()\n",
    "                \n",
    "        #return H.apply_mom()\n",
    "        return H.apply_constr()\n",
    "    \n",
    "    return torch.autograd.gradcheck(hamiltonian, (gd, mom), raise_exception=True)\n",
    "\n",
    "gd0_tensor = torch.cat(H.module.manifold.unroll_gd().copy(),0).requires_grad_().view(-1)\n",
    "gd = gd0_tensor\n",
    "mom = 1000*torch.rand(gd.shape)\n",
    "\n",
    "\n",
    "test_gradcheck_Hamiltonian()"
   ]
  },
  {
   "cell_type": "code",
   "execution_count": null,
   "metadata": {},
   "outputs": [],
   "source": []
  }
 ],
 "metadata": {
  "kernelspec": {
   "display_name": "Python 3",
   "language": "python",
   "name": "python3"
  },
  "language_info": {
   "codemirror_mode": {
    "name": "ipython",
    "version": 3
   },
   "file_extension": ".py",
   "mimetype": "text/x-python",
   "name": "python",
   "nbconvert_exporter": "python",
   "pygments_lexer": "ipython3",
   "version": "3.6.8"
  }
 },
 "nbformat": 4,
 "nbformat_minor": 2
}
