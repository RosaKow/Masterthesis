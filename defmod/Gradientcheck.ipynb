{
 "cells": [
  {
   "cell_type": "code",
   "execution_count": 1,
   "metadata": {},
   "outputs": [],
   "source": [
    "%load_ext autoreload\n",
    "%autoreload 2\n",
    "\n",
    "import sys\n",
    "\n",
    "sys.path.append(\"../\")\n",
    "\n",
    "import pickle\n",
    "import time\n",
    "\n",
    "import torch\n",
    "\n",
    "import matplotlib.pyplot as plt\n",
    "import defmod as dm\n",
    "import model_graddesc as model\n",
    "import multimodule_usefulfunctions as mm\n",
    "\n",
    "torch.set_default_tensor_type(torch.DoubleTensor)\n"
   ]
  },
  {
   "cell_type": "code",
   "execution_count": 34,
   "metadata": {},
   "outputs": [],
   "source": [
    "nb_pts1 = 10\n",
    "nb_pts2 = 7\n",
    "dim = 2\n",
    "\n",
    "o1 = torch.tensor([1.,1.])\n",
    "o2 = torch.tensor([5.,5.])\n",
    "origin = [o1,o2]\n",
    "radius = [2.,1.]\n",
    "numberPoints = [nb_pts1, nb_pts2]\n",
    "gd_list = mm.multipleCircles(origin, radius, numberPoints)\n",
    "\n",
    "# Defining the deformation modules\n",
    "sigma1 = 1.\n",
    "manifold1 = dm.manifold.Landmarks(dim, nb_pts1, gd=gd_list[0].view(-1))\n",
    "trans1 = dm.deformationmodules.Translations(manifold1, sigma1)\n",
    "\n",
    "sigma2 = 20.\n",
    "manifold2 = dm.manifold.Landmarks(dim, nb_pts2, gd=gd_list[1].view(-1))\n",
    "trans2 = dm.deformationmodules.GlobalTranslation(manifold2, sigma2)\n",
    "\n",
    "sigma3 = 1.\n",
    "rot = dm.deformationmodules.LocalRotation(manifold2, sigma3)\n",
    "scal = dm.deformationmodules.LocalScaling(manifold2, sigma3)\n",
    "\n",
    "silent1 = dm.deformationmodules.SilentPoints(manifold1.copy())\n",
    "silent2 = dm.deformationmodules.SilentPoints(manifold2.copy())\n",
    "\n",
    "comp1 = dm.deformationmodules.CompoundModule([silent1, trans1])\n",
    "comp2 = dm.deformationmodules.CompoundModule([silent2, trans2])\n",
    "module_list = [comp1, comp2]\n",
    "sigma_bg = 1.\n",
    "modules = dm.multishape.MultiShapeModule(module_list, sigma_bg)\n"
   ]
  },
  {
   "cell_type": "code",
   "execution_count": 35,
   "metadata": {},
   "outputs": [],
   "source": [
    "modules = dm.multishape.MultiShapeModule([comp1, comp2], sigma_background=1., reduce_background=False)\n",
    "modules.fill_controls_zero()\n",
    "constr_Id = dm.constraints.Identity_Silent()\n",
    "#constr_Id = dm.constraints.Identity_Silent_reduced()\n",
    "H = dm.hamiltonian_multishape.Hamiltonian_multi(modules, constr_Id)\n",
    "\n",
    "# set parameters\n",
    "#reg_param = 10**-3 "
   ]
  },
  {
   "cell_type": "code",
   "execution_count": 36,
   "metadata": {},
   "outputs": [],
   "source": [
    "gd0_tensor = torch.cat(H.module.manifold.unroll_gd().copy(),0).requires_grad_().view(-1)\n",
    "mom0_tensor = torch.cat(H.module.manifold.unroll_cotan().copy(),0).requires_grad_().view(-1)\n",
    "    \n",
    "gd0_tensor.retain_grad()\n",
    "mom0_tensor.retain_grad()\n",
    "    \n",
    "#EnergyFunctional = model.EnergyFunctional(modules, H, constr_Id,source, target, 2, reg_param)"
   ]
  },
  {
   "cell_type": "code",
   "execution_count": 37,
   "metadata": {},
   "outputs": [
    {
     "data": {
      "text/plain": [
       "True"
      ]
     },
     "execution_count": 37,
     "metadata": {},
     "output_type": "execute_result"
    }
   ],
   "source": [
    "def test_gradcheck_Hamiltonian():\n",
    "    def hamiltonian(gd, mom):\n",
    "        \n",
    "        H.module.manifold.fill_gd(gd)\n",
    "        H.module.manifold.fill_cotan(mom)\n",
    "        H.geodesic_controls()\n",
    "        \n",
    "        return H.apply_mom()\n",
    "    \n",
    "    return torch.autograd.gradcheck(hamiltonian, (gd, mom), raise_exception=True)\n",
    "\n",
    "gd0_tensor = torch.cat(H.module.manifold.unroll_gd().copy(),0).requires_grad_().view(-1)\n",
    "gd = gd0_tensor\n",
    "mom = 1000*torch.rand(gd.shape)\n",
    "\n",
    "\n",
    "test_gradcheck_Hamiltonian()"
   ]
  },
  {
   "cell_type": "code",
   "execution_count": 24,
   "metadata": {},
   "outputs": [
    {
     "ename": "KeyboardInterrupt",
     "evalue": "",
     "output_type": "error",
     "traceback": [
      "\u001b[0;31m---------------------------------------------------------------------------\u001b[0m",
      "\u001b[0;31mKeyboardInterrupt\u001b[0m                         Traceback (most recent call last)",
      "\u001b[0;32m<ipython-input-24-66706c01ac92>\u001b[0m in \u001b[0;36m<module>\u001b[0;34m\u001b[0m\n\u001b[1;32m     11\u001b[0m \u001b[0mmom\u001b[0m \u001b[0;34m=\u001b[0m \u001b[0;36m1000\u001b[0m\u001b[0;34m*\u001b[0m\u001b[0mtorch\u001b[0m\u001b[0;34m.\u001b[0m\u001b[0mrand\u001b[0m\u001b[0;34m(\u001b[0m\u001b[0mmom0_tensor\u001b[0m\u001b[0;34m.\u001b[0m\u001b[0mshape\u001b[0m\u001b[0;34m)\u001b[0m\u001b[0;34m\u001b[0m\u001b[0;34m\u001b[0m\u001b[0m\n\u001b[1;32m     12\u001b[0m \u001b[0;34m\u001b[0m\u001b[0m\n\u001b[0;32m---> 13\u001b[0;31m \u001b[0mtest_gradcheck_autoaction\u001b[0m\u001b[0;34m(\u001b[0m\u001b[0;34m)\u001b[0m\u001b[0;34m\u001b[0m\u001b[0;34m\u001b[0m\u001b[0m\n\u001b[0m",
      "\u001b[0;32m<ipython-input-24-66706c01ac92>\u001b[0m in \u001b[0;36mtest_gradcheck_autoaction\u001b[0;34m()\u001b[0m\n\u001b[1;32m      4\u001b[0m         \u001b[0mmod\u001b[0m\u001b[0;34m.\u001b[0m\u001b[0mmanifold\u001b[0m\u001b[0;34m.\u001b[0m\u001b[0mfill_cotan\u001b[0m\u001b[0;34m(\u001b[0m\u001b[0mmom\u001b[0m\u001b[0;34m)\u001b[0m\u001b[0;34m\u001b[0m\u001b[0;34m\u001b[0m\u001b[0m\n\u001b[1;32m      5\u001b[0m         \u001b[0;32mreturn\u001b[0m \u001b[0mmod\u001b[0m\u001b[0;34m.\u001b[0m\u001b[0mautoaction\u001b[0m\u001b[0;34m(\u001b[0m\u001b[0;34m)\u001b[0m\u001b[0;34m\u001b[0m\u001b[0;34m\u001b[0m\u001b[0m\n\u001b[0;32m----> 6\u001b[0;31m     \u001b[0;32mreturn\u001b[0m \u001b[0mtorch\u001b[0m\u001b[0;34m.\u001b[0m\u001b[0mautograd\u001b[0m\u001b[0;34m.\u001b[0m\u001b[0mgradcheck\u001b[0m\u001b[0;34m(\u001b[0m\u001b[0mautoaction\u001b[0m\u001b[0;34m,\u001b[0m \u001b[0;34m(\u001b[0m\u001b[0mgd\u001b[0m\u001b[0;34m,\u001b[0m \u001b[0mmom\u001b[0m\u001b[0;34m)\u001b[0m\u001b[0;34m,\u001b[0m \u001b[0mraise_exception\u001b[0m\u001b[0;34m=\u001b[0m\u001b[0;32mTrue\u001b[0m\u001b[0;34m)\u001b[0m\u001b[0;34m\u001b[0m\u001b[0;34m\u001b[0m\u001b[0m\n\u001b[0m\u001b[1;32m      7\u001b[0m \u001b[0;34m\u001b[0m\u001b[0m\n\u001b[1;32m      8\u001b[0m \u001b[0mmod\u001b[0m \u001b[0;34m=\u001b[0m \u001b[0mH\u001b[0m\u001b[0;34m.\u001b[0m\u001b[0mmodule\u001b[0m\u001b[0;34m\u001b[0m\u001b[0;34m\u001b[0m\u001b[0m\n",
      "\u001b[0;32m~/.local/share/miniconda2/envs/py3projects/lib/python3.6/site-packages/torch/autograd/gradcheck.py\u001b[0m in \u001b[0;36mgradcheck\u001b[0;34m(func, inputs, eps, atol, rtol, raise_exception)\u001b[0m\n\u001b[1;32m    193\u001b[0m             \u001b[0;32mreturn\u001b[0m \u001b[0m_as_tuple\u001b[0m\u001b[0;34m(\u001b[0m\u001b[0mfunc\u001b[0m\u001b[0;34m(\u001b[0m\u001b[0;34m*\u001b[0m\u001b[0minput\u001b[0m\u001b[0;34m)\u001b[0m\u001b[0;34m)\u001b[0m\u001b[0;34m[\u001b[0m\u001b[0mi\u001b[0m\u001b[0;34m]\u001b[0m\u001b[0;34m\u001b[0m\u001b[0;34m\u001b[0m\u001b[0m\n\u001b[1;32m    194\u001b[0m \u001b[0;34m\u001b[0m\u001b[0m\n\u001b[0;32m--> 195\u001b[0;31m         \u001b[0manalytical\u001b[0m\u001b[0;34m,\u001b[0m \u001b[0mreentrant\u001b[0m\u001b[0;34m,\u001b[0m \u001b[0mcorrect_grad_sizes\u001b[0m \u001b[0;34m=\u001b[0m \u001b[0mget_analytical_jacobian\u001b[0m\u001b[0;34m(\u001b[0m\u001b[0mtupled_inputs\u001b[0m\u001b[0;34m,\u001b[0m \u001b[0mo\u001b[0m\u001b[0;34m)\u001b[0m\u001b[0;34m\u001b[0m\u001b[0;34m\u001b[0m\u001b[0m\n\u001b[0m\u001b[1;32m    196\u001b[0m         \u001b[0mnumerical\u001b[0m \u001b[0;34m=\u001b[0m \u001b[0mget_numerical_jacobian\u001b[0m\u001b[0;34m(\u001b[0m\u001b[0mfn\u001b[0m\u001b[0;34m,\u001b[0m \u001b[0mtupled_inputs\u001b[0m\u001b[0;34m,\u001b[0m \u001b[0meps\u001b[0m\u001b[0;34m=\u001b[0m\u001b[0meps\u001b[0m\u001b[0;34m)\u001b[0m\u001b[0;34m\u001b[0m\u001b[0;34m\u001b[0m\u001b[0m\n\u001b[1;32m    197\u001b[0m \u001b[0;34m\u001b[0m\u001b[0m\n",
      "\u001b[0;32m~/.local/share/miniconda2/envs/py3projects/lib/python3.6/site-packages/torch/autograd/gradcheck.py\u001b[0m in \u001b[0;36mget_analytical_jacobian\u001b[0;34m(input, output)\u001b[0m\n\u001b[1;32m     94\u001b[0m         \u001b[0;32mfor\u001b[0m \u001b[0mjacobian_c\u001b[0m \u001b[0;32min\u001b[0m \u001b[0;34m(\u001b[0m\u001b[0mjacobian\u001b[0m\u001b[0;34m,\u001b[0m \u001b[0mjacobian_reentrant\u001b[0m\u001b[0;34m)\u001b[0m\u001b[0;34m:\u001b[0m\u001b[0;34m\u001b[0m\u001b[0;34m\u001b[0m\u001b[0m\n\u001b[1;32m     95\u001b[0m             grads_input = torch.autograd.grad(output, diff_input_list, grad_output,\n\u001b[0;32m---> 96\u001b[0;31m                                               retain_graph=True, allow_unused=True)\n\u001b[0m\u001b[1;32m     97\u001b[0m             \u001b[0;32mfor\u001b[0m \u001b[0mjacobian_x\u001b[0m\u001b[0;34m,\u001b[0m \u001b[0md_x\u001b[0m\u001b[0;34m,\u001b[0m \u001b[0mx\u001b[0m \u001b[0;32min\u001b[0m \u001b[0mzip\u001b[0m\u001b[0;34m(\u001b[0m\u001b[0mjacobian_c\u001b[0m\u001b[0;34m,\u001b[0m \u001b[0mgrads_input\u001b[0m\u001b[0;34m,\u001b[0m \u001b[0mdiff_input_list\u001b[0m\u001b[0;34m)\u001b[0m\u001b[0;34m:\u001b[0m\u001b[0;34m\u001b[0m\u001b[0;34m\u001b[0m\u001b[0m\n\u001b[1;32m     98\u001b[0m                 \u001b[0;32mif\u001b[0m \u001b[0md_x\u001b[0m \u001b[0;32mis\u001b[0m \u001b[0;32mnot\u001b[0m \u001b[0;32mNone\u001b[0m \u001b[0;32mand\u001b[0m \u001b[0md_x\u001b[0m\u001b[0;34m.\u001b[0m\u001b[0msize\u001b[0m\u001b[0;34m(\u001b[0m\u001b[0;34m)\u001b[0m \u001b[0;34m!=\u001b[0m \u001b[0mx\u001b[0m\u001b[0;34m.\u001b[0m\u001b[0msize\u001b[0m\u001b[0;34m(\u001b[0m\u001b[0;34m)\u001b[0m\u001b[0;34m:\u001b[0m\u001b[0;34m\u001b[0m\u001b[0;34m\u001b[0m\u001b[0m\n",
      "\u001b[0;32m~/.local/share/miniconda2/envs/py3projects/lib/python3.6/site-packages/torch/autograd/__init__.py\u001b[0m in \u001b[0;36mgrad\u001b[0;34m(outputs, inputs, grad_outputs, retain_graph, create_graph, only_inputs, allow_unused)\u001b[0m\n\u001b[1;32m    143\u001b[0m     return Variable._execution_engine.run_backward(\n\u001b[1;32m    144\u001b[0m         \u001b[0moutputs\u001b[0m\u001b[0;34m,\u001b[0m \u001b[0mgrad_outputs\u001b[0m\u001b[0;34m,\u001b[0m \u001b[0mretain_graph\u001b[0m\u001b[0;34m,\u001b[0m \u001b[0mcreate_graph\u001b[0m\u001b[0;34m,\u001b[0m\u001b[0;34m\u001b[0m\u001b[0;34m\u001b[0m\u001b[0m\n\u001b[0;32m--> 145\u001b[0;31m         inputs, allow_unused)\n\u001b[0m\u001b[1;32m    146\u001b[0m \u001b[0;34m\u001b[0m\u001b[0m\n\u001b[1;32m    147\u001b[0m \u001b[0;34m\u001b[0m\u001b[0m\n",
      "\u001b[0;31mKeyboardInterrupt\u001b[0m: "
     ]
    }
   ],
   "source": [
    "def test_gradcheck_autoaction():\n",
    "    def autoaction(gd, mom):\n",
    "        mod.manifold.fill_gd(gd)\n",
    "        mod.manifold.fill_cotan(mom)\n",
    "        return mod.autoaction()\n",
    "    return torch.autograd.gradcheck(autoaction, (gd, mom), raise_exception=True)\n",
    "\n",
    "mod = H.module\n",
    "gd0_tensor = torch.cat(H.module.manifold.unroll_gd().copy(),0).requires_grad_().view(-1)\n",
    "gd = gd0_tensor\n",
    "mom = 1000*torch.rand(mom0_tensor.shape)\n",
    "\n",
    "test_gradcheck_autoaction()"
   ]
  },
  {
   "cell_type": "code",
   "execution_count": 7,
   "metadata": {},
   "outputs": [
    {
     "data": {
      "text/plain": [
       "True"
      ]
     },
     "execution_count": 7,
     "metadata": {},
     "output_type": "execute_result"
    }
   ],
   "source": [
    "def test_gradcheck_fields():\n",
    "    def autoaction(gd, mom):\n",
    "        mod.manifold.fill_gd(gd)\n",
    "        mod.manifold.fill_cotan(mom)\n",
    "        points = torch.tensor([0.,0.]).view(-1,2)\n",
    "        return mod.field_generator().fields[0](points)\n",
    "    return torch.autograd.gradcheck(autoaction, (gd, mom), raise_exception=True)\n",
    "\n",
    "mod = modules\n",
    "gd0_tensor = torch.cat(H.module.manifold.unroll_gd().copy(),0).requires_grad_().view(-1)\n",
    "gd = gd0_tensor\n",
    "mom = 1000*torch.rand(mom0_tensor.shape)\n",
    "\n",
    "test_gradcheck_fields()"
   ]
  },
  {
   "cell_type": "code",
   "execution_count": 8,
   "metadata": {},
   "outputs": [
    {
     "data": {
      "text/plain": [
       "True"
      ]
     },
     "execution_count": 8,
     "metadata": {},
     "output_type": "execute_result"
    }
   ],
   "source": [
    "def test_gradcheck_fields():\n",
    "    def autoaction(gd, mom):\n",
    "        mod.manifold.fill_gd(gd)\n",
    "        mod.manifold.fill_cotan(mom)\n",
    "        points = torch.tensor([0.,0.]).view(-1,2)\n",
    "        #return mod.background.field_generator()(points)\n",
    "        return mod.field_generator().fields[-1](points)\n",
    "    return torch.autograd.gradcheck(autoaction, (gd, mom), raise_exception=True)\n",
    "\n",
    "mod = modules\n",
    "gd0_tensor = torch.cat(H.module.manifold.unroll_gd().copy(),0).requires_grad_().view(-1)\n",
    "gd = gd0_tensor\n",
    "mom = 1000*torch.rand(mom0_tensor.shape)\n",
    "\n",
    "test_gradcheck_fields()"
   ]
  },
  {
   "cell_type": "code",
   "execution_count": 9,
   "metadata": {},
   "outputs": [
    {
     "data": {
      "text/plain": [
       "True"
      ]
     },
     "execution_count": 9,
     "metadata": {},
     "output_type": "execute_result"
    }
   ],
   "source": [
    "def test_gradcheck_fields():\n",
    "    def autoaction(gd, mom):\n",
    "        mod.manifold.fill_gd(gd)\n",
    "        mod.manifold.fill_cotan(mom)\n",
    "        \n",
    "        fields = mod.field_generator().fieldlist\n",
    "\n",
    "        gd_bg = mod.manifold.manifold_list[-1].gd_points()[0]\n",
    "        \n",
    "        return fields[0](gd_bg)\n",
    "    \n",
    "    return torch.autograd.gradcheck(autoaction, (gd, mom), raise_exception=True)\n",
    "\n",
    "mod = modules\n",
    "gd0_tensor = torch.cat(H.module.manifold.unroll_gd().copy(),0).requires_grad_().view(-1)\n",
    "gd = gd0_tensor\n",
    "mom = 1000*torch.rand(mom0_tensor.shape)\n",
    "\n",
    "test_gradcheck_fields()"
   ]
  },
  {
   "cell_type": "code",
   "execution_count": 33,
   "metadata": {},
   "outputs": [
    {
     "data": {
      "text/plain": [
       "True"
      ]
     },
     "execution_count": 33,
     "metadata": {},
     "output_type": "execute_result"
    }
   ],
   "source": [
    "def test_gradcheck_geocont_from_self():\n",
    "    def fun(gd, mom):\n",
    "        mod.manifold.fill_gd(gd)\n",
    "        mod.manifold.fill_cotan(mom)\n",
    "        \n",
    "        man = mod.manifold\n",
    "        vs = mod.adjoint(man)\n",
    "        K_q = dm.kernels.K_xx(mod.manifold.gd.view(-1, mod.manifold.dim), mod.sigma)\n",
    "        x = vs(mod.manifold.gd.view(-1, mod.manifold.dim))\n",
    "        controls, _ = torch.gesv(x, K_q)\n",
    "        mod.fill_controls(controls.contiguous().view(-1))\n",
    "        \n",
    "        #mod.compute_geodesic_control_from_self(mod.manifold)\n",
    "        return x, K_q\n",
    "        #return torch.gesv(x, K_q)\n",
    "    return torch.autograd.gradcheck(fun, (gd, mom), raise_exception=True)\n",
    "\n",
    "mod = dm.deformationmodules.Translations(man, sigma=10.)\n",
    "#mod = H.module\n",
    "\n",
    "gd0_tensor = torch.cat(mod.manifold.unroll_gd().copy(),0).requires_grad_().view(-1)\n",
    "gd = gd0_tensor\n",
    "mom = 1000*torch.rand(gd.shape).requires_grad_()\n",
    "\n",
    "test_gradcheck_geocont_from_self()"
   ]
  },
  {
   "cell_type": "code",
   "execution_count": null,
   "metadata": {},
   "outputs": [],
   "source": [
    "def test_gradcheck_H_geodesic_controls():\n",
    "    def fun(gd, mom):\n",
    "        H.module.manifold.fill_gd(gd)\n",
    "        H.module.manifold.fill_cotan(mom)\n",
    "        H.geodesic_controls()\n",
    "        \n",
    "        return torch.cat([*H.module.controls[0], *H.module.controls[1], *H.module.controls[-1]],0)\n",
    "        #return H.constraints(H.module)\n",
    "    \n",
    "    return torch.autograd.gradcheck(fun, (gd, mom), raise_exception=True)\n",
    "\n",
    "constr = dm.constraints.Identity_Silent()\n",
    "\n",
    "mod = modules\n",
    "gd0_tensor = torch.cat(H.module.manifold.unroll_gd().copy(),0).requires_grad_().view(-1)\n",
    "gd = gd0_tensor\n",
    "mom = 1000*torch.rand(mom0_tensor.shape)\n",
    "\n",
    "test_gradcheck_H_geodesic_controls()"
   ]
  },
  {
   "cell_type": "code",
   "execution_count": 69,
   "metadata": {},
   "outputs": [
    {
     "data": {
      "text/plain": [
       "True"
      ]
     },
     "execution_count": 69,
     "metadata": {},
     "output_type": "execute_result"
    }
   ],
   "source": [
    "def test_gradcheck_apply_constr():\n",
    "    def hamiltonian(gd, mom):\n",
    "        \n",
    "        \n",
    "        H.module.manifold.fill_gd(gd)\n",
    "        H.module.manifold.fill_cotan(mom)\n",
    "        H.geodesic_controls()\n",
    "        \n",
    "        modules.manifold.fill_gd(gd)\n",
    "        modules.manifold.fill_cotan(mom)\n",
    "               \n",
    "        appl_constr = torch.dot(H.module.l.view(-1,1).squeeze(), constr(H.module).view(-1,1).squeeze())\n",
    "        #return appl_constr\n",
    "        return H.apply_constr()    \n",
    "    \n",
    "    return torch.autograd.gradcheck(hamiltonian, (gd, mom), raise_exception=True)\n",
    "\n",
    "gd0_tensor = torch.cat(H.module.manifold.unroll_gd().copy(),0).requires_grad_().view(-1)\n",
    "gd = gd0_tensor\n",
    "mom = 1000*torch.rand(mom0_tensor.shape).requires_grad_()\n",
    "\n",
    "constr = dm.constraints.Identity_Silent()\n",
    "\n",
    "test_gradcheck_apply_constr()"
   ]
  },
  {
   "cell_type": "code",
   "execution_count": 68,
   "metadata": {},
   "outputs": [
    {
     "data": {
      "text/plain": [
       "True"
      ]
     },
     "execution_count": 68,
     "metadata": {},
     "output_type": "execute_result"
    }
   ],
   "source": [
    "def test_gradcheck_apply_mom():\n",
    "    def hamiltonian(gd, mom):\n",
    "        \n",
    "        H.module.manifold.fill_gd(gd)\n",
    "        H.module.manifold.fill_cotan(mom)\n",
    "        #H.geodesic_controls()\n",
    "               \n",
    "        appl_mom = H.apply_mom()\n",
    "        return appl_mom\n",
    "            \n",
    "    \n",
    "    return torch.autograd.gradcheck(hamiltonian, (gd, mom), raise_exception=True)\n",
    "\n",
    "gd0_tensor = torch.cat(H.module.manifold.unroll_gd().copy(),0).requires_grad_().view(-1)\n",
    "gd = gd0_tensor\n",
    "\n",
    "constr = dm.constraints.Identity_Silent()\n",
    "\n",
    "test_gradcheck_apply_mom()"
   ]
  },
  {
   "cell_type": "code",
   "execution_count": 65,
   "metadata": {},
   "outputs": [
    {
     "data": {
      "text/plain": [
       "True"
      ]
     },
     "execution_count": 65,
     "metadata": {},
     "output_type": "execute_result"
    }
   ],
   "source": [
    "def test_gradcheck_H_applconstr():\n",
    "    def fun(gd, mom):\n",
    "        H.module.manifold.fill_gd(gd)\n",
    "        H.module.manifold.fill_cotan(mom)\n",
    "        H.geodesic_controls()\n",
    "        \n",
    "        x = H.module.l.view(-1,1).squeeze()\n",
    "        y = H.constraints(H.module).view(-1,1).squeeze()\n",
    "        appl_constr = torch.dot(x, y)\n",
    "\n",
    "        return torch.dot(x,y)\n",
    "    \n",
    "    return torch.autograd.gradcheck(fun, (gd, mom), raise_exception=True)\n",
    "\n",
    "\n",
    "gd0_tensor = torch.cat(H.module.manifold.unroll_gd().copy(),0).requires_grad_().view(-1)\n",
    "gd = gd0_tensor\n",
    "mom = 1000*torch.rand(mom0_tensor.shape)\n",
    "\n",
    "test_gradcheck_H_applconstr()"
   ]
  },
  {
   "cell_type": "code",
   "execution_count": 19,
   "metadata": {},
   "outputs": [
    {
     "data": {
      "text/plain": [
       "True"
      ]
     },
     "execution_count": 19,
     "metadata": {},
     "output_type": "execute_result"
    }
   ],
   "source": [
    "def test_gradcheck_Hamiltonian():\n",
    "    def hamiltonian(gd, mom):\n",
    "        \n",
    "        H.module.manifold.fill_gd(gd)\n",
    "        H.module.manifold.fill_cotan(mom)\n",
    "        H.geodesic_controls()\n",
    "        \n",
    "        return H.apply_mom()\n",
    "    \n",
    "    return torch.autograd.gradcheck(hamiltonian, (gd, mom), raise_exception=True)\n",
    "\n",
    "gd0_tensor = torch.cat(H.module.manifold.unroll_gd().copy(),0).requires_grad_().view(-1)\n",
    "gd = gd0_tensor\n",
    "mom = 1000*torch.rand(gd.shape)\n",
    "\n",
    "\n",
    "test_gradcheck_Hamiltonian()"
   ]
  },
  {
   "cell_type": "code",
   "execution_count": null,
   "metadata": {},
   "outputs": [],
   "source": []
  },
  {
   "cell_type": "code",
   "execution_count": null,
   "metadata": {},
   "outputs": [],
   "source": []
  },
  {
   "cell_type": "code",
   "execution_count": null,
   "metadata": {},
   "outputs": [],
   "source": []
  },
  {
   "cell_type": "code",
   "execution_count": 8,
   "metadata": {},
   "outputs": [
    {
     "data": {
      "text/plain": [
       "[<defmod.deformationmodules.SilentPoints at 0x7fdda6e96b70>,\n",
       " <defmod.deformationmodules.Translations at 0x7fdda6e96978>,\n",
       " <defmod.deformationmodules.GlobalTranslation at 0x7fdda6e969b0>]"
      ]
     },
     "execution_count": 8,
     "metadata": {},
     "output_type": "execute_result"
    }
   ],
   "source": [
    "H.module.module_list"
   ]
  },
  {
   "cell_type": "code",
   "execution_count": 18,
   "metadata": {},
   "outputs": [],
   "source": [
    "comp = dm.deformationmodules.CompoundModule([silent, trans1, trans2])\n",
    "#comp2 = dm.deformationmodules.CompoundModule([trans2])\n",
    "multi = dm.multishape.MultiShapeModule([comp], sigma_background=0.5)\n",
    "constr_Id = dm.constraints.Identity_Silent()\n",
    "H = dm.hamiltonian_multishape.Hamiltonian_multi(multi, constr_Id)"
   ]
  },
  {
   "cell_type": "code",
   "execution_count": 58,
   "metadata": {},
   "outputs": [
    {
     "data": {
      "text/plain": [
       "True"
      ]
     },
     "execution_count": 58,
     "metadata": {},
     "output_type": "execute_result"
    }
   ],
   "source": [
    "def test_gradcheck_background():\n",
    "    def hamiltonian(gd, mom):\n",
    "        \n",
    "        H.module.manifold.fill_gd(gd)\n",
    "        H.module.manifold.fill_cotan(mom)\n",
    "        \n",
    "        \n",
    "        H.module.compute_geodesic_control_from_self(H.module.manifold)\n",
    "\n",
    "        fields = H.module.field_generator().fieldlist\n",
    "        constr_mat = constr.constraintsmatrix(H.module)\n",
    "        \n",
    "        gd_action = torch.cat([*[torch.cat(man.manifold_list[0].action(mod).unroll_tan()) for mod,man in zip(H.module.module_list[:-1], H.module.manifold)], \n",
    "                               torch.cat(H.module.manifold.manifold_list[-1].action(H.module.module_list[-1]).unroll_tan())]).view(-1, H.module.manifold.dim)\n",
    "\n",
    "        \n",
    "        B = torch.mm(constr_mat, gd_action.view(-1,1))\n",
    "        A = torch.mm(torch.mm(constr_mat, H.module.autoaction_silent()), torch.transpose(constr_mat,0,1))\n",
    "            \n",
    "        lambda_qp,_ = torch.gesv(B, A)\n",
    "        H.module.fill_l(lambda_qp)\n",
    "\n",
    "        tmp = torch.mm(torch.transpose(constr_mat,0,1), lambda_qp)\n",
    "        \n",
    "        man = H.module.manifold.copy(retain_grad=True) \n",
    "        \n",
    "        c = 0\n",
    "        for m in man.manifold_list[:-1]:\n",
    "            m.manifold_list[0].cotan = m.manifold_list[0].cotan - tmp[c:c+m.manifold_list[0].numel_gd].view(-1)\n",
    "            c = c+m.manifold_list[0].numel_gd\n",
    "        for m in man.manifold_list[-1].manifold_list:\n",
    "            m.cotan = m.cotan - tmp[c:c+m.numel_gd].view(-1)\n",
    "            c = c+m.numel_gd\n",
    "        \n",
    "        H.module.compute_geodesic_control_from_self(man)\n",
    "        h_qp = H.module.controls\n",
    "        \n",
    "                                        \n",
    "        return lambda_qp, torch.cat(h_qp[0])\n",
    "        \n",
    "        \n",
    "    return torch.autograd.gradcheck(hamiltonian, (gd, mom), raise_exception=True)\n",
    "\n",
    "\n",
    "gd0_tensor = torch.cat(H.module.manifold.unroll_gd().copy(),0).requires_grad_().view(-1)\n",
    "gd = gd0_tensor\n",
    "mom = 1000*torch.rand(gd.shape)\n",
    "\n",
    "constr = constr_Id\n",
    "\n",
    "\n",
    "test_gradcheck_background()"
   ]
  },
  {
   "cell_type": "code",
   "execution_count": 7,
   "metadata": {},
   "outputs": [
    {
     "ename": "NameError",
     "evalue": "name 'modul' is not defined",
     "output_type": "error",
     "traceback": [
      "\u001b[0;31m---------------------------------------------------------------------------\u001b[0m",
      "\u001b[0;31mNameError\u001b[0m                                 Traceback (most recent call last)",
      "\u001b[0;32m<ipython-input-7-d357fcf2009e>\u001b[0m in \u001b[0;36m<module>\u001b[0;34m\u001b[0m\n\u001b[1;32m     13\u001b[0m \u001b[0mmod\u001b[0m \u001b[0;34m=\u001b[0m \u001b[0mH\u001b[0m\u001b[0;34m.\u001b[0m\u001b[0mmodule\u001b[0m\u001b[0;34m.\u001b[0m\u001b[0mmodule_list\u001b[0m\u001b[0;34m[\u001b[0m\u001b[0;36m0\u001b[0m\u001b[0;34m]\u001b[0m\u001b[0;34m\u001b[0m\u001b[0;34m\u001b[0m\u001b[0m\n\u001b[1;32m     14\u001b[0m \u001b[0;34m\u001b[0m\u001b[0m\n\u001b[0;32m---> 15\u001b[0;31m \u001b[0mgd0_tensor\u001b[0m \u001b[0;34m=\u001b[0m \u001b[0mtorch\u001b[0m\u001b[0;34m.\u001b[0m\u001b[0mcat\u001b[0m\u001b[0;34m(\u001b[0m\u001b[0mmodul\u001b[0m\u001b[0;34m.\u001b[0m\u001b[0mmanifold\u001b[0m\u001b[0;34m.\u001b[0m\u001b[0munroll_gd\u001b[0m\u001b[0;34m(\u001b[0m\u001b[0;34m)\u001b[0m\u001b[0;34m.\u001b[0m\u001b[0mcopy\u001b[0m\u001b[0;34m(\u001b[0m\u001b[0;34m)\u001b[0m\u001b[0;34m,\u001b[0m\u001b[0;36m0\u001b[0m\u001b[0;34m)\u001b[0m\u001b[0;34m.\u001b[0m\u001b[0mrequires_grad_\u001b[0m\u001b[0;34m(\u001b[0m\u001b[0;34m)\u001b[0m\u001b[0;34m.\u001b[0m\u001b[0mview\u001b[0m\u001b[0;34m(\u001b[0m\u001b[0;34m-\u001b[0m\u001b[0;36m1\u001b[0m\u001b[0;34m)\u001b[0m\u001b[0;34m\u001b[0m\u001b[0;34m\u001b[0m\u001b[0m\n\u001b[0m\u001b[1;32m     16\u001b[0m \u001b[0mgd\u001b[0m \u001b[0;34m=\u001b[0m \u001b[0mgd0_tensor\u001b[0m\u001b[0;34m\u001b[0m\u001b[0;34m\u001b[0m\u001b[0m\n\u001b[1;32m     17\u001b[0m \u001b[0mmom\u001b[0m \u001b[0;34m=\u001b[0m \u001b[0;36m1000\u001b[0m\u001b[0;34m*\u001b[0m\u001b[0mtorch\u001b[0m\u001b[0;34m.\u001b[0m\u001b[0mrand\u001b[0m\u001b[0;34m(\u001b[0m\u001b[0mgd\u001b[0m\u001b[0;34m.\u001b[0m\u001b[0mshape\u001b[0m\u001b[0;34m)\u001b[0m\u001b[0;34m\u001b[0m\u001b[0;34m\u001b[0m\u001b[0m\n",
      "\u001b[0;31mNameError\u001b[0m: name 'modul' is not defined"
     ]
    }
   ],
   "source": [
    "def test_gradcheck_geocontfromself():\n",
    "    def hamiltonian(gd, mom):\n",
    "        #mod = H.module.module_list[0].module_list[1]\n",
    "        mod.manifold.fill_gd(gd)\n",
    "        mod.manifold.fill_cotan(mom)\n",
    "       \n",
    "\n",
    "        man = mod.manifold.copy()\n",
    "        mod.compute_geodesic_control_from_self(man)\n",
    "        return mod.controls\n",
    "    \n",
    "    return torch.autograd.gradcheck(hamiltonian, (gd, mom), raise_exception=True)\n",
    "mod = H.module.module_list[0]\n",
    "\n",
    "gd0_tensor = torch.cat(modul.manifold.unroll_gd().copy(),0).requires_grad_().view(-1)\n",
    "gd = gd0_tensor\n",
    "mom = 1000*torch.rand(gd.shape)\n",
    "\n",
    "\n",
    "test_gradcheck_geocontfromself()"
   ]
  },
  {
   "cell_type": "code",
   "execution_count": 6,
   "metadata": {},
   "outputs": [
    {
     "name": "stdout",
     "output_type": "stream",
     "text": [
      "<defmod.deformationmodules.Translations object at 0x7f6794931400>\n"
     ]
    },
    {
     "data": {
      "text/plain": [
       "True"
      ]
     },
     "execution_count": 6,
     "metadata": {},
     "output_type": "execute_result"
    }
   ],
   "source": [
    "def test_gradcheck_geocontfromself():\n",
    "    def hamiltonian(gd, mom):\n",
    "        mod = module\n",
    "        mod.manifold.fill_gd(gd)\n",
    "        mod.manifold.fill_cotan(mom)\n",
    "        \n",
    "        man = mod.manifold\n",
    "        mod.compute_geodesic_control_from_self(man)\n",
    "        return mod.controls\n",
    "    \n",
    "    return torch.autograd.gradcheck(hamiltonian, (gd, mom), raise_exception=True)\n",
    "\n",
    "man = manifold1\n",
    "module = dm.deformationmodules.Translations(man, sigma=1.)\n",
    "#module = H.module.module_list[0].module_list[1]\n",
    "#module = trans1\n",
    "print(module)\n",
    "gd0_tensor = torch.cat(module.manifold.unroll_gd().copy(),0).requires_grad_().view(-1)\n",
    "gd = gd0_tensor\n",
    "mom = 1000*torch.rand(gd.shape)\n",
    "\n",
    "\n",
    "test_gradcheck_geocontfromself()"
   ]
  },
  {
   "cell_type": "code",
   "execution_count": 43,
   "metadata": {},
   "outputs": [
    {
     "data": {
      "text/plain": [
       "[<defmod.deformationmodules.SilentPoints at 0x7fdda6e96b70>,\n",
       " <defmod.deformationmodules.Translations at 0x7fdda6e96978>,\n",
       " <defmod.deformationmodules.GlobalTranslation at 0x7fdda6e969b0>]"
      ]
     },
     "execution_count": 43,
     "metadata": {},
     "output_type": "execute_result"
    }
   ],
   "source": [
    "H.module.module_list[0].module_list"
   ]
  },
  {
   "cell_type": "code",
   "execution_count": 50,
   "metadata": {},
   "outputs": [],
   "source": [
    "sigma1 = 10\n",
    "manifold1 = dm.manifold.Landmarks(dim, nb_pts1, gd=gd_list[0].view(-1).requires_grad_())\n",
    "trans1 = dm.deformationmodules.Translations(manifold1, sigma1)"
   ]
  },
  {
   "cell_type": "code",
   "execution_count": null,
   "metadata": {},
   "outputs": [],
   "source": []
  }
 ],
 "metadata": {
  "kernelspec": {
   "display_name": "Python 3",
   "language": "python",
   "name": "python3"
  },
  "language_info": {
   "codemirror_mode": {
    "name": "ipython",
    "version": 3
   },
   "file_extension": ".py",
   "mimetype": "text/x-python",
   "name": "python",
   "nbconvert_exporter": "python",
   "pygments_lexer": "ipython3",
   "version": "3.6.8"
  }
 },
 "nbformat": 4,
 "nbformat_minor": 2
}
