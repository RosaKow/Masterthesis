{
 "cells": [
  {
   "cell_type": "code",
   "execution_count": 87,
   "metadata": {},
   "outputs": [
    {
     "name": "stdout",
     "output_type": "stream",
     "text": [
      "Once deleted, variables cannot be recovered. Proceed (y/[n])? y\n",
      "The autoreload extension is already loaded. To reload it, use:\n",
      "  %reload_ext autoreload\n"
     ]
    }
   ],
   "source": [
    "%reset\n",
    "%load_ext autoreload\n",
    "%autoreload 2\n",
    "\n",
    "import sys\n",
    "sys.path.append(\"../\")\n",
    "\n",
    "import numpy as np\n",
    "import matplotlib.pyplot as plt\n",
    "import torch\n",
    "\n",
    "import defmod as dm\n",
    "import multimodule_usefulfunctions as mm \n",
    "import hamiltonian_multishape as ham\n",
    "import kernels as ker"
   ]
  },
  {
   "cell_type": "code",
   "execution_count": 88,
   "metadata": {},
   "outputs": [],
   "source": [
    "## define reference and template shape\n",
    "r = [3,2]\n",
    "origin1 = [[0,0], [6,6]]\n",
    "origin2 = [[0,3], [6,4]]\n",
    "nb_points = [10,7]\n",
    "\n",
    "source = mm.multipleCircles(origin1, r ,nb_points)\n",
    "target = mm.multipleCircles(origin2, r ,nb_points)"
   ]
  },
  {
   "cell_type": "code",
   "execution_count": 89,
   "metadata": {},
   "outputs": [
    {
     "data": {
      "image/png": "[encoded data removed]",
      "text/plain": [
       "<matplotlib.figure.Figure at 0x7f4609b3d1d0>"
      ]
     },
     "metadata": {},
     "output_type": "display_data"
    }
   ],
   "source": [
    "plt.subplot(1,2,1)\n",
    "plt.scatter(source[0][:, 0].numpy(), source[0][:, 1].numpy(), c='red')\n",
    "plt.scatter(source[1][:, 0].numpy(), source[1][:, 1].numpy(), c='blue')\n",
    "\n",
    "plt.subplot(1,2,2)\n",
    "plt.scatter(target[0][:, 0].numpy(), target[0][:, 1].numpy(), c='red')\n",
    "plt.scatter(target[1][:, 0].numpy(), target[1][:, 1].numpy(), c='blue')\n",
    "\n",
    "plt.show()"
   ]
  },
  {
   "cell_type": "code",
   "execution_count": 90,
   "metadata": {},
   "outputs": [],
   "source": [
    "## Define Deformation Modules\n",
    "dim = 2\n",
    "nb_shapes = 2\n",
    "\n",
    "# Module 1: Translation of first circle\n",
    "sigma1 = 10\n",
    "nb_pts1 = 1\n",
    "trans1 = dm.deformationmodules.Translations(dim, nb_pts1, sigma1)\n",
    "\n",
    "# Module 2: Translation of second circle\n",
    "sigma2 = 10\n",
    "nb_pts2 = 1\n",
    "trans2 = dm.deformationmodules.Translations(dim, nb_pts2, sigma2)\n",
    "\n",
    "# Module 3: Background Module\n",
    "sigma3 = 1.5\n",
    "nb_pts = nb_points[0] + nb_points[1]\n",
    "background = dm.deformationmodules.Translations(dim, nb_pts, sigma3)\n",
    "\n",
    "\n",
    "module_list = [trans1, trans2, background]\n",
    "dim_controls = dim*(1+1+nb_pts)"
   ]
  },
  {
   "cell_type": "code",
   "execution_count": 91,
   "metadata": {
    "scrolled": true
   },
   "outputs": [],
   "source": [
    "sigma = [sigma1, sigma2, sigma3]\n",
    "z1 = torch.tensor(origin1[0]).float()\n",
    "z2 = torch.tensor(origin1[1]).float()\n",
    "z = [z1, z2]\n",
    "\n",
    "#initialize gd and momentum\n",
    "gd_list = [source[0], source[1], torch.cat([source[0], source[1]],0)]\n",
    "mom_list = [torch.rand(gd_list[0].shape), torch.rand(gd_list[1].shape), torch.rand(gd_list[2].shape)]\n",
    "\n",
    "# compute geodesic control and lagrange multiplier\n",
    "l_list = mm.lambda_qp(gd_list, mom_list, sigma, [z1, z2], dim)\n",
    "controls_list = mm.h_qp(gd_list, mom_list, l_list, sigma, [z1, z2], dim)\n",
    "\n",
    "# Constraints (identity)\n",
    "Constr1 = torch.cat([torch.eye(nb_points[0]), torch.zeros([nb_points[0], nb_points[1]]), -torch.eye(nb_points[0]), torch.zeros([nb_points[0], nb_points[1]])], 1)\n",
    "Constr2 = torch.cat([torch.zeros([nb_points[1], nb_points[0]]), torch.eye(nb_points[1]), torch.zeros([nb_points[1], nb_points[0]]), -torch.eye(nb_points[1]),], 1)\n",
    "Constr = [Constr1, Constr2]\n",
    "\n",
    "# reduced Hamiltonian \n",
    "dim_control = [controls_list[0].shape, controls_list[1].shape, controls_list[2].shape]\n",
    "H = ham.Hamiltonian_Multishape(module_list, dim_control)"
   ]
  },
  {
   "cell_type": "code",
   "execution_count": 92,
   "metadata": {},
   "outputs": [
    {
     "data": {
      "text/plain": [
       "tensor(43.4493)"
      ]
     },
     "execution_count": 92,
     "metadata": {},
     "output_type": "execute_result"
    }
   ],
   "source": [
    "# cost term of Hamiltonian\n",
    "H.def_cost(gd_list, controls_list, z)"
   ]
  },
  {
   "cell_type": "code",
   "execution_count": 93,
   "metadata": {},
   "outputs": [
    {
     "data": {
      "text/plain": [
       "tensor(53.5512)"
      ]
     },
     "execution_count": 93,
     "metadata": {},
     "output_type": "execute_result"
    }
   ],
   "source": [
    "# applied momentum \n",
    "gd_module_list = [z1, z2, gd_list[2]]\n",
    "H.apply_mom(gd_list, gd_module_list, mom_list, controls_list)"
   ]
  },
  {
   "cell_type": "code",
   "execution_count": 94,
   "metadata": {},
   "outputs": [
    {
     "data": {
      "text/plain": [
       "tensor(-6.8387)"
      ]
     },
     "execution_count": 94,
     "metadata": {},
     "output_type": "execute_result"
    }
   ],
   "source": [
    "# applied constraints term of Hamiltonian\n",
    "H.apply_constraints(gd_list, gd_module_list, l_list, controls_list, Constr)"
   ]
  },
  {
   "cell_type": "code",
   "execution_count": 95,
   "metadata": {},
   "outputs": [
    {
     "data": {
      "text/plain": [
       "tensor(16.9406)"
      ]
     },
     "execution_count": 95,
     "metadata": {},
     "output_type": "execute_result"
    }
   ],
   "source": [
    "# Hamiltonian \n",
    "H(gd_list, mom_list, controls_list, z, l_list, Constr)"
   ]
  },
  {
   "cell_type": "code",
   "execution_count": null,
   "metadata": {},
   "outputs": [],
   "source": []
  },
  {
   "cell_type": "code",
   "execution_count": null,
   "metadata": {},
   "outputs": [],
   "source": []
  },
  {
   "cell_type": "code",
   "execution_count": null,
   "metadata": {},
   "outputs": [],
   "source": []
  },
  {
   "cell_type": "code",
   "execution_count": null,
   "metadata": {},
   "outputs": [],
   "source": []
  },
  {
   "cell_type": "code",
   "execution_count": null,
   "metadata": {},
   "outputs": [],
   "source": []
  }
 ],
 "metadata": {
  "kernelspec": {
   "display_name": "Python 3",
   "language": "python",
   "name": "python3"
  },
  "language_info": {
   "codemirror_mode": {
    "name": "ipython",
    "version": 3
   },
   "file_extension": ".py",
   "mimetype": "text/x-python",
   "name": "python",
   "nbconvert_exporter": "python",
   "pygments_lexer": "ipython3",
   "version": "3.6.8"
  }
 },
 "nbformat": 4,
 "nbformat_minor": 2
}
