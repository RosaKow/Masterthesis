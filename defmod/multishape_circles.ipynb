{
 "cells": [
  {
   "cell_type": "code",
   "execution_count": 49,
   "metadata": {},
   "outputs": [
    {
     "name": "stdout",
     "output_type": "stream",
     "text": [
      "Once deleted, variables cannot be recovered. Proceed (y/[n])? y\n",
      "The autoreload extension is already loaded. To reload it, use:\n",
      "  %reload_ext autoreload\n"
     ]
    }
   ],
   "source": [
    "%reset\n",
    "%load_ext autoreload\n",
    "%autoreload 2\n",
    "\n",
    "import sys\n",
    "sys.path.append(\"../\")\n",
    "\n",
    "import numpy as np\n",
    "import matplotlib.pyplot as plt\n",
    "import torch\n",
    "\n",
    "import defmod as dm\n",
    "import multimodule_usefulfunctions as mm \n",
    "import hamiltonian_multishape as ham\n",
    "import kernels as ker"
   ]
  },
  {
   "cell_type": "code",
   "execution_count": 50,
   "metadata": {},
   "outputs": [],
   "source": [
    "## define reference and template shape\n",
    "r = [3,2]\n",
    "origin1 = [[0,0], [6,6]]\n",
    "origin2 = [[0,3], [6,4]]\n",
    "nb_points = [10,7]\n",
    "\n",
    "source = mm.multipleCircles(origin1, r ,nb_points)\n",
    "target = mm.multipleCircles(origin2, r ,nb_points)"
   ]
  },
  {
   "cell_type": "code",
   "execution_count": 51,
   "metadata": {},
   "outputs": [
    {
     "data": {
      "text/plain": [
       "True"
      ]
     },
     "execution_count": 51,
     "metadata": {},
     "output_type": "execute_result"
    }
   ],
   "source": [
    "source[0].requires_grad\n"
   ]
  },
  {
   "cell_type": "code",
   "execution_count": 52,
   "metadata": {},
   "outputs": [
    {
     "data": {
      "image/png": "[encoded data removed]",
      "text/plain": [
       "<matplotlib.figure.Figure at 0x7f0a0c046b00>"
      ]
     },
     "metadata": {},
     "output_type": "display_data"
    }
   ],
   "source": [
    "plt.subplot(1,2,1)\n",
    "plt.scatter(source[0][:, 0].detach().numpy(), source[0][:, 1].detach().numpy(), c='red')\n",
    "plt.scatter(source[1][:, 0].detach().numpy(), source[1][:, 1].detach().numpy(), c='blue')\n",
    "\n",
    "plt.axis('equal')\n",
    "plt.subplot(1,2,2)\n",
    "plt.scatter(target[0][:, 0].detach().numpy(), target[0][:, 1].detach().numpy(), c='red')\n",
    "plt.scatter(target[1][:, 0].detach().numpy(), target[1][:, 1].detach().numpy(), c='blue')\n",
    "\n",
    "plt.axis('equal')\n",
    "plt.show()"
   ]
  },
  {
   "cell_type": "code",
   "execution_count": 53,
   "metadata": {},
   "outputs": [],
   "source": [
    "## Define Deformation Modules\n",
    "dim = 2\n",
    "nb_shapes = 2\n",
    "\n",
    "# Module 1: Translation of first circle\n",
    "sigma1 = 10\n",
    "nb_pts1 = 1\n",
    "trans1 = dm.deformationmodules.Translations(dim, nb_pts1, sigma1)\n",
    "\n",
    "# Module 2: Translation of second circle\n",
    "sigma2 = 10\n",
    "nb_pts2 = 1\n",
    "trans2 = dm.deformationmodules.Translations(dim, nb_pts2, sigma2)\n",
    "\n",
    "# Module 3: Background Module\n",
    "sigma3 = 1.5\n",
    "nb_pts = nb_points[0] + nb_points[1]\n",
    "background = dm.deformationmodules.Translations(dim, nb_pts, sigma3)\n",
    "\n",
    "\n",
    "module_list = [trans1, trans2, background]\n",
    "dim_controls = dim*(1+1+nb_pts)"
   ]
  },
  {
   "cell_type": "code",
   "execution_count": 54,
   "metadata": {},
   "outputs": [
    {
     "data": {
      "text/plain": [
       "tensor([6., 6.], grad_fn=<MeanBackward0>)"
      ]
     },
     "execution_count": 54,
     "metadata": {},
     "output_type": "execute_result"
    }
   ],
   "source": [
    "mm.computeCenter(source[1])\n"
   ]
  },
  {
   "cell_type": "code",
   "execution_count": 107,
   "metadata": {
    "scrolled": true
   },
   "outputs": [],
   "source": [
    "sigma = [sigma1, sigma2, sigma3]\n",
    "z = [mm.computeCenter(source[0]), mm.computeCenter(source[1])]\n",
    "\n",
    "#initialize gd and momentum\n",
    "mom_tmp0 = np.zeros([nb_points[0], dim])\n",
    "mom_tmp0[:,1] = 10.\n",
    "mom_tmp1 = np.zeros([nb_points[1], dim])\n",
    "mom_tmp1[:,1] = -10.\n",
    "gd_list = [source[0], source[1], torch.cat([source[0], source[1]],0)]\n",
    "mom_list = [torch.tensor(mom_tmp0.copy(), requires_grad=True, dtype=torch.float32), torch.tensor(mom_tmp1.copy(),requires_grad=True, dtype=torch.float32), torch.tensor(np.zeros(gd_list[2].shape),requires_grad=True, dtype=torch.float32)]\n",
    "\n",
    "# compute geodesic control and lagrange multiplier\n",
    "l_list = mm.lambda_qp(gd_list, mom_list, sigma, z, dim)\n",
    "controls_list = mm.h_qp(gd_list, mom_list, l_list, sigma, z, dim)\n",
    "\n",
    "# Constraints (identity)\n",
    "Constr1 = torch.cat([torch.eye(nb_points[0]), torch.zeros([nb_points[0], nb_points[1]]), -torch.eye(nb_points[0]), torch.zeros([nb_points[0], nb_points[1]])], 1)\n",
    "Constr2 = torch.cat([torch.zeros([nb_points[1], nb_points[0]]), torch.eye(nb_points[1]), torch.zeros([nb_points[1], nb_points[0]]), -torch.eye(nb_points[1]),], 1)\n",
    "Constr = [Constr1, Constr2]\n",
    "\n",
    "# reduced Hamiltonian \n",
    "dim_control = [controls_list[0].shape, controls_list[1].shape, controls_list[2].shape]\n",
    "H = ham.Hamiltonian_Multishape(module_list, dim_control)"
   ]
  },
  {
   "cell_type": "code",
   "execution_count": 108,
   "metadata": {},
   "outputs": [
    {
     "data": {
      "text/plain": [
       "tensor(2115.4629, grad_fn=<AddBackward0>)"
      ]
     },
     "execution_count": 108,
     "metadata": {},
     "output_type": "execute_result"
    }
   ],
   "source": [
    "# cost term of Hamiltonian\n",
    "H.def_cost(gd_list, controls_list, z)"
   ]
  },
  {
   "cell_type": "code",
   "execution_count": 109,
   "metadata": {},
   "outputs": [
    {
     "data": {
      "text/plain": [
       "torch.Size([17, 2])"
      ]
     },
     "execution_count": 109,
     "metadata": {},
     "output_type": "execute_result"
    }
   ],
   "source": [
    "gd_list[2].shape"
   ]
  },
  {
   "cell_type": "code",
   "execution_count": 110,
   "metadata": {},
   "outputs": [
    {
     "data": {
      "text/plain": [
       "tensor(2105.9783, grad_fn=<AddBackward0>)"
      ]
     },
     "execution_count": 110,
     "metadata": {},
     "output_type": "execute_result"
    }
   ],
   "source": [
    "# applied momentum \n",
    "gd_module_list = [*z, gd_list[2]]\n",
    "H.apply_mom(gd_list, gd_module_list, mom_list, controls_list)"
   ]
  },
  {
   "cell_type": "code",
   "execution_count": 111,
   "metadata": {},
   "outputs": [
    {
     "data": {
      "text/plain": [
       "tensor(-852.3594, grad_fn=<AddBackward0>)"
      ]
     },
     "execution_count": 111,
     "metadata": {},
     "output_type": "execute_result"
    }
   ],
   "source": [
    "# applied constraints term of Hamiltonian\n",
    "H.apply_constraints(gd_list, gd_module_list, l_list, controls_list, Constr)"
   ]
  },
  {
   "cell_type": "code",
   "execution_count": 112,
   "metadata": {},
   "outputs": [
    {
     "data": {
      "text/plain": [
       "tensor(842.8748, grad_fn=<SubBackward0>)"
      ]
     },
     "execution_count": 112,
     "metadata": {},
     "output_type": "execute_result"
    }
   ],
   "source": [
    "# Hamiltonian \n",
    "H(gd_list, mom_list, controls_list, z, l_list, Constr)"
   ]
  },
  {
   "cell_type": "code",
   "execution_count": 113,
   "metadata": {},
   "outputs": [],
   "source": [
    "grad = torch.autograd.grad(H(gd_list, mom_list, controls_list, z, l_list, Constr),[*gd_list, *mom_list], create_graph=True)"
   ]
  },
  {
   "cell_type": "code",
   "execution_count": 114,
   "metadata": {},
   "outputs": [],
   "source": [
    "speed_gd1 = grad[3]\n",
    "speed_gd31 = grad[5][0:nb_points[0]]\n",
    "\n",
    "speed_gd2 = grad[4]\n",
    "speed_gd32 = grad[5][nb_points[0]:]"
   ]
  },
  {
   "cell_type": "code",
   "execution_count": 115,
   "metadata": {},
   "outputs": [],
   "source": [
    "gd_final, mom_final = mm.shootMultishape(gd_list, mom_list, H, sigma, dim, n=10)"
   ]
  },
  {
   "cell_type": "code",
   "execution_count": 116,
   "metadata": {},
   "outputs": [
    {
     "data": {
      "text/plain": [
       "tensor([[ 0.0000e+00, -2.3842e-07],\n",
       "        [ 0.0000e+00, -3.5763e-07],\n",
       "        [ 0.0000e+00, -1.1921e-07],\n",
       "        [ 0.0000e+00,  0.0000e+00],\n",
       "        [ 0.0000e+00, -4.7684e-07],\n",
       "        [ 0.0000e+00,  0.0000e+00],\n",
       "        [ 0.0000e+00,  0.0000e+00]], grad_fn=<SubBackward0>)"
      ]
     },
     "execution_count": 116,
     "metadata": {},
     "output_type": "execute_result"
    }
   ],
   "source": [
    "gd_final[0] - gd_final[2][0:nb_points[0]]\n",
    "gd_final[1] - gd_final[2][nb_points[0]:]"
   ]
  },
  {
   "cell_type": "code",
   "execution_count": 117,
   "metadata": {},
   "outputs": [
    {
     "data": {
      "image/png": "[encoded data removed]",
      "text/plain": [
       "<matplotlib.figure.Figure at 0x7f0a10a117b8>"
      ]
     },
     "metadata": {},
     "output_type": "display_data"
    }
   ],
   "source": [
    "plt.subplot(1,2,1)\n",
    "plt.scatter(source[0][:, 0].detach().numpy(), source[0][:, 1].detach().numpy(), c='red')\n",
    "plt.scatter(source[1][:, 0].detach().numpy(), source[1][:, 1].detach().numpy(), c='blue')\n",
    "\n",
    "plt.axis('equal')\n",
    "plt.subplot(1,2,2)\n",
    "plt.scatter(gd_final[0][:, 0].detach().numpy(), gd_final[0][:, 1].detach().numpy(), c='red')\n",
    "plt.scatter(gd_final[1][:, 0].detach().numpy(), gd_final[1][:, 1].detach().numpy(), c='blue')\n",
    "\n",
    "plt.axis('equal')\n",
    "plt.show()"
   ]
  },
  {
   "cell_type": "code",
   "execution_count": null,
   "metadata": {},
   "outputs": [],
   "source": []
  }
 ],
 "metadata": {
  "kernelspec": {
   "display_name": "Python 3",
   "language": "python",
   "name": "python3"
  },
  "language_info": {
   "codemirror_mode": {
    "name": "ipython",
    "version": 3
   },
   "file_extension": ".py",
   "mimetype": "text/x-python",
   "name": "python",
   "nbconvert_exporter": "python",
   "pygments_lexer": "ipython3",
   "version": "3.6.8"
  }
 },
 "nbformat": 4,
 "nbformat_minor": 2
}
