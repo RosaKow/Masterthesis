{
 "cells": [
  {
   "cell_type": "code",
   "execution_count": 2,
   "metadata": {},
   "outputs": [
    {
     "name": "stdout",
     "output_type": "stream",
     "text": [
      "Once deleted, variables cannot be recovered. Proceed (y/[n])? y\n"
     ]
    }
   ],
   "source": [
    "%reset\n",
    "%load_ext autoreload\n",
    "%autoreload 2\n",
    "\n",
    "import sys\n",
    "\n",
    "sys.path.append(\"../\")\n",
    "import torch\n",
    "import numpy as np\n",
    "import defmod as dm\n",
    "import multimodule_usefulfunctions as mm \n",
    "import matplotlib.pyplot as plt"
   ]
  },
  {
   "cell_type": "code",
   "execution_count": null,
   "metadata": {},
   "outputs": [],
   "source": []
  },
  {
   "cell_type": "code",
   "execution_count": 3,
   "metadata": {},
   "outputs": [],
   "source": [
    "nb_pts1 = 10\n",
    "nb_pts2 = 7\n",
    "dim = 2\n",
    "\n",
    "o1 = torch.tensor([1,1]).float()\n",
    "o2 = torch.tensor([5,5]).float()\n",
    "origin = [o1,o2]\n",
    "radius = [2,1]\n",
    "numberPoints = [nb_pts1, nb_pts2]\n",
    "gd_list = mm.multipleCircles(origin, radius, numberPoints)"
   ]
  },
  {
   "cell_type": "code",
   "execution_count": 4,
   "metadata": {},
   "outputs": [
    {
     "data": {
      "text/plain": [
       "(-1.3613887604218857,\n",
       " 6.3920313523721441,\n",
       " -1.263359584052745,\n",
       " 6.3805314957338002)"
      ]
     },
     "execution_count": 4,
     "metadata": {},
     "output_type": "execute_result"
    }
   ],
   "source": [
    "plt.scatter(gd_list[0][:, 0].detach().numpy(), gd_list[0][:, 1].detach().numpy(), c='red')\n",
    "plt.scatter(gd_list[1][:, 0].detach().numpy(), gd_list[1][:, 1].detach().numpy(), c='blue')\n",
    "\n",
    "plt.axis('equal')\n",
    "#plt.show()"
   ]
  },
  {
   "cell_type": "code",
   "execution_count": 5,
   "metadata": {},
   "outputs": [],
   "source": [
    "# Defining the deformation modules\n",
    "sigma1 = 10\n",
    "manifold1 = dm.manifold.Landmarks(dim, nb_pts1, gd=gd_list[0].view(-1))\n",
    "trans1 = dm.deformationmodules.Translations(manifold1, sigma1)\n",
    "\n",
    "sigma2 = 10\n",
    "manifold2 = dm.manifold.Landmarks(dim, nb_pts2, gd=gd_list[1].view(-1))\n",
    "trans2 = dm.deformationmodules.Translations(manifold2, sigma2)\n",
    "\n",
    "module_list = [trans1, trans2]\n",
    "sigma_bg = 1\n",
    "modules = dm.multishape.MultiShapeModule(module_list, sigma_bg)\n"
   ]
  },
  {
   "cell_type": "code",
   "execution_count": 42,
   "metadata": {},
   "outputs": [],
   "source": [
    "# Setting cotangent variables\n",
    "p1 = torch.cat([torch.ones(nb_pts1,1, requires_grad=True), torch.zeros(nb_pts1,1)],1).view(-1)\n",
    "p2 = torch.cat([-torch.ones(nb_pts2,1,requires_grad=True), torch.zeros(nb_pts2,1)],1).view(-1)\n",
    "cotan2 = [p1, p2, [p1, p2]]\n",
    "cotan = [torch.ones(nb_pts1*dim, requires_grad=True), -torch.ones(nb_pts2*dim, requires_grad=True), [torch.ones((nb_pts1)*dim, requires_grad=True),-torch.ones((nb_pts2)*dim, requires_grad=True)]]\n",
    "modules.manifold.fill_cotan(cotan2)\n",
    "\n"
   ]
  },
  {
   "cell_type": "code",
   "execution_count": 44,
   "metadata": {},
   "outputs": [],
   "source": [
    "constr_Id = dm.constraints.Identity(modules)\n",
    "l, h = modules.compute_geodesic_variables(modules.manifold, constr_Id)"
   ]
  },
  {
   "cell_type": "code",
   "execution_count": 45,
   "metadata": {},
   "outputs": [
    {
     "data": {
      "text/plain": [
       "tensor([[ 9.5367e-07,  0.0000e+00],\n",
       "        [-2.3842e-06,  0.0000e+00],\n",
       "        [ 2.3842e-06,  0.0000e+00],\n",
       "        [ 0.0000e+00,  0.0000e+00],\n",
       "        [ 1.9073e-06,  0.0000e+00],\n",
       "        [ 7.1526e-07,  0.0000e+00],\n",
       "        [ 2.3842e-06,  0.0000e+00],\n",
       "        [ 4.7684e-07,  0.0000e+00],\n",
       "        [ 3.3379e-06,  0.0000e+00],\n",
       "        [-9.5367e-07,  0.0000e+00],\n",
       "        [ 3.8147e-06,  0.0000e+00],\n",
       "        [ 1.7643e-05,  0.0000e+00],\n",
       "        [ 6.6757e-06,  0.0000e+00],\n",
       "        [ 4.7684e-06,  0.0000e+00],\n",
       "        [ 7.6294e-06,  0.0000e+00],\n",
       "        [ 6.6757e-06,  0.0000e+00],\n",
       "        [ 2.8610e-06,  0.0000e+00]], grad_fn=<CatBackward>)"
      ]
     },
     "execution_count": 45,
     "metadata": {},
     "output_type": "execute_result"
    }
   ],
   "source": [
    "constr_Id()"
   ]
  },
  {
   "cell_type": "code",
   "execution_count": 21,
   "metadata": {},
   "outputs": [],
   "source": [
    "# Define Hamiltonian function\n",
    "#H = dm.hamiltonian_multishape.Hamiltonian_multi(modules, constr_Id)"
   ]
  },
  {
   "cell_type": "code",
   "execution_count": 46,
   "metadata": {},
   "outputs": [],
   "source": [
    "import defmod.hamiltonian_multishape as hamiltonian\n",
    "H = hamiltonian.Hamiltonian_multi(modules, constr_Id)"
   ]
  },
  {
   "cell_type": "code",
   "execution_count": null,
   "metadata": {},
   "outputs": [],
   "source": [
    "H.apply_mom()"
   ]
  },
  {
   "cell_type": "code",
   "execution_count": null,
   "metadata": {},
   "outputs": [],
   "source": [
    "H.apply_constr()"
   ]
  },
  {
   "cell_type": "code",
   "execution_count": null,
   "metadata": {},
   "outputs": [],
   "source": [
    "modules.cost()"
   ]
  },
  {
   "cell_type": "code",
   "execution_count": 13,
   "metadata": {},
   "outputs": [
    {
     "data": {
      "text/plain": [
       "tensor(129.9349, grad_fn=<SubBackward0>)"
      ]
     },
     "execution_count": 13,
     "metadata": {},
     "output_type": "execute_result"
    }
   ],
   "source": [
    "H()"
   ]
  },
  {
   "cell_type": "code",
   "execution_count": 11,
   "metadata": {},
   "outputs": [],
   "source": [
    "# Check derivative of Hamiltonian wrt controls is zero\n",
    "def controlslist2tensor(controls_list):\n",
    "    return torch.cat([modules.controls[0].view(-1,1),modules.controls[1].view(-1,1), modules.controls[-1][0].view(-1,1),modules.controls[-1][1].view(-1,1)])\n",
    "\n",
    "def controlstensor2list(controls, nb_pts, dim):\n",
    "    n = sum(nb_pts)\n",
    "    return [controls[:dim*nb_pts[0]], controls[dim*nb_pts[0]:dim*(nb_pts[0]+nb_pts[1])], controls[dim*n:dim*(n+nb_pts[0])], controls[dim*(n+nb_pts[0]):]]\n",
    "\n",
    "\n",
    "def Hamiltonian(controls):\n",
    "    #modules.controls = controlstensor2list(controls, numberPoints, dim)\n",
    "    modules.fill_controls(controls)\n",
    "    H = hamiltonian.Hamiltonian_multi(modules, constr_Id)\n",
    "    return H()\n",
    "\n",
    "\n",
    "controls = dm.usefulfunctions.flatten_tensor_list(modules.controls)\n",
    "\n",
    "\n",
    "#torch.autograd.grad(Hamiltonian(modules.controls), controls)\n"
   ]
  },
  {
   "cell_type": "code",
   "execution_count": null,
   "metadata": {},
   "outputs": [],
   "source": []
  },
  {
   "cell_type": "code",
   "execution_count": 47,
   "metadata": {},
   "outputs": [],
   "source": [
    "manifold_t = dm.shooting.shoot_euler(H)"
   ]
  },
  {
   "cell_type": "code",
   "execution_count": 48,
   "metadata": {},
   "outputs": [],
   "source": [
    "gd_t = [man.gd for man in manifold_t]\n"
   ]
  },
  {
   "cell_type": "code",
   "execution_count": 60,
   "metadata": {},
   "outputs": [
    {
     "data": {
      "image/png": "[encoded data removed]",
      "text/plain": [
       "<matplotlib.figure.Figure at 0x7f73bedb3438>"
      ]
     },
     "metadata": {},
     "output_type": "display_data"
    },
    {
     "data": {
      "image/png": "[encoded data removed]",
      "text/plain": [
       "<matplotlib.figure.Figure at 0x7f73bed15ba8>"
      ]
     },
     "metadata": {},
     "output_type": "display_data"
    }
   ],
   "source": [
    "import matplotlib.cm as cm\n",
    "\n",
    "source = gd_list\n",
    "\n",
    "# Geometrical descriptors at initial time\n",
    "plt.subplot(1,3,1)\n",
    "plt.scatter(source[0][:, 0].detach().numpy(), source[0][:, 1].detach().numpy(), c='red')\n",
    "plt.scatter(source[1][:, 0].detach().numpy(), source[1][:, 1].detach().numpy(), c='blue')\n",
    "plt.axis('equal')\n",
    "\n",
    "# Geometrical Descriptors transported over time by shooting\n",
    "plt.subplot(1,3,2)\n",
    "colors = cm.rainbow(np.linspace(0, 1, len(gd_t)))\n",
    "for i,c in zip(range(len(gd_t)), colors):\n",
    "    plt.scatter(gd_t[i][0].view(-1,dim)[:,0].detach().numpy(), gd_t[i][0].view(-1,dim)[:, 1].detach().numpy(), color=c)\n",
    "    plt.scatter(gd_t[i][1].view(-1,dim)[:,0].detach().numpy(), gd_t[i][1].view(-1,dim)[:, 1].detach().numpy(), color=c)\n",
    "plt.axis('equal')\n",
    "\n",
    "# Geometrical descriptors at final time\n",
    "plt.subplot(1,3,3)\n",
    "plt.scatter(gd_t[-1][0].view(-1,dim)[:, 0].detach().numpy(), gd_t[-1][0].view(-1,dim)[:, 1].detach().numpy(), c='red')\n",
    "plt.scatter(gd_t[-1][1].view(-1,dim)[:, 0].detach().numpy(), gd_t[-1][1].view(-1,dim)[:, 1].detach().numpy(), c='blue')\n",
    "plt.axis('equal')\n",
    "\n",
    "\n",
    "plt.figure()\n",
    "i=4\n",
    "plt.scatter(gd_t[i][0].view(-1,dim)[:,0].detach().numpy(), gd_t[i][0].view(-1,dim)[:, 1].detach().numpy(), color='red')\n",
    "plt.scatter(gd_t[i][1].view(-1,dim)[:,0].detach().numpy(), gd_t[i][1].view(-1,dim)[:, 1].detach().numpy(), color='blue')\n",
    "plt.axis('equal')\n",
    "\n",
    "plt.show()"
   ]
  },
  {
   "cell_type": "code",
   "execution_count": 59,
   "metadata": {},
   "outputs": [
    {
     "name": "stdout",
     "output_type": "stream",
     "text": [
      "tensor(2.3326e-05, grad_fn=<NormBackward0>)\n",
      "tensor(2.3326e-05, grad_fn=<NormBackward0>)\n",
      "tensor(2.3326e-05, grad_fn=<NormBackward0>)\n",
      "tensor(2.3326e-05, grad_fn=<NormBackward0>)\n",
      "tensor(2.3326e-05, grad_fn=<NormBackward0>)\n",
      "tensor(2.3326e-05, grad_fn=<NormBackward0>)\n",
      "tensor(2.3326e-05, grad_fn=<NormBackward0>)\n",
      "tensor(2.3326e-05, grad_fn=<NormBackward0>)\n",
      "tensor(2.3326e-05, grad_fn=<NormBackward0>)\n",
      "tensor(2.3326e-05, grad_fn=<NormBackward0>)\n",
      "tensor(2.3326e-05, grad_fn=<NormBackward0>)\n"
     ]
    },
    {
     "data": {
      "text/plain": [
       "tensor([[0., 0.],\n",
       "        [0., 0.],\n",
       "        [0., 0.],\n",
       "        [0., 0.],\n",
       "        [0., 0.],\n",
       "        [0., 0.],\n",
       "        [0., 0.],\n",
       "        [0., 0.],\n",
       "        [0., 0.],\n",
       "        [0., 0.],\n",
       "        [0., 0.],\n",
       "        [0., 0.],\n",
       "        [0., 0.],\n",
       "        [0., 0.],\n",
       "        [0., 0.],\n",
       "        [0., 0.],\n",
       "        [0., 0.]], grad_fn=<SubBackward0>)"
      ]
     },
     "execution_count": 59,
     "metadata": {},
     "output_type": "execute_result"
    }
   ],
   "source": [
    "constr_t = []\n",
    "for i in range(len(manifold_t)):\n",
    "    modules.compute_geodesic_variables(manifold_t[i], constr_Id)\n",
    "    print(torch.norm(constr_Id()))\n",
    "    constr_t = [*constr_t, constr_Id()]\n",
    "\n",
    "constr_t[0]-constr_t[5]"
   ]
  },
  {
   "cell_type": "code",
   "execution_count": null,
   "metadata": {},
   "outputs": [],
   "source": []
  },
  {
   "cell_type": "code",
   "execution_count": null,
   "metadata": {},
   "outputs": [],
   "source": []
  },
  {
   "cell_type": "code",
   "execution_count": null,
   "metadata": {},
   "outputs": [],
   "source": []
  }
 ],
 "metadata": {
  "kernelspec": {
   "display_name": "Python 3",
   "language": "python",
   "name": "python3"
  },
  "language_info": {
   "codemirror_mode": {
    "name": "ipython",
    "version": 3
   },
   "file_extension": ".py",
   "mimetype": "text/x-python",
   "name": "python",
   "nbconvert_exporter": "python",
   "pygments_lexer": "ipython3",
   "version": "3.6.8"
  }
 },
 "nbformat": 4,
 "nbformat_minor": 2
}
