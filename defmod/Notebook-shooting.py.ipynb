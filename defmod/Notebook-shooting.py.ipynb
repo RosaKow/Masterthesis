{
 "cells": [
  {
   "cell_type": "code",
   "execution_count": 1,
   "metadata": {},
   "outputs": [
    {
     "name": "stdout",
     "output_type": "stream",
     "text": [
      "Once deleted, variables cannot be recovered. Proceed (y/[n])? y\n"
     ]
    }
   ],
   "source": [
    "%reset\n",
    "%load_ext autoreload\n",
    "%autoreload 2\n",
    "\n",
    "import sys\n",
    "\n",
    "sys.path.append(\"../\")\n",
    "import torch\n",
    "import numpy as np\n",
    "import defmod as dm\n",
    "import multimodule_usefulfunctions as mm \n",
    "import matplotlib.pyplot as plt"
   ]
  },
  {
   "cell_type": "code",
   "execution_count": null,
   "metadata": {},
   "outputs": [],
   "source": []
  },
  {
   "cell_type": "code",
   "execution_count": 2,
   "metadata": {},
   "outputs": [],
   "source": [
    "nb_pts1 = 10\n",
    "nb_pts2 = 7\n",
    "dim = 2\n",
    "\n",
    "o1 = torch.tensor([1,1]).float()\n",
    "o2 = torch.tensor([5,5]).float()\n",
    "origin = [o1,o2]\n",
    "radius = [2,1]\n",
    "numberPoints = [nb_pts1, nb_pts2]\n",
    "gd_list = mm.multipleCircles(origin, radius, numberPoints)"
   ]
  },
  {
   "cell_type": "code",
   "execution_count": 3,
   "metadata": {},
   "outputs": [
    {
     "data": {
      "text/plain": [
       "(-1.3613887604218857,\n",
       " 6.3920313523721441,\n",
       " -1.263359584052745,\n",
       " 6.3805314957338002)"
      ]
     },
     "execution_count": 3,
     "metadata": {},
     "output_type": "execute_result"
    }
   ],
   "source": [
    "plt.scatter(gd_list[0][:, 0].detach().numpy(), gd_list[0][:, 1].detach().numpy(), c='red')\n",
    "plt.scatter(gd_list[1][:, 0].detach().numpy(), gd_list[1][:, 1].detach().numpy(), c='blue')\n",
    "\n",
    "plt.axis('equal')\n",
    "#plt.show()"
   ]
  },
  {
   "cell_type": "code",
   "execution_count": 4,
   "metadata": {},
   "outputs": [],
   "source": [
    "# Defining the deformation modules\n",
    "sigma1 = 10\n",
    "manifold1 = dm.manifold.Landmarks(dim, nb_pts1, gd=gd_list[0].view(-1))\n",
    "trans1 = dm.deformationmodules.Translations(manifold1, sigma1)\n",
    "\n",
    "sigma2 = 10\n",
    "manifold2 = dm.manifold.Landmarks(dim, nb_pts2, gd=gd_list[1].view(-1))\n",
    "trans2 = dm.deformationmodules.Translations(manifold2, sigma2)\n",
    "\n",
    "module_list = [trans1, trans2]\n",
    "sigma_bg = 1\n",
    "modules = dm.multishape.MultiShapeModule(module_list, sigma_bg)\n"
   ]
  },
  {
   "cell_type": "code",
   "execution_count": 5,
   "metadata": {},
   "outputs": [],
   "source": [
    "# Setting cotangent variables\n",
    "p1 = torch.cat([torch.ones(nb_pts1,1, requires_grad=True), torch.zeros(nb_pts1,1)],1).view(-1)\n",
    "p2 = torch.cat([-torch.ones(nb_pts2,1,requires_grad=True), torch.zeros(nb_pts2,1)],1).view(-1)\n",
    "cotan2 = [p1, p2, [p1, p2]]\n",
    "cotan = [torch.rand(nb_pts1*dim, requires_grad=True), torch.rand(nb_pts2*dim, requires_grad=True), [torch.rand((nb_pts1)*dim, requires_grad=True),torch.rand((nb_pts2)*dim, requires_grad=True)]]\n",
    "modules.manifold.fill_cotan(cotan2)\n",
    "\n"
   ]
  },
  {
   "cell_type": "code",
   "execution_count": 6,
   "metadata": {},
   "outputs": [],
   "source": [
    "constr_Id = dm.constraints.Identity()\n",
    "l, h = modules.compute_geodesic_variables(modules.manifold, constr_Id)"
   ]
  },
  {
   "cell_type": "code",
   "execution_count": 7,
   "metadata": {},
   "outputs": [],
   "source": [
    "#constr_Id(modules)"
   ]
  },
  {
   "cell_type": "code",
   "execution_count": 8,
   "metadata": {},
   "outputs": [],
   "source": [
    "# Define Hamiltonian function\n",
    "#H = dm.hamiltonian_multishape.Hamiltonian_multi(modules, constr_Id)"
   ]
  },
  {
   "cell_type": "code",
   "execution_count": 9,
   "metadata": {},
   "outputs": [],
   "source": [
    "import defmod.hamiltonian_multishape as hamiltonian\n",
    "H = hamiltonian.Hamiltonian_multi(modules, constr_Id)"
   ]
  },
  {
   "cell_type": "code",
   "execution_count": 10,
   "metadata": {},
   "outputs": [
    {
     "data": {
      "text/plain": [
       "[tensor(1.5259e-05),\n",
       " tensor(2.3842e-06),\n",
       " tensor([3.5763e-06]),\n",
       " tensor([1.4305e-06])]"
      ]
     },
     "execution_count": 10,
     "metadata": {},
     "output_type": "execute_result"
    }
   ],
   "source": [
    "# Check derivative of Hamiltonian wrt controls is zero\n",
    "def controlslist2tensor(controls_list):\n",
    "    return torch.cat([controls_list[0].view(-1,1),controls_list[1].view(-1,1), controls_list[-1][0].view(-1,1),controls_list[-1][1].view(-1,1)])\n",
    "\n",
    "def controlstensor2list(controls, nb_pts, dim):\n",
    "    n = sum(nb_pts)\n",
    "    return [controls[:dim*nb_pts[0]], controls[dim*nb_pts[0]:dim*(nb_pts[0]+nb_pts[1])], [controls[dim*n:dim*(n+nb_pts[0])], controls[dim*(n+nb_pts[0]):]]]\n",
    "\n",
    "\n",
    "def Hamiltonian(controls):\n",
    "    #modules.controls = controlstensor2list(controls, numberPoints, dim)\n",
    "    modules.fill_controls(controls)\n",
    "    H = hamiltonian.Hamiltonian_multi(modules, constr_Id)\n",
    "    return H()\n",
    "\n",
    "\n",
    "controls = dm.usefulfunctions.flatten_tensor_list(modules.controls, [])\n",
    "\n",
    "\n",
    "a = torch.autograd.grad(Hamiltonian(modules.controls), controls, retain_graph=True)\n",
    "len(a)\n",
    "\n",
    "[sum(torch.abs(ai)) for ai in a]"
   ]
  },
  {
   "cell_type": "code",
   "execution_count": 11,
   "metadata": {},
   "outputs": [],
   "source": [
    "H.geodesic_controls()"
   ]
  },
  {
   "cell_type": "code",
   "execution_count": 12,
   "metadata": {},
   "outputs": [],
   "source": [
    "def applymom(l):\n",
    "    #H.module.manifold[0].fill_gd(l[0])\n",
    "    #H.module.manifold[1].fill_gd(l[1])\n",
    "    #H.module.manifold[2].fill_gd([l[2], l[3]])\n",
    "    H.module.manifold[0].fill_cotan(l[0])\n",
    "    H.module.manifold[1].fill_cotan(l[1])\n",
    "    H.module.manifold[2].fill_cotan([l[2], l[3]])\n",
    "    H.geodesic_controls()\n",
    "    #print([H.module[i].manifold.inner_prod_field(H.module[i].field_generator()) for i in range(3)])\n",
    "    \n",
    "    return sum([H.module.manifold.manifold_list[i].inner_prod_field(H.module[i].field_generator()) for i in range(3)])\n",
    "\n",
    "#sum([H.module[i].manifold.inner_prod_module(H.module[i]) for i in range(1)])\n",
    "    #return H.apply_mom()"
   ]
  },
  {
   "cell_type": "code",
   "execution_count": 13,
   "metadata": {},
   "outputs": [],
   "source": [
    "def Hamiltonian_p(cotan):\n",
    "    \n",
    "    cotan = controlstensor2list(cotan, [nb_pts1, nb_pts2], dim)\n",
    "    #H.module.manifold.fill_cotan(cotan)\n",
    "    \n",
    "    H.module.manifold[0].fill_cotan(cotan[0])\n",
    "    H.module.manifold[1].fill_cotan(cotan[1])\n",
    "    H.module.manifold[2].fill_cotan(cotan[2])\n",
    "    \n",
    "    H.geodesic_controls()\n",
    "    return H()"
   ]
  },
  {
   "cell_type": "code",
   "execution_count": 14,
   "metadata": {},
   "outputs": [],
   "source": [
    "cotan = controlslist2tensor(H.module.manifold.cotan)\n",
    "deltaH = torch.autograd.grad(Hamiltonian_p(cotan), cotan, create_graph=True)"
   ]
  },
  {
   "cell_type": "code",
   "execution_count": null,
   "metadata": {},
   "outputs": [],
   "source": []
  },
  {
   "cell_type": "code",
   "execution_count": 15,
   "metadata": {},
   "outputs": [],
   "source": [
    "def Hamiltonian(l):\n",
    "    H.module.manifold[0].fill_cotan(l[0])\n",
    "    H.module.manifold[1].fill_cotan(l[1])\n",
    "    H.module.manifold[2].fill_cotan([l[2], l[3]])\n",
    "    H.geodesic_controls()\n",
    "    return H()"
   ]
  },
  {
   "cell_type": "code",
   "execution_count": 16,
   "metadata": {},
   "outputs": [],
   "source": [
    "def costterm(l):\n",
    "    H.module.manifold[0].fill_cotan(l[0])\n",
    "    H.module.manifold[1].fill_cotan(l[1])\n",
    "    H.module.manifold[2].fill_cotan([l[2], l[3]])\n",
    "    H.geodesic_controls()\n",
    "    return sum([H.module[i].cost() for i in range(3)])"
   ]
  },
  {
   "cell_type": "code",
   "execution_count": 17,
   "metadata": {},
   "outputs": [],
   "source": [
    "def constraintsterm(l):\n",
    "    H.module.manifold[0].fill_cotan(l[0])\n",
    "    H.module.manifold[1].fill_cotan(l[1])\n",
    "    H.module.manifold[2].fill_cotan([l[2], l[3]])\n",
    "    H.geodesic_controls()\n",
    "    return H.apply_constr()"
   ]
  },
  {
   "cell_type": "code",
   "execution_count": 18,
   "metadata": {},
   "outputs": [],
   "source": [
    "def controlslist2tensor(controls_list):\n",
    "    return torch.cat([modules.controls[0].view(-1,1),modules.controls[1].view(-1,1), modules.controls[-1][0].view(-1,1),modules.controls[-1][1].view(-1,1)])\n",
    "\n",
    "\n",
    "def geodesiccontrols(l):\n",
    "    H.module.manifold[0].fill_cotan(l[0])\n",
    "    H.module.manifold[1].fill_cotan(l[1])\n",
    "    H.module.manifold[2].fill_cotan([l[2], l[3]])    \n",
    "    H.geodesic_controls()\n",
    "\n",
    "    return controlslist2tensor(H.module.controls)\n",
    "\n"
   ]
  },
  {
   "cell_type": "code",
   "execution_count": 19,
   "metadata": {},
   "outputs": [],
   "source": [
    "cotan = [*H.module.manifold.unroll_cotan()]\n",
    "\n",
    "deltaapplymom = torch.autograd.grad(applymom(cotan), cotan, create_graph=True)\n",
    "deltaH = torch.autograd.grad(Hamiltonian(cotan), [cotan[0], cotan[1], cotan[2], cotan[3]], create_graph=True)\n",
    "deltacost = torch.autograd.grad(costterm(cotan), [cotan[0], cotan[1], cotan[2], cotan[3]], create_graph=True)\n",
    "deltaconstr = torch.autograd.grad(constraintsterm(cotan), [cotan[0], cotan[1], cotan[2], cotan[3]], create_graph=True)\n"
   ]
  },
  {
   "cell_type": "code",
   "execution_count": 20,
   "metadata": {},
   "outputs": [
    {
     "name": "stdout",
     "output_type": "stream",
     "text": [
      "(tensor([[3.3984],\n",
      "        [0.0000],\n",
      "        [3.3980],\n",
      "        [0.0000],\n",
      "        [3.3982],\n",
      "        [0.0000],\n",
      "        [3.3989],\n",
      "        [0.0000],\n",
      "        [3.3998],\n",
      "        [0.0000],\n",
      "        [3.4007],\n",
      "        [0.0000],\n",
      "        [3.4011],\n",
      "        [0.0000],\n",
      "        [3.4009],\n",
      "        [0.0000],\n",
      "        [3.4003],\n",
      "        [0.0000],\n",
      "        [3.3993],\n",
      "        [0.0000]], grad_fn=<AddBackward0>), tensor([[-4.4250],\n",
      "        [ 0.0000],\n",
      "        [-4.4251],\n",
      "        [ 0.0000],\n",
      "        [-4.4249],\n",
      "        [ 0.0000],\n",
      "        [-4.4244],\n",
      "        [ 0.0000],\n",
      "        [-4.4240],\n",
      "        [ 0.0000],\n",
      "        [-4.4241],\n",
      "        [ 0.0000],\n",
      "        [-4.4245],\n",
      "        [ 0.0000]], grad_fn=<AddBackward0>), tensor([[3.3984],\n",
      "        [0.0000],\n",
      "        [3.3980],\n",
      "        [0.0000],\n",
      "        [3.3982],\n",
      "        [0.0000],\n",
      "        [3.3989],\n",
      "        [0.0000],\n",
      "        [3.3998],\n",
      "        [0.0000],\n",
      "        [3.4007],\n",
      "        [0.0000],\n",
      "        [3.4011],\n",
      "        [0.0000],\n",
      "        [3.4009],\n",
      "        [0.0000],\n",
      "        [3.4003],\n",
      "        [0.0000],\n",
      "        [3.3993],\n",
      "        [0.0000]], grad_fn=<AddBackward0>), tensor([[-4.4250],\n",
      "        [ 0.0000],\n",
      "        [-4.4251],\n",
      "        [ 0.0000],\n",
      "        [-4.4249],\n",
      "        [ 0.0000],\n",
      "        [-4.4244],\n",
      "        [ 0.0000],\n",
      "        [-4.4240],\n",
      "        [ 0.0000],\n",
      "        [-4.4241],\n",
      "        [ 0.0000],\n",
      "        [-4.4245],\n",
      "        [ 0.0000]], grad_fn=<AddBackward0>))\n"
     ]
    }
   ],
   "source": [
    "print(deltaH)"
   ]
  },
  {
   "cell_type": "code",
   "execution_count": 23,
   "metadata": {},
   "outputs": [
    {
     "name": "stdout",
     "output_type": "stream",
     "text": [
      "(tensor([[6.7969],\n",
      "        [0.0000],\n",
      "        [6.7960],\n",
      "        [0.0000],\n",
      "        [6.7963],\n",
      "        [0.0000],\n",
      "        [6.7977],\n",
      "        [0.0000],\n",
      "        [6.7997],\n",
      "        [0.0000],\n",
      "        [6.8013],\n",
      "        [0.0000],\n",
      "        [6.8022],\n",
      "        [0.0000],\n",
      "        [6.8019],\n",
      "        [0.0000],\n",
      "        [6.8005],\n",
      "        [0.0000],\n",
      "        [6.7986],\n",
      "        [0.0000]], grad_fn=<AddBackward0>), tensor([[-8.8499],\n",
      "        [ 0.0000],\n",
      "        [-8.8502],\n",
      "        [ 0.0000],\n",
      "        [-8.8497],\n",
      "        [ 0.0000],\n",
      "        [-8.8487],\n",
      "        [ 0.0000],\n",
      "        [-8.8480],\n",
      "        [ 0.0000],\n",
      "        [-8.8481],\n",
      "        [ 0.0000],\n",
      "        [-8.8490],\n",
      "        [ 0.0000]], grad_fn=<AddBackward0>), tensor([[6.7969],\n",
      "        [0.0000],\n",
      "        [6.7960],\n",
      "        [0.0000],\n",
      "        [6.7963],\n",
      "        [0.0000],\n",
      "        [6.7977],\n",
      "        [0.0000],\n",
      "        [6.7997],\n",
      "        [0.0000],\n",
      "        [6.8013],\n",
      "        [0.0000],\n",
      "        [6.8022],\n",
      "        [0.0000],\n",
      "        [6.8019],\n",
      "        [0.0000],\n",
      "        [6.8005],\n",
      "        [0.0000],\n",
      "        [6.7986],\n",
      "        [0.0000]], grad_fn=<AddBackward0>), tensor([[-8.8499],\n",
      "        [ 0.0000],\n",
      "        [-8.8502],\n",
      "        [ 0.0000],\n",
      "        [-8.8497],\n",
      "        [ 0.0000],\n",
      "        [-8.8487],\n",
      "        [ 0.0000],\n",
      "        [-8.8480],\n",
      "        [ 0.0000],\n",
      "        [-8.8481],\n",
      "        [ 0.0000],\n",
      "        [-8.8490],\n",
      "        [ 0.0000]], grad_fn=<AddBackward0>))\n"
     ]
    }
   ],
   "source": [
    "print(deltaapplymom)"
   ]
  },
  {
   "cell_type": "code",
   "execution_count": 24,
   "metadata": {},
   "outputs": [
    {
     "name": "stdout",
     "output_type": "stream",
     "text": [
      "(tensor([[3.3984],\n",
      "        [0.0000],\n",
      "        [3.3980],\n",
      "        [0.0000],\n",
      "        [3.3982],\n",
      "        [0.0000],\n",
      "        [3.3989],\n",
      "        [0.0000],\n",
      "        [3.3998],\n",
      "        [0.0000],\n",
      "        [3.4007],\n",
      "        [0.0000],\n",
      "        [3.4011],\n",
      "        [0.0000],\n",
      "        [3.4009],\n",
      "        [0.0000],\n",
      "        [3.4003],\n",
      "        [0.0000],\n",
      "        [3.3993],\n",
      "        [0.0000]], grad_fn=<AddBackward0>), tensor([[-4.4250],\n",
      "        [ 0.0000],\n",
      "        [-4.4251],\n",
      "        [ 0.0000],\n",
      "        [-4.4249],\n",
      "        [ 0.0000],\n",
      "        [-4.4244],\n",
      "        [ 0.0000],\n",
      "        [-4.4240],\n",
      "        [ 0.0000],\n",
      "        [-4.4241],\n",
      "        [ 0.0000],\n",
      "        [-4.4245],\n",
      "        [ 0.0000]], grad_fn=<AddBackward0>), tensor([[3.3984],\n",
      "        [0.0000],\n",
      "        [3.3980],\n",
      "        [0.0000],\n",
      "        [3.3982],\n",
      "        [0.0000],\n",
      "        [3.3989],\n",
      "        [0.0000],\n",
      "        [3.3998],\n",
      "        [0.0000],\n",
      "        [3.4007],\n",
      "        [0.0000],\n",
      "        [3.4011],\n",
      "        [0.0000],\n",
      "        [3.4009],\n",
      "        [0.0000],\n",
      "        [3.4003],\n",
      "        [0.0000],\n",
      "        [3.3993],\n",
      "        [0.0000]], grad_fn=<AddBackward0>), tensor([[-4.4250],\n",
      "        [ 0.0000],\n",
      "        [-4.4251],\n",
      "        [ 0.0000],\n",
      "        [-4.4249],\n",
      "        [ 0.0000],\n",
      "        [-4.4244],\n",
      "        [ 0.0000],\n",
      "        [-4.4240],\n",
      "        [ 0.0000],\n",
      "        [-4.4241],\n",
      "        [ 0.0000],\n",
      "        [-4.4245],\n",
      "        [ 0.0000]], grad_fn=<AddBackward0>))\n"
     ]
    }
   ],
   "source": [
    "print(deltacost)"
   ]
  },
  {
   "cell_type": "code",
   "execution_count": 25,
   "metadata": {},
   "outputs": [
    {
     "name": "stdout",
     "output_type": "stream",
     "text": [
      "(tensor([[ 4.7684e-07],\n",
      "        [ 0.0000e+00],\n",
      "        [ 1.4305e-06],\n",
      "        [ 0.0000e+00],\n",
      "        [ 3.8147e-06],\n",
      "        [ 0.0000e+00],\n",
      "        [ 9.5367e-07],\n",
      "        [ 0.0000e+00],\n",
      "        [ 0.0000e+00],\n",
      "        [ 0.0000e+00],\n",
      "        [ 2.8610e-06],\n",
      "        [ 0.0000e+00],\n",
      "        [-2.3842e-06],\n",
      "        [ 0.0000e+00],\n",
      "        [ 2.3842e-06],\n",
      "        [ 0.0000e+00],\n",
      "        [ 1.4305e-06],\n",
      "        [ 0.0000e+00],\n",
      "        [ 1.9073e-06],\n",
      "        [ 0.0000e+00]], grad_fn=<AddBackward0>), tensor([[2.3842e-07],\n",
      "        [0.0000e+00],\n",
      "        [0.0000e+00],\n",
      "        [0.0000e+00],\n",
      "        [2.3842e-07],\n",
      "        [0.0000e+00],\n",
      "        [2.3842e-07],\n",
      "        [0.0000e+00],\n",
      "        [2.3842e-07],\n",
      "        [0.0000e+00],\n",
      "        [2.3842e-07],\n",
      "        [0.0000e+00],\n",
      "        [2.3842e-07],\n",
      "        [0.0000e+00]], grad_fn=<AddBackward0>), tensor([[-3.5763e-07],\n",
      "        [ 0.0000e+00],\n",
      "        [ 2.3842e-07],\n",
      "        [ 0.0000e+00],\n",
      "        [ 0.0000e+00],\n",
      "        [ 0.0000e+00],\n",
      "        [-2.3842e-07],\n",
      "        [ 0.0000e+00],\n",
      "        [ 9.5367e-07],\n",
      "        [ 0.0000e+00],\n",
      "        [ 5.9605e-07],\n",
      "        [ 0.0000e+00],\n",
      "        [-1.5497e-06],\n",
      "        [ 0.0000e+00],\n",
      "        [ 3.5763e-07],\n",
      "        [ 0.0000e+00],\n",
      "        [ 9.5367e-07],\n",
      "        [ 0.0000e+00],\n",
      "        [-4.7684e-07],\n",
      "        [ 0.0000e+00]], grad_fn=<AddBackward0>), tensor([[ 1.5497e-06],\n",
      "        [ 0.0000e+00],\n",
      "        [ 7.1526e-07],\n",
      "        [ 0.0000e+00],\n",
      "        [-5.9605e-07],\n",
      "        [ 0.0000e+00],\n",
      "        [ 0.0000e+00],\n",
      "        [ 0.0000e+00],\n",
      "        [-3.5763e-07],\n",
      "        [ 0.0000e+00],\n",
      "        [-1.4305e-06],\n",
      "        [ 0.0000e+00],\n",
      "        [-2.3842e-07],\n",
      "        [ 0.0000e+00]], grad_fn=<AddBackward0>))\n"
     ]
    }
   ],
   "source": [
    "print(deltaconstr)"
   ]
  },
  {
   "cell_type": "code",
   "execution_count": 26,
   "metadata": {},
   "outputs": [
    {
     "name": "stdout",
     "output_type": "stream",
     "text": [
      "[tensor([3.3984, 0.0000, 3.3980, 0.0000, 3.3981, 0.0000, 3.3989, 0.0000, 3.3998,\n",
      "        0.0000, 3.4007, 0.0000, 3.4011, 0.0000, 3.4009, 0.0000, 3.4003, 0.0000,\n",
      "        3.3993, 0.0000], grad_fn=<ViewBackward>), tensor([-4.4250,  0.0000, -4.4251,  0.0000, -4.4249,  0.0000, -4.4244,  0.0000,\n",
      "        -4.4240,  0.0000, -4.4241,  0.0000, -4.4245,  0.0000],\n",
      "       grad_fn=<ViewBackward>), [tensor([3.3984, 0.0000, 3.3980, 0.0000, 3.3981, 0.0000, 3.3989, 0.0000, 3.3998,\n",
      "        0.0000, 3.4007, 0.0000, 3.4011, 0.0000, 3.4009, 0.0000, 3.4003, 0.0000,\n",
      "        3.3993, 0.0000], grad_fn=<ViewBackward>), tensor([-4.4250,  0.0000, -4.4251,  0.0000, -4.4249,  0.0000, -4.4244,  0.0000,\n",
      "        -4.4240,  0.0000, -4.4241,  0.0000, -4.4245,  0.0000],\n",
      "       grad_fn=<ViewBackward>)]]\n"
     ]
    },
    {
     "data": {
      "text/plain": [
       "tensor(129.9349, grad_fn=<AddBackward0>)"
      ]
     },
     "execution_count": 26,
     "metadata": {},
     "output_type": "execute_result"
    }
   ],
   "source": [
    "# action \n",
    "speed_action = [gdi.action(modulei).tan for gdi, modulei in zip(H.module.manifold.manifold_list, H.module)] \n",
    "\n",
    "print(speed_action)\n",
    "H.module.manifold.fill_tan(speed_action)\n",
    "\n",
    "sum([H.module.manifold.manifold_list[i].inner_prod_field(H.module.module_list[i].field_generator()) for i in range(3)])"
   ]
  },
  {
   "cell_type": "code",
   "execution_count": null,
   "metadata": {},
   "outputs": [],
   "source": []
  },
  {
   "cell_type": "code",
   "execution_count": 27,
   "metadata": {},
   "outputs": [
    {
     "name": "stdout",
     "output_type": "stream",
     "text": [
      "tensor([[3.3984, 0.0000],\n",
      "        [3.3980, 0.0000],\n",
      "        [3.3981, 0.0000],\n",
      "        [3.3989, 0.0000],\n",
      "        [3.3998, 0.0000],\n",
      "        [3.4007, 0.0000],\n",
      "        [3.4011, 0.0000],\n",
      "        [3.4009, 0.0000],\n",
      "        [3.4003, 0.0000],\n",
      "        [3.3993, 0.0000]], grad_fn=<AsStridedBackward>)\n",
      "tensor([[3.3984, 0.0000],\n",
      "        [3.3980, 0.0000],\n",
      "        [3.3981, 0.0000],\n",
      "        [3.3989, 0.0000],\n",
      "        [3.3998, 0.0000],\n",
      "        [3.4007, 0.0000],\n",
      "        [3.4011, 0.0000],\n",
      "        [3.4009, 0.0000],\n",
      "        [3.4003, 0.0000],\n",
      "        [3.3993, 0.0000]], grad_fn=<AddBackward0>)\n"
     ]
    },
    {
     "data": {
      "text/plain": [
       "tensor([[3.3984, 0.0000],\n",
       "        [3.3980, 0.0000],\n",
       "        [3.3981, 0.0000],\n",
       "        [3.3989, 0.0000],\n",
       "        [3.3998, 0.0000],\n",
       "        [3.4007, 0.0000],\n",
       "        [3.4011, 0.0000],\n",
       "        [3.4009, 0.0000],\n",
       "        [3.4003, 0.0000],\n",
       "        [3.3993, 0.0000]], grad_fn=<AddBackward0>)"
      ]
     },
     "execution_count": 27,
     "metadata": {},
     "output_type": "execute_result"
    }
   ],
   "source": [
    "fields = modules.field_generator()\n",
    "field_bg = fields[-1]\n",
    "i=0\n",
    "gd_bg = modules.manifold.manifold_list[-1].manifold_list[i].gd\n",
    "\n",
    "print(fields[i](modules.manifold.gd[i].view(-1,modules.manifold.dim)))\n",
    "print(field_bg(gd_bg.view(-1,modules.manifold.dim)))\n",
    "\n",
    "modules.module_list[i].field_generator()(modules.manifold.gd[i].view(-1,modules.manifold.dim))\n",
    "modules.module_list[-1].field_generator()(modules.manifold.gd[i].view(-1,modules.manifold.dim))\n",
    "\n",
    "gd_bg, modules.manifold.manifold_list[0].gd\n",
    "modules.module_list[i].controls, modules.module_list[-1].controls\n",
    "Bg = dm.deformationmodules.Background(modules.module_list[:-1], sigma_bg)\n",
    "Bg.fill_controls(modules.module_list[-1].controls)\n",
    "Bg.field_generator()(modules.manifold.gd[i].view(-1,modules.manifold.dim))"
   ]
  },
  {
   "cell_type": "code",
   "execution_count": null,
   "metadata": {},
   "outputs": [],
   "source": []
  },
  {
   "cell_type": "code",
   "execution_count": null,
   "metadata": {},
   "outputs": [],
   "source": [
    "manifold_t, modules_t = dm.shooting.shoot_euler(H)"
   ]
  },
  {
   "cell_type": "code",
   "execution_count": null,
   "metadata": {},
   "outputs": [],
   "source": [
    "gd_t = [man.gd for man in manifold_t]\n"
   ]
  },
  {
   "cell_type": "code",
   "execution_count": null,
   "metadata": {},
   "outputs": [],
   "source": [
    "import matplotlib.cm as cm\n",
    "\n",
    "source = gd_list\n",
    "\n",
    "# Geometrical descriptors at initial time\n",
    "plt.subplot(1,3,1)\n",
    "plt.scatter(source[0][:, 0].detach().numpy(), source[0][:, 1].detach().numpy(), c='red')\n",
    "plt.scatter(source[1][:, 0].detach().numpy(), source[1][:, 1].detach().numpy(), c='blue')\n",
    "plt.axis('equal')\n",
    "\n",
    "# Geometrical Descriptors transported over time by shooting\n",
    "plt.subplot(1,3,2)\n",
    "colors = cm.rainbow(np.linspace(0, 1, len(gd_t)))\n",
    "for i,c in zip(range(len(gd_t)), colors):\n",
    "    plt.scatter(gd_t[i][0].view(-1,dim)[:,0].detach().numpy(), gd_t[i][0].view(-1,dim)[:, 1].detach().numpy(), color=c)\n",
    "    plt.scatter(gd_t[i][1].view(-1,dim)[:,0].detach().numpy(), gd_t[i][1].view(-1,dim)[:, 1].detach().numpy(), color=c)\n",
    "plt.axis('equal')\n",
    "\n",
    "# Geometrical descriptors at final time\n",
    "plt.subplot(1,3,3)\n",
    "plt.scatter(gd_t[-1][0].view(-1,dim)[:, 0].detach().numpy(), gd_t[-1][0].view(-1,dim)[:, 1].detach().numpy(), c='red')\n",
    "plt.scatter(gd_t[-1][1].view(-1,dim)[:, 0].detach().numpy(), gd_t[-1][1].view(-1,dim)[:, 1].detach().numpy(), c='blue')\n",
    "plt.axis('equal')\n",
    "\n",
    "\n",
    "\n",
    "for i in range(len(gd_t)):\n",
    "    plt.figure()\n",
    "    plt.scatter(gd_t[i][0].view(-1,dim)[:, 0].detach().numpy(), gd_t[i][0].view(-1,dim)[:, 1].detach().numpy(), c='red')\n",
    "    plt.scatter(gd_t[i][1].view(-1,dim)[:, 0].detach().numpy(), gd_t[i][1].view(-1,dim)[:, 1].detach().numpy(), c='blue')\n",
    "    plt.axis([-5,20,-5,20])\n",
    "\n",
    "plt.show()"
   ]
  },
  {
   "cell_type": "code",
   "execution_count": null,
   "metadata": {},
   "outputs": [],
   "source": [
    "gd_t[0][0], gd_list[0]"
   ]
  },
  {
   "cell_type": "code",
   "execution_count": null,
   "metadata": {},
   "outputs": [],
   "source": [
    "constr_t = []\n",
    "for i in range(len(manifold_t)):\n",
    "    modules.compute_geodesic_variables(manifold_t[i], constr_Id)\n",
    "    print(modules.controls)\n",
    "    print(torch.norm(constr_Id(modules)))\n",
    "    constr_t = [*constr_t, constr_Id(modules)]\n",
    "\n",
    "constr_t[0]-constr_t[5]"
   ]
  },
  {
   "cell_type": "code",
   "execution_count": null,
   "metadata": {},
   "outputs": [],
   "source": []
  },
  {
   "cell_type": "code",
   "execution_count": null,
   "metadata": {},
   "outputs": [],
   "source": []
  }
 ],
 "metadata": {
  "kernelspec": {
   "display_name": "Python 3",
   "language": "python",
   "name": "python3"
  },
  "language_info": {
   "codemirror_mode": {
    "name": "ipython",
    "version": 3
   },
   "file_extension": ".py",
   "mimetype": "text/x-python",
   "name": "python",
   "nbconvert_exporter": "python",
   "pygments_lexer": "ipython3",
   "version": "3.6.8"
  }
 },
 "nbformat": 4,
 "nbformat_minor": 2
}
