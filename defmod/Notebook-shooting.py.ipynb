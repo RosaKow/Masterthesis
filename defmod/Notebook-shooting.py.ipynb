{
 "cells": [
  {
   "cell_type": "code",
   "execution_count": 411,
   "metadata": {},
   "outputs": [
    {
     "name": "stdout",
     "output_type": "stream",
     "text": [
      "Once deleted, variables cannot be recovered. Proceed (y/[n])? y\n",
      "The autoreload extension is already loaded. To reload it, use:\n",
      "  %reload_ext autoreload\n"
     ]
    }
   ],
   "source": [
    "%reset\n",
    "%load_ext autoreload\n",
    "%autoreload 2\n",
    "\n",
    "import sys\n",
    "\n",
    "sys.path.append(\"../\")\n",
    "import torch\n",
    "import numpy as np\n",
    "import defmod as dm\n",
    "import multimodule_usefulfunctions as mm \n",
    "import matplotlib.pyplot as plt"
   ]
  },
  {
   "cell_type": "code",
   "execution_count": 412,
   "metadata": {},
   "outputs": [],
   "source": [
    "nb_pts1 = 10\n",
    "nb_pts2 = 7\n",
    "dim = 2\n",
    "\n",
    "o1 = torch.tensor([1,1]).float()\n",
    "o2 = torch.tensor([5,5]).float()\n",
    "origin = [o1,o2]\n",
    "radius = [2,1]\n",
    "numberPoints = [nb_pts1, nb_pts2]\n",
    "gd_list = mm.multipleCircles(origin, radius, numberPoints)"
   ]
  },
  {
   "cell_type": "code",
   "execution_count": 413,
   "metadata": {},
   "outputs": [
    {
     "data": {
      "image/png": "[encoded data removed]",
      "text/plain": [
       "<matplotlib.figure.Figure at 0x7f79b8e32a20>"
      ]
     },
     "metadata": {},
     "output_type": "display_data"
    }
   ],
   "source": [
    "plt.scatter(gd_list[0][:, 0].detach().numpy(), gd_list[0][:, 1].detach().numpy(), c='red')\n",
    "plt.scatter(gd_list[1][:, 0].detach().numpy(), gd_list[1][:, 1].detach().numpy(), c='blue')\n",
    "\n",
    "plt.axis('equal')\n",
    "plt.show()"
   ]
  },
  {
   "cell_type": "code",
   "execution_count": 414,
   "metadata": {},
   "outputs": [],
   "source": [
    "# Defining the deformation modules\n",
    "sigma1 = 10\n",
    "manifold1 = dm.manifold.Landmarks(dim, nb_pts1, gd=gd_list[0].view(-1))\n",
    "trans1 = dm.deformationmodules.Translations(manifold1, sigma1)\n",
    "\n",
    "sigma2 = 10\n",
    "manifold2 = dm.manifold.Landmarks(dim, nb_pts2, gd=gd_list[1].view(-1))\n",
    "trans2 = dm.deformationmodules.Translations(manifold2, sigma2)\n",
    "\n",
    "module_list = [trans1, trans2]\n",
    "sigma_bg = 0.1\n",
    "modules = dm.multishape.MultiShapeModule(module_list, sigma_bg)\n"
   ]
  },
  {
   "cell_type": "code",
   "execution_count": 415,
   "metadata": {},
   "outputs": [],
   "source": [
    "# Setting cotangent variables\n",
    "p1 = torch.cat([10*torch.ones(nb_pts1,1, requires_grad=True), torch.zeros(nb_pts1,1)],1).view(-1)\n",
    "p2 = torch.cat([-10*torch.ones(nb_pts2,1,requires_grad=True), torch.zeros(nb_pts2,1)],1).view(-1)\n",
    "cotan2 = [p1, p2, [p1, p2]]\n",
    "cotan = [torch.rand(nb_pts1*dim, requires_grad=True), torch.rand(nb_pts2*dim, requires_grad=True), [torch.rand((nb_pts1)*dim, requires_grad=True),torch.rand((nb_pts2)*dim, requires_grad=True)]]\n",
    "modules.manifold.fill_cotan(cotan2)\n",
    "\n"
   ]
  },
  {
   "cell_type": "code",
   "execution_count": 416,
   "metadata": {},
   "outputs": [],
   "source": [
    "constr_Id = dm.constraints.Identity()\n",
    "l, h = modules.compute_geodesic_variables( constr_Id)"
   ]
  },
  {
   "cell_type": "code",
   "execution_count": 417,
   "metadata": {},
   "outputs": [],
   "source": [
    "import defmod.hamiltonian_multishape as hamiltonian\n",
    "H = hamiltonian.Hamiltonian_multi(modules, constr_Id)"
   ]
  },
  {
   "cell_type": "code",
   "execution_count": 442,
   "metadata": {},
   "outputs": [
    {
     "data": {
      "text/plain": [
       "[tensor(4.2325), tensor(1.3494), tensor(4.7814e-06), tensor(2.8617e-06)]"
      ]
     },
     "execution_count": 442,
     "metadata": {},
     "output_type": "execute_result"
    }
   ],
   "source": [
    "# Check derivative of Hamiltonian wrt controls is zero\n",
    "def controlslist2tensor(controls_list):\n",
    "    return torch.cat([controls_list[0].view(-1),controls_list[1].view(-1), controls_list[-1][0].view(-1),controls_list[-1][1].view(-1)])\n",
    "\n",
    "def controlstensor2list(controls, nb_pts, dim):\n",
    "    n = sum(nb_pts)\n",
    "    return [controls[:dim*nb_pts[0]], controls[dim*nb_pts[0]:dim*(nb_pts[0]+nb_pts[1])], [controls[dim*n:dim*(n+nb_pts[0])], controls[dim*(n+nb_pts[0]):]]]\n",
    "\n",
    "\n",
    "def Hamiltonian(controls):\n",
    "    #modules.controls = controlstensor2list(controls, numberPoints, dim)\n",
    "    modules.fill_controls(controls)\n",
    "    H = hamiltonian.Hamiltonian_multi(modules, constr_Id)\n",
    "    return H()\n",
    "\n",
    "\n",
    "controls = dm.usefulfunctions.flatten_tensor_list(modules.controls, [])\n",
    "\n",
    "\n",
    "a = torch.autograd.grad(Hamiltonian(modules.controls), controls, retain_graph=True)\n",
    "\n",
    "[sum(torch.abs(ai)) for ai in a]"
   ]
  },
  {
   "cell_type": "code",
   "execution_count": 419,
   "metadata": {},
   "outputs": [],
   "source": [
    "#H.geodesic_controls()"
   ]
  },
  {
   "cell_type": "code",
   "execution_count": 420,
   "metadata": {},
   "outputs": [],
   "source": [
    "def applymom(l):\n",
    "    H.module.manifold[0].fill_cotan(l[0])\n",
    "    H.module.manifold[1].fill_cotan(l[1])\n",
    "    H.module.manifold[2].fill_cotan([l[2], l[3]])\n",
    "    H.geodesic_controls()\n",
    "    \n",
    "    return sum([H.module.manifold.manifold_list[i].inner_prod_field(H.module[i].field_generator()) for i in range(3)])"
   ]
  },
  {
   "cell_type": "code",
   "execution_count": 421,
   "metadata": {},
   "outputs": [],
   "source": [
    "def Hamiltonian_p(cotan):\n",
    "    \n",
    "    cotan = controlstensor2list(cotan, [nb_pts1, nb_pts2], dim)\n",
    "    #H.module.manifold.fill_cotan(cotan)\n",
    "    \n",
    "    H.module.manifold[0].fill_cotan(cotan[0])\n",
    "    H.module.manifold[1].fill_cotan(cotan[1])\n",
    "    H.module.manifold[2].fill_cotan(cotan[2])\n",
    "    \n",
    "    H.geodesic_controls()\n",
    "    return H()"
   ]
  },
  {
   "cell_type": "code",
   "execution_count": 422,
   "metadata": {},
   "outputs": [],
   "source": [
    "cotan = controlslist2tensor(H.module.manifold.cotan)\n",
    "deltaH = torch.autograd.grad(Hamiltonian_p(cotan), cotan, create_graph=True)"
   ]
  },
  {
   "cell_type": "code",
   "execution_count": null,
   "metadata": {},
   "outputs": [],
   "source": []
  },
  {
   "cell_type": "code",
   "execution_count": 423,
   "metadata": {},
   "outputs": [],
   "source": [
    "def Hamiltonian(l):\n",
    "    H.module.manifold[0].fill_cotan(l[0])\n",
    "    H.module.manifold[1].fill_cotan(l[1])\n",
    "    H.module.manifold[2].fill_cotan([l[2], l[3]])\n",
    "    H.geodesic_controls()\n",
    "    return H()"
   ]
  },
  {
   "cell_type": "code",
   "execution_count": 424,
   "metadata": {},
   "outputs": [],
   "source": [
    "def costterm(l):\n",
    "    H.module.manifold[0].fill_cotan(l[0])\n",
    "    H.module.manifold[1].fill_cotan(l[1])\n",
    "    H.module.manifold[2].fill_cotan([l[2], l[3]])\n",
    "    H.geodesic_controls()\n",
    "    return sum([H.module[i].cost() for i in range(3)])"
   ]
  },
  {
   "cell_type": "code",
   "execution_count": 425,
   "metadata": {},
   "outputs": [],
   "source": [
    "def constraintsterm(l):\n",
    "    H.module.manifold[0].fill_cotan(l[0])\n",
    "    H.module.manifold[1].fill_cotan(l[1])\n",
    "    H.module.manifold[2].fill_cotan([l[2], l[3]])\n",
    "    H.geodesic_controls()\n",
    "    return H.apply_constr()"
   ]
  },
  {
   "cell_type": "code",
   "execution_count": 426,
   "metadata": {},
   "outputs": [],
   "source": [
    "def controlslist2tensor(controls_list):\n",
    "    return torch.cat([modules.controls[0].view(-1,1),modules.controls[1].view(-1,1), modules.controls[-1][0].view(-1,1),modules.controls[-1][1].view(-1,1)])\n",
    "\n",
    "\n",
    "def geodesiccontrols(l):\n",
    "    H.module.manifold[0].fill_cotan(l[0])\n",
    "    H.module.manifold[1].fill_cotan(l[1])\n",
    "    H.module.manifold[2].fill_cotan([l[2], l[3]])    \n",
    "    H.geodesic_controls()\n",
    "\n",
    "    return controlslist2tensor(H.module.controls)\n",
    "\n"
   ]
  },
  {
   "cell_type": "code",
   "execution_count": 427,
   "metadata": {},
   "outputs": [],
   "source": [
    "cotan = [*H.module.manifold.unroll_cotan()]\n",
    "\n",
    "deltaapplymom = torch.autograd.grad(applymom(cotan), cotan, create_graph=True)\n",
    "#deltaH = torch.autograd.grad(Hamiltonian(cotan), [cotan[0], cotan[1], cotan[2], cotan[3]], create_graph=True)\n",
    "deltacost = torch.autograd.grad(costterm(cotan), [cotan[0], cotan[1], cotan[2], cotan[3]], create_graph=True)\n",
    "deltaconstr = torch.autograd.grad(constraintsterm(cotan), [cotan[0], cotan[1], cotan[2], cotan[3]], create_graph=True)\n"
   ]
  },
  {
   "cell_type": "code",
   "execution_count": 434,
   "metadata": {},
   "outputs": [],
   "source": [
    "#print(deltaH)"
   ]
  },
  {
   "cell_type": "code",
   "execution_count": 435,
   "metadata": {},
   "outputs": [],
   "source": [
    "#print(deltaapplymom)"
   ]
  },
  {
   "cell_type": "code",
   "execution_count": 436,
   "metadata": {},
   "outputs": [],
   "source": [
    "#print(deltacost)"
   ]
  },
  {
   "cell_type": "code",
   "execution_count": 437,
   "metadata": {},
   "outputs": [],
   "source": [
    "#print(deltaconstr)"
   ]
  },
  {
   "cell_type": "code",
   "execution_count": 438,
   "metadata": {},
   "outputs": [],
   "source": [
    "# action \n",
    "speed_action = [gdi.action(modulei).tan for gdi, modulei in zip(H.module.manifold.manifold_list, H.module)] \n",
    "\n",
    "#print(speed_action)\n",
    "H.module.manifold.fill_tan(speed_action)"
   ]
  },
  {
   "cell_type": "code",
   "execution_count": null,
   "metadata": {},
   "outputs": [],
   "source": []
  },
  {
   "cell_type": "code",
   "execution_count": 440,
   "metadata": {},
   "outputs": [],
   "source": [
    "manifold_t, controls_t = dm.shooting.shoot_euler(H, it=10)"
   ]
  },
  {
   "cell_type": "code",
   "execution_count": 441,
   "metadata": {},
   "outputs": [
    {
     "data": {
      "image/png": "[encoded data removed]",
      "text/plain": [
       "<matplotlib.figure.Figure at 0x7f79c32352b0>"
      ]
     },
     "metadata": {},
     "output_type": "display_data"
    },
    {
     "data": {
      "image/png": "[encoded data removed]",
      "text/plain": [
       "<matplotlib.figure.Figure at 0x7f79b8f08518>"
      ]
     },
     "metadata": {},
     "output_type": "display_data"
    },
    {
     "data": {
      "image/png": "[encoded data removed]",
      "text/plain": [
       "<matplotlib.figure.Figure at 0x7f79b8c1e710>"
      ]
     },
     "metadata": {},
     "output_type": "display_data"
    },
    {
     "data": {
      "image/png": "[encoded data removed]",
      "text/plain": [
       "<matplotlib.figure.Figure at 0x7f79b8f33080>"
      ]
     },
     "metadata": {},
     "output_type": "display_data"
    },
    {
     "data": {
      "image/png": "[encoded data removed]",
      "text/plain": [
       "<matplotlib.figure.Figure at 0x7f79b8cbc048>"
      ]
     },
     "metadata": {},
     "output_type": "display_data"
    },
    {
     "data": {
      "image/png": "[encoded data removed]",
      "text/plain": [
       "<matplotlib.figure.Figure at 0x7f79b89516d8>"
      ]
     },
     "metadata": {},
     "output_type": "display_data"
    },
    {
     "data": {
      "image/png": "[encoded data removed]",
      "text/plain": [
       "<matplotlib.figure.Figure at 0x7f79b8ebc4e0>"
      ]
     },
     "metadata": {},
     "output_type": "display_data"
    },
    {
     "data": {
      "image/png": "[encoded data removed]",
      "text/plain": [
       "<matplotlib.figure.Figure at 0x7f79b8a042e8>"
      ]
     },
     "metadata": {},
     "output_type": "display_data"
    },
    {
     "data": {
      "image/png": "[encoded data removed]",
      "text/plain": [
       "<matplotlib.figure.Figure at 0x7f79b8c3c0b8>"
      ]
     },
     "metadata": {},
     "output_type": "display_data"
    },
    {
     "data": {
      "image/png": "[encoded data removed]",
      "text/plain": [
       "<matplotlib.figure.Figure at 0x7f79b8c48978>"
      ]
     },
     "metadata": {},
     "output_type": "display_data"
    },
    {
     "data": {
      "image/png": "[encoded data removed]",
      "text/plain": [
       "<matplotlib.figure.Figure at 0x7f79b8e4c780>"
      ]
     },
     "metadata": {},
     "output_type": "display_data"
    },
    {
     "data": {
      "image/png": "[encoded data removed]",
      "text/plain": [
       "<matplotlib.figure.Figure at 0x7f79b8d776a0>"
      ]
     },
     "metadata": {},
     "output_type": "display_data"
    }
   ],
   "source": [
    "import matplotlib.cm as cm\n",
    "\n",
    "gd_t = [man.gd for man in manifold_t]\n",
    "\n",
    "# Geometrical descriptors at initial time\n",
    "plt.subplot(1,3,1)\n",
    "plt.scatter(gd_list[0][:, 0].detach().numpy(), gd_list[0][:, 1].detach().numpy(), c='red')\n",
    "plt.scatter(gd_list[1][:, 0].detach().numpy(), gd_list[1][:, 1].detach().numpy(), c='blue')\n",
    "plt.axis('equal')\n",
    "\n",
    "# Geometrical Descriptors transported over time by shooting\n",
    "plt.subplot(1,3,2)\n",
    "colors = cm.rainbow(np.linspace(0, 1, len(gd_t)))\n",
    "for i,c in zip(range(len(gd_t)), colors):\n",
    "    plt.scatter(gd_t[i][0].view(-1,dim)[:,0].detach().numpy(), gd_t[i][0].view(-1,dim)[:, 1].detach().numpy(), color=c)\n",
    "    plt.scatter(gd_t[i][1].view(-1,dim)[:,0].detach().numpy(), gd_t[i][1].view(-1,dim)[:, 1].detach().numpy(), color=c)\n",
    "plt.axis('equal')\n",
    "\n",
    "# Geometrical descriptors at final time\n",
    "plt.subplot(1,3,3)\n",
    "plt.scatter(gd_t[-1][0].view(-1,dim)[:, 0].detach().numpy(), gd_t[-1][0].view(-1,dim)[:, 1].detach().numpy(), c='red')\n",
    "plt.scatter(gd_t[-1][1].view(-1,dim)[:, 0].detach().numpy(), gd_t[-1][1].view(-1,dim)[:, 1].detach().numpy(), c='blue')\n",
    "plt.axis('equal')\n",
    "\n",
    "\n",
    "\n",
    "for i in range(len(gd_t)):\n",
    "    plt.figure()\n",
    "    plt.scatter(gd_t[i][0].view(-1,dim)[:, 0].detach().numpy(), gd_t[i][0].view(-1,dim)[:, 1].detach().numpy(), c='red')\n",
    "    plt.scatter(gd_t[i][1].view(-1,dim)[:, 0].detach().numpy(), gd_t[i][1].view(-1,dim)[:, 1].detach().numpy(), c='blue')\n",
    "    plt.axis([-5,20,-5,20])\n",
    "\n",
    "plt.show()"
   ]
  },
  {
   "cell_type": "code",
   "execution_count": null,
   "metadata": {},
   "outputs": [],
   "source": []
  },
  {
   "cell_type": "code",
   "execution_count": null,
   "metadata": {},
   "outputs": [],
   "source": []
  }
 ],
 "metadata": {
  "kernelspec": {
   "display_name": "Python 3",
   "language": "python",
   "name": "python3"
  },
  "language_info": {
   "codemirror_mode": {
    "name": "ipython",
    "version": 3
   },
   "file_extension": ".py",
   "mimetype": "text/x-python",
   "name": "python",
   "nbconvert_exporter": "python",
   "pygments_lexer": "ipython3",
   "version": "3.6.8"
  }
 },
 "nbformat": 4,
 "nbformat_minor": 2
}
