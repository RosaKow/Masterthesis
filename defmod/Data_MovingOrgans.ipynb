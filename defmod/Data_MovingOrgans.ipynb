{
 "cells": [
  {
   "cell_type": "code",
   "execution_count": 1,
   "metadata": {},
   "outputs": [
    {
     "name": "stdout",
     "output_type": "stream",
     "text": [
      "Once deleted, variables cannot be recovered. Proceed (y/[n])? y\n"
     ]
    }
   ],
   "source": [
    "%reset\n",
    "%load_ext autoreload\n",
    "%autoreload 2\n",
    "import sys\n",
    "sys.path.append(\"../\")\n",
    "\n",
    "import torch\n",
    "import numpy as np\n",
    "import defmod as dm\n",
    "import defmod.multimodule_usefulfunctions as mm\n",
    "import matplotlib.pyplot as plt"
   ]
  },
  {
   "cell_type": "code",
   "execution_count": 2,
   "metadata": {},
   "outputs": [],
   "source": [
    "origin = [0.,0.]\n",
    "a = 2.\n",
    "b = 8.\n",
    "n = 30\n",
    "\n",
    "X = mm.EllipsePoints(origin, a, b, n).detach()\n",
    "Y = mm.EllipsePoints(origin, a, b/2, n).detach()"
   ]
  },
  {
   "cell_type": "code",
   "execution_count": 74,
   "metadata": {},
   "outputs": [],
   "source": [
    "sigma1 = 10\n",
    "dim = 2\n",
    "\n",
    "manifold1 = dm.manifold.Landmarks(dim, n, gd=X.view(-1))\n",
    "trans_global = dm.deformationmodules.GlobalTranslation(manifold1, sigma1)\n",
    "trans_local = dm.deformationmodules.Translations(dm.manifold.Landmarks(dim, 1, gd = torch.tensor([0.,6.], requires_grad=True)), sigma1)\n",
    "rot = dm.deformationmodules.LocalRotation(dm.manifold.Landmarks(dim, 1), sigma=7)\n",
    "scal = dm.deformationmodules.LocalScaling(dm.manifold.Landmarks(dim,1), sigma=1.2)"
   ]
  },
  {
   "cell_type": "code",
   "execution_count": 4,
   "metadata": {},
   "outputs": [
    {
     "data": {
      "text/plain": [
       "(-14.629287207938438,\n",
       " -7.2812404982078034,\n",
       " -10.503818410858678,\n",
       " 3.7119726123662442)"
      ]
     },
     "execution_count": 4,
     "metadata": {},
     "output_type": "execute_result"
    }
   ],
   "source": [
    "trans_global.fill_controls(torch.tensor([-15.,0.]))\n",
    "trans_local.fill_controls(torch.tensor([3.,-5.]))\n",
    "mod = dm.deformationmodules.CompoundModule([trans_global, trans_local])\n",
    "v = mod.field_generator()(X)\n",
    "source = X + v\n",
    "\n",
    "plt.figure()\n",
    "plt.subplot(1,2,1)\n",
    "plt.scatter(source.detach()[:,0], source.detach()[:,1])\n",
    "plt.axis('equal')"
   ]
  },
  {
   "cell_type": "code",
   "execution_count": 5,
   "metadata": {},
   "outputs": [
    {
     "data": {
      "image/png": "[encoded data removed]",
      "text/plain": [
       "<matplotlib.figure.Figure at 0x7fdfbcebec18>"
      ]
     },
     "metadata": {},
     "output_type": "display_data"
    }
   ],
   "source": [
    "trans_global.fill_controls(torch.tensor([-15.,0.]))\n",
    "rot.fill_controls(torch.tensor([10.]))\n",
    "rot_center = torch.tensor([-9.,1.], requires_grad=True).view(-1)\n",
    "rot.manifold.fill_gd(rot_center)\n",
    "mod = dm.deformationmodules.CompoundModule([rot])\n",
    "v = mod.field_generator()(X)\n",
    "target = source + v\n",
    "\n",
    "plt.subplot(1,2,2)\n",
    "plt.scatter(target.detach()[:,0], target.detach()[:,1])\n",
    "plt.scatter(rot_center.detach()[0], rot_center.detach()[1])\n",
    "plt.axis('equal')\n",
    "plt.show()"
   ]
  },
  {
   "cell_type": "code",
   "execution_count": 75,
   "metadata": {},
   "outputs": [
    {
     "data": {
      "image/png": "[encoded data removed]",
      "text/plain": [
       "<matplotlib.figure.Figure at 0x7fdfb697d470>"
      ]
     },
     "metadata": {},
     "output_type": "display_data"
    }
   ],
   "source": [
    "trans_global = dm.deformationmodules.GlobalTranslation(manifold1, 50)\n",
    "trans_global.fill_controls(torch.tensor([-7.,-5.]))\n",
    "\n",
    "mod = dm.deformationmodules.CompoundModule([trans_global])\n",
    "v = mod.field_generator()(Y)\n",
    "source2 = Y + v\n",
    "\n",
    "scal_center = torch.tensor([-7.2,-2.])\n",
    "scal.fill_controls(torch.tensor([4.], requires_grad=True))\n",
    "scal.manifold.fill_gd(scal_center)\n",
    "trans_global.fill_controls(torch.tensor([0.5, 0.5]))\n",
    "mod = dm.deformationmodules.CompoundModule([scal, trans_global])\n",
    "v = mod.field_generator()(source2)\n",
    "target2 = source2 + v\n",
    "\n",
    "plt.figure()\n",
    "plt.subplot(1,2,1)\n",
    "plt.scatter(source2.detach()[:,0], source2.detach()[:,1])\n",
    "plt.scatter(scal_center.detach()[0], scal_center.detach()[1])\n",
    "plt.axis('equal')\n",
    "\n",
    "plt.subplot(1,2,2)\n",
    "plt.scatter(target2.detach()[:,0], target2.detach()[:,1])\n",
    "plt.scatter(source2.detach()[:,0], source2.detach()[:,1])\n",
    "plt.axis('equal')\n",
    "plt.show()"
   ]
  },
  {
   "cell_type": "code",
   "execution_count": 76,
   "metadata": {},
   "outputs": [
    {
     "data": {
      "image/png": "[encoded data removed]",
      "text/plain": [
       "<matplotlib.figure.Figure at 0x7fdfb6905940>"
      ]
     },
     "metadata": {},
     "output_type": "display_data"
    }
   ],
   "source": [
    "plt.figure()\n",
    "plt.subplot(1,2,1)\n",
    "plt.scatter(source2.detach()[:,0], source2.detach()[:,1])\n",
    "plt.scatter(source.detach()[:,0], source.detach()[:,1])\n",
    "plt.axis('equal')\n",
    "\n",
    "plt.subplot(1,2,2)\n",
    "plt.scatter(target2.detach()[:,0], target2.detach()[:,1])\n",
    "plt.scatter(target.detach()[:,0], target.detach()[:,1])\n",
    "plt.axis('equal')\n",
    "plt.show()"
   ]
  },
  {
   "cell_type": "code",
   "execution_count": null,
   "metadata": {},
   "outputs": [],
   "source": []
  }
 ],
 "metadata": {
  "kernelspec": {
   "display_name": "Python 3",
   "language": "python",
   "name": "python3"
  },
  "language_info": {
   "codemirror_mode": {
    "name": "ipython",
    "version": 3
   },
   "file_extension": ".py",
   "mimetype": "text/x-python",
   "name": "python",
   "nbconvert_exporter": "python",
   "pygments_lexer": "ipython3",
   "version": "3.6.8"
  }
 },
 "nbformat": 4,
 "nbformat_minor": 2
}
