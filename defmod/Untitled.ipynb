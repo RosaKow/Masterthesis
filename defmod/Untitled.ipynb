{
 "cells": [
  {
   "cell_type": "code",
   "execution_count": 1,
   "metadata": {},
   "outputs": [],
   "source": [
    "%load_ext autoreload\n",
    "%autoreload 2\n",
    "\n",
    "import sys\n",
    "\n",
    "sys.path.append(\"../\")\n",
    "import torch\n",
    "import numpy as np\n",
    "\n",
    "import defmod as dm\n",
    "import multimodule_usefulfunctions as mm \n",
    "import matplotlib.pyplot as plt\n",
    "import defmod.hamiltonian_multishape as hamiltonian\n",
    "import model_graddesc as model\n",
    "import defmod.registrationdata as regdata\n",
    "\n",
    "torch.set_default_tensor_type(torch.DoubleTensor)\n"
   ]
  },
  {
   "cell_type": "code",
   "execution_count": 2,
   "metadata": {},
   "outputs": [],
   "source": [
    "source_vertices = torch.tensor([[1.,3.],[5.,5.],[8., 3.]])\n",
    "target_vertices = torch.tensor([[1.,5.],[5.,4.],[8., 5.]])\n",
    "nb_pts = [10,4]\n",
    "\n",
    "data = regdata.part_rigid(source_vertices, target_vertices, nb_pts)\n",
    "data.build_source()\n",
    "data.build_target()\n",
    "data.build_modules()\n",
    "source = data.source\n",
    "target = data.target"
   ]
  },
  {
   "cell_type": "code",
   "execution_count": 11,
   "metadata": {},
   "outputs": [
    {
     "data": {
      "text/plain": [
       "[tensor([4.9282, 3.8460, 5.0718, 6.1540, 5.0239, 5.3847, 4.9761, 4.6153],\n",
       "        grad_fn=<ViewBackward>)]"
      ]
     },
     "execution_count": 11,
     "metadata": {},
     "output_type": "execute_result"
    }
   ],
   "source": [
    "data.modules[0].manifold[0].unroll_gd()"
   ]
  },
  {
   "cell_type": "code",
   "execution_count": null,
   "metadata": {},
   "outputs": [],
   "source": []
  },
  {
   "cell_type": "code",
   "execution_count": 64,
   "metadata": {},
   "outputs": [
    {
     "name": "stdout",
     "output_type": "stream",
     "text": [
      "[tensor([4.9282, 3.8460, 5.0718, 6.1540, 5.0239, 5.3847, 4.9761, 4.6153],\n",
      "       grad_fn=<ViewBackward>), tensor([4.9282, 3.8460, 5.0718, 6.1540, 5.0239, 5.3847, 4.9761, 4.6153],\n",
      "       grad_fn=<ViewBackward>)]\n"
     ]
    }
   ],
   "source": [
    "silent_background = [ m.manifold[0].unroll_gd()[0] for m in data.modules]\n",
    "print(silent_background)"
   ]
  },
  {
   "cell_type": "code",
   "execution_count": 19,
   "metadata": {},
   "outputs": [],
   "source": [
    "silent_background = torch.cat(silent_background).view(-1,2)"
   ]
  },
  {
   "cell_type": "code",
   "execution_count": 20,
   "metadata": {},
   "outputs": [
    {
     "data": {
      "text/plain": [
       "tensor([[4.9282, 3.8460],\n",
       "        [5.0718, 6.1540],\n",
       "        [5.0239, 5.3847],\n",
       "        [4.9761, 4.6153],\n",
       "        [4.9282, 3.8460],\n",
       "        [5.0718, 6.1540],\n",
       "        [5.0239, 5.3847],\n",
       "        [4.9761, 4.6153]], grad_fn=<ViewBackward>)"
      ]
     },
     "execution_count": 20,
     "metadata": {},
     "output_type": "execute_result"
    }
   ],
   "source": [
    "silent_background"
   ]
  },
  {
   "cell_type": "code",
   "execution_count": 77,
   "metadata": {},
   "outputs": [
    {
     "name": "stdout",
     "output_type": "stream",
     "text": [
      "[]\n",
      "[0]\n",
      "[0, 1]\n",
      "[0, 1, 2]\n"
     ]
    }
   ],
   "source": [
    "reduced_background_list = []\n",
    "indices = []\n",
    "for a in silent_background:\n",
    "    a=a.view(-1,2)\n",
    "    indices.append([])\n",
    "    n=0\n",
    "    for i in range(len(a)):\n",
    "        if a[i,:].tolist() in reduced_background_list:\n",
    "            indices[-1].append(reduced_background_list.index(a[i,:].tolist()))\n",
    "        else:\n",
    "            reduced_background_list.append(a[i,:].tolist())\n",
    "            print(indices[-1])\n",
    "            indices[-1].append(n)\n",
    "            n = n+1\n",
    "    \n",
    "\n",
    "reduced_background = torch.tensor(reduced_background_list).view(-1,2)"
   ]
  },
  {
   "cell_type": "code",
   "execution_count": 78,
   "metadata": {},
   "outputs": [
    {
     "name": "stdout",
     "output_type": "stream",
     "text": [
      "tensor([[4.9282, 3.8460],\n",
      "        [5.0718, 6.1540],\n",
      "        [5.0239, 5.3847],\n",
      "        [4.9761, 4.6153]])\n",
      "[[0, 1, 2, 3], [0, 1, 2, 3]]\n"
     ]
    }
   ],
   "source": [
    "print(torch.tensor(reduced_background_list))\n",
    "print(indices)"
   ]
  },
  {
   "cell_type": "code",
   "execution_count": 31,
   "metadata": {},
   "outputs": [
    {
     "data": {
      "text/plain": [
       "[tensor([4.9282, 3.8460], grad_fn=<SliceBackward>)]"
      ]
     },
     "execution_count": 31,
     "metadata": {},
     "output_type": "execute_result"
    }
   ],
   "source": [
    "reduced_background_list"
   ]
  },
  {
   "cell_type": "code",
   "execution_count": 43,
   "metadata": {},
   "outputs": [],
   "source": [
    "a = [torch.tensor([1,2]).tolist(), [3,4]]"
   ]
  },
  {
   "cell_type": "code",
   "execution_count": 45,
   "metadata": {},
   "outputs": [
    {
     "name": "stdout",
     "output_type": "stream",
     "text": [
      "true\n"
     ]
    }
   ],
   "source": [
    "if torch.tensor([1,2]).tolist() in a:\n",
    "    print('true')"
   ]
  },
  {
   "cell_type": "code",
   "execution_count": null,
   "metadata": {},
   "outputs": [],
   "source": []
  }
 ],
 "metadata": {
  "kernelspec": {
   "display_name": "Python 3",
   "language": "python",
   "name": "python3"
  },
  "language_info": {
   "codemirror_mode": {
    "name": "ipython",
    "version": 3
   },
   "file_extension": ".py",
   "mimetype": "text/x-python",
   "name": "python",
   "nbconvert_exporter": "python",
   "pygments_lexer": "ipython3",
   "version": "3.6.8"
  }
 },
 "nbformat": 4,
 "nbformat_minor": 2
}
