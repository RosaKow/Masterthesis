{
 "cells": [
  {
   "cell_type": "code",
   "execution_count": null,
   "metadata": {},
   "outputs": [],
   "source": []
  },
  {
   "cell_type": "code",
   "execution_count": 8,
   "metadata": {},
   "outputs": [
    {
     "name": "stdout",
     "output_type": "stream",
     "text": [
      "Once deleted, variables cannot be recovered. Proceed (y/[n])? y\n",
      "The autoreload extension is already loaded. To reload it, use:\n",
      "  %reload_ext autoreload\n"
     ]
    }
   ],
   "source": [
    "%reset\n",
    "%load_ext autoreload\n",
    "%autoreload 2\n",
    "\n",
    "import sys\n",
    "\n",
    "sys.path.append(\"../\")\n",
    "import torch\n",
    "import multimodule_usefulfunctions as mm \n",
    "import numpy as np\n",
    "import multishape as ms\n",
    "import defmod as dm"
   ]
  },
  {
   "cell_type": "code",
   "execution_count": 61,
   "metadata": {},
   "outputs": [],
   "source": [
    "nb_pts = 10\n",
    "dim = 2\n",
    "\n",
    "points = torch.rand([nb_pts, dim])\n",
    "\n",
    "z = torch.zeros([1,dim])\n",
    "r = 0.5\n",
    "\n",
    "z2 = torch.tensor([1,1]).float().view(1,dim)\n",
    "r2 = 0.5"
   ]
  },
  {
   "cell_type": "code",
   "execution_count": 62,
   "metadata": {},
   "outputs": [
    {
     "data": {
      "text/plain": [
       "tensor([[0.7200, 0.5275],\n",
       "        [0.4930, 0.1189],\n",
       "        [0.7897, 0.0443],\n",
       "        [0.0559, 0.1021],\n",
       "        [0.0126, 0.6743],\n",
       "        [0.9390, 0.6860],\n",
       "        [0.2401, 0.7776],\n",
       "        [0.2793, 0.8478],\n",
       "        [0.5424, 0.4808],\n",
       "        [0.9100, 0.9543]])"
      ]
     },
     "execution_count": 62,
     "metadata": {},
     "output_type": "execute_result"
    }
   ],
   "source": [
    "points"
   ]
  },
  {
   "cell_type": "code",
   "execution_count": 63,
   "metadata": {},
   "outputs": [],
   "source": [
    "points_in_region1 = lambda points: mm.pointInCircle(points, z,r)\n",
    "points_in_region2 = lambda points: mm.pointInCircle(points, z2, r2)\n",
    "points_in_region = [points_in_region1, points_in_region2]"
   ]
  },
  {
   "cell_type": "code",
   "execution_count": 85,
   "metadata": {},
   "outputs": [],
   "source": [
    "sigma1 = 10\n",
    "manifold1 = \n",
    "trans1 = dm.deformationmodules.Translations(dim, 1, sigma1)\n",
    "\n",
    "sigma2 = 10\n",
    "manifold2 = \n",
    "trans2 = dm.deformationmodules.Translations(dim, 1, sigma2)\n",
    "\n",
    "module_list = \n",
    "modules = ms.MultiShapeModule(module_list, points_in_region)"
   ]
  },
  {
   "cell_type": "code",
   "execution_count": null,
   "metadata": {},
   "outputs": [],
   "source": []
  }
 ],
 "metadata": {
  "kernelspec": {
   "display_name": "Python 3",
   "language": "python",
   "name": "python3"
  },
  "language_info": {
   "codemirror_mode": {
    "name": "ipython",
    "version": 3
   },
   "file_extension": ".py",
   "mimetype": "text/x-python",
   "name": "python",
   "nbconvert_exporter": "python",
   "pygments_lexer": "ipython3",
   "version": "3.6.8"
  }
 },
 "nbformat": 4,
 "nbformat_minor": 2
}
