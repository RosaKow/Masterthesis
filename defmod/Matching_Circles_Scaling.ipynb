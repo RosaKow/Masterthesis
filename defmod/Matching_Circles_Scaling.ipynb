{
 "cells": [
  {
   "cell_type": "code",
   "execution_count": null,
   "metadata": {},
   "outputs": [],
   "source": [
    "%reset\n",
    "%load_ext autoreload\n",
    "%autoreload 2\n",
    "\n",
    "import sys\n",
    "\n",
    "sys.path.append(\"../\")\n",
    "import torch\n",
    "import numpy as np\n",
    "import defmod as dm\n",
    "import multimodule_usefulfunctions as mm \n",
    "import matplotlib.pyplot as plt\n",
    "import defmod.hamiltonian_multishape as hamiltonian\n",
    "import model_MultiShapeCirclesTranslation as model\n",
    "\n",
    "torch.set_default_tensor_type(torch.DoubleTensor)"
   ]
  },
  {
   "cell_type": "code",
   "execution_count": 33,
   "metadata": {},
   "outputs": [],
   "source": [
    "nb_pts1 = 10\n",
    "nb_pts2 = 7\n",
    "dim = 2\n",
    "\n",
    "o1 = torch.tensor([0.,0.])\n",
    "o2 = torch.tensor([10.,0.])\n",
    "origin = [o1,o2]\n",
    "r1 = 1.\n",
    "r2 = 2.\n",
    "radius = [r1, r2]\n",
    "nb_pts = [nb_pts1, nb_pts2]\n",
    "source = mm.multipleCircles(origin, radius, nb_pts)\n",
    "\n",
    "origin_target = [[0,5], [10,-5]]\n",
    "target = mm.multipleCircles(origin, [2., 1.], nb_pts)"
   ]
  },
  {
   "cell_type": "code",
   "execution_count": 34,
   "metadata": {},
   "outputs": [
    {
     "data": {
      "image/png": "[encoded data removed]",
      "text/plain": [
       "<matplotlib.figure.Figure at 0x7f267719f160>"
      ]
     },
     "metadata": {},
     "output_type": "display_data"
    },
    {
     "data": {
      "image/png": "[encoded data removed]",
      "text/plain": [
       "<matplotlib.figure.Figure at 0x7f2677199ac8>"
      ]
     },
     "metadata": {},
     "output_type": "display_data"
    }
   ],
   "source": [
    "plt.figure()\n",
    "plt.scatter(source[0][:, 0].detach().numpy(), source[0][:, 1].detach().numpy(), c='red')\n",
    "plt.scatter(source[1][:, 0].detach().numpy(), source[1][:, 1].detach().numpy(), c='blue')\n",
    "plt.axis('equal')\n",
    "\n",
    "plt.figure()\n",
    "plt.scatter(target[0][:, 0].detach().numpy(), target[0][:, 1].detach().numpy(), c='red')\n",
    "plt.scatter(target[1][:, 0].detach().numpy(), target[1][:, 1].detach().numpy(), c='blue')\n",
    "\n",
    "plt.axis('equal')\n",
    "plt.show()"
   ]
  },
  {
   "cell_type": "code",
   "execution_count": 35,
   "metadata": {},
   "outputs": [],
   "source": [
    "# Defining the deformation modules\n",
    "sigma1 = 3\n",
    "manifold1 = dm.manifold.Landmarks(dim, nb_pts1, gd=source[0].view(-1))\n",
    "#trans1 = dm.deformationmodules.Translations(manifold1, sigma1)\n",
    "#man_local1 = dm.manifold.Landmarks(2,1)\n",
    "#scal1 = dm.deformationmodules.LocalScaling(man_local1, sigma1)\n",
    "\n",
    "sigma2 = 3\n",
    "manifold2 = dm.manifold.Landmarks(dim, nb_pts2, gd=source[1].view(-1))\n",
    "#trans2 = dm.deformationmodules.Translations(manifold2, sigma2)\n",
    "#man_local2 = dm.manifold.Landmarks(2,1)\n",
    "#scal2 = dm.deformationmodules.LocalScaling(man_local2, sigma2)\n",
    "\n",
    "#module_list = [scal1, scal2]\n",
    "#sigma_bg = 0.1\n",
    "#modules = dm.multishape.MultiShapeModule(module_list, sigma_bg)"
   ]
  },
  {
   "cell_type": "code",
   "execution_count": 36,
   "metadata": {},
   "outputs": [],
   "source": [
    "scal1 = dm.deformationmodules.GlobalScaling(manifold1, sigma1)\n",
    "scal2 = dm.deformationmodules.GlobalScaling(manifold2, sigma2)\n",
    "module_list = [scal1, scal2]\n",
    "sigma_bg = 0.1\n",
    "modules = dm.multishape.MultiShapeModule(module_list, sigma_bg)"
   ]
  },
  {
   "cell_type": "code",
   "execution_count": 37,
   "metadata": {},
   "outputs": [],
   "source": [
    "constr_Id = dm.constraints.Identity()\n",
    "H = hamiltonian.Hamiltonian_multi(modules, constr_Id)"
   ]
  },
  {
   "cell_type": "code",
   "execution_count": 38,
   "metadata": {},
   "outputs": [],
   "source": [
    "#gd0_list = [mm.computeCenter(source[0]), mm.computeCenter(source[1]), [mm.computeCenter(source[0]), mm.computeCenter(source[1])]]\n",
    "#mom0_list = [torch.zeros(dim), torch.zeros(dim), [torch.zeros(dim), torch.zeros(dim)]]"
   ]
  },
  {
   "cell_type": "code",
   "execution_count": 39,
   "metadata": {},
   "outputs": [],
   "source": [
    "gd0_list = [*source, source]\n",
    "mom0_list = [*[torch.zeros(gd.shape) for gd in modules.manifold.gd[:-1]], [torch.zeros(gd.shape) for gd in modules.manifold.gd[-1]]]"
   ]
  },
  {
   "cell_type": "code",
   "execution_count": 40,
   "metadata": {},
   "outputs": [],
   "source": [
    "H.module.manifold.fill_gd([gd0_list[0].view(-1), gd0_list[1].view(-1), [gd0_list[2][0].view(-1), gd0_list[2][1].view(-1)]])\n",
    "H.module.manifold.fill_cotan([mom0_list[0].view(-1), mom0_list[1].view(-1), [mom0_list[2][0].view(-1), mom0_list[2][1].view(-1)]])\n",
    "H.geodesic_controls()"
   ]
  },
  {
   "cell_type": "code",
   "execution_count": 41,
   "metadata": {},
   "outputs": [
    {
     "data": {
      "text/plain": [
       "tensor([ 2.0000e+00,  0.0000e+00,  1.6180e+00,  1.1756e+00,  6.1803e-01,\n",
       "         1.9021e+00, -6.1803e-01,  1.9021e+00, -1.6180e+00,  1.1756e+00,\n",
       "        -2.0000e+00,  2.4493e-16, -1.6180e+00, -1.1756e+00, -6.1803e-01,\n",
       "        -1.9021e+00,  6.1803e-01, -1.9021e+00,  1.6180e+00, -1.1756e+00],\n",
       "       grad_fn=<ViewBackward>)"
      ]
     },
     "execution_count": 41,
     "metadata": {},
     "output_type": "execute_result"
    }
   ],
   "source": [
    "H.geodesic_controls()\n",
    "H.module.controls\n",
    "modules.module_list[0].manifold.gd"
   ]
  },
  {
   "cell_type": "code",
   "execution_count": 42,
   "metadata": {
    "scrolled": true
   },
   "outputs": [
    {
     "name": "stdout",
     "output_type": "stream",
     "text": [
      "cost: 0.0219073174146 attach: 12.305825199870924\n",
      " iter : 0  ,total energy: 12.327732517285506\n",
      "cost: 0.0219073174146 attach: 12.305825199870924\n",
      "cost: 0.0218739389926 attach: 12.302985042515495\n",
      "cost: 0.0218574383487 attach: 12.301564965751652\n",
      "cost: 0.0218329230914 attach: 12.29943485300212\n",
      "cost: 0.0217966805502 attach: 12.296239689278664\n",
      "cost: 0.0217435100138 attach: 12.291446955876818\n",
      "cost: 0.0216664390791 attach: 12.28425788329324\n",
      "cost: 0.0215568736341 attach: 12.273474336698458\n",
      "cost: 0.0214061176199 attach: 12.257299158173\n",
      "cost: 0.0212105659438 attach: 12.233036712692655\n",
      "cost: 0.020986048706 attach: 12.19664378427842\n",
      "cost: 0.0208040959715 attach: 12.142056107266255\n",
      "cost: 0.0208795188943 attach: 12.060178633379714\n",
      "cost: 0.021776445334 attach: 11.937372179771536\n",
      "cost: 0.0248853671184 attach: 11.753186987219914\n",
      "cost: 0.0335166970759 attach: 11.476974686859322\n",
      "cost: 0.0553915733939 attach: 11.062851702908612\n",
      "cost: 0.10829162098 attach: 10.442387298538824\n",
      "cost: 0.232839091855 attach: 9.51612721492447\n",
      "cost: 0.521355452868 attach: 8.721947367638858\n",
      "cost: 1.45177499245 attach: 10.690061095866092\n",
      "332.5256730079651\n",
      " iter : 0  ,total energy: 12.141836088314877\n",
      "cost: 1.45177499245 attach: 10.690061095866092\n",
      "cost: 1.10933089399 attach: 17.598072944623063\n",
      "cost: 0.0355310074091 attach: 11.801834441899665\n",
      "cost: 0.294779926459 attach: 14.699204680795123\n",
      "cost: 0.114144816064 attach: 10.355702691612446\n",
      "cost: 0.0482836701266 attach: 12.525867651657443\n",
      "cost: 0.264209414884 attach: 9.278519411040245\n",
      "cost: 0.0683960231168 attach: 10.897509452951976\n",
      "cost: 0.104115383173 attach: 13.34071809017257\n",
      "cost: 0.198784094557 attach: 9.680566575396242\n",
      "cost: 0.0402639252638 attach: 11.50781367876226\n",
      "cost: 0.219430472328 attach: 14.25765741929193\n",
      "cost: 0.138306712183 attach: 10.135916866987333\n",
      "cost: 0.038149046917 attach: 12.194919761952962\n",
      "cost: 0.293925203821 attach: 9.11684008178964\n",
      "cost: 0.0868823811157 attach: 10.649777338629907\n",
      "cost: 0.0731484380074 attach: 12.968275149557744\n",
      "cost: 0.227322983597 attach: 9.496331617031942\n",
      "cost: 0.0500554876069 attach: 11.22881457247677\n",
      "cost: 0.159830080604 attach: 13.838564191681051\n",
      "cost: 0.16422231775 attach: 9.927568553848934\n",
      "168.53120440390205\n",
      " iter : 1  ,total energy: 10.091790871599152\n",
      "cost: 0.16422231775 attach: 9.927568553848934\n",
      "cost: 1.47651599815 attach: 10.607589507459071\n",
      "cost: 0.560256457336 attach: 8.684377659293496\n",
      "cost: 0.86790087621 attach: 9.637416446800673\n",
      "cost: 0.436875622407 attach: 8.489654701164074\n",
      "cost: 0.628073052163 attach: 8.913673062667435\n",
      "cost: 1.06007598465 attach: 10.003557041726186\n",
      "cost: 0.48123845684 attach: 8.465617879960954\n",
      "cost: 0.709599725433 attach: 9.182246665498194\n",
      "cost: 1.38006909928 attach: 10.413004727326832\n",
      "cost: 0.533878400477 attach: 8.598214128278073\n",
      "cost: 0.811233813402 attach: 9.488955956731044\n",
      "cost: 0.419505856033 attach: 8.538806949904371\n",
      "cost: 0.596565150073 attach: 8.807030192596635\n",
      "cost: 0.960051053121 attach: 9.836203527155117\n",
      "cost: 0.460679757665 attach: 8.455327191677085\n",
      "cost: 0.671590665207 attach: 9.058770012857792\n",
      "cost: 1.22896196901 attach: 10.226595948327153\n",
      "cost: 0.509461273625 attach: 8.5257288201288\n",
      "cost: 0.762934944965 attach: 9.348425466692094\n",
      "cost: 0.403366978431 attach: 8.595668431946947\n",
      "85.41526012383851\n",
      " iter : 2  ,total energy: 8.999035410377868\n",
      "cost: 0.403366978431 attach: 8.595668431946947\n",
      "cost: 0.777846313543 attach: 9.376707408561096\n",
      "cost: 0.573660196317 attach: 8.721103572546784\n",
      "cost: 0.48456152839 attach: 8.467034678923518\n",
      "cost: 0.528121629398 attach: 8.574181551538224\n",
      "cost: 0.463522297841 attach: 8.452425293030657\n",
      "cost: 0.495266317473 attach: 8.486606156561749\n",
      "cost: 0.544966366708 attach: 8.626929298506147\n",
      "cost: 0.471354146154 attach: 8.453538181992219\n",
      "cost: 0.507456791638 attach: 8.515487269197\n",
      "cost: 0.453830126487 attach: 8.458771274062165\n",
      "cost: 0.480247972161 attach: 8.46116804758741\n",
      "cost: 0.521357914002 attach: 8.55401299612144\n",
      "cost: 0.460360442555 attach: 8.453556104984171\n",
      "cost: 0.490358575793 attach: 8.476830737630213\n",
      "cost: 0.537233267301 attach: 8.60235379281575\n",
      "cost: 0.467766131637 attach: 8.45234467534329\n",
      "cost: 0.501865972786 attach: 8.501531460079356\n",
      "cost: 0.451191304562 attach: 8.461949771366129\n",
      "cost: 0.476172311739 attach: 8.456881353169564\n",
      "cost: 0.514980115889 attach: 8.535765118012922\n",
      "14.430100522191639\n",
      " iter : 3  ,total energy: 9.050745233902298\n",
      "Condition 0: tensor(1, dtype=torch.uint8)\n",
      "Condition 1, 2, 3: tensor(1, dtype=torch.uint8) tensor(0, dtype=torch.uint8) tensor(0, dtype=torch.uint8)\n",
      "Contition 4: tensor(0, dtype=torch.uint8)\n",
      "Condition 5: False\n",
      " iter : 4  ,total energy: 9.050745233902298\n"
     ]
    }
   ],
   "source": [
    "# set parameters\n",
    "reg_param = 10**-2 # regularisation parameter\n",
    "\n",
    "gd0_tensor = torch.cat([gd0_list[0], gd0_list[1], gd0_list[2][0], gd0_list[2][1]],0).requires_grad_().view(-1)\n",
    "mom0_tensor = torch.cat([mom0_list[0], mom0_list[1], mom0_list[2][0], mom0_list[2][1]],0).requires_grad_().view(-1)\n",
    "    \n",
    "gd0_tensor.retain_grad()\n",
    "mom0_tensor.retain_grad()\n",
    "    \n",
    "EnergyFunctional = model.EnergyFunctional(modules, H, constr_Id, target, dim, reg_param)\n",
    "\n",
    "# do registration\n",
    "X = [gd0_tensor, mom0_tensor]\n",
    "X = model.gradientdescent(EnergyFunctional, X)"
   ]
  },
  {
   "cell_type": "code",
   "execution_count": 45,
   "metadata": {},
   "outputs": [
    {
     "data": {
      "image/png": "[encoded data removed]",
      "text/plain": [
       "<matplotlib.figure.Figure at 0x7f267713b6d8>"
      ]
     },
     "metadata": {},
     "output_type": "display_data"
    },
    {
     "data": {
      "image/png": "[encoded data removed]",
      "text/plain": [
       "<matplotlib.figure.Figure at 0x7f26771da7f0>"
      ]
     },
     "metadata": {},
     "output_type": "display_data"
    }
   ],
   "source": [
    "plt.figure()\n",
    "plt.scatter(gd0_list[0].view(-1,2)[:, 0].detach().numpy(), gd0_list[0].view(-1,2)[:, 1].detach().numpy(), c='red')\n",
    "plt.scatter(gd0_list[1].view(-1,2)[:, 0].detach().numpy(), gd0_list[1].view(-1,2)[:, 1].detach().numpy(), c='blue')\n",
    "plt.axis('equal')\n",
    "\n",
    "gd_moved = EnergyFunctional.h.module.manifold.gd\n",
    "\n",
    "plt.figure()\n",
    "plt.scatter(gd_moved[0].view(-1,2)[:, 0].detach().numpy(), gd_moved[0].view(-1,2)[:, 1].detach().numpy(), c='red')\n",
    "plt.scatter(gd_moved[1].view(-1,2)[:, 0].detach().numpy(), gd_moved[1].view(-1,2)[:, 1].detach().numpy(), c='blue')\n",
    "plt.axis('equal')\n",
    "\n",
    "plt.show()"
   ]
  },
  {
   "cell_type": "code",
   "execution_count": 46,
   "metadata": {},
   "outputs": [
    {
     "data": {
      "image/png": "[encoded data removed]",
      "text/plain": [
       "<matplotlib.figure.Figure at 0x7f2670d1aac8>"
      ]
     },
     "metadata": {},
     "output_type": "display_data"
    }
   ],
   "source": [
    "H.module.manifold.fill_gd(EnergyFunctional.tensor2list(X[0]))\n",
    "H.module.manifold.fill_cotan(EnergyFunctional.tensor2list(X[1]))\n",
    "\n",
    "states, controls = dm.shooting.shoot_euler(H, it=10)\n",
    "\n",
    "\n",
    "import matplotlib.cm as cm\n",
    "colors = cm.rainbow(np.linspace(0, 1, len(states)))\n",
    "\n",
    "plt.figure()\n",
    "for s,c in zip(states, colors):\n",
    "    plt.scatter(s.gd[0].view(-1,2)[:, 0].detach().numpy(), s.gd[0].view(-1,2)[:, 1].detach().numpy(), c=c)\n",
    "    plt.scatter(s.gd[1].view(-1,2)[:, 0].detach().numpy(), s.gd[1].view(-1,2)[:, 1].detach().numpy(), c=c)\n",
    "    plt.scatter(s.gd[2][0].view(-1,2)[:, 0].detach().numpy(), s.gd[2][0].view(-1,2)[:, 1].detach().numpy(), c=c)\n",
    "    plt.scatter(s.gd[2][1].view(-1,2)[:, 0].detach().numpy(), s.gd[2][1].view(-1,2)[:, 1].detach().numpy(), c=c)\n",
    "plt.plot(target[0][:, 0].detach().numpy(), target[0][:, 1].detach().numpy(), 'xk')\n",
    "plt.plot(target[1][:, 0].detach().numpy(), target[1][:, 1].detach().numpy(), 'xk')\n",
    "\n",
    "    \n",
    "plt.axis('equal')\n",
    "plt.show()"
   ]
  },
  {
   "cell_type": "code",
   "execution_count": 47,
   "metadata": {},
   "outputs": [],
   "source": [
    "# 2 Modules\n",
    "def controlslist2tensor(controls_list):\n",
    "    return torch.cat([controls_list[0].view(-1),controls_list[1].view(-1), controls_list[-1][0].view(-1),controls_list[-1][1].view(-1)])\n",
    "\n",
    "def controlstensor2list(controls, nb_pts, dim):\n",
    "    n = sum(nb_pts)\n",
    "    return [controls[:dim*nb_pts[0]], controls[dim*nb_pts[0]:dim*(nb_pts[0]+nb_pts[1])], [controls[dim*n:dim*(n+nb_pts[0])], controls[dim*(n+nb_pts[0]):]]]\n",
    "\n",
    "def gdtensor2list(gdtensor, nb_pts, dim):\n",
    "    gdlist = []\n",
    "    gdlist_bg = []\n",
    "    j = 0\n",
    "    n = sum(nb_pts)\n",
    "    for i in range(len(nb_pts)):\n",
    "        gdlist.append(gdtensor[dim*j:dim*(j+nb_pts[i])])\n",
    "        gdlist_bg.append(gdtensor[dim*(n+j):dim*(n+j+nb_pts[i])])\n",
    "        j = j + nb_pts[i]\n",
    "    return [*gdlist, gdlist_bg]\n",
    "\n",
    "def gdlist2tensor(gdlist):\n",
    "    return torch.cat([*gdlist[:-1],*gdlist[-1]],0)\n",
    "\n",
    "nb_pts = [nb_pts1, nb_pts2]"
   ]
  },
  {
   "cell_type": "code",
   "execution_count": 48,
   "metadata": {},
   "outputs": [
    {
     "data": {
      "text/plain": [
       "True"
      ]
     },
     "execution_count": 48,
     "metadata": {},
     "output_type": "execute_result"
    }
   ],
   "source": [
    "def test_gradcheck_Hamiltonian_2modules():\n",
    "    def hamiltonian(gd, mom, controls, l):\n",
    "        \n",
    "        H.module.fill_l(l)\n",
    "        H.module.manifold.fill_gd(gdtensor2list(gd, [nb_pts1, nb_pts2], dim))\n",
    "        H.module.manifold.fill_cotan(controlstensor2list(mom, [nb_pts1, nb_pts2], dim))\n",
    "        H.module.fill_controls(controlstensor2list(controls, [nb_pts1, nb_pts2], dim))\n",
    "        H.geodesic_controls()\n",
    "        \n",
    "        return H()\n",
    "    return torch.autograd.gradcheck(hamiltonian, (gd, mom, controls, modules.l), raise_exception=True)\n",
    "\n",
    "modules.compute_geodesic_variables(constr_Id)\n",
    "\n",
    "gd = gdlist2tensor(modules.manifold.gd)\n",
    "mom = controlslist2tensor(modules.manifold.cotan)\n",
    "controls = controlslist2tensor(modules.controls)\n",
    "l = modules.l\n",
    "\n",
    "test_gradcheck_Hamiltonian_2modules()"
   ]
  },
  {
   "cell_type": "code",
   "execution_count": null,
   "metadata": {},
   "outputs": [],
   "source": []
  }
 ],
 "metadata": {
  "kernelspec": {
   "display_name": "Python 3",
   "language": "python",
   "name": "python3"
  },
  "language_info": {
   "codemirror_mode": {
    "name": "ipython",
    "version": 3
   },
   "file_extension": ".py",
   "mimetype": "text/x-python",
   "name": "python",
   "nbconvert_exporter": "python",
   "pygments_lexer": "ipython3",
   "version": "3.6.8"
  }
 },
 "nbformat": 4,
 "nbformat_minor": 2
}
