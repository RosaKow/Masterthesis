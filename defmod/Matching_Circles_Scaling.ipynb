{
 "cells": [
  {
   "cell_type": "code",
   "execution_count": 1,
   "metadata": {},
   "outputs": [
    {
     "name": "stdout",
     "output_type": "stream",
     "text": [
      "Once deleted, variables cannot be recovered. Proceed (y/[n])? y\n"
     ]
    }
   ],
   "source": [
    "%reset\n",
    "%load_ext autoreload\n",
    "%autoreload 2\n",
    "\n",
    "import sys\n",
    "\n",
    "sys.path.append(\"../\")\n",
    "import torch\n",
    "import numpy as np\n",
    "import defmod as dm\n",
    "import multimodule_usefulfunctions as mm \n",
    "import matplotlib.pyplot as plt\n",
    "import defmod.hamiltonian_multishape as hamiltonian\n",
    "import model_MultiShapeCirclesTranslation as model\n",
    "\n",
    "torch.set_default_tensor_type(torch.DoubleTensor)"
   ]
  },
  {
   "cell_type": "code",
   "execution_count": 2,
   "metadata": {},
   "outputs": [],
   "source": [
    "nb_pts1 = 10\n",
    "nb_pts2 = 7\n",
    "dim = 2\n",
    "\n",
    "o1 = torch.tensor([0.,0.])\n",
    "o2 = torch.tensor([10.,0.])\n",
    "origin = [o1,o2]\n",
    "r1 = 1.\n",
    "r2 = 2.\n",
    "radius = [r1, r2]\n",
    "nb_pts = [nb_pts1, nb_pts2]\n",
    "source = mm.multipleCircles(origin, radius, nb_pts)\n",
    "\n",
    "origin_target = [[0,5], [10,-5]]\n",
    "target = mm.multipleCircles(origin, [2., 1.], nb_pts)"
   ]
  },
  {
   "cell_type": "code",
   "execution_count": 3,
   "metadata": {},
   "outputs": [
    {
     "data": {
      "image/png": "[encoded data removed]",
      "text/plain": [
       "<matplotlib.figure.Figure at 0x7fbb22b689e8>"
      ]
     },
     "metadata": {},
     "output_type": "display_data"
    },
    {
     "data": {
      "image/png": "[encoded data removed]",
      "text/plain": [
       "<matplotlib.figure.Figure at 0x7fbb20b476a0>"
      ]
     },
     "metadata": {},
     "output_type": "display_data"
    }
   ],
   "source": [
    "plt.figure()\n",
    "plt.scatter(source[0][:, 0].detach().numpy(), source[0][:, 1].detach().numpy(), c='red')\n",
    "plt.scatter(source[1][:, 0].detach().numpy(), source[1][:, 1].detach().numpy(), c='blue')\n",
    "plt.axis('equal')\n",
    "\n",
    "plt.figure()\n",
    "plt.scatter(target[0][:, 0].detach().numpy(), target[0][:, 1].detach().numpy(), c='red')\n",
    "plt.scatter(target[1][:, 0].detach().numpy(), target[1][:, 1].detach().numpy(), c='blue')\n",
    "\n",
    "plt.axis('equal')\n",
    "plt.show()"
   ]
  },
  {
   "cell_type": "code",
   "execution_count": 4,
   "metadata": {},
   "outputs": [],
   "source": [
    "# Defining the deformation modules\n",
    "sigma1 = 2\n",
    "manifold1 = dm.manifold.Landmarks(dim, nb_pts1, gd=source[0].view(-1))\n",
    "#trans1 = dm.deformationmodules.Translations(manifold1, sigma1)\n",
    "#man_local1 = dm.manifold.Landmarks(2,1)\n",
    "#scal1 = dm.deformationmodules.LocalScaling(man_local1, sigma1)\n",
    "\n",
    "sigma2 = 2\n",
    "manifold2 = dm.manifold.Landmarks(dim, nb_pts2, gd=source[1].view(-1))\n",
    "#trans2 = dm.deformationmodules.Translations(manifold2, sigma2)\n",
    "#man_local2 = dm.manifold.Landmarks(2,1)\n",
    "#scal2 = dm.deformationmodules.LocalScaling(man_local2, sigma2)\n",
    "\n",
    "#module_list = [scal1, scal2]\n",
    "#sigma_bg = 0.1\n",
    "#modules = dm.multishape.MultiShapeModule(module_list, sigma_bg)"
   ]
  },
  {
   "cell_type": "code",
   "execution_count": 5,
   "metadata": {},
   "outputs": [],
   "source": [
    "scal1 = dm.deformationmodules.GlobalScaling(manifold1, sigma1)\n",
    "scal2 = dm.deformationmodules.GlobalScaling(manifold2, sigma2)\n",
    "module_list = [scal1, scal2]\n",
    "sigma_bg = 0.1\n",
    "modules = dm.multishape.MultiShapeModule(module_list, sigma_bg)"
   ]
  },
  {
   "cell_type": "code",
   "execution_count": 6,
   "metadata": {},
   "outputs": [],
   "source": [
    "constr_Id = dm.constraints.Identity()\n",
    "H = hamiltonian.Hamiltonian_multi(modules, constr_Id)"
   ]
  },
  {
   "cell_type": "code",
   "execution_count": 7,
   "metadata": {},
   "outputs": [],
   "source": [
    "#gd0_list = [mm.computeCenter(source[0]), mm.computeCenter(source[1]), [mm.computeCenter(source[0]), mm.computeCenter(source[1])]]\n",
    "#mom0_list = [torch.zeros(dim), torch.zeros(dim), [torch.zeros(dim), torch.zeros(dim)]]"
   ]
  },
  {
   "cell_type": "code",
   "execution_count": 8,
   "metadata": {},
   "outputs": [],
   "source": [
    "gd0_list = [*source, source]\n",
    "mom0_list = [*[torch.zeros(gd.shape) for gd in modules.manifold.gd[:-1]], [torch.zeros(gd.shape) for gd in modules.manifold.gd[-1]]]"
   ]
  },
  {
   "cell_type": "code",
   "execution_count": 9,
   "metadata": {},
   "outputs": [],
   "source": [
    "H.module.manifold.fill_gd([gd0_list[0].view(-1), gd0_list[1].view(-1), [gd0_list[2][0].view(-1), gd0_list[2][1].view(-1)]])\n",
    "H.module.manifold.fill_cotan([mom0_list[0].view(-1), mom0_list[1].view(-1), [mom0_list[2][0].view(-1), mom0_list[2][1].view(-1)]])\n",
    "H.geodesic_controls()"
   ]
  },
  {
   "cell_type": "code",
   "execution_count": 10,
   "metadata": {
    "scrolled": false
   },
   "outputs": [
    {
     "name": "stdout",
     "output_type": "stream",
     "text": [
      "cost: 0.0223205086356 attach: 11.708323868869737\n",
      " iter : 0  ,total energy: 11.730644377505298\n",
      "cost: 0.0223205086356 attach: 11.708323868869737\n",
      "cost: 0.0223150702722 attach: 11.70514911654661\n",
      "c 0\n",
      " iter : 0  ,total energy: 11.727464186818844\n",
      "cost: 0.0223150702722 attach: 11.70514911654661\n",
      "cost: 0.0223091097585 attach: 11.701339946758942\n",
      "c 0\n",
      " iter : 1  ,total energy: 11.723649056517448\n",
      "cost: 0.0223091097585 attach: 11.701339946758942\n",
      "cost: 0.0223027711252 attach: 11.696769710481718\n",
      "c 0\n",
      " iter : 2  ,total energy: 11.719072481606872\n",
      "cost: 0.0223027711252 attach: 11.696769710481718\n",
      "cost: 0.0222963362635 attach: 11.691286532013049\n",
      "c 0\n",
      " iter : 3  ,total energy: 11.71358286827657\n",
      "cost: 0.0222963362635 attach: 11.691286532013049\n",
      "cost: 0.0222903002864 attach: 11.684708308988009\n",
      "c 0\n",
      " iter : 4  ,total energy: 11.706998609274399\n",
      "cost: 0.0222903002864 attach: 11.684708308988009\n",
      "cost: 0.0222854828463 attach: 11.676816732329257\n",
      "c 0\n",
      " iter : 5  ,total energy: 11.699102215175522\n",
      "cost: 0.0222854828463 attach: 11.676816732329257\n",
      "cost: 0.022283191689 attach: 11.667350138879051\n",
      "c 0\n",
      " iter : 6  ,total energy: 11.689633330568062\n",
      "cost: 0.022283191689 attach: 11.667350138879051\n",
      "cost: 0.0222854618997 attach: 11.655994975849172\n",
      "c 0\n",
      " iter : 7  ,total energy: 11.678280437748885\n",
      "cost: 0.0222854618997 attach: 11.655994975849172\n",
      "cost: 0.0222954045845 attach: 11.642375617580445\n",
      "c 0\n",
      " iter : 8  ,total energy: 11.664671022164962\n",
      "cost: 0.0222954045845 attach: 11.642375617580445\n",
      "cost: 0.0223177134452 attach: 11.626042231150056\n",
      "c 0\n",
      " iter : 9  ,total energy: 11.648359944595217\n",
      "cost: 0.0223177134452 attach: 11.626042231150056\n",
      "cost: 0.0223593987025 attach: 11.606456338099619\n",
      "c 0\n",
      " iter : 10  ,total energy: 11.628815736802077\n",
      "cost: 0.0223593987025 attach: 11.606456338099619\n",
      "cost: 0.0224308477239 attach: 11.58297366543581\n",
      "c 0\n",
      " iter : 11  ,total energy: 11.60540451315968\n",
      "cost: 0.0224308477239 attach: 11.58297366543581\n",
      "cost: 0.0225473541584 attach: 11.554823821287776\n",
      "c 0\n",
      " iter : 12  ,total energy: 11.577371175446192\n",
      "cost: 0.0225473541584 attach: 11.554823821287776\n",
      "cost: 0.0227313174395 attach: 11.521086271593129\n",
      "c 0\n",
      " iter : 13  ,total energy: 11.54381758903259\n",
      "cost: 0.0227313174395 attach: 11.521086271593129\n",
      "cost: 0.0230153991361 attach: 11.480662038176568\n",
      "c 0\n",
      " iter : 14  ,total energy: 11.50367743731263\n",
      "cost: 0.0230153991361 attach: 11.480662038176568\n",
      "cost: 0.0234470412577 attach: 11.432240492654737\n",
      "c 0\n",
      " iter : 15  ,total energy: 11.455687533912403\n",
      "cost: 0.0234470412577 attach: 11.432240492654737\n",
      "cost: 0.0240949168681 attach: 11.374260596101156\n",
      "c 0\n",
      " iter : 16  ,total energy: 11.398355512969292\n",
      "cost: 0.0240949168681 attach: 11.374260596101156\n",
      "cost: 0.0250581117656 attach: 11.304865949157794\n",
      "c 0\n",
      " iter : 17  ,total energy: 11.329924060923345\n",
      "cost: 0.0250581117656 attach: 11.304865949157794\n",
      "cost: 0.0264791485227 attach: 11.221853098936062\n",
      "c 0\n",
      " iter : 18  ,total energy: 11.248332247458745\n",
      "cost: 0.0264791485227 attach: 11.221853098936062\n",
      "cost: 0.028562386345 attach: 11.122612740381225\n",
      "c 0\n",
      " iter : 19  ,total energy: 11.151175126726265\n",
      "cost: 0.028562386345 attach: 11.122612740381225\n",
      "cost: 0.0315998906999 attach: 11.004063817448452\n",
      "c 0\n",
      " iter : 20  ,total energy: 11.035663708148387\n",
      "cost: 0.0315998906999 attach: 11.004063817448452\n",
      "cost: 0.0360075933887 attach: 10.862581179587544\n",
      "c 0\n",
      " iter : 21  ,total energy: 10.89858877297623\n",
      "cost: 0.0360075933887 attach: 10.862581179587544\n",
      "cost: 0.0423754740981 attach: 10.693918557508749\n",
      "c 0\n",
      " iter : 22  ,total energy: 10.736294031606816\n",
      "cost: 0.0423754740981 attach: 10.693918557508749\n",
      "cost: 0.0515365747296 attach: 10.493130500042415\n",
      "c 0\n",
      " iter : 23  ,total energy: 10.544667074771997\n",
      "cost: 0.0515365747296 attach: 10.493130500042415\n",
      "cost: 0.0646608199244 attach: 10.254500166206903\n",
      "c 0\n",
      " iter : 24  ,total energy: 10.319160986131305\n",
      "cost: 0.0646608199244 attach: 10.254500166206903\n",
      "cost: 0.0833806067953 attach: 9.971485826092632\n",
      "c 0\n",
      " iter : 25  ,total energy: 10.054866432887946\n",
      "cost: 0.0833806067953 attach: 9.971485826092632\n",
      "cost: 0.109955308728 attach: 9.636710987201914\n",
      "c 0\n",
      " iter : 26  ,total energy: 9.746666295929911\n",
      "cost: 0.109955308728 attach: 9.636710987201914\n",
      "cost: 0.14747960951 attach: 9.242051399896244\n",
      "c 0\n",
      " iter : 27  ,total energy: 9.3895310094066\n",
      "cost: 0.14747960951 attach: 9.242051399896244\n",
      "cost: 0.200131370228 attach: 8.778953313428653\n",
      "c 0\n",
      " iter : 28  ,total energy: 8.979084683656671\n",
      "cost: 0.200131370228 attach: 8.778953313428653\n",
      "cost: 0.273422089197 attach: 8.239415047279216\n",
      "c 0\n",
      " iter : 29  ,total energy: 8.512837136476364\n",
      "cost: 0.273422089197 attach: 8.239415047279216\n",
      "cost: 0.374275118895 attach: 7.619584402543518\n",
      "c 0\n",
      " iter : 30  ,total energy: 7.993859521438658\n",
      "cost: 0.374275118895 attach: 7.619584402543518\n",
      "cost: 0.509881080361 attach: 6.941012297550414\n",
      "c 0\n",
      " iter : 31  ,total energy: 7.4508933779112825\n",
      "cost: 0.509881080361 attach: 6.941012297550414\n",
      "cost: 0.672947543948 attach: 6.453234731199235\n",
      "c 0\n",
      " iter : 32  ,total energy: 7.126182275147578\n",
      "cost: 0.672947543948 attach: 6.453234731199235\n",
      "cost: 0.681066454826 attach: 6.421248907934966\n",
      "c 0\n",
      " iter : 33  ,total energy: 7.1023153627610185\n",
      "cost: 0.681066454826 attach: 6.421248907934966\n",
      "cost: 0.726490003373 attach: 6.519727214679212\n",
      "Condition 0: tensor(1, dtype=torch.uint8)\n",
      "Condition 1, 2, 3: tensor(1, dtype=torch.uint8) tensor(0, dtype=torch.uint8) tensor(1, dtype=torch.uint8)\n",
      "Contition 4: tensor(0, dtype=torch.uint8)\n",
      "Condition 5: False\n",
      "c 1\n",
      " iter : 34  ,total energy: 7.246217218052419\n",
      "cost: 0.681066454826 attach: 6.421248907934966\n",
      "cost: 0.726490003373 attach: 6.519727214679212\n",
      "Condition 0: tensor(1, dtype=torch.uint8)\n",
      "Condition 1, 2, 3: tensor(1, dtype=torch.uint8) tensor(0, dtype=torch.uint8) tensor(0, dtype=torch.uint8)\n",
      "Contition 4: tensor(0, dtype=torch.uint8)\n",
      "Condition 5: False\n",
      "c 2\n",
      " iter : 35  ,total energy: 7.246217218052419\n",
      "cost: 0.681066454826 attach: 6.421248907934966\n",
      "cost: 0.712168539735 attach: 6.3757294164671805\n",
      "c 0\n",
      " iter : 36  ,total energy: 7.087897956202329\n",
      "cost: 0.712168539735 attach: 6.3757294164671805\n",
      "cost: 0.696616791884 attach: 6.299496798726325\n",
      "c 0\n",
      " iter : 37  ,total energy: 6.996113590610014\n",
      "cost: 0.696616791884 attach: 6.299496798726325\n",
      "cost: 0.717520658806 attach: 6.271508726942604\n",
      "c 0\n",
      " iter : 38  ,total energy: 6.98902938574846\n",
      "cost: 0.717520658806 attach: 6.271508726942604\n",
      "cost: 0.71277613951 attach: 6.276138526909785\n",
      "c 0\n",
      " iter : 39  ,total energy: 6.988914666419618\n",
      "cost: 0.71277613951 attach: 6.276138526909785\n",
      "cost: 0.716156480951 attach: 6.272743435465267\n",
      "c 1\n",
      " iter : 40  ,total energy: 6.988899916415832\n",
      "cost: 0.716156480951 attach: 6.272743435465267\n",
      "cost: 0.711556414228 attach: 6.27747013820695\n",
      "Condition 0: tensor(1, dtype=torch.uint8)\n",
      "Condition 1, 2, 3: tensor(1, dtype=torch.uint8) tensor(0, dtype=torch.uint8) tensor(1, dtype=torch.uint8)\n",
      "Contition 4: tensor(0, dtype=torch.uint8)\n",
      "Condition 5: False\n",
      "c 2\n",
      " iter : 41  ,total energy: 6.989026552434955\n",
      "cost: 0.716156480951 attach: 6.272743435465267\n",
      "cost: 0.711556414228 attach: 6.27747013820695\n",
      "Condition 0: tensor(1, dtype=torch.uint8)\n",
      "Condition 1, 2, 3: tensor(1, dtype=torch.uint8) tensor(0, dtype=torch.uint8) tensor(1, dtype=torch.uint8)\n",
      "Contition 4: tensor(0, dtype=torch.uint8)\n",
      "Condition 5: False\n",
      "c 3\n",
      " iter : 42  ,total energy: 6.989026552434955\n",
      "cost: 0.716156480951 attach: 6.272743435465267\n",
      "cost: 0.712704982499 attach: 6.276209851698501\n",
      "Condition 0: tensor(1, dtype=torch.uint8)\n",
      "Condition 1, 2, 3: tensor(1, dtype=torch.uint8) tensor(0, dtype=torch.uint8) tensor(1, dtype=torch.uint8)\n",
      "Contition 4: tensor(0, dtype=torch.uint8)\n",
      "Condition 5: False\n",
      "c 4\n",
      " iter : 43  ,total energy: 6.988914834197984\n",
      "cost: 0.716156480951 attach: 6.272743435465267\n",
      "cost: 0.713854516377 attach: 6.275001664734134\n",
      "c 5\n",
      " iter : 44  ,total energy: 6.988856181111203\n",
      " iter : 45  ,total energy: 6.988856181111203\n"
     ]
    }
   ],
   "source": [
    "# set parameters\n",
    "reg_param = 10**-2 # regularisation parameter\n",
    "\n",
    "gd0_tensor = torch.cat([gd0_list[0], gd0_list[1], gd0_list[2][0], gd0_list[2][1]],0).requires_grad_().view(-1)\n",
    "mom0_tensor = torch.cat([mom0_list[0], mom0_list[1], mom0_list[2][0], mom0_list[2][1]],0).requires_grad_().view(-1)\n",
    "    \n",
    "gd0_tensor.retain_grad()\n",
    "mom0_tensor.retain_grad()\n",
    "    \n",
    "EnergyFunctional = model.EnergyFunctional(modules, H, constr_Id, target, dim, reg_param)\n",
    "\n",
    "# do registration\n",
    "X = [gd0_tensor, mom0_tensor]\n",
    "X = model.gradientdescent(EnergyFunctional, X)"
   ]
  },
  {
   "cell_type": "code",
   "execution_count": 11,
   "metadata": {},
   "outputs": [
    {
     "data": {
      "image/png": "[encoded data removed]",
      "text/plain": [
       "<matplotlib.figure.Figure at 0x7fbb20af58d0>"
      ]
     },
     "metadata": {},
     "output_type": "display_data"
    },
    {
     "data": {
      "image/png": "[encoded data removed]",
      "text/plain": [
       "<matplotlib.figure.Figure at 0x7fbb1a821cf8>"
      ]
     },
     "metadata": {},
     "output_type": "display_data"
    }
   ],
   "source": [
    "plt.figure()\n",
    "plt.scatter(gd0_list[0].view(-1,2)[:, 0].detach().numpy(), gd0_list[0].view(-1,2)[:, 1].detach().numpy(), c='red')\n",
    "plt.scatter(gd0_list[1].view(-1,2)[:, 0].detach().numpy(), gd0_list[1].view(-1,2)[:, 1].detach().numpy(), c='blue')\n",
    "plt.axis('equal')\n",
    "\n",
    "gd_moved = EnergyFunctional.h.module.manifold.gd\n",
    "\n",
    "plt.figure()\n",
    "plt.scatter(gd_moved[0].view(-1,2)[:, 0].detach().numpy(), gd_moved[0].view(-1,2)[:, 1].detach().numpy(), c='red')\n",
    "plt.scatter(gd_moved[1].view(-1,2)[:, 0].detach().numpy(), gd_moved[1].view(-1,2)[:, 1].detach().numpy(), c='blue')\n",
    "plt.axis('equal')\n",
    "\n",
    "plt.show()"
   ]
  },
  {
   "cell_type": "code",
   "execution_count": 12,
   "metadata": {},
   "outputs": [
    {
     "data": {
      "image/png": "[encoded data removed]",
      "text/plain": [
       "<matplotlib.figure.Figure at 0x7fbb1a7f6748>"
      ]
     },
     "metadata": {},
     "output_type": "display_data"
    }
   ],
   "source": [
    "H.module.manifold.fill_gd(EnergyFunctional.tensor2list(X[0]))\n",
    "H.module.manifold.fill_cotan(EnergyFunctional.tensor2list(X[1]))\n",
    "\n",
    "states, controls = dm.shooting.shoot_euler(H, it=10)\n",
    "\n",
    "\n",
    "import matplotlib.cm as cm\n",
    "colors = cm.rainbow(np.linspace(0, 1, len(states)))\n",
    "\n",
    "plt.figure()\n",
    "for s,c in zip(states, colors):\n",
    "    plt.scatter(s.gd[0].view(-1,2)[:, 0].detach().numpy(), s.gd[0].view(-1,2)[:, 1].detach().numpy(), c=c)\n",
    "    plt.scatter(s.gd[1].view(-1,2)[:, 0].detach().numpy(), s.gd[1].view(-1,2)[:, 1].detach().numpy(), c=c)\n",
    "    plt.scatter(s.gd[2][0].view(-1,2)[:, 0].detach().numpy(), s.gd[2][0].view(-1,2)[:, 1].detach().numpy(), c=c)\n",
    "    plt.scatter(s.gd[2][1].view(-1,2)[:, 0].detach().numpy(), s.gd[2][1].view(-1,2)[:, 1].detach().numpy(), c=c)\n",
    "plt.plot(target[0][:, 0].detach().numpy(), target[0][:, 1].detach().numpy(), 'xk')\n",
    "plt.plot(target[1][:, 0].detach().numpy(), target[1][:, 1].detach().numpy(), 'xk')\n",
    "\n",
    "    \n",
    "plt.axis('equal')\n",
    "plt.show()"
   ]
  },
  {
   "cell_type": "code",
   "execution_count": 13,
   "metadata": {},
   "outputs": [
    {
     "data": {
      "image/png": "[encoded data removed]",
      "text/plain": [
       "<matplotlib.figure.Figure at 0x7fbb1a7f6c50>"
      ]
     },
     "metadata": {},
     "output_type": "display_data"
    }
   ],
   "source": [
    "plt.figure()\n",
    "s = states[-1]\n",
    "plt.scatter(s.gd[0].view(-1,2)[:, 0].detach().numpy(), s.gd[0].view(-1,2)[:, 1].detach().numpy(), c=c)\n",
    "plt.scatter(s.gd[1].view(-1,2)[:, 0].detach().numpy(), s.gd[1].view(-1,2)[:, 1].detach().numpy(), c=c)\n",
    "plt.scatter(s.gd[2][0].view(-1,2)[:, 0].detach().numpy(), s.gd[2][0].view(-1,2)[:, 1].detach().numpy(), c=c)\n",
    "plt.scatter(s.gd[2][1].view(-1,2)[:, 0].detach().numpy(), s.gd[2][1].view(-1,2)[:, 1].detach().numpy(), c=c)\n",
    "plt.plot(target[0][:, 0].detach().numpy(), target[0][:, 1].detach().numpy(), 'xk')\n",
    "plt.plot(target[1][:, 0].detach().numpy(), target[1][:, 1].detach().numpy(), 'xk')\n",
    "plt.axis('equal')\n",
    "plt.show()"
   ]
  },
  {
   "cell_type": "code",
   "execution_count": 20,
   "metadata": {},
   "outputs": [
    {
     "name": "stdout",
     "output_type": "stream",
     "text": [
      "tensor(2.4539, grad_fn=<SqrtBackward>)\n"
     ]
    }
   ],
   "source": [
    "from defmod.attachement import L2NormAttachement\n",
    "\n",
    "print(torch.sqrt(sum((s.gd[0].view(-1)-target[0].view(-1))**2)))"
   ]
  },
  {
   "cell_type": "code",
   "execution_count": 21,
   "metadata": {},
   "outputs": [
    {
     "data": {
      "text/plain": [
       "[[tensor([4.7423], grad_fn=<ViewBackward>),\n",
       "  tensor([-15.3773], grad_fn=<ViewBackward>),\n",
       "  [tensor([ 8.8154e-01,  1.9126e-15,  7.0127e-01,  4.8151e-01,  2.4579e-01,\n",
       "            8.0174e-01, -2.8431e-01,  8.2975e-01, -6.8656e-01,  5.2680e-01,\n",
       "           -8.3390e-01,  1.2750e-15, -6.8656e-01, -5.2680e-01, -2.8431e-01,\n",
       "           -8.2975e-01,  2.4579e-01, -8.0174e-01,  7.0127e-01, -4.8151e-01],\n",
       "          grad_fn=<SliceBackward>),\n",
       "   tensor([-3.8553e+00, -3.1924e-15, -2.2321e+00, -2.6582e+00,  9.9509e-01,\n",
       "           -3.6490e+00,  3.1646e+00, -1.7429e+00,  3.1646e+00,  1.7429e+00,\n",
       "            9.9509e-01,  3.6490e+00, -2.2321e+00,  2.6582e+00],\n",
       "          grad_fn=<SliceBackward>)]],\n",
       " [tensor([4.5924], grad_fn=<ViewBackward>),\n",
       "  tensor([-16.3648], grad_fn=<ViewBackward>),\n",
       "  [tensor([ 8.9977e-01,  1.9250e-15,  7.1546e-01,  4.9042e-01,  2.5011e-01,\n",
       "            8.1731e-01, -2.9055e-01,  8.4665e-01, -6.9999e-01,  5.3796e-01,\n",
       "           -8.4982e-01,  1.2833e-15, -6.9999e-01, -5.3796e-01, -2.9055e-01,\n",
       "           -8.4665e-01,  2.5011e-01, -8.1731e-01,  7.1546e-01, -4.9042e-01],\n",
       "          grad_fn=<SliceBackward>),\n",
       "   tensor([-3.8988e+00, -3.2021e-15, -2.2545e+00, -2.6812e+00,  1.0097e+00,\n",
       "           -3.6880e+00,  3.1942e+00, -1.7649e+00,  3.1942e+00,  1.7649e+00,\n",
       "            1.0097e+00,  3.6880e+00, -2.2545e+00,  2.6812e+00],\n",
       "          grad_fn=<SliceBackward>)]],\n",
       " [tensor([4.4380], grad_fn=<ViewBackward>),\n",
       "  tensor([-17.3438], grad_fn=<ViewBackward>),\n",
       "  [tensor([ 9.1820e-01,  1.9373e-15,  7.2980e-01,  4.9939e-01,  2.5445e-01,\n",
       "            8.3301e-01, -2.9686e-01,  8.6375e-01, -7.1355e-01,  5.4927e-01,\n",
       "           -8.6587e-01,  1.9373e-15, -7.1355e-01, -5.4927e-01, -2.9686e-01,\n",
       "           -8.6375e-01,  2.5445e-01, -8.3301e-01,  7.2980e-01, -4.9939e-01],\n",
       "          grad_fn=<SliceBackward>),\n",
       "   tensor([-3.9417e+00, -3.2115e-15, -2.2765e+00, -2.7037e+00,  1.0243e+00,\n",
       "           -3.7264e+00,  3.2230e+00, -1.7868e+00,  3.2230e+00,  1.7868e+00,\n",
       "            1.0243e+00,  3.7264e+00, -2.2765e+00,  2.7037e+00],\n",
       "          grad_fn=<SliceBackward>)]],\n",
       " [tensor([4.2792], grad_fn=<ViewBackward>),\n",
       "  tensor([-18.3129], grad_fn=<ViewBackward>),\n",
       "  [tensor([ 9.3684e-01,  1.9494e-15,  7.4430e-01,  5.0842e-01,  2.5880e-01,\n",
       "            8.4886e-01, -3.0326e-01,  8.8102e-01, -7.2723e-01,  5.6071e-01,\n",
       "           -8.8205e-01,  1.2996e-15, -7.2723e-01, -5.6071e-01, -3.0326e-01,\n",
       "           -8.8102e-01,  2.5880e-01, -8.4886e-01,  7.4430e-01, -5.0842e-01],\n",
       "          grad_fn=<SliceBackward>),\n",
       "   tensor([-3.9838e+00, -3.2206e-15, -2.2981e+00, -2.7255e+00,  1.0388e+00,\n",
       "           -3.7639e+00,  3.2512e+00, -1.8083e+00,  3.2512e+00,  1.8083e+00,\n",
       "            1.0388e+00,  3.7639e+00, -2.2981e+00,  2.7255e+00],\n",
       "          grad_fn=<SliceBackward>)]],\n",
       " [tensor([4.1157], grad_fn=<ViewBackward>),\n",
       "  tensor([-19.2709], grad_fn=<ViewBackward>),\n",
       "  [tensor([ 9.5568e-01,  2.0724e-15,  7.5894e-01,  5.1749e-01,  2.6318e-01,\n",
       "            8.6483e-01, -3.0975e-01,  8.9847e-01, -7.4102e-01,  5.7229e-01,\n",
       "           -8.9836e-01,  7.6483e-16, -7.4102e-01, -5.7229e-01, -3.0975e-01,\n",
       "           -8.9847e-01,  2.6318e-01, -8.6483e-01,  7.5894e-01, -5.1749e-01],\n",
       "          grad_fn=<SliceBackward>),\n",
       "   tensor([-4.0251e+00, -3.3403e-15, -2.3192e+00, -2.7467e+00,  1.0531e+00,\n",
       "           -3.8007e+00,  3.2786e+00, -1.8297e+00,  3.2786e+00,  1.8297e+00,\n",
       "            1.0531e+00,  3.8007e+00, -2.3192e+00,  2.7467e+00],\n",
       "          grad_fn=<SliceBackward>)]],\n",
       " [tensor([3.9477], grad_fn=<ViewBackward>),\n",
       "  tensor([-20.2164], grad_fn=<ViewBackward>),\n",
       "  [tensor([ 9.7472e-01,  2.6310e-15,  7.7371e-01,  5.2662e-01,  2.6756e-01,\n",
       "            8.8093e-01, -3.1632e-01,  9.1608e-01, -7.5493e-01,  5.8400e-01,\n",
       "           -9.1477e-01,  1.3155e-15, -7.5493e-01, -5.8400e-01, -3.1632e-01,\n",
       "           -9.1608e-01,  2.6756e-01, -8.8093e-01,  7.7371e-01, -5.2662e-01],\n",
       "          grad_fn=<SliceBackward>),\n",
       "   tensor([-4.0655e+00, -3.2376e-15, -2.3398e+00, -2.7673e+00,  1.0674e+00,\n",
       "           -3.8367e+00,  3.3052e+00, -1.8507e+00,  3.3052e+00,  1.8507e+00,\n",
       "            1.0674e+00,  3.8367e+00, -2.3398e+00,  2.7673e+00],\n",
       "          grad_fn=<SliceBackward>)]],\n",
       " [tensor([3.7751], grad_fn=<ViewBackward>),\n",
       "  tensor([-21.1483], grad_fn=<ViewBackward>),\n",
       "  [tensor([ 9.9393e-01,  1.9849e-15,  7.8863e-01,  5.3579e-01,  2.7195e-01,\n",
       "            8.9715e-01, -3.2297e-01,  9.3386e-01, -7.6893e-01,  5.9583e-01,\n",
       "           -9.3129e-01,  1.9849e-15, -7.6893e-01, -5.9583e-01, -3.2297e-01,\n",
       "           -9.3386e-01,  2.7195e-01, -8.9715e-01,  7.8863e-01, -5.3579e-01],\n",
       "          grad_fn=<SliceBackward>),\n",
       "   tensor([-4.1051e+00, -3.2456e-15, -2.3600e+00, -2.7872e+00,  1.0814e+00,\n",
       "           -3.8718e+00,  3.3311e+00, -1.8715e+00,  3.3311e+00,  1.8715e+00,\n",
       "            1.0814e+00,  3.8718e+00, -2.3600e+00,  2.7872e+00],\n",
       "          grad_fn=<SliceBackward>)]],\n",
       " [tensor([3.5978], grad_fn=<ViewBackward>),\n",
       "  tensor([-22.0653], grad_fn=<ViewBackward>),\n",
       "  [tensor([ 1.0133e+00,  2.6618e-15,  8.0367e-01,  5.4500e-01,  2.7635e-01,\n",
       "            9.1348e-01, -3.2970e-01,  9.5179e-01, -7.8303e-01,  6.0780e-01,\n",
       "           -9.4792e-01,  1.9963e-15, -7.8303e-01, -6.0780e-01, -3.2970e-01,\n",
       "           -9.5179e-01,  2.7635e-01, -9.1348e-01,  8.0367e-01, -5.4500e-01],\n",
       "          grad_fn=<SliceBackward>),\n",
       "   tensor([-4.1438e+00, -3.2533e-15, -2.3797e+00, -2.8065e+00,  1.0954e+00,\n",
       "           -3.9061e+00,  3.3562e+00, -1.8920e+00,  3.3562e+00,  1.8920e+00,\n",
       "            1.0954e+00,  3.9061e+00, -2.3797e+00,  2.8065e+00],\n",
       "          grad_fn=<SliceBackward>)]],\n",
       " [tensor([3.4160], grad_fn=<ViewBackward>),\n",
       "  tensor([-22.9661], grad_fn=<ViewBackward>),\n",
       "  [tensor([ 1.0329e+00,  2.0076e-15,  8.1884e-01,  5.5424e-01,  2.8076e-01,\n",
       "            9.2991e-01, -3.3650e-01,  9.6987e-01, -7.9722e-01,  6.1988e-01,\n",
       "           -9.6463e-01,  2.0076e-15, -7.9722e-01, -6.1988e-01, -3.3650e-01,\n",
       "           -9.6987e-01,  2.8076e-01, -9.2991e-01,  8.1884e-01, -5.5424e-01],\n",
       "          grad_fn=<SliceBackward>),\n",
       "   tensor([-4.1815e+00, -3.2606e-15, -2.3989e+00, -2.8250e+00,  1.1092e+00,\n",
       "           -3.9394e+00,  3.3805e+00, -1.9121e+00,  3.3805e+00,  1.9121e+00,\n",
       "            1.1092e+00,  3.9394e+00, -2.3989e+00,  2.8250e+00],\n",
       "          grad_fn=<SliceBackward>)]],\n",
       " [tensor([3.2295], grad_fn=<ViewBackward>),\n",
       "  tensor([-23.8495], grad_fn=<ViewBackward>),\n",
       "  [tensor([ 1.0526e+00,  2.6915e-15,  8.3412e-01,  5.6351e-01,  2.8516e-01,\n",
       "            9.4643e-01, -3.4338e-01,  9.8808e-01, -8.1150e-01,  6.3208e-01,\n",
       "           -9.8142e-01,  2.0187e-15, -8.1150e-01, -6.3208e-01, -3.4338e-01,\n",
       "           -9.8808e-01,  2.8516e-01, -9.4643e-01,  8.3412e-01, -5.6351e-01],\n",
       "          grad_fn=<SliceBackward>),\n",
       "   tensor([-4.2183e+00, -1.6338e-15, -2.4176e+00, -2.8429e+00,  1.1228e+00,\n",
       "           -3.9719e+00,  3.4040e+00, -1.9320e+00,  3.4040e+00,  1.9320e+00,\n",
       "            1.1228e+00,  3.9719e+00, -2.4176e+00,  2.8429e+00],\n",
       "          grad_fn=<SliceBackward>)]]]"
      ]
     },
     "execution_count": 21,
     "metadata": {},
     "output_type": "execute_result"
    }
   ],
   "source": [
    "controls"
   ]
  },
  {
   "cell_type": "code",
   "execution_count": 47,
   "metadata": {},
   "outputs": [],
   "source": [
    "# 2 Modules\n",
    "def controlslist2tensor(controls_list):\n",
    "    return torch.cat([controls_list[0].view(-1),controls_list[1].view(-1), controls_list[-1][0].view(-1),controls_list[-1][1].view(-1)])\n",
    "\n",
    "def controlstensor2list(controls, nb_pts, dim):\n",
    "    n = sum(nb_pts)\n",
    "    return [controls[:dim*nb_pts[0]], controls[dim*nb_pts[0]:dim*(nb_pts[0]+nb_pts[1])], [controls[dim*n:dim*(n+nb_pts[0])], controls[dim*(n+nb_pts[0]):]]]\n",
    "\n",
    "def gdtensor2list(gdtensor, nb_pts, dim):\n",
    "    gdlist = []\n",
    "    gdlist_bg = []\n",
    "    j = 0\n",
    "    n = sum(nb_pts)\n",
    "    for i in range(len(nb_pts)):\n",
    "        gdlist.append(gdtensor[dim*j:dim*(j+nb_pts[i])])\n",
    "        gdlist_bg.append(gdtensor[dim*(n+j):dim*(n+j+nb_pts[i])])\n",
    "        j = j + nb_pts[i]\n",
    "    return [*gdlist, gdlist_bg]\n",
    "\n",
    "def gdlist2tensor(gdlist):\n",
    "    return torch.cat([*gdlist[:-1],*gdlist[-1]],0)\n",
    "\n",
    "nb_pts = [nb_pts1, nb_pts2]"
   ]
  },
  {
   "cell_type": "code",
   "execution_count": 48,
   "metadata": {},
   "outputs": [
    {
     "data": {
      "text/plain": [
       "True"
      ]
     },
     "execution_count": 48,
     "metadata": {},
     "output_type": "execute_result"
    }
   ],
   "source": [
    "def test_gradcheck_Hamiltonian_2modules():\n",
    "    def hamiltonian(gd, mom, controls, l):\n",
    "        \n",
    "        H.module.fill_l(l)\n",
    "        H.module.manifold.fill_gd(gdtensor2list(gd, [nb_pts1, nb_pts2], dim))\n",
    "        H.module.manifold.fill_cotan(controlstensor2list(mom, [nb_pts1, nb_pts2], dim))\n",
    "        H.module.fill_controls(controlstensor2list(controls, [nb_pts1, nb_pts2], dim))\n",
    "        H.geodesic_controls()\n",
    "        \n",
    "        return H()\n",
    "    return torch.autograd.gradcheck(hamiltonian, (gd, mom, controls, modules.l), raise_exception=True)\n",
    "\n",
    "modules.compute_geodesic_variables(constr_Id)\n",
    "\n",
    "gd = gdlist2tensor(modules.manifold.gd)\n",
    "mom = controlslist2tensor(modules.manifold.cotan)\n",
    "controls = controlslist2tensor(modules.controls)\n",
    "l = modules.l\n",
    "\n",
    "test_gradcheck_Hamiltonian_2modules()"
   ]
  },
  {
   "cell_type": "code",
   "execution_count": null,
   "metadata": {},
   "outputs": [],
   "source": []
  }
 ],
 "metadata": {
  "kernelspec": {
   "display_name": "Python 3",
   "language": "python",
   "name": "python3"
  },
  "language_info": {
   "codemirror_mode": {
    "name": "ipython",
    "version": 3
   },
   "file_extension": ".py",
   "mimetype": "text/x-python",
   "name": "python",
   "nbconvert_exporter": "python",
   "pygments_lexer": "ipython3",
   "version": "3.6.8"
  }
 },
 "nbformat": 4,
 "nbformat_minor": 2
}
