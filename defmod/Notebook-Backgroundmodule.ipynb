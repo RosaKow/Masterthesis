{
 "cells": [
  {
   "cell_type": "code",
   "execution_count": 150,
   "metadata": {},
   "outputs": [
    {
     "name": "stdout",
     "output_type": "stream",
     "text": [
      "Once deleted, variables cannot be recovered. Proceed (y/[n])? y\n",
      "The autoreload extension is already loaded. To reload it, use:\n",
      "  %reload_ext autoreload\n"
     ]
    }
   ],
   "source": [
    "%reset\n",
    "%load_ext autoreload\n",
    "%autoreload 2\n",
    "\n",
    "import sys\n",
    "sys.path.append(\"../\")\n",
    "\n",
    "import torch\n",
    "import numpy as np\n",
    "import defmod as dm\n",
    "\n",
    "#import matplotlib.pyplot as plt\n",
    "#torch.set_default_tensor_type(torch.DoubleTensor)"
   ]
  },
  {
   "cell_type": "code",
   "execution_count": 151,
   "metadata": {},
   "outputs": [],
   "source": [
    "dim = 2\n",
    "\n",
    "sigma1 = 10\n",
    "nb_pts1 = 5\n",
    "manifold1 = dm.manifold.Landmarks(dim, nb_pts1)\n",
    "gd1 = torch.rand(nb_pts1, dim)\n",
    "manifold1.fill_gd(gd1.view(-1))\n",
    "trans1 = dm.deformationmodules.Translations(manifold1, sigma1)\n",
    "\n",
    "sigma2 = 10\n",
    "nb_pts2 = 7\n",
    "manifold2 = dm.manifold.Landmarks(dim, nb_pts2)\n",
    "gd2 = torch.rand(nb_pts2, dim)\n",
    "manifold2.fill_gd(gd2.view(-1))\n",
    "trans2 = dm.deformationmodules.Translations(manifold2, sigma2)\n",
    "\n",
    "module_list = [trans1, trans2]\n",
    "nb_pts = nb_pts1 + nb_pts2"
   ]
  },
  {
   "cell_type": "code",
   "execution_count": 152,
   "metadata": {},
   "outputs": [],
   "source": [
    "sigma3 = 0.5\n",
    "background = dm.deformationmodules.Background(module_list, sigma3)"
   ]
  },
  {
   "cell_type": "code",
   "execution_count": 153,
   "metadata": {},
   "outputs": [
    {
     "data": {
      "text/plain": [
       "tensor([ -106.8655,   -77.3356, -2649.3103, -1919.0532,  1154.8353,   836.5274,\n",
       "          820.7694,   594.3050,   784.2070,   568.1910])"
      ]
     },
     "execution_count": 153,
     "metadata": {},
     "output_type": "execute_result"
    }
   ],
   "source": [
    "cotan1 = torch.rand(gd1.shape)\n",
    "trans1.manifold.fill_cotan(cotan1.view(-1))\n",
    "trans1.compute_geodesic_control(manifold1)\n",
    "trans1.controls"
   ]
  },
  {
   "cell_type": "code",
   "execution_count": 154,
   "metadata": {},
   "outputs": [
    {
     "data": {
      "text/plain": [
       "tensor([ 509.1888,  467.1892, -300.5175, -270.0637,  732.9759,  670.6016,\n",
       "        -874.8680, -802.8270,  419.4366,  383.3792,  354.8319,  325.8596,\n",
       "        -834.9889, -768.5864])"
      ]
     },
     "execution_count": 154,
     "metadata": {},
     "output_type": "execute_result"
    }
   ],
   "source": [
    "cotan2 = torch.rand(gd2.shape)\n",
    "trans2.manifold.fill_cotan(cotan2.view(-1))\n",
    "trans2.compute_geodesic_control(manifold2)\n",
    "trans2.controls"
   ]
  },
  {
   "cell_type": "code",
   "execution_count": 155,
   "metadata": {},
   "outputs": [
    {
     "data": {
      "text/plain": [
       "tensor([[5.1253, 4.1117],\n",
       "        [4.0947, 3.5938],\n",
       "        [5.4377, 4.6252],\n",
       "        [4.7057, 3.9960],\n",
       "        [3.9165, 3.0639],\n",
       "        [4.4556, 3.7093],\n",
       "        [3.2463, 2.4978],\n",
       "        [5.1433, 4.2923],\n",
       "        [3.8632, 3.0356],\n",
       "        [5.0834, 4.3522]])"
      ]
     },
     "execution_count": 155,
     "metadata": {},
     "output_type": "execute_result"
    }
   ],
   "source": [
    "points = torch.rand(10,dim)\n",
    "background(points)"
   ]
  },
  {
   "cell_type": "code",
   "execution_count": null,
   "metadata": {},
   "outputs": [],
   "source": []
  },
  {
   "cell_type": "code",
   "execution_count": 156,
   "metadata": {},
   "outputs": [
    {
     "data": {
      "text/plain": [
       "[tensor([ 0.3267,  0.2116, -6.0122, -5.4001,  3.6470,  3.4244,  4.4150,  3.4963,\n",
       "          6.0845,  5.3003]),\n",
       " tensor([ 3.0810,  2.2758, -1.3092, -1.2129,  3.3229,  2.7206, -0.6586, -0.2344,\n",
       "          2.7204,  2.5766,  3.0013,  2.6456, -0.0591, -0.3488])]"
      ]
     },
     "execution_count": 156,
     "metadata": {},
     "output_type": "execute_result"
    }
   ],
   "source": [
    "manifold = dm.manifold.CompoundManifold([manifold1, manifold2])\n",
    "TransBackground = dm.deformationmodules.CompoundModule(\n",
    "    [dm.deformationmodules.Translations(manifold1,sigma3),\n",
    "     dm.deformationmodules.Translations(manifold2,sigma3)])\n",
    "TransBackground.compute_geodesic_control(manifold)\n",
    "TransBackground.controls"
   ]
  },
  {
   "cell_type": "code",
   "execution_count": 157,
   "metadata": {},
   "outputs": [
    {
     "data": {
      "text/plain": [
       "[tensor([0.0960, 0.1609, 0.5366, 0.2947, 0.4861, 0.4987, 0.9331, 0.2690, 0.5265,\n",
       "         0.6451]),\n",
       " tensor([0.1169, 0.2260, 0.7068, 0.0550, 0.6344, 0.7703, 0.7581, 0.4552, 0.6165,\n",
       "         0.7063, 0.5587, 0.6089, 0.6303, 0.8636])]"
      ]
     },
     "execution_count": 157,
     "metadata": {},
     "output_type": "execute_result"
    }
   ],
   "source": [
    "background.compute_geodesic_control(manifold)\n",
    "background.controls"
   ]
  },
  {
   "cell_type": "code",
   "execution_count": 172,
   "metadata": {},
   "outputs": [
    {
     "data": {
      "text/plain": [
       "tensor(13.5676)"
      ]
     },
     "execution_count": 172,
     "metadata": {},
     "output_type": "execute_result"
    }
   ],
   "source": [
    "background.cost()"
   ]
  },
  {
   "cell_type": "code",
   "execution_count": 175,
   "metadata": {},
   "outputs": [
    {
     "data": {
      "text/plain": [
       "tensor(13.5676)"
      ]
     },
     "execution_count": 175,
     "metadata": {},
     "output_type": "execute_result"
    }
   ],
   "source": [
    "TransBackground.manifold.fill_gd(background.manifold.gd)\n",
    "TransBackground.fill_controls(background.controls)\n",
    "TransBackground.cost()"
   ]
  },
  {
   "cell_type": "code",
   "execution_count": 171,
   "metadata": {},
   "outputs": [
    {
     "data": {
      "text/plain": [
       "2"
      ]
     },
     "execution_count": 171,
     "metadata": {},
     "output_type": "execute_result"
    }
   ],
   "source": [
    "background.dim\n"
   ]
  },
  {
   "cell_type": "code",
   "execution_count": null,
   "metadata": {},
   "outputs": [],
   "source": []
  },
  {
   "cell_type": "code",
   "execution_count": null,
   "metadata": {},
   "outputs": [],
   "source": []
  },
  {
   "cell_type": "code",
   "execution_count": null,
   "metadata": {},
   "outputs": [],
   "source": []
  }
 ],
 "metadata": {
  "kernelspec": {
   "display_name": "Python 3",
   "language": "python",
   "name": "python3"
  },
  "language_info": {
   "codemirror_mode": {
    "name": "ipython",
    "version": 3
   },
   "file_extension": ".py",
   "mimetype": "text/x-python",
   "name": "python",
   "nbconvert_exporter": "python",
   "pygments_lexer": "ipython3",
   "version": "3.6.8"
  }
 },
 "nbformat": 4,
 "nbformat_minor": 2
}
