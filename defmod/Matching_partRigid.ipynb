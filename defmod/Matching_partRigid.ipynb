{
 "cells": [
  {
   "cell_type": "code",
   "execution_count": 6,
   "metadata": {},
   "outputs": [
    {
     "name": "stdout",
     "output_type": "stream",
     "text": [
      "The autoreload extension is already loaded. To reload it, use:\n",
      "  %reload_ext autoreload\n"
     ]
    }
   ],
   "source": [
    "%load_ext autoreload\n",
    "%autoreload 2\n",
    "\n",
    "import sys\n",
    "\n",
    "sys.path.append(\"../\")\n",
    "import torch\n",
    "import numpy as np\n",
    "\n",
    "import defmod as dm\n",
    "import multimodule_usefulfunctions as mm \n",
    "import matplotlib.pyplot as plt\n",
    "import defmod.hamiltonian_multishape as hamiltonian\n",
    "import model_graddesc as model\n",
    "import defmod.registrationdata as regdata\n",
    "\n",
    "torch.set_default_tensor_type(torch.DoubleTensor)"
   ]
  },
  {
   "cell_type": "code",
   "execution_count": 7,
   "metadata": {},
   "outputs": [],
   "source": [
    "source_vertices = torch.tensor([[1.,3.],[5.,5.],[8., 3.]])\n",
    "target_vertices = torch.tensor([[1.,5.],[5.,4.],[8., 5.]])\n",
    "nb_pts = [10,4]\n",
    "\n",
    "data = regdata.part_rigid(source_vertices, target_vertices, nb_pts)\n",
    "data.build_source()\n",
    "data.build_target()\n",
    "data.build_modules()\n",
    "source = data.source\n",
    "target = data.target"
   ]
  },
  {
   "cell_type": "code",
   "execution_count": 8,
   "metadata": {},
   "outputs": [
    {
     "data": {
      "text/plain": [
       "[<defmod.deformationmodules.CompoundModule at 0x7f14a6ac4358>,\n",
       " <defmod.deformationmodules.CompoundModule at 0x7f14a6ac45c0>]"
      ]
     },
     "execution_count": 8,
     "metadata": {},
     "output_type": "execute_result"
    }
   ],
   "source": [
    "data.modules"
   ]
  },
  {
   "cell_type": "code",
   "execution_count": 9,
   "metadata": {},
   "outputs": [
    {
     "data": {
      "image/png": "[encoded data removed]",
      "text/plain": [
       "<matplotlib.figure.Figure at 0x7f14a377e320>"
      ]
     },
     "metadata": {},
     "output_type": "display_data"
    }
   ],
   "source": [
    "# Visualization of the source shape\n",
    "# The shape is defined by the points at the black crosses\n",
    "\n",
    "x = data.source[0].clone()\n",
    "y = data.source[1].clone()\n",
    "\n",
    "plt.figure()\n",
    "plt.scatter(x[:, 0].detach().numpy(), x[:, 1].detach().numpy(), c='red')\n",
    "plt.scatter(y[:, 0].detach().numpy(), y[:, 1].detach().numpy(), c='blue')\n",
    "plt.scatter(source_vertices[:, 0].detach().numpy(), source_vertices[:, 1].detach().numpy(), c='k', marker='x')\n",
    "\n",
    "plt.axis('equal')\n",
    "plt.show()"
   ]
  },
  {
   "cell_type": "code",
   "execution_count": 10,
   "metadata": {},
   "outputs": [
    {
     "data": {
      "image/png": "[encoded data removed]",
      "text/plain": [
       "<matplotlib.figure.Figure at 0x7f14a37bc400>"
      ]
     },
     "metadata": {},
     "output_type": "display_data"
    },
    {
     "data": {
      "image/png": "[encoded data removed]",
      "text/plain": [
       "<matplotlib.figure.Figure at 0x7f14a16804a8>"
      ]
     },
     "metadata": {},
     "output_type": "display_data"
    }
   ],
   "source": [
    "# Visualization of the source and target\n",
    "plt.figure()\n",
    "plt.scatter(source[0][:, 0].detach().numpy(), source[0][:, 1].detach().numpy(), c='red', marker='x')\n",
    "plt.scatter(source[1][:, 0].detach().numpy(), source[1][:, 1].detach().numpy(), c='blue', marker='+')\n",
    "plt.axis('equal')\n",
    "\n",
    "plt.figure()\n",
    "plt.scatter(target[0][:, 0].detach().numpy(), target[0][:, 1].detach().numpy(), c='red', marker='x')\n",
    "plt.scatter(target[1][:, 0].detach().numpy(), target[1][:, 1].detach().numpy(), c='blue', marker='+')\n",
    "\n",
    "\n",
    "\n",
    "plt.axis('equal')\n",
    "plt.show()"
   ]
  },
  {
   "cell_type": "code",
   "execution_count": 11,
   "metadata": {},
   "outputs": [],
   "source": [
    "# Definition of the multi shape module and Hamiltonian\n",
    "modules = dm.multishape.MultiShapeModule([data.modules[0], data.modules[1]])\n",
    "modules.fill_controls_zero()\n",
    "constr_Id = dm.constraints.Identity_Silent()\n",
    "H = hamiltonian.Hamiltonian_multi(modules, constr_Id)"
   ]
  },
  {
   "cell_type": "code",
   "execution_count": 14,
   "metadata": {},
   "outputs": [
    {
     "data": {
      "text/plain": [
       "[tensor([4.9282, 3.8460, 5.0718, 6.1540, 5.0239, 5.3847, 4.9761, 4.6153],\n",
       "        grad_fn=<CloneBackward>),\n",
       " tensor([4.9282, 3.8460, 5.0718, 6.1540, 5.0239, 5.3847, 4.9761, 4.6153],\n",
       "        grad_fn=<CloneBackward>)]"
      ]
     },
     "execution_count": 14,
     "metadata": {},
     "output_type": "execute_result"
    }
   ],
   "source": [
    "modules.module_list[-1].manifold.gd"
   ]
  },
  {
   "cell_type": "code",
   "execution_count": 6,
   "metadata": {},
   "outputs": [],
   "source": [
    "# Definition of the similarity metric\n",
    "from defmod.attachement import L2NormAttachement\n",
    "\n",
    "def attach(modules, target):\n",
    "    return sum([L2NormAttachement()( modules.module_list[i][-1].manifold.gd.view(-1,2), target[i]) for i in range(len(target))])"
   ]
  },
  {
   "cell_type": "code",
   "execution_count": null,
   "metadata": {},
   "outputs": [],
   "source": []
  },
  {
   "cell_type": "code",
   "execution_count": 10,
   "metadata": {},
   "outputs": [
    {
     "data": {
      "text/plain": [
       "tensor([[ 0.0031,  0.0461],\n",
       "        [-0.0502,  0.0437],\n",
       "        [-0.0325,  0.0447],\n",
       "        [-0.0147,  0.0455],\n",
       "        [ 0.0032, -0.0365],\n",
       "        [-0.0517, -0.0384],\n",
       "        [-0.0335, -0.0377],\n",
       "        [-0.0152, -0.0371]], grad_fn=<CatBackward>)"
      ]
     },
     "execution_count": 10,
     "metadata": {},
     "output_type": "execute_result"
    }
   ],
   "source": [
    "constr_Id(modules)"
   ]
  },
  {
   "cell_type": "code",
   "execution_count": 9,
   "metadata": {},
   "outputs": [
    {
     "name": "stdout",
     "output_type": "stream",
     "text": [
      "energy: constraints_________________\n",
      "tensor([[ 0.0036,  0.0458],\n",
      "        [-0.0495,  0.0484],\n",
      "        [-0.0320,  0.0477],\n",
      "        [-0.0142,  0.0468],\n",
      "        [ 0.0037, -0.0368],\n",
      "        [-0.0511, -0.0338],\n",
      "        [-0.0330, -0.0347],\n",
      "        [-0.0147, -0.0357]], grad_fn=<CatBackward>)\n",
      "cost: 0.00200015509039 attach: 12.361446138251136\n",
      " iter : 0  ,total energy: 12.363446293341523\n",
      "energy: constraints_________________\n",
      "tensor([[ 0.0036,  0.0458],\n",
      "        [-0.0495,  0.0484],\n",
      "        [-0.0320,  0.0477],\n",
      "        [-0.0142,  0.0468],\n",
      "        [ 0.0037, -0.0368],\n",
      "        [-0.0511, -0.0338],\n",
      "        [-0.0330, -0.0347],\n",
      "        [-0.0147, -0.0357]], grad_fn=<CatBackward>)\n",
      "cost: 0.00200015509039 attach: 12.361446138251136\n",
      "energy: constraints_________________\n",
      "tensor([[ 0.0036,  0.0458],\n",
      "        [-0.0495,  0.0484],\n",
      "        [-0.0320,  0.0477],\n",
      "        [-0.0142,  0.0468],\n",
      "        [ 0.0037, -0.0368],\n",
      "        [-0.0511, -0.0338],\n",
      "        [-0.0330, -0.0347],\n",
      "        [-0.0147, -0.0357]], grad_fn=<CatBackward>)\n",
      "cost: 6.55269566752e+13 attach: 6199.374255088386\n",
      "Condition 0: tensor(1, dtype=torch.uint8)\n",
      "Condition 1, 2, 3: tensor(1, dtype=torch.uint8) tensor(0, dtype=torch.uint8) tensor(1, dtype=torch.uint8)\n",
      "Contition 4: tensor(0, dtype=torch.uint8)\n",
      "Condition 5: False\n",
      "c 1\n",
      " iter : 0  ,total energy: 65526956681396.98\n",
      "energy: constraints_________________\n",
      "tensor([[ 0.0036,  0.0458],\n",
      "        [-0.0495,  0.0484],\n",
      "        [-0.0320,  0.0477],\n",
      "        [-0.0142,  0.0468],\n",
      "        [ 0.0037, -0.0368],\n",
      "        [-0.0511, -0.0338],\n",
      "        [-0.0330, -0.0347],\n",
      "        [-0.0147, -0.0357]], grad_fn=<CatBackward>)\n",
      "cost: 0.00200015509039 attach: 12.361446138251136\n",
      "energy: constraints_________________\n",
      "tensor([[ 0.0036,  0.0458],\n",
      "        [-0.0495,  0.0484],\n",
      "        [-0.0320,  0.0477],\n",
      "        [-0.0142,  0.0468],\n",
      "        [ 0.0037, -0.0368],\n",
      "        [-0.0511, -0.0338],\n",
      "        [-0.0330, -0.0347],\n",
      "        [-0.0147, -0.0357]], grad_fn=<CatBackward>)\n",
      "cost: 0.00199986023278 attach: 12.369838460298187\n",
      "Condition 0: tensor(1, dtype=torch.uint8)\n",
      "Condition 1, 2, 3: tensor(1, dtype=torch.uint8) tensor(0, dtype=torch.uint8) tensor(1, dtype=torch.uint8)\n",
      "Contition 4: tensor(0, dtype=torch.uint8)\n",
      "Condition 5: False\n",
      "c 2\n",
      " iter : 1  ,total energy: 12.371838320530962\n",
      "energy: constraints_________________\n",
      "tensor([[ 0.0036,  0.0458],\n",
      "        [-0.0495,  0.0484],\n",
      "        [-0.0320,  0.0477],\n",
      "        [-0.0142,  0.0468],\n",
      "        [ 0.0037, -0.0368],\n",
      "        [-0.0511, -0.0338],\n",
      "        [-0.0330, -0.0347],\n",
      "        [-0.0147, -0.0357]], grad_fn=<CatBackward>)\n",
      "cost: 0.00200015509039 attach: 12.361446138251136\n",
      "energy: constraints_________________\n",
      "tensor([[ 0.0036,  0.0458],\n",
      "        [-0.0495,  0.0484],\n",
      "        [-0.0320,  0.0477],\n",
      "        [-0.0142,  0.0468],\n",
      "        [ 0.0037, -0.0368],\n",
      "        [-0.0511, -0.0338],\n",
      "        [-0.0330, -0.0347],\n",
      "        [-0.0147, -0.0357]], grad_fn=<CatBackward>)\n",
      "cost: 0.00398190925953 attach: 576.9588432020552\n",
      "Condition 0: tensor(1, dtype=torch.uint8)\n",
      "Condition 1, 2, 3: tensor(1, dtype=torch.uint8) tensor(0, dtype=torch.uint8) tensor(1, dtype=torch.uint8)\n",
      "Contition 4: tensor(0, dtype=torch.uint8)\n",
      "Condition 5: False\n",
      "c 3\n",
      " iter : 2  ,total energy: 576.9628251113147\n",
      "energy: constraints_________________\n",
      "tensor([[ 0.0036,  0.0458],\n",
      "        [-0.0495,  0.0484],\n",
      "        [-0.0320,  0.0477],\n",
      "        [-0.0142,  0.0468],\n",
      "        [ 0.0037, -0.0368],\n",
      "        [-0.0511, -0.0338],\n",
      "        [-0.0330, -0.0347],\n",
      "        [-0.0147, -0.0357]], grad_fn=<CatBackward>)\n",
      "cost: 0.00200015509039 attach: 12.361446138251136\n",
      "energy: constraints_________________\n",
      "tensor([[ 0.0036,  0.0458],\n",
      "        [-0.0495,  0.0484],\n",
      "        [-0.0320,  0.0477],\n",
      "        [-0.0142,  0.0468],\n",
      "        [ 0.0037, -0.0368],\n",
      "        [-0.0511, -0.0338],\n",
      "        [-0.0330, -0.0347],\n",
      "        [-0.0147, -0.0357]], grad_fn=<CatBackward>)\n",
      "cost: 0.00200000741633 attach: 12.364536061155107\n",
      "Condition 0: tensor(1, dtype=torch.uint8)\n",
      "Condition 1, 2, 3: tensor(1, dtype=torch.uint8) tensor(1, dtype=torch.uint8) tensor(1, dtype=torch.uint8)\n",
      "Contition 4: tensor(0, dtype=torch.uint8)\n",
      "Condition 5: False\n",
      "c 4\n",
      " iter : 3  ,total energy: 12.366536068571435\n",
      "energy: constraints_________________\n",
      "tensor([[ 0.0036,  0.0458],\n",
      "        [-0.0495,  0.0484],\n",
      "        [-0.0320,  0.0477],\n",
      "        [-0.0142,  0.0468],\n",
      "        [ 0.0037, -0.0368],\n",
      "        [-0.0511, -0.0338],\n",
      "        [-0.0330, -0.0347],\n",
      "        [-0.0147, -0.0357]], grad_fn=<CatBackward>)\n",
      "cost: 0.00200015509039 attach: 12.361446138251136\n",
      "energy: constraints_________________\n",
      "tensor([[ 0.0036,  0.0458],\n",
      "        [-0.0495,  0.0484],\n",
      "        [-0.0320,  0.0477],\n",
      "        [-0.0142,  0.0468],\n",
      "        [ 0.0037, -0.0368],\n",
      "        [-0.0511, -0.0338],\n",
      "        [-0.0330, -0.0347],\n",
      "        [-0.0147, -0.0357]], grad_fn=<CatBackward>)\n",
      "cost: 0.00199951300793 attach: 12.360868327690003\n",
      "c 0\n",
      " iter : 4  ,total energy: 12.362867840697932\n",
      "energy: constraints_________________\n",
      "tensor([[ 0.0036,  0.0458],\n",
      "        [-0.0495,  0.0484],\n",
      "        [-0.0320,  0.0477],\n",
      "        [-0.0142,  0.0468],\n",
      "        [ 0.0037, -0.0368],\n",
      "        [-0.0511, -0.0338],\n",
      "        [-0.0330, -0.0347],\n",
      "        [-0.0147, -0.0357]], grad_fn=<CatBackward>)\n",
      "cost: 0.00199951300793 attach: 12.360868327690003\n",
      "energy: constraints_________________\n",
      "tensor([[ 0.0036,  0.0458],\n",
      "        [-0.0495,  0.0484],\n",
      "        [-0.0320,  0.0477],\n",
      "        [-0.0142,  0.0468],\n",
      "        [ 0.0037, -0.0368],\n",
      "        [-0.0511, -0.0338],\n",
      "        [-0.0330, -0.0347],\n",
      "        [-0.0147, -0.0357]], grad_fn=<CatBackward>)\n",
      "cost: 0.00199979144553 attach: 12.363966425004397\n",
      "Condition 0: tensor(1, dtype=torch.uint8)\n",
      "Condition 1, 2, 3: tensor(1, dtype=torch.uint8) tensor(0, dtype=torch.uint8) tensor(0, dtype=torch.uint8)\n",
      "Contition 4: tensor(0, dtype=torch.uint8)\n",
      "Condition 5: False\n",
      "c 1\n",
      " iter : 5  ,total energy: 12.365966216449923\n",
      "energy: constraints_________________\n",
      "tensor([[ 0.0036,  0.0458],\n",
      "        [-0.0495,  0.0484],\n",
      "        [-0.0320,  0.0477],\n",
      "        [-0.0142,  0.0468],\n",
      "        [ 0.0037, -0.0368],\n",
      "        [-0.0511, -0.0338],\n",
      "        [-0.0330, -0.0347],\n",
      "        [-0.0147, -0.0357]], grad_fn=<CatBackward>)\n",
      "cost: 0.00199951300793 attach: 12.360868327690003\n",
      "energy: constraints_________________\n",
      "tensor([[ 0.0036,  0.0458],\n",
      "        [-0.0495,  0.0484],\n",
      "        [-0.0320,  0.0477],\n",
      "        [-0.0142,  0.0468],\n",
      "        [ 0.0037, -0.0368],\n",
      "        [-0.0511, -0.0338],\n",
      "        [-0.0330, -0.0347],\n",
      "        [-0.0147, -0.0357]], grad_fn=<CatBackward>)\n",
      "cost: 0.00200000023026 attach: 12.362121038266999\n",
      "Condition 0: tensor(1, dtype=torch.uint8)\n",
      "Condition 1, 2, 3: tensor(1, dtype=torch.uint8) tensor(0, dtype=torch.uint8) tensor(0, dtype=torch.uint8)\n",
      "Contition 4: tensor(0, dtype=torch.uint8)\n",
      "Condition 5: False\n",
      "c 2\n",
      " iter : 6  ,total energy: 12.36412103849726\n",
      "energy: constraints_________________\n",
      "tensor([[ 0.0036,  0.0458],\n",
      "        [-0.0495,  0.0484],\n",
      "        [-0.0320,  0.0477],\n",
      "        [-0.0142,  0.0468],\n",
      "        [ 0.0037, -0.0368],\n",
      "        [-0.0511, -0.0338],\n",
      "        [-0.0330, -0.0347],\n",
      "        [-0.0147, -0.0357]], grad_fn=<CatBackward>)\n",
      "cost: 0.00199951300793 attach: 12.360868327690003\n",
      "energy: constraints_________________\n",
      "tensor([[ 0.0036,  0.0458],\n",
      "        [-0.0495,  0.0484],\n",
      "        [-0.0320,  0.0477],\n",
      "        [-0.0142,  0.0468],\n",
      "        [ 0.0037, -0.0368],\n",
      "        [-0.0511, -0.0338],\n",
      "        [-0.0330, -0.0347],\n",
      "        [-0.0147, -0.0357]], grad_fn=<CatBackward>)\n",
      "cost: 0.00200000216208 attach: 12.364012584779871\n",
      "Condition 0: tensor(1, dtype=torch.uint8)\n",
      "Condition 1, 2, 3: tensor(1, dtype=torch.uint8) tensor(0, dtype=torch.uint8) tensor(0, dtype=torch.uint8)\n",
      "Contition 4: tensor(0, dtype=torch.uint8)\n",
      "Condition 5: False\n",
      "c 3\n",
      " iter : 7  ,total energy: 12.366012586941954\n",
      "energy: constraints_________________\n",
      "tensor([[ 0.0036,  0.0458],\n",
      "        [-0.0495,  0.0484],\n",
      "        [-0.0320,  0.0477],\n",
      "        [-0.0142,  0.0468],\n",
      "        [ 0.0037, -0.0368],\n",
      "        [-0.0511, -0.0338],\n",
      "        [-0.0330, -0.0347],\n",
      "        [-0.0147, -0.0357]], grad_fn=<CatBackward>)\n",
      "cost: 0.00199951300793 attach: 12.360868327690003\n",
      "energy: constraints_________________\n",
      "tensor([[ 0.0036,  0.0458],\n",
      "        [-0.0495,  0.0484],\n",
      "        [-0.0320,  0.0477],\n",
      "        [-0.0142,  0.0468],\n",
      "        [ 0.0037, -0.0368],\n",
      "        [-0.0511, -0.0338],\n",
      "        [-0.0330, -0.0347],\n",
      "        [-0.0147, -0.0357]], grad_fn=<CatBackward>)\n"
     ]
    },
    {
     "name": "stdout",
     "output_type": "stream",
     "text": [
      "cost: 0.00199690390529 attach: 12.362982061399665\n",
      "Condition 0: tensor(1, dtype=torch.uint8)\n",
      "Condition 1, 2, 3: tensor(1, dtype=torch.uint8) tensor(0, dtype=torch.uint8) tensor(0, dtype=torch.uint8)\n",
      "Contition 4: tensor(0, dtype=torch.uint8)\n",
      "Condition 5: False\n",
      "c 4\n",
      " iter : 8  ,total energy: 12.36497896530495\n",
      "energy: constraints_________________\n",
      "tensor([[ 0.0036,  0.0458],\n",
      "        [-0.0495,  0.0484],\n",
      "        [-0.0320,  0.0477],\n",
      "        [-0.0142,  0.0468],\n",
      "        [ 0.0037, -0.0368],\n",
      "        [-0.0511, -0.0338],\n",
      "        [-0.0330, -0.0347],\n",
      "        [-0.0147, -0.0357]], grad_fn=<CatBackward>)\n",
      "cost: 0.00199951300793 attach: 12.360868327690003\n",
      "energy: constraints_________________\n",
      "tensor([[ 0.0036,  0.0458],\n",
      "        [-0.0495,  0.0484],\n",
      "        [-0.0320,  0.0477],\n",
      "        [-0.0142,  0.0468],\n",
      "        [ 0.0037, -0.0368],\n",
      "        [-0.0511, -0.0338],\n",
      "        [-0.0330, -0.0347],\n",
      "        [-0.0147, -0.0357]], grad_fn=<CatBackward>)\n",
      "cost: 0.00200001647031 attach: 12.362432648075467\n",
      "Condition 0: tensor(1, dtype=torch.uint8)\n",
      "Condition 1, 2, 3: tensor(1, dtype=torch.uint8) tensor(0, dtype=torch.uint8) tensor(0, dtype=torch.uint8)\n",
      "Contition 4: tensor(0, dtype=torch.uint8)\n",
      "Condition 5: False\n",
      "c 5\n",
      " iter : 9  ,total energy: 12.364432664545772\n",
      " iter : 10  ,total energy: 12.364432664545772\n"
     ]
    }
   ],
   "source": [
    "# setting parameters for optimization\n",
    "reg_param = 10**-3 \n",
    "\n",
    "gd0_tensor = torch.cat(H.module.manifold.unroll_gd().copy(),0).requires_grad_().view(-1)\n",
    "mom0_tensor = torch.cat(H.module.manifold.unroll_cotan().copy(),0).requires_grad_().view(-1)\n",
    "    \n",
    "gd0_tensor.retain_grad()\n",
    "mom0_tensor.retain_grad()\n",
    "    \n",
    "EnergyFunctional = model.EnergyFunctional(modules, H, constr_Id,source, target, 2, reg_param, attach)\n",
    "\n",
    "# do registration\n",
    "X = [gd0_tensor, mom0_tensor]\n",
    "X = model.gradientdescent(EnergyFunctional, X)"
   ]
  },
  {
   "cell_type": "code",
   "execution_count": null,
   "metadata": {},
   "outputs": [],
   "source": []
  },
  {
   "cell_type": "code",
   "execution_count": null,
   "metadata": {},
   "outputs": [],
   "source": [
    "%matplotlib qt5\n",
    "H.module.manifold.fill_gd(X[0])\n",
    "H.module.manifold.fill_cotan(X[1])\n",
    "\n",
    "states, controls = dm.shooting.shoot_euler(H, it=10)\n",
    "\n",
    "import matplotlib.cm as cm\n",
    "colors = cm.rainbow(np.linspace(0, 1, len(states)))\n",
    "\n",
    "plt.figure()\n",
    "for s,c in zip(states, colors):\n",
    "    plt.scatter(s[0][-1].gd.view(-1,2)[:, 0].detach().numpy(), s[0][-1].gd.view(-1,2)[:, 1].detach().numpy(), c=c)\n",
    "    plt.scatter(s[1][-1].gd.view(-1,2)[:, 0].detach().numpy(), s[1][-1].gd.view(-1,2)[:, 1].detach().numpy(), c=c)\n",
    "    plt.scatter(s[2][0].gd.view(-1,2)[:, 0].detach().numpy(), s[2][0].gd.view(-1,2)[:, 1].detach().numpy(), c=c)\n",
    "    plt.scatter(s[2][1].gd.view(-1,2)[:, 0].detach().numpy(), s[2][1].gd.view(-1,2)[:, 1].detach().numpy(), c=c)\n",
    "plt.plot(target[0][:, 0].detach().numpy(), target[0][:, 1].detach().numpy(), 'xk')\n",
    "plt.plot(target[1][:, 0].detach().numpy(), target[1][:, 1].detach().numpy(), 'xk')\n",
    "\n",
    "plt.plot(source[0][:, 0].detach().numpy(), source[0][:, 1].detach().numpy(), '.k')\n",
    "plt.plot(source[1][:, 0].detach().numpy(), source[1][:, 1].detach().numpy(), '.k')\n",
    "\n",
    "    \n",
    "plt.axis('equal')\n",
    "plt.show()"
   ]
  },
  {
   "cell_type": "code",
   "execution_count": null,
   "metadata": {},
   "outputs": [],
   "source": [
    "# Visualization of grid deformation for each submodule\n",
    "nx, ny = 30, 30\n",
    "sx, sy = 30, 30\n",
    "x, y = torch.meshgrid([torch.arange(0, nx), torch.arange(0, ny)])\n",
    "x = sx*(x.type(torch.DoubleTensor)/nx - 0.5)\n",
    "y = sy*(y.type(torch.DoubleTensor)/ny - 0.5)\n",
    "\n",
    "gridpoints = dm.usefulfunctions.grid2vec(x, y).type(torch.DoubleTensor)\n",
    "\n",
    "\n",
    "phi = mm.largeDeformation(modules, states, controls, gridpoints)\n",
    "x1, y1 = dm.usefulfunctions.vec2grid(phi[0], nx, ny)\n",
    "x2, y2 = dm.usefulfunctions.vec2grid(phi[1], nx, ny)\n",
    "x3, y3 = dm.usefulfunctions.vec2grid(phi[2], nx, ny)\n",
    "\n",
    "\n",
    "\n",
    "mm.plot_grid( x1.detach().numpy(), y1.detach().numpy(), color = 'blue')\n",
    "mm.plot_grid(x2.detach().numpy(), y2.detach().numpy(), color = 'blue')\n",
    "mm.plot_grid( x3.detach().numpy(), y3.detach().numpy(), color = 'blue')\n",
    "plt.show()\n"
   ]
  },
  {
   "cell_type": "code",
   "execution_count": null,
   "metadata": {},
   "outputs": [],
   "source": []
  },
  {
   "cell_type": "code",
   "execution_count": null,
   "metadata": {},
   "outputs": [],
   "source": []
  },
  {
   "cell_type": "code",
   "execution_count": null,
   "metadata": {},
   "outputs": [],
   "source": []
  },
  {
   "cell_type": "code",
   "execution_count": null,
   "metadata": {},
   "outputs": [],
   "source": [
    "def test_gradcheck_Hamiltonian():\n",
    "    def hamiltonian(gd, mom):\n",
    "        \n",
    "        H.module.manifold.fill_gd(gd)\n",
    "        H.module.manifold.fill_cotan(mom)\n",
    "        H.geodesic_controls()\n",
    "                \n",
    "        return H()\n",
    "    return torch.autograd.gradcheck(hamiltonian, (gd, mom), raise_exception=True)\n",
    "\n",
    "gd = gd0_tensor\n",
    "mom = 1000*torch.rand(mom0_tensor.shape)\n",
    "\n",
    "\n",
    "test_gradcheck_Hamiltonian()"
   ]
  },
  {
   "cell_type": "code",
   "execution_count": null,
   "metadata": {},
   "outputs": [],
   "source": [
    "def test_gradcheck_EnergyFunctional():\n",
    "    def energy(gd, mom):\n",
    "\n",
    "        return model.EnergyFunctional(H.module, H, constr_Id,source, target, 2, reg_param).energy_tensor(gd, mom)\n",
    "    return torch.autograd.gradcheck(energy, (gd, mom), raise_exception=True)\n",
    "\n",
    "gd = gd0_tensor\n",
    "mom = mom0_tensor\n",
    "\n",
    "\n",
    "test_gradcheck_EnergyFunctional()"
   ]
  },
  {
   "cell_type": "code",
   "execution_count": null,
   "metadata": {},
   "outputs": [],
   "source": [
    "def test_gradcheck_shooting():\n",
    "    def shooting(gd, mom):\n",
    "        \n",
    "        H.module.manifold.fill_gd(gd)\n",
    "        H.module.manifold.fill_cotan(mom)\n",
    "        \n",
    "        intermediate_states, intermediate_controls = dm.shooting.shoot_euler(H, it=2)\n",
    "        return H.module.manifold.unroll_cotan()\n",
    "    return torch.autograd.gradcheck(shooting, (gd, mom), raise_exception=True,atol=1e-2)\n",
    "\n",
    "test_gradcheck_shooting()"
   ]
  },
  {
   "cell_type": "code",
   "execution_count": null,
   "metadata": {},
   "outputs": [],
   "source": [
    "def test_gradcheck_attachement():\n",
    "    def attach(gd, mom):\n",
    "        reg_param = 10**-3 \n",
    "\n",
    "        H.module.manifold.fill_gd(gd)\n",
    "        H.module.manifold.fill_cotan(mom)\n",
    "        energyfunc = model.EnergyFunctional(H.module, H, constr_Id,source, target, 2, reg_param)\n",
    "\n",
    "        return energyfunc.attach() \n",
    "    return torch.autograd.gradcheck(attach, (gd, mom), raise_exception=True)\n",
    "\n",
    "gd = torch.cat(H.module.manifold.unroll_gd(),0).requires_grad_().view(-1)\n",
    "mom = torch.cat(H.module.manifold.unroll_cotan(),0).requires_grad_().view(-1)\n",
    "\n",
    "test_gradcheck_attachement()"
   ]
  },
  {
   "cell_type": "code",
   "execution_count": null,
   "metadata": {},
   "outputs": [],
   "source": [
    "def test_gradcheck_EnergyFunctional():\n",
    "    def energy(gd, mom):\n",
    "        H.module.manifold.fill_gd(gd)\n",
    "        H.module.manifold.fill_cotan(mom)\n",
    "        H.module.compute_geodesic_variables(constr_Id)\n",
    "        return H.module.controls[0]\n",
    "    return torch.autograd.gradcheck(energy, (gd, mom), raise_exception=True)\n",
    "\n",
    "gd = torch.cat(H.module.manifold.unroll_gd(),0).requires_grad_().view(-1)\n",
    "mom = torch.cat(H.module.manifold.unroll_cotan(),0).requires_grad_().view(-1)\n",
    "\n",
    "test_gradcheck_EnergyFunctional()"
   ]
  },
  {
   "cell_type": "code",
   "execution_count": null,
   "metadata": {},
   "outputs": [],
   "source": [
    "def test_gradcheck_autoaction():\n",
    "    def autoaction(gd, mom):\n",
    "        mod.manifold.fill_gd(gd)\n",
    "        mod.manifold.fill_cotan(mom)\n",
    "        return mod.autoaction()\n",
    "    return torch.autograd.gradcheck(autoaction, (gd, mom), raise_exception=True)\n",
    "\n",
    "mod = data.modules[0].copy()\n",
    "gd = torch.cat(mod.manifold.gd.copy())\n",
    "mom = torch.cat(mod.manifold.cotan.copy())\n",
    "\n",
    "gd.requires_grad\n",
    "mom.requires_grad\n",
    "\n",
    "test_gradcheck_autoaction()"
   ]
  },
  {
   "cell_type": "code",
   "execution_count": null,
   "metadata": {},
   "outputs": [],
   "source": []
  },
  {
   "cell_type": "code",
   "execution_count": null,
   "metadata": {},
   "outputs": [],
   "source": []
  },
  {
   "cell_type": "code",
   "execution_count": null,
   "metadata": {},
   "outputs": [],
   "source": []
  },
  {
   "cell_type": "code",
   "execution_count": null,
   "metadata": {},
   "outputs": [],
   "source": [
    "modules.module_list[-1].autoaction()"
   ]
  },
  {
   "cell_type": "code",
   "execution_count": null,
   "metadata": {},
   "outputs": [],
   "source": [
    "modules.background.costop_inv()"
   ]
  },
  {
   "cell_type": "code",
   "execution_count": null,
   "metadata": {},
   "outputs": [],
   "source": [
    "torch.inverse(modules.background.K_q())"
   ]
  },
  {
   "cell_type": "code",
   "execution_count": null,
   "metadata": {},
   "outputs": [],
   "source": [
    "modules.background.K_q() #- torch.eye(20)"
   ]
  }
 ],
 "metadata": {
  "kernelspec": {
   "display_name": "Python 3",
   "language": "python",
   "name": "python3"
  },
  "language_info": {
   "codemirror_mode": {
    "name": "ipython",
    "version": 3
   },
   "file_extension": ".py",
   "mimetype": "text/x-python",
   "name": "python",
   "nbconvert_exporter": "python",
   "pygments_lexer": "ipython3",
   "version": "3.6.8"
  }
 },
 "nbformat": 4,
 "nbformat_minor": 2
}
