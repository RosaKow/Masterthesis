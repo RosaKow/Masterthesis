{
 "cells": [
  {
   "cell_type": "code",
   "execution_count": 2,
   "metadata": {},
   "outputs": [
    {
     "name": "stdout",
     "output_type": "stream",
     "text": [
      "Once deleted, variables cannot be recovered. Proceed (y/[n])? y\n",
      "The autoreload extension is already loaded. To reload it, use:\n",
      "  %reload_ext autoreload\n"
     ]
    }
   ],
   "source": [
    "%reset\n",
    "%load_ext autoreload\n",
    "%autoreload 2\n",
    "\n",
    "import sys\n",
    "\n",
    "sys.path.append(\"../\")\n",
    "import torch\n",
    "import numpy as np\n",
    "import defmod as dm\n",
    "import multimodule_usefulfunctions as mm \n",
    "import matplotlib.pyplot as plt"
   ]
  },
  {
   "cell_type": "code",
   "execution_count": 80,
   "metadata": {},
   "outputs": [],
   "source": [
    "nb_pts1 = 10\n",
    "nb_pts2 = 7\n",
    "dim = 2\n",
    "\n",
    "o1 = torch.tensor([1,1]).float()\n",
    "o2 = torch.tensor([5,5]).float()\n",
    "origin = [o1,o2]\n",
    "radius = [2,1]\n",
    "numberPoints = [nb_pts1, nb_pts2]\n",
    "gd_list = mm.multipleCircles(origin, radius, numberPoints)"
   ]
  },
  {
   "cell_type": "code",
   "execution_count": 81,
   "metadata": {},
   "outputs": [],
   "source": [
    "points_in_region1 = lambda points: mm.pointInCircle(points, o1, radius[0])\n",
    "points_in_region2 = lambda points: mm.pointInCircle(points, o2, radius[1])\n",
    "points_in_region = [points_in_region1, points_in_region2]"
   ]
  },
  {
   "cell_type": "code",
   "execution_count": 88,
   "metadata": {},
   "outputs": [],
   "source": [
    "sigma1 = 1\n",
    "manifold1 = dm.manifold.Landmarks(dim, nb_pts1, gd=gd_list[0].view(-1))\n",
    "trans1 = dm.deformationmodules.Translations(manifold1, sigma1)\n",
    "\n",
    "sigma2 = 1\n",
    "manifold2 = dm.manifold.Landmarks(dim, nb_pts2, gd=gd_list[1].view(-1))\n",
    "trans2 = dm.deformationmodules.Translations(manifold2, sigma2)\n",
    "\n",
    "module_list = [trans1, trans2]\n",
    "modules = dm.multishape.MultiShapeModule(module_list, points_in_region,1)"
   ]
  },
  {
   "cell_type": "code",
   "execution_count": 89,
   "metadata": {},
   "outputs": [
    {
     "data": {
      "text/plain": [
       "[False, False, False, False, False, True, False, True, False, False]"
      ]
     },
     "execution_count": 89,
     "metadata": {},
     "output_type": "execute_result"
    }
   ],
   "source": [
    "points = 7*torch.rand([10,2])\n",
    "points_in_region1(points)\n",
    "points_in_region2(points)\n"
   ]
  },
  {
   "cell_type": "code",
   "execution_count": 90,
   "metadata": {},
   "outputs": [
    {
     "data": {
      "image/png": "[encoded data removed]",
      "text/plain": [
       "<matplotlib.figure.Figure at 0x7f06806d4470>"
      ]
     },
     "metadata": {},
     "output_type": "display_data"
    }
   ],
   "source": [
    "plt.scatter(gd_list[0][:, 0].detach().numpy(), gd_list[0][:, 1].detach().numpy(), c='red')\n",
    "plt.scatter(gd_list[1][:, 0].detach().numpy(), gd_list[1][:, 1].detach().numpy(), c='blue')\n",
    "\n",
    "plt.scatter(points[:,0].numpy(), points[:,1].numpy(), c='y')\n",
    "\n",
    "plt.axis('equal')\n",
    "plt.show()"
   ]
  },
  {
   "cell_type": "code",
   "execution_count": 91,
   "metadata": {},
   "outputs": [],
   "source": [
    "trans1.fill_controls(torch.rand(nb_pts1,dim))\n",
    "trans2.fill_controls(torch.rand(nb_pts2,dim))\n",
    "modules.backgroundmodule.fill_controls([trans1.controls, trans2.controls])\n",
    "\n",
    "fields = [trans1.field_generator(), trans2.field_generator()]\n",
    "multifield = dm.structuredfield.StructuredField_multi(fields, points_in_region)"
   ]
  },
  {
   "cell_type": "code",
   "execution_count": 92,
   "metadata": {},
   "outputs": [
    {
     "data": {
      "text/plain": [
       "tensor([[0.0000, 0.0000],\n",
       "        [0.0000, 0.0000],\n",
       "        [0.0000, 0.0000],\n",
       "        [0.0000, 0.0000],\n",
       "        [0.0000, 0.0000],\n",
       "        [1.6679, 2.2549],\n",
       "        [0.7266, 0.4013],\n",
       "        [1.4367, 1.9371],\n",
       "        [0.0000, 0.0000],\n",
       "        [0.0000, 0.0000]], grad_fn=<AddBackward0>)"
      ]
     },
     "execution_count": 92,
     "metadata": {},
     "output_type": "execute_result"
    }
   ],
   "source": [
    "multifield(points)"
   ]
  },
  {
   "cell_type": "code",
   "execution_count": 93,
   "metadata": {},
   "outputs": [
    {
     "data": {
      "text/plain": [
       "tensor([[5.0532, 6.2844],\n",
       "        [2.8080, 0.0603],\n",
       "        [1.7939, 5.3804],\n",
       "        [4.2685, 1.5049],\n",
       "        [6.8284, 5.1324],\n",
       "        [4.2788, 4.7826],\n",
       "        [1.9855, 1.7846],\n",
       "        [4.1972, 4.4582],\n",
       "        [2.6359, 2.3905],\n",
       "        [0.8465, 3.4235]])"
      ]
     },
     "execution_count": 93,
     "metadata": {},
     "output_type": "execute_result"
    }
   ],
   "source": [
    "points"
   ]
  },
  {
   "cell_type": "code",
   "execution_count": 94,
   "metadata": {},
   "outputs": [
    {
     "data": {
      "text/plain": [
       "tensor([[1.5580, 2.2426],\n",
       "        [0.9308, 1.0108],\n",
       "        [0.0943, 0.0823],\n",
       "        [0.1780, 0.2072],\n",
       "        [0.8046, 1.3302],\n",
       "        [1.6679, 2.2549],\n",
       "        [0.7266, 0.4013],\n",
       "        [1.4367, 1.9371],\n",
       "        [0.6902, 0.2665],\n",
       "        [0.7136, 0.6548]], grad_fn=<AddBackward0>)"
      ]
     },
     "execution_count": 94,
     "metadata": {},
     "output_type": "execute_result"
    }
   ],
   "source": [
    "vs = modules.field_generator()\n",
    "vs(points)\n",
    "# field generator seems to work!"
   ]
  },
  {
   "cell_type": "code",
   "execution_count": 95,
   "metadata": {},
   "outputs": [
    {
     "data": {
      "text/plain": [
       "tensor([[1.5580, 2.2426],\n",
       "        [0.9308, 1.0108],\n",
       "        [0.0943, 0.0823],\n",
       "        [0.1780, 0.2072],\n",
       "        [0.8046, 1.3302],\n",
       "        [1.6679, 2.2549],\n",
       "        [0.7266, 0.4013],\n",
       "        [1.4367, 1.9371],\n",
       "        [0.6902, 0.2665],\n",
       "        [0.7136, 0.6548]], grad_fn=<AddBackward0>)"
      ]
     },
     "execution_count": 95,
     "metadata": {},
     "output_type": "execute_result"
    }
   ],
   "source": [
    "modules(points)\n",
    "# call function seems to work!"
   ]
  },
  {
   "cell_type": "code",
   "execution_count": 96,
   "metadata": {},
   "outputs": [
    {
     "data": {
      "text/plain": [
       "tensor(27.5008, grad_fn=<AddBackward0>)"
      ]
     },
     "execution_count": 96,
     "metadata": {},
     "output_type": "execute_result"
    }
   ],
   "source": [
    "modules.cost()"
   ]
  },
  {
   "cell_type": "code",
   "execution_count": 97,
   "metadata": {},
   "outputs": [
    {
     "data": {
      "text/plain": [
       "(tensor(4.7680, grad_fn=<MulBackward0>),\n",
       " tensor(8.9788, grad_fn=<MulBackward0>),\n",
       " tensor(13.7541, grad_fn=<MulBackward0>))"
      ]
     },
     "execution_count": 97,
     "metadata": {},
     "output_type": "execute_result"
    }
   ],
   "source": [
    "trans1.cost(), trans2.cost(), modules.backgroundmodule.cost()"
   ]
  },
  {
   "cell_type": "code",
   "execution_count": 98,
   "metadata": {},
   "outputs": [
    {
     "name": "stdout",
     "output_type": "stream",
     "text": [
      "field module: tensor([[0.6309, 0.6734],\n",
      "        [0.6652, 0.2836],\n",
      "        [0.9839, 0.4269],\n",
      "        [0.6774, 1.0522],\n",
      "        [0.6589, 1.4616],\n",
      "        [1.1183, 1.6184],\n",
      "        [0.7908, 1.3201],\n",
      "        [0.6885, 0.8051],\n",
      "        [1.0667, 0.9329],\n",
      "        [1.0293, 1.0723]], grad_fn=<AsStridedBackward>)\n",
      "field background: tensor([[0.6322, 0.6754],\n",
      "        [0.6780, 0.3027],\n",
      "        [0.9883, 0.4326],\n",
      "        [0.6775, 1.0523],\n",
      "        [0.6589, 1.4616],\n",
      "        [1.1183, 1.6184],\n",
      "        [0.7908, 1.3201],\n",
      "        [0.6885, 0.8051],\n",
      "        [1.0667, 0.9329],\n",
      "        [1.0293, 1.0724]], grad_fn=<AddBackward0>)\n",
      "field module: tensor([[1.6973, 2.5657],\n",
      "        [1.7547, 2.6968],\n",
      "        [1.8174, 2.5544],\n",
      "        [1.6096, 2.1606],\n",
      "        [1.4040, 1.8889],\n",
      "        [1.5450, 2.0620],\n",
      "        [1.7242, 2.3088]], grad_fn=<AsStridedBackward>)\n",
      "field background: tensor([[1.6973, 2.5657],\n",
      "        [1.7547, 2.6968],\n",
      "        [1.8174, 2.5544],\n",
      "        [1.6113, 2.1608],\n",
      "        [1.4163, 1.8905],\n",
      "        [1.5510, 2.0634],\n",
      "        [1.7246, 2.3089]], grad_fn=<AddBackward0>)\n"
     ]
    },
    {
     "data": {
      "text/plain": [
       "tensor([[-1.2766e-03, -2.0595e-03],\n",
       "        [-1.2811e-02, -1.9112e-02],\n",
       "        [-4.3998e-03, -5.6911e-03],\n",
       "        [-7.2002e-05, -8.2374e-05],\n",
       "        [-1.7881e-07, -2.3842e-07],\n",
       "        [ 0.0000e+00,  0.0000e+00],\n",
       "        [ 0.0000e+00,  0.0000e+00],\n",
       "        [ 0.0000e+00,  0.0000e+00],\n",
       "        [ 0.0000e+00, -5.9605e-08],\n",
       "        [-7.8678e-06, -1.3351e-05],\n",
       "        [-1.6212e-05, -3.5763e-06],\n",
       "        [-6.7949e-06, -9.5367e-07],\n",
       "        [-5.9128e-05, -5.4836e-06],\n",
       "        [-1.7433e-03, -1.6594e-04],\n",
       "        [-1.2330e-02, -1.5937e-03],\n",
       "        [-6.0303e-03, -1.4553e-03],\n",
       "        [-3.5715e-04, -1.1039e-04]], grad_fn=<CatBackward>)"
      ]
     },
     "execution_count": 98,
     "metadata": {},
     "output_type": "execute_result"
    }
   ],
   "source": [
    "dm.constraints.Identity(modules.field_generator().fields, modules.manifold)()"
   ]
  },
  {
   "cell_type": "code",
   "execution_count": 99,
   "metadata": {},
   "outputs": [
    {
     "name": "stdout",
     "output_type": "stream",
     "text": [
      "field module: tensor([[0.6309, 0.6734],\n",
      "        [0.6652, 0.2836],\n",
      "        [0.9839, 0.4269],\n",
      "        [0.6774, 1.0522],\n",
      "        [0.6589, 1.4616],\n",
      "        [1.1183, 1.6184],\n",
      "        [0.7908, 1.3201],\n",
      "        [0.6885, 0.8051],\n",
      "        [1.0667, 0.9329],\n",
      "        [1.0293, 1.0723]], grad_fn=<AsStridedBackward>)\n",
      "field background: tensor([[0.6322, 0.6754],\n",
      "        [0.6780, 0.3027],\n",
      "        [0.9883, 0.4326],\n",
      "        [0.6775, 1.0523],\n",
      "        [0.6589, 1.4616],\n",
      "        [1.1183, 1.6184],\n",
      "        [0.7908, 1.3201],\n",
      "        [0.6885, 0.8051],\n",
      "        [1.0667, 0.9329],\n",
      "        [1.0293, 1.0724]], grad_fn=<AddBackward0>)\n",
      "field module: tensor([[1.6973, 2.5657],\n",
      "        [1.7547, 2.6968],\n",
      "        [1.8174, 2.5544],\n",
      "        [1.6096, 2.1606],\n",
      "        [1.4040, 1.8889],\n",
      "        [1.5450, 2.0620],\n",
      "        [1.7242, 2.3088]], grad_fn=<AsStridedBackward>)\n",
      "field background: tensor([[1.6973, 2.5657],\n",
      "        [1.7547, 2.6968],\n",
      "        [1.8174, 2.5544],\n",
      "        [1.6113, 2.1608],\n",
      "        [1.4163, 1.8905],\n",
      "        [1.5510, 2.0634],\n",
      "        [1.7246, 2.3089]], grad_fn=<AddBackward0>)\n"
     ]
    },
    {
     "data": {
      "text/plain": [
       "tensor([[-1.2766e-03, -2.0595e-03],\n",
       "        [-1.2811e-02, -1.9112e-02],\n",
       "        [-4.3998e-03, -5.6911e-03],\n",
       "        [-7.2002e-05, -8.2374e-05],\n",
       "        [-1.7881e-07, -2.3842e-07],\n",
       "        [ 0.0000e+00,  0.0000e+00],\n",
       "        [ 0.0000e+00,  0.0000e+00],\n",
       "        [ 0.0000e+00,  0.0000e+00],\n",
       "        [ 0.0000e+00, -5.9605e-08],\n",
       "        [-7.8678e-06, -1.3351e-05],\n",
       "        [-1.6212e-05, -3.5763e-06],\n",
       "        [-6.7949e-06, -9.5367e-07],\n",
       "        [-5.9128e-05, -5.4836e-06],\n",
       "        [-1.7433e-03, -1.6594e-04],\n",
       "        [-1.2330e-02, -1.5937e-03],\n",
       "        [-6.0303e-03, -1.4553e-03],\n",
       "        [-3.5715e-04, -1.1039e-04]], grad_fn=<CatBackward>)"
      ]
     },
     "execution_count": 99,
     "metadata": {},
     "output_type": "execute_result"
    }
   ],
   "source": [
    "fields = modules.field_generator().fields\n",
    "manifold = modules.manifold\n",
    "Id_constr = dm.constraints.Identity(fields, manifold)\n",
    "\n",
    "Id_constr.constraintsmatrix()\n",
    "Id_constr()"
   ]
  },
  {
   "cell_type": "code",
   "execution_count": 100,
   "metadata": {},
   "outputs": [
    {
     "data": {
      "text/plain": [
       "tensor([[0.6309, 0.6734],\n",
       "        [0.6652, 0.2836],\n",
       "        [0.9839, 0.4269],\n",
       "        [0.6774, 1.0522],\n",
       "        [0.6589, 1.4616],\n",
       "        [1.1183, 1.6184],\n",
       "        [0.7908, 1.3201],\n",
       "        [0.6885, 0.8051],\n",
       "        [1.0667, 0.9329],\n",
       "        [1.0293, 1.0723],\n",
       "        [1.6973, 2.5657],\n",
       "        [1.7547, 2.6968],\n",
       "        [1.8174, 2.5544],\n",
       "        [1.6096, 2.1606],\n",
       "        [1.4040, 1.8889],\n",
       "        [1.5450, 2.0620],\n",
       "        [1.7242, 2.3088],\n",
       "        [0.6322, 0.6754],\n",
       "        [0.6780, 0.3027],\n",
       "        [0.9883, 0.4326],\n",
       "        [0.6775, 1.0523],\n",
       "        [0.6589, 1.4616],\n",
       "        [1.1183, 1.6184],\n",
       "        [0.7908, 1.3201],\n",
       "        [0.6885, 0.8051],\n",
       "        [1.0667, 0.9329],\n",
       "        [1.0293, 1.0724],\n",
       "        [1.6973, 2.5657],\n",
       "        [1.7547, 2.6968],\n",
       "        [1.8174, 2.5544],\n",
       "        [1.6113, 2.1608],\n",
       "        [1.4163, 1.8905],\n",
       "        [1.5510, 2.0634],\n",
       "        [1.7246, 2.3089]], grad_fn=<CatBackward>)"
      ]
     },
     "execution_count": 100,
     "metadata": {},
     "output_type": "execute_result"
    }
   ],
   "source": [
    "torch.cat([ fields[0](manifold.gd[0].view(-1, dim)),  fields[1](manifold.gd[1].view(-1, dim)),  fields[2](torch.cat([*manifold.gd[2]], 0).view(-1, dim))], 0)"
   ]
  },
  {
   "cell_type": "code",
   "execution_count": null,
   "metadata": {},
   "outputs": [],
   "source": []
  }
 ],
 "metadata": {
  "kernelspec": {
   "display_name": "Python 3",
   "language": "python",
   "name": "python3"
  },
  "language_info": {
   "codemirror_mode": {
    "name": "ipython",
    "version": 3
   },
   "file_extension": ".py",
   "mimetype": "text/x-python",
   "name": "python",
   "nbconvert_exporter": "python",
   "pygments_lexer": "ipython3",
   "version": "3.6.8"
  }
 },
 "nbformat": 4,
 "nbformat_minor": 2
}
