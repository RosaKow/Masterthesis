{
 "cells": [
  {
   "cell_type": "code",
   "execution_count": 1,
   "metadata": {},
   "outputs": [
    {
     "name": "stdout",
     "output_type": "stream",
     "text": [
      "Once deleted, variables cannot be recovered. Proceed (y/[n])? y\n"
     ]
    }
   ],
   "source": [
    "%reset\n",
    "%load_ext autoreload\n",
    "%autoreload 2\n",
    "\n",
    "import sys\n",
    "\n",
    "sys.path.append(\"../\")\n",
    "import torch\n",
    "import numpy as np\n",
    "import defmod as dm\n",
    "import multimodule_usefulfunctions as mm \n",
    "import matplotlib.pyplot as plt\n",
    "import defmod.hamiltonian_multishape as hamiltonian\n",
    "import defmod.registrationdata as regdata\n",
    "\n",
    "torch.set_default_tensor_type(torch.DoubleTensor)"
   ]
  },
  {
   "cell_type": "code",
   "execution_count": 2,
   "metadata": {},
   "outputs": [],
   "source": [
    "dim = 2\n",
    "origin = [[0.,0.], [10.,0.]]\n",
    "radius = [2., 1.]\n",
    "nb_pts = [10, 7]\n",
    "\n",
    "data = regdata.PointCircles()\n",
    "#data(nb_pts, origin, radius, transvec = [[10., 0.], [-10.,0.]], scal=1)\n",
    "data(nb_pts, origin, radius, transvec = [[0., 5.], [0.,-5.]], scal=1)\n",
    "\n",
    "\n",
    "source = data.source\n",
    "target = data.target"
   ]
  },
  {
   "cell_type": "code",
   "execution_count": 3,
   "metadata": {},
   "outputs": [
    {
     "data": {
      "image/png": "[encoded data removed]",
      "text/plain": [
       "<matplotlib.figure.Figure at 0x7f3c6ae2d940>"
      ]
     },
     "metadata": {},
     "output_type": "display_data"
    },
    {
     "data": {
      "image/png": "[encoded data removed]",
      "text/plain": [
       "<matplotlib.figure.Figure at 0x7f3c68e085f8>"
      ]
     },
     "metadata": {},
     "output_type": "display_data"
    }
   ],
   "source": [
    "plt.scatter(source[0][:, 0].detach().numpy(), source[0][:, 1].detach().numpy(), c='red')\n",
    "plt.scatter(source[1][:, 0].detach().numpy(), source[1][:, 1].detach().numpy(), c='blue')\n",
    "plt.axis('equal')\n",
    "\n",
    "plt.figure()\n",
    "plt.scatter(target[0][:, 0].detach().numpy(), target[0][:, 1].detach().numpy(), c='red')\n",
    "plt.scatter(target[1][:, 0].detach().numpy(), target[1][:, 1].detach().numpy(), c='blue')\n",
    "\n",
    "plt.axis('equal')\n",
    "plt.show()"
   ]
  },
  {
   "cell_type": "code",
   "execution_count": 4,
   "metadata": {},
   "outputs": [],
   "source": [
    "# Defining the deformation modules\n",
    "sigma1 = 3\n",
    "manifold1 = dm.manifold.Landmarks(dim, nb_pts[0], gd=source[0].view(-1))\n",
    "trans1 = dm.deformationmodules.Translations(manifold1, sigma1)\n",
    "silent1 = dm.deformationmodules.SilentPoints(manifold1)\n",
    "mod1 = dm.deformationmodules.CompoundModule([silent1, trans1])\n",
    "\n",
    "\n",
    "sigma2 = 3\n",
    "manifold2 = dm.manifold.Landmarks(dim, nb_pts[1], gd=source[1].view(-1))\n",
    "trans2 = dm.deformationmodules.Translations(manifold2, sigma2)\n",
    "silent2 = dm.deformationmodules.SilentPoints(manifold2)\n",
    "mod2 = dm.deformationmodules.CompoundModule([silent2, trans2])\n",
    "\n",
    "module_list = [mod1, mod2]\n",
    "sigma_bg = 0.1\n",
    "\n",
    "modules = dm.multishape.MultiShapeModule(module_list, sigma_bg)"
   ]
  },
  {
   "cell_type": "code",
   "execution_count": 5,
   "metadata": {},
   "outputs": [],
   "source": [
    "constr_Id = dm.constraints.Identity_Silent()\n",
    "H = hamiltonian.Hamiltonian_multi(modules, constr_Id)"
   ]
  },
  {
   "cell_type": "code",
   "execution_count": 6,
   "metadata": {
    "scrolled": false
   },
   "outputs": [
    {
     "name": "stdout",
     "output_type": "stream",
     "text": [
      "It: 0, deformation cost: 0.000000, attach: 15.811388. Total cost: 15.811388\n",
      "It: 5, deformation cost: 0.000144, attach: 15.665253. Total cost: 15.665397\n",
      "It: 10, deformation cost: 0.014912, attach: 14.336013. Total cost: 14.350925\n",
      "It: 15, deformation cost: 0.032779, attach: 13.620368. Total cost: 13.653147\n",
      "It: 20, deformation cost: 0.051514, attach: 13.060961. Total cost: 13.112474\n",
      "It: 25, deformation cost: 0.070168, attach: 12.597675. Total cost: 12.667843\n",
      "It: 30, deformation cost: 0.088519, attach: 12.198242. Total cost: 12.286761\n",
      "It: 35, deformation cost: 0.106484, attach: 11.845060. Total cost: 11.951543\n",
      "It: 40, deformation cost: 0.124028, attach: 11.527437. Total cost: 11.651465\n",
      "It: 45, deformation cost: 0.141137, attach: 11.238326. Total cost: 11.379463\n",
      "It: 50, deformation cost: 0.157804, attach: 10.972787. Total cost: 11.130590\n",
      "It: 55, deformation cost: 0.174029, attach: 10.727194. Total cost: 10.901224\n",
      "It: 60, deformation cost: 0.189817, attach: 10.498787. Total cost: 10.688604\n",
      "It: 65, deformation cost: 0.205173, attach: 10.285398. Total cost: 10.490571\n",
      "It: 70, deformation cost: 0.220160, attach: 10.084557. Total cost: 10.304718\n",
      "It: 75, deformation cost: 0.235802, attach: 9.881955. Total cost: 10.117757\n",
      "It: 80, deformation cost: 0.249832, attach: 9.705758. Total cost: 9.955589\n",
      "It: 85, deformation cost: 0.263450, attach: 9.539317. Total cost: 9.802767\n",
      "It: 90, deformation cost: 0.276697, attach: 9.381422. Total cost: 9.658119\n",
      "It: 95, deformation cost: 0.289583, attach: 9.231349. Total cost: 9.520933\n",
      "It: 100, deformation cost: 0.302119, attach: 9.088477. Total cost: 9.390596\n",
      "It: 105, deformation cost: 0.314322, attach: 8.952180. Total cost: 9.266501\n",
      "It: 110, deformation cost: 0.326617, attach: 8.817757. Total cost: 9.144374\n",
      "It: 115, deformation cost: 0.340856, attach: 8.666696. Total cost: 9.007552\n",
      "It: 120, deformation cost: 0.357416, attach: 8.497102. Total cost: 8.854517\n",
      "It: 125, deformation cost: 0.374655, attach: 8.326798. Total cost: 8.701453\n",
      "It: 130, deformation cost: 0.391045, attach: 8.169619. Total cost: 8.560664\n",
      "It: 135, deformation cost: 0.406195, attach: 8.027487. Total cost: 8.433682\n",
      "It: 140, deformation cost: 0.420501, attach: 7.895624. Total cost: 8.316125\n",
      "It: 145, deformation cost: 0.434562, attach: 7.768057. Total cost: 8.202619\n",
      "It: 150, deformation cost: 0.448965, attach: 7.639376. Total cost: 8.088341\n",
      "It: 155, deformation cost: 0.464062, attach: 7.506592. Total cost: 7.970654\n",
      "It: 160, deformation cost: 0.479875, attach: 7.369773. Total cost: 7.849648\n",
      "It: 165, deformation cost: 0.496158, attach: 7.231269. Total cost: 7.727427\n",
      "It: 170, deformation cost: 0.512543, attach: 7.094270. Total cost: 7.606813\n",
      "It: 175, deformation cost: 0.528691, attach: 6.961537. Total cost: 7.490228\n",
      "It: 180, deformation cost: 0.544363, attach: 6.834833. Total cost: 7.379196\n",
      "It: 185, deformation cost: 0.559434, attach: 6.714909. Total cost: 7.274343\n",
      "It: 190, deformation cost: 0.573829, attach: 6.602086. Total cost: 7.175916\n",
      "It: 195, deformation cost: 0.587494, attach: 6.496520. Total cost: 7.084014\n",
      "It: 200, deformation cost: 0.600465, attach: 6.397657. Total cost: 6.998122\n",
      "End of the optimisation process.\n"
     ]
    }
   ],
   "source": [
    "my_model = dm.models.ModelMultishapePointsRegistration(source, modules.module_list[:-1], sigma_bg,  dm.attachement.L2NormAttachement_multi(), constr_Id)\n",
    "costs = my_model.fit(target, lr=1e-4, l=1, max_iter=200, log_interval=5)"
   ]
  },
  {
   "cell_type": "code",
   "execution_count": 11,
   "metadata": {},
   "outputs": [
    {
     "data": {
      "text/plain": [
       "([[tensor([ 1.7045,  2.9673,  1.3870,  3.9474,  0.5317,  4.5734, -0.5320,  4.5734,\n",
       "           -1.3874,  3.9474, -1.7048,  2.9673, -1.3706,  2.0401, -0.5212,  1.5034,\n",
       "            0.5209,  1.5033,  1.3703,  2.0401], grad_fn=<CloneBackward>),\n",
       "   tensor([ 1.7045,  2.9673,  1.3870,  3.9474,  0.5317,  4.5734, -0.5320,  4.5734,\n",
       "           -1.3874,  3.9474, -1.7048,  2.9673, -1.3706,  2.0401, -0.5212,  1.5034,\n",
       "            0.5209,  1.5033,  1.3703,  2.0401], grad_fn=<CloneBackward>)],\n",
       "  [tensor([11.0000,  0.0000, 10.6235,  0.7818,  9.7775,  0.9749,  9.0990,  0.4339,\n",
       "            9.0990, -0.4339,  9.7775, -0.9749, 10.6235, -0.7818],\n",
       "          grad_fn=<CloneBackward>),\n",
       "   tensor([11.0000,  0.0000, 10.6235,  0.7818,  9.7775,  0.9749,  9.0990,  0.4339,\n",
       "            9.0990, -0.4339,  9.7775, -0.9749, 10.6235, -0.7818],\n",
       "          grad_fn=<CloneBackward>)],\n",
       "  [tensor([ 1.9292,  0.0190,  1.5629,  1.1469,  0.5975,  1.8490, -0.5975,  1.8490,\n",
       "           -1.5629,  1.1469, -1.9292,  0.0190, -1.5585, -1.0986, -0.5947, -1.7838,\n",
       "            0.5947, -1.7838,  1.5585, -1.0986], grad_fn=<CloneBackward>),\n",
       "   tensor([11.0000,  0.0000, 10.6235,  0.7818,  9.7775,  0.9749,  9.0990,  0.4339,\n",
       "            9.0990, -0.4339,  9.7775, -0.9749, 10.6235, -0.7818],\n",
       "          grad_fn=<CloneBackward>)]],\n",
       " [tensor([[ 2.0000,  5.0000],\n",
       "          [ 1.6180,  6.1756],\n",
       "          [ 0.6180,  6.9021],\n",
       "          [-0.6180,  6.9021],\n",
       "          [-1.6180,  6.1756],\n",
       "          [-2.0000,  5.0000],\n",
       "          [-1.6180,  3.8244],\n",
       "          [-0.6180,  3.0979],\n",
       "          [ 0.6180,  3.0979],\n",
       "          [ 1.6180,  3.8244]], requires_grad=True), tensor([[11.0000, -5.0000],\n",
       "          [10.6235, -4.2182],\n",
       "          [ 9.7775, -4.0251],\n",
       "          [ 9.0990, -4.5661],\n",
       "          [ 9.0990, -5.4339],\n",
       "          [ 9.7775, -5.9749],\n",
       "          [10.6235, -5.7818]], requires_grad=True)])"
      ]
     },
     "execution_count": 11,
     "metadata": {},
     "output_type": "execute_result"
    }
   ],
   "source": [
    "my_model.shot_manifold.gd, target"
   ]
  },
  {
   "cell_type": "code",
   "execution_count": 12,
   "metadata": {},
   "outputs": [],
   "source": [
    "my_model.compute(target)\n",
    "#shot_gd = my_model()\n",
    "shot_source = [man.manifold_list[0].gd for man in my_model.shot_manifold[:-1]]\n",
    "\n",
    "plt.scatter(shot_source[0].view(-1,2)[:, 0].detach().numpy(),shot_source[0].view(-1,2)[:, 1].detach().numpy(), c='red')\n",
    "plt.scatter(shot_source[1].view(-1,2)[:, 0].detach().numpy(),shot_source[1].view(-1,2)[:, 1].detach().numpy(), c='blue')\n",
    "plt.axis('equal')\n",
    "plt.show()"
   ]
  },
  {
   "cell_type": "code",
   "execution_count": 7,
   "metadata": {},
   "outputs": [
    {
     "ename": "AttributeError",
     "evalue": "'SilentPoints' object has no attribute 'module_list'",
     "output_type": "error",
     "traceback": [
      "\u001b[0;31m---------------------------------------------------------------------------\u001b[0m",
      "\u001b[0;31mAttributeError\u001b[0m                            Traceback (most recent call last)",
      "\u001b[0;32m<ipython-input-7-41cc11eb48c4>\u001b[0m in \u001b[0;36m<module>\u001b[0;34m\u001b[0m\n\u001b[1;32m      9\u001b[0m \u001b[0;31m#plt.plot(my_model.shot_manifold[1].gd[0].detach().view(-1, 2)[:, 1].numpy(), my_model.shot_manifold[1].gd[0].detach().view(-1, 2)[:, 0].numpy(), '.')\u001b[0m\u001b[0;34m\u001b[0m\u001b[0;34m\u001b[0m\u001b[0;34m\u001b[0m\u001b[0m\n\u001b[1;32m     10\u001b[0m \u001b[0;31m#plt.plot(my_model.shot_manifold[2].gd[0].detach().view(-1, 2)[:, 1].numpy(), my_model.shot_manifold[2].gd[0].detach().view(-1, 2)[:, 0].numpy(), '.')\u001b[0m\u001b[0;34m\u001b[0m\u001b[0;34m\u001b[0m\u001b[0;34m\u001b[0m\u001b[0m\n\u001b[0;32m---> 11\u001b[0;31m \u001b[0mgridpos_x\u001b[0m\u001b[0;34m,\u001b[0m \u001b[0mgridpos_y\u001b[0m \u001b[0;34m=\u001b[0m \u001b[0mmy_model\u001b[0m\u001b[0;34m.\u001b[0m\u001b[0mcompute_deformation_grid\u001b[0m\u001b[0;34m(\u001b[0m\u001b[0mtorch\u001b[0m\u001b[0;34m.\u001b[0m\u001b[0mtensor\u001b[0m\u001b[0;34m(\u001b[0m\u001b[0;34m[\u001b[0m\u001b[0;34m-\u001b[0m\u001b[0;36m2\u001b[0m\u001b[0;34m,\u001b[0m \u001b[0;34m-\u001b[0m\u001b[0;36m2\u001b[0m\u001b[0;34m]\u001b[0m\u001b[0;34m)\u001b[0m\u001b[0;34m,\u001b[0m \u001b[0mtorch\u001b[0m\u001b[0;34m.\u001b[0m\u001b[0mtensor\u001b[0m\u001b[0;34m(\u001b[0m\u001b[0;34m[\u001b[0m\u001b[0;36m12\u001b[0m\u001b[0;34m,\u001b[0m \u001b[0;36m12\u001b[0m\u001b[0;34m]\u001b[0m\u001b[0;34m)\u001b[0m\u001b[0;34m,\u001b[0m \u001b[0mtorch\u001b[0m\u001b[0;34m.\u001b[0m\u001b[0mtensor\u001b[0m\u001b[0;34m(\u001b[0m\u001b[0;34m[\u001b[0m\u001b[0;36m16\u001b[0m\u001b[0;34m,\u001b[0m \u001b[0;36m16\u001b[0m\u001b[0;34m]\u001b[0m\u001b[0;34m)\u001b[0m\u001b[0;34m)\u001b[0m\u001b[0;34m\u001b[0m\u001b[0;34m\u001b[0m\u001b[0m\n\u001b[0m\u001b[1;32m     12\u001b[0m \u001b[0mdm\u001b[0m\u001b[0;34m.\u001b[0m\u001b[0musefulfunctions\u001b[0m\u001b[0;34m.\u001b[0m\u001b[0mplot_grid\u001b[0m\u001b[0;34m(\u001b[0m\u001b[0max\u001b[0m\u001b[0;34m,\u001b[0m \u001b[0mgridpos_y\u001b[0m\u001b[0;34m.\u001b[0m\u001b[0mdetach\u001b[0m\u001b[0;34m(\u001b[0m\u001b[0;34m)\u001b[0m\u001b[0;34m.\u001b[0m\u001b[0mnumpy\u001b[0m\u001b[0;34m(\u001b[0m\u001b[0;34m)\u001b[0m\u001b[0;34m,\u001b[0m \u001b[0mgridpos_x\u001b[0m\u001b[0;34m.\u001b[0m\u001b[0mdetach\u001b[0m\u001b[0;34m(\u001b[0m\u001b[0;34m)\u001b[0m\u001b[0;34m.\u001b[0m\u001b[0mnumpy\u001b[0m\u001b[0;34m(\u001b[0m\u001b[0;34m)\u001b[0m\u001b[0;34m,\u001b[0m \u001b[0mcolor\u001b[0m\u001b[0;34m=\u001b[0m\u001b[0;34m'C0'\u001b[0m\u001b[0;34m)\u001b[0m\u001b[0;34m\u001b[0m\u001b[0;34m\u001b[0m\u001b[0m\n\u001b[1;32m     13\u001b[0m \u001b[0;31m#plt.show()\u001b[0m\u001b[0;34m\u001b[0m\u001b[0;34m\u001b[0m\u001b[0;34m\u001b[0m\u001b[0m\n",
      "\u001b[0;32m~/git/Masterthesis/src/deformationmodules/defmod/models.py\u001b[0m in \u001b[0;36mcompute_deformation_grid\u001b[0;34m(self, grid_origin, grid_size, grid_resolution, it, intermediate)\u001b[0m\n\u001b[1;32m    274\u001b[0m         \u001b[0mboundary_labels\u001b[0m \u001b[0;34m=\u001b[0m \u001b[0;34m[\u001b[0m\u001b[0mnp\u001b[0m\u001b[0;34m.\u001b[0m\u001b[0mzeros\u001b[0m\u001b[0;34m(\u001b[0m\u001b[0mgrid_landmarks\u001b[0m\u001b[0;34m.\u001b[0m\u001b[0mnb_pts\u001b[0m\u001b[0;34m)\u001b[0m\u001b[0;34m,\u001b[0m \u001b[0;34m*\u001b[0m\u001b[0;34m[\u001b[0m\u001b[0mnp\u001b[0m\u001b[0;34m.\u001b[0m\u001b[0mones\u001b[0m\u001b[0;34m(\u001b[0m\u001b[0mmod\u001b[0m\u001b[0;34m.\u001b[0m\u001b[0mmanifold\u001b[0m\u001b[0;34m.\u001b[0m\u001b[0mnb_pts\u001b[0m\u001b[0;34m)\u001b[0m \u001b[0;32mfor\u001b[0m \u001b[0mmod\u001b[0m \u001b[0;32min\u001b[0m \u001b[0mself\u001b[0m\u001b[0;34m.\u001b[0m\u001b[0m__module_list\u001b[0m\u001b[0;34m]\u001b[0m\u001b[0;34m]\u001b[0m\u001b[0;34m\u001b[0m\u001b[0;34m\u001b[0m\u001b[0m\n\u001b[1;32m    275\u001b[0m \u001b[0;34m\u001b[0m\u001b[0m\n\u001b[0;32m--> 276\u001b[0;31m         \u001b[0mintermediate\u001b[0m \u001b[0;34m=\u001b[0m \u001b[0mshoot_euler\u001b[0m\u001b[0;34m(\u001b[0m\u001b[0mHamiltonian_multi\u001b[0m\u001b[0;34m(\u001b[0m\u001b[0mMultiShapeModule\u001b[0m\u001b[0;34m(\u001b[0m\u001b[0;34m[\u001b[0m\u001b[0mgrid_silent\u001b[0m\u001b[0;34m,\u001b[0m \u001b[0;34m*\u001b[0m\u001b[0mself\u001b[0m\u001b[0;34m.\u001b[0m\u001b[0m__module_list\u001b[0m\u001b[0;34m]\u001b[0m\u001b[0;34m,\u001b[0m \u001b[0mboundary_labels\u001b[0m\u001b[0;34m)\u001b[0m\u001b[0;34m,\u001b[0m \u001b[0mself\u001b[0m\u001b[0;34m.\u001b[0m\u001b[0m__constr\u001b[0m\u001b[0;34m)\u001b[0m\u001b[0;34m,\u001b[0m \u001b[0mit\u001b[0m\u001b[0;34m=\u001b[0m\u001b[0;36m10\u001b[0m\u001b[0;34m)\u001b[0m\u001b[0;34m\u001b[0m\u001b[0;34m\u001b[0m\u001b[0m\n\u001b[0m\u001b[1;32m    277\u001b[0m \u001b[0;34m\u001b[0m\u001b[0m\n\u001b[1;32m    278\u001b[0m         \u001b[0mgrid_list\u001b[0m \u001b[0;34m=\u001b[0m \u001b[0mvec2grid\u001b[0m\u001b[0;34m(\u001b[0m\u001b[0mgrid_landmarks\u001b[0m\u001b[0;34m.\u001b[0m\u001b[0mgd\u001b[0m\u001b[0;34m.\u001b[0m\u001b[0mview\u001b[0m\u001b[0;34m(\u001b[0m\u001b[0;34m-\u001b[0m\u001b[0;36m1\u001b[0m\u001b[0;34m,\u001b[0m \u001b[0;36m2\u001b[0m\u001b[0;34m)\u001b[0m\u001b[0;34m.\u001b[0m\u001b[0mdetach\u001b[0m\u001b[0;34m(\u001b[0m\u001b[0;34m)\u001b[0m\u001b[0;34m,\u001b[0m \u001b[0mgrid_resolution\u001b[0m\u001b[0;34m[\u001b[0m\u001b[0;36m0\u001b[0m\u001b[0;34m]\u001b[0m\u001b[0;34m,\u001b[0m \u001b[0mgrid_resolution\u001b[0m\u001b[0;34m[\u001b[0m\u001b[0;36m1\u001b[0m\u001b[0;34m]\u001b[0m\u001b[0;34m)\u001b[0m\u001b[0;34m\u001b[0m\u001b[0;34m\u001b[0m\u001b[0m\n",
      "\u001b[0;32m~/git/Masterthesis/src/deformationmodules/defmod/multishape.py\u001b[0m in \u001b[0;36m__init__\u001b[0;34m(self, module_list, sigma_background, boundary_labels)\u001b[0m\n\u001b[1;32m     18\u001b[0m         \u001b[0mself\u001b[0m\u001b[0;34m.\u001b[0m\u001b[0m__sigma_background\u001b[0m \u001b[0;34m=\u001b[0m \u001b[0msigma_background\u001b[0m\u001b[0;34m\u001b[0m\u001b[0;34m\u001b[0m\u001b[0m\n\u001b[1;32m     19\u001b[0m         \u001b[0mself\u001b[0m\u001b[0;34m.\u001b[0m\u001b[0m__module_list\u001b[0m \u001b[0;34m=\u001b[0m \u001b[0;34m[\u001b[0m\u001b[0mmod\u001b[0m\u001b[0;34m.\u001b[0m\u001b[0mcopy\u001b[0m\u001b[0;34m(\u001b[0m\u001b[0;34m)\u001b[0m \u001b[0;32mfor\u001b[0m \u001b[0mmod\u001b[0m \u001b[0;32min\u001b[0m \u001b[0mmodule_list\u001b[0m\u001b[0;34m]\u001b[0m\u001b[0;34m\u001b[0m\u001b[0;34m\u001b[0m\u001b[0m\n\u001b[0;32m---> 20\u001b[0;31m         \u001b[0mself\u001b[0m\u001b[0;34m.\u001b[0m\u001b[0m__silent_list\u001b[0m \u001b[0;34m=\u001b[0m \u001b[0;34m[\u001b[0m\u001b[0mmod\u001b[0m\u001b[0;34m.\u001b[0m\u001b[0mmodule_list\u001b[0m\u001b[0;34m[\u001b[0m\u001b[0;36m0\u001b[0m\u001b[0;34m]\u001b[0m\u001b[0;34m.\u001b[0m\u001b[0mcopy\u001b[0m\u001b[0;34m(\u001b[0m\u001b[0;34m)\u001b[0m \u001b[0;32mfor\u001b[0m \u001b[0mmod\u001b[0m \u001b[0;32min\u001b[0m \u001b[0mmodule_list\u001b[0m\u001b[0;34m]\u001b[0m\u001b[0;34m\u001b[0m\u001b[0;34m\u001b[0m\u001b[0m\n\u001b[0m\u001b[1;32m     21\u001b[0m         \u001b[0mself\u001b[0m\u001b[0;34m.\u001b[0m\u001b[0m__background\u001b[0m \u001b[0;34m=\u001b[0m \u001b[0mdm\u001b[0m\u001b[0;34m.\u001b[0m\u001b[0mdeformationmodules\u001b[0m\u001b[0;34m.\u001b[0m\u001b[0mBackground\u001b[0m\u001b[0;34m(\u001b[0m\u001b[0mself\u001b[0m\u001b[0;34m.\u001b[0m\u001b[0m__silent_list\u001b[0m\u001b[0;34m,\u001b[0m \u001b[0mself\u001b[0m\u001b[0;34m.\u001b[0m\u001b[0m__sigma_background\u001b[0m\u001b[0;34m,\u001b[0m \u001b[0mboundary_labels\u001b[0m\u001b[0;34m)\u001b[0m\u001b[0;34m\u001b[0m\u001b[0;34m\u001b[0m\u001b[0m\n\u001b[1;32m     22\u001b[0m         \u001b[0mself\u001b[0m\u001b[0;34m.\u001b[0m\u001b[0m__module_list\u001b[0m \u001b[0;34m=\u001b[0m \u001b[0;34m[\u001b[0m\u001b[0;34m*\u001b[0m\u001b[0mself\u001b[0m\u001b[0;34m.\u001b[0m\u001b[0m__module_list\u001b[0m\u001b[0;34m,\u001b[0m \u001b[0mself\u001b[0m\u001b[0;34m.\u001b[0m\u001b[0m__background\u001b[0m\u001b[0;34m]\u001b[0m\u001b[0;34m\u001b[0m\u001b[0;34m\u001b[0m\u001b[0m\n",
      "\u001b[0;32m~/git/Masterthesis/src/deformationmodules/defmod/multishape.py\u001b[0m in \u001b[0;36m<listcomp>\u001b[0;34m(.0)\u001b[0m\n\u001b[1;32m     18\u001b[0m         \u001b[0mself\u001b[0m\u001b[0;34m.\u001b[0m\u001b[0m__sigma_background\u001b[0m \u001b[0;34m=\u001b[0m \u001b[0msigma_background\u001b[0m\u001b[0;34m\u001b[0m\u001b[0;34m\u001b[0m\u001b[0m\n\u001b[1;32m     19\u001b[0m         \u001b[0mself\u001b[0m\u001b[0;34m.\u001b[0m\u001b[0m__module_list\u001b[0m \u001b[0;34m=\u001b[0m \u001b[0;34m[\u001b[0m\u001b[0mmod\u001b[0m\u001b[0;34m.\u001b[0m\u001b[0mcopy\u001b[0m\u001b[0;34m(\u001b[0m\u001b[0;34m)\u001b[0m \u001b[0;32mfor\u001b[0m \u001b[0mmod\u001b[0m \u001b[0;32min\u001b[0m \u001b[0mmodule_list\u001b[0m\u001b[0;34m]\u001b[0m\u001b[0;34m\u001b[0m\u001b[0;34m\u001b[0m\u001b[0m\n\u001b[0;32m---> 20\u001b[0;31m         \u001b[0mself\u001b[0m\u001b[0;34m.\u001b[0m\u001b[0m__silent_list\u001b[0m \u001b[0;34m=\u001b[0m \u001b[0;34m[\u001b[0m\u001b[0mmod\u001b[0m\u001b[0;34m.\u001b[0m\u001b[0mmodule_list\u001b[0m\u001b[0;34m[\u001b[0m\u001b[0;36m0\u001b[0m\u001b[0;34m]\u001b[0m\u001b[0;34m.\u001b[0m\u001b[0mcopy\u001b[0m\u001b[0;34m(\u001b[0m\u001b[0;34m)\u001b[0m \u001b[0;32mfor\u001b[0m \u001b[0mmod\u001b[0m \u001b[0;32min\u001b[0m \u001b[0mmodule_list\u001b[0m\u001b[0;34m]\u001b[0m\u001b[0;34m\u001b[0m\u001b[0;34m\u001b[0m\u001b[0m\n\u001b[0m\u001b[1;32m     21\u001b[0m         \u001b[0mself\u001b[0m\u001b[0;34m.\u001b[0m\u001b[0m__background\u001b[0m \u001b[0;34m=\u001b[0m \u001b[0mdm\u001b[0m\u001b[0;34m.\u001b[0m\u001b[0mdeformationmodules\u001b[0m\u001b[0;34m.\u001b[0m\u001b[0mBackground\u001b[0m\u001b[0;34m(\u001b[0m\u001b[0mself\u001b[0m\u001b[0;34m.\u001b[0m\u001b[0m__silent_list\u001b[0m\u001b[0;34m,\u001b[0m \u001b[0mself\u001b[0m\u001b[0;34m.\u001b[0m\u001b[0m__sigma_background\u001b[0m\u001b[0;34m,\u001b[0m \u001b[0mboundary_labels\u001b[0m\u001b[0;34m)\u001b[0m\u001b[0;34m\u001b[0m\u001b[0;34m\u001b[0m\u001b[0m\n\u001b[1;32m     22\u001b[0m         \u001b[0mself\u001b[0m\u001b[0;34m.\u001b[0m\u001b[0m__module_list\u001b[0m \u001b[0;34m=\u001b[0m \u001b[0;34m[\u001b[0m\u001b[0;34m*\u001b[0m\u001b[0mself\u001b[0m\u001b[0;34m.\u001b[0m\u001b[0m__module_list\u001b[0m\u001b[0;34m,\u001b[0m \u001b[0mself\u001b[0m\u001b[0;34m.\u001b[0m\u001b[0m__background\u001b[0m\u001b[0;34m]\u001b[0m\u001b[0;34m\u001b[0m\u001b[0;34m\u001b[0m\u001b[0m\n",
      "\u001b[0;31mAttributeError\u001b[0m: 'SilentPoints' object has no attribute 'module_list'"
     ]
    }
   ],
   "source": [
    "out = my_model()\n",
    "%matplotlib qt5\n",
    "#plt.subplot(1, 2, 1)\n",
    "#dm.usefulfunctions.plot_tensor_scatter(target[0], alpha=0.4)\n",
    "#dm.usefulfunctions.plot_tensor_scatter(source[0], alpha=0.4)\n",
    "#ax = plt.subplot(1, 2, 2)\n",
    "#dm.usefulfunctions.plot_tensor_scatter(target[0], alpha=0.4)\n",
    "#dm.usefulfunctions.plot_tensor_scatter(out[0][0], alpha=0.4)\n",
    "#plt.plot(my_model.shot_manifold[1].gd[0].detach().view(-1, 2)[:, 1].numpy(), my_model.shot_manifold[1].gd[0].detach().view(-1, 2)[:, 0].numpy(), '.')\n",
    "#plt.plot(my_model.shot_manifold[2].gd[0].detach().view(-1, 2)[:, 1].numpy(), my_model.shot_manifold[2].gd[0].detach().view(-1, 2)[:, 0].numpy(), '.')\n",
    "gridpos_x, gridpos_y = my_model.compute_deformation_grid(torch.tensor([-2, -2]), torch.tensor([12, 12]), torch.tensor([16, 16]))\n",
    "dm.usefulfunctions.plot_grid(ax, gridpos_y.detach().numpy(), gridpos_x.detach().numpy(), color='C0')\n",
    "#plt.show()\n"
   ]
  },
  {
   "cell_type": "code",
   "execution_count": null,
   "metadata": {},
   "outputs": [],
   "source": []
  },
  {
   "cell_type": "code",
   "execution_count": null,
   "metadata": {},
   "outputs": [],
   "source": []
  },
  {
   "cell_type": "code",
   "execution_count": null,
   "metadata": {},
   "outputs": [],
   "source": []
  },
  {
   "cell_type": "code",
   "execution_count": 9,
   "metadata": {},
   "outputs": [],
   "source": [
    "grid_origin = [0,0]\n",
    "grid_size = [10,10]\n",
    "grid_resolution = [16, 16]\n",
    "\n",
    "x, y = torch.meshgrid([\n",
    "            torch.linspace(grid_origin[0], grid_origin[0]+grid_size[0], grid_resolution[0]),\n",
    "            torch.linspace(grid_origin[1], grid_origin[1]+grid_size[1], grid_resolution[1])])\n",
    "\n",
    "gridpos = dm.usefulfunctions.grid2vec(x, y)\n",
    "\n",
    "grid_landmarks = dm.manifold.Landmarks(2, gridpos.shape[0], gd=gridpos.view(-1))\n",
    "grid_silent = dm.deformationmodules.SilentPoints(grid_landmarks)\n",
    "        \n",
    "boundary_labels = [np.zeros(grid_landmarks.nb_pts), *[np.ones(mod.manifold.nb_pts) for mod in module_list]]\n",
    "        \n",
    "multi_silent = dm.multishape.MultiShapeModule([grid_silent, *module_list], sigma_bg, boundary_labels)"
   ]
  },
  {
   "cell_type": "code",
   "execution_count": null,
   "metadata": {},
   "outputs": [],
   "source": []
  },
  {
   "cell_type": "code",
   "execution_count": null,
   "metadata": {},
   "outputs": [],
   "source": []
  },
  {
   "cell_type": "code",
   "execution_count": null,
   "metadata": {},
   "outputs": [],
   "source": []
  },
  {
   "cell_type": "code",
   "execution_count": 20,
   "metadata": {},
   "outputs": [
    {
     "data": {
      "text/plain": [
       "True"
      ]
     },
     "execution_count": 20,
     "metadata": {},
     "output_type": "execute_result"
    }
   ],
   "source": [
    "def test_gradcheck_Hamiltonian():\n",
    "    def hamiltonian(gd, mom):\n",
    "        \n",
    "        H.module.manifold.fill_gd(gd)\n",
    "        H.module.manifold.fill_cotan(mom)\n",
    "        H.geodesic_controls()\n",
    "                \n",
    "        return H()\n",
    "    return torch.autograd.gradcheck(hamiltonian, (gd, mom), raise_exception=True)\n",
    "\n",
    "gd = torch.cat(H.module.manifold.unroll_gd().copy(),0).requires_grad_().view(-1)\n",
    "mom = torch.cat(H.module.manifold.unroll_cotan().copy(),0).requires_grad_().view(-1)\n",
    "\n",
    "\n",
    "test_gradcheck_Hamiltonian()"
   ]
  },
  {
   "cell_type": "code",
   "execution_count": 8,
   "metadata": {},
   "outputs": [
    {
     "data": {
      "text/plain": [
       "[<defmod.deformationmodules.CompoundModule at 0x7f4158aa08d0>,\n",
       " <defmod.deformationmodules.CompoundModule at 0x7f4158a02080>]"
      ]
     },
     "execution_count": 8,
     "metadata": {},
     "output_type": "execute_result"
    }
   ],
   "source": [
    "module_list"
   ]
  },
  {
   "cell_type": "code",
   "execution_count": 14,
   "metadata": {},
   "outputs": [
    {
     "ename": "RuntimeError",
     "evalue": "Jacobian mismatch for output 0 with respect to input 0,\nnumerical:tensor([[ 0.0000],\n        [ 0.0000],\n        [ 0.0000],\n        [ 0.0000],\n        [ 0.0000],\n        [ 0.0000],\n        [ 0.0000],\n        [ 0.0000],\n        [ 0.0000],\n        [ 0.0000],\n        [ 0.0000],\n        [ 0.0000],\n        [ 0.0000],\n        [ 0.0000],\n        [ 0.0000],\n        [ 0.0000],\n        [ 0.0000],\n        [ 0.0000],\n        [ 0.0000],\n        [ 0.0000],\n        [-0.2753],\n        [ 0.3938],\n        [ 0.4522],\n        [ 0.6506],\n        [ 0.5730],\n        [-0.2520],\n        [ 0.9310],\n        [-1.1611],\n        [-0.4659],\n        [ 0.2741],\n        [ 0.0998],\n        [-0.3811],\n        [ 0.9264],\n        [ 1.0181],\n        [-0.2067],\n        [-0.8382],\n        [-0.4639],\n        [ 0.6465],\n        [ 1.0204],\n        [ 0.1456]])\nanalytical:tensor([[0.],\n        [0.],\n        [0.],\n        [0.],\n        [0.],\n        [0.],\n        [0.],\n        [0.],\n        [0.],\n        [0.],\n        [0.],\n        [0.],\n        [0.],\n        [0.],\n        [0.],\n        [0.],\n        [0.],\n        [0.],\n        [0.],\n        [0.],\n        [0.],\n        [0.],\n        [0.],\n        [0.],\n        [0.],\n        [0.],\n        [0.],\n        [0.],\n        [0.],\n        [0.],\n        [0.],\n        [0.],\n        [0.],\n        [0.],\n        [0.],\n        [0.],\n        [0.],\n        [0.],\n        [0.],\n        [0.]])\n",
     "output_type": "error",
     "traceback": [
      "\u001b[0;31m---------------------------------------------------------------------------\u001b[0m",
      "\u001b[0;31mRuntimeError\u001b[0m                              Traceback (most recent call last)",
      "\u001b[0;32m<ipython-input-14-9c596ea40cb9>\u001b[0m in \u001b[0;36m<module>\u001b[0;34m\u001b[0m\n\u001b[1;32m     16\u001b[0m \u001b[0mmom\u001b[0m \u001b[0;34m=\u001b[0m \u001b[0;34m[\u001b[0m\u001b[0mtorch\u001b[0m\u001b[0;34m.\u001b[0m\u001b[0mrand\u001b[0m\u001b[0;34m(\u001b[0m\u001b[0mmod\u001b[0m\u001b[0;34m.\u001b[0m\u001b[0mmanifold\u001b[0m\u001b[0;34m.\u001b[0m\u001b[0mnumel_gd\u001b[0m\u001b[0;34m,\u001b[0m \u001b[0mrequires_grad\u001b[0m\u001b[0;34m=\u001b[0m\u001b[0;32mTrue\u001b[0m\u001b[0;34m)\u001b[0m \u001b[0;32mfor\u001b[0m \u001b[0mmod\u001b[0m \u001b[0;32min\u001b[0m \u001b[0mmodule_list\u001b[0m\u001b[0;34m]\u001b[0m\u001b[0;34m\u001b[0m\u001b[0;34m\u001b[0m\u001b[0m\n\u001b[1;32m     17\u001b[0m \u001b[0;34m\u001b[0m\u001b[0m\n\u001b[0;32m---> 18\u001b[0;31m \u001b[0mtest_gradcheck_model\u001b[0m\u001b[0;34m(\u001b[0m\u001b[0;34m)\u001b[0m\u001b[0;34m\u001b[0m\u001b[0;34m\u001b[0m\u001b[0m\n\u001b[0m",
      "\u001b[0;32m<ipython-input-14-9c596ea40cb9>\u001b[0m in \u001b[0;36mtest_gradcheck_model\u001b[0;34m()\u001b[0m\n\u001b[1;32m     11\u001b[0m \u001b[0;34m\u001b[0m\u001b[0m\n\u001b[1;32m     12\u001b[0m         \u001b[0;32mreturn\u001b[0m \u001b[0mmodel\u001b[0m\u001b[0;34m.\u001b[0m\u001b[0mattach\u001b[0m\u001b[0;34m\u001b[0m\u001b[0;34m\u001b[0m\u001b[0m\n\u001b[0;32m---> 13\u001b[0;31m     \u001b[0;32mreturn\u001b[0m \u001b[0mtorch\u001b[0m\u001b[0;34m.\u001b[0m\u001b[0mautograd\u001b[0m\u001b[0;34m.\u001b[0m\u001b[0mgradcheck\u001b[0m\u001b[0;34m(\u001b[0m\u001b[0mmodel\u001b[0m\u001b[0;34m,\u001b[0m \u001b[0;34m(\u001b[0m\u001b[0mgd\u001b[0m\u001b[0;34m[\u001b[0m\u001b[0;36m0\u001b[0m\u001b[0;34m]\u001b[0m\u001b[0;34m,\u001b[0m \u001b[0mgd\u001b[0m\u001b[0;34m[\u001b[0m\u001b[0;36m1\u001b[0m\u001b[0;34m]\u001b[0m\u001b[0;34m,\u001b[0m \u001b[0mmom\u001b[0m\u001b[0;34m[\u001b[0m\u001b[0;36m0\u001b[0m\u001b[0;34m]\u001b[0m\u001b[0;34m,\u001b[0m \u001b[0mmom\u001b[0m\u001b[0;34m[\u001b[0m\u001b[0;36m1\u001b[0m\u001b[0;34m]\u001b[0m\u001b[0;34m)\u001b[0m\u001b[0;34m,\u001b[0m \u001b[0mraise_exception\u001b[0m\u001b[0;34m=\u001b[0m\u001b[0;32mTrue\u001b[0m\u001b[0;34m)\u001b[0m\u001b[0;34m\u001b[0m\u001b[0;34m\u001b[0m\u001b[0m\n\u001b[0m\u001b[1;32m     14\u001b[0m \u001b[0;34m\u001b[0m\u001b[0m\n\u001b[1;32m     15\u001b[0m \u001b[0mgd\u001b[0m \u001b[0;34m=\u001b[0m \u001b[0;34m[\u001b[0m\u001b[0;36m10\u001b[0m\u001b[0;34m*\u001b[0m\u001b[0mtorch\u001b[0m\u001b[0;34m.\u001b[0m\u001b[0mrand\u001b[0m\u001b[0;34m(\u001b[0m\u001b[0mmod\u001b[0m\u001b[0;34m.\u001b[0m\u001b[0mmanifold\u001b[0m\u001b[0;34m.\u001b[0m\u001b[0mnumel_gd\u001b[0m\u001b[0;34m,\u001b[0m \u001b[0mrequires_grad\u001b[0m\u001b[0;34m=\u001b[0m\u001b[0;32mTrue\u001b[0m\u001b[0;34m)\u001b[0m \u001b[0;32mfor\u001b[0m \u001b[0mmod\u001b[0m \u001b[0;32min\u001b[0m \u001b[0mmodule_list\u001b[0m\u001b[0;34m]\u001b[0m\u001b[0;34m\u001b[0m\u001b[0;34m\u001b[0m\u001b[0m\n",
      "\u001b[0;32m~/.local/share/miniconda2/envs/py3projects/lib/python3.6/site-packages/torch/autograd/gradcheck.py\u001b[0m in \u001b[0;36mgradcheck\u001b[0;34m(func, inputs, eps, atol, rtol, raise_exception)\u001b[0m\n\u001b[1;32m    203\u001b[0m                 \u001b[0;32mif\u001b[0m \u001b[0;32mnot\u001b[0m \u001b[0mtorch\u001b[0m\u001b[0;34m.\u001b[0m\u001b[0mallclose\u001b[0m\u001b[0;34m(\u001b[0m\u001b[0ma\u001b[0m\u001b[0;34m,\u001b[0m \u001b[0mn\u001b[0m\u001b[0;34m,\u001b[0m \u001b[0mrtol\u001b[0m\u001b[0;34m,\u001b[0m \u001b[0matol\u001b[0m\u001b[0;34m)\u001b[0m\u001b[0;34m:\u001b[0m\u001b[0;34m\u001b[0m\u001b[0;34m\u001b[0m\u001b[0m\n\u001b[1;32m    204\u001b[0m                     return fail_test('Jacobian mismatch for output %d with respect to input %d,\\n'\n\u001b[0;32m--> 205\u001b[0;31m                                      'numerical:%s\\nanalytical:%s\\n' % (i, j, n, a))\n\u001b[0m\u001b[1;32m    206\u001b[0m \u001b[0;34m\u001b[0m\u001b[0m\n\u001b[1;32m    207\u001b[0m         \u001b[0;32mif\u001b[0m \u001b[0;32mnot\u001b[0m \u001b[0mreentrant\u001b[0m\u001b[0;34m:\u001b[0m\u001b[0;34m\u001b[0m\u001b[0;34m\u001b[0m\u001b[0m\n",
      "\u001b[0;32m~/.local/share/miniconda2/envs/py3projects/lib/python3.6/site-packages/torch/autograd/gradcheck.py\u001b[0m in \u001b[0;36mfail_test\u001b[0;34m(msg)\u001b[0m\n\u001b[1;32m    183\u001b[0m     \u001b[0;32mdef\u001b[0m \u001b[0mfail_test\u001b[0m\u001b[0;34m(\u001b[0m\u001b[0mmsg\u001b[0m\u001b[0;34m)\u001b[0m\u001b[0;34m:\u001b[0m\u001b[0;34m\u001b[0m\u001b[0;34m\u001b[0m\u001b[0m\n\u001b[1;32m    184\u001b[0m         \u001b[0;32mif\u001b[0m \u001b[0mraise_exception\u001b[0m\u001b[0;34m:\u001b[0m\u001b[0;34m\u001b[0m\u001b[0;34m\u001b[0m\u001b[0m\n\u001b[0;32m--> 185\u001b[0;31m             \u001b[0;32mraise\u001b[0m \u001b[0mRuntimeError\u001b[0m\u001b[0;34m(\u001b[0m\u001b[0mmsg\u001b[0m\u001b[0;34m)\u001b[0m\u001b[0;34m\u001b[0m\u001b[0;34m\u001b[0m\u001b[0m\n\u001b[0m\u001b[1;32m    186\u001b[0m         \u001b[0;32mreturn\u001b[0m \u001b[0;32mFalse\u001b[0m\u001b[0;34m\u001b[0m\u001b[0;34m\u001b[0m\u001b[0m\n\u001b[1;32m    187\u001b[0m \u001b[0;34m\u001b[0m\u001b[0m\n",
      "\u001b[0;31mRuntimeError\u001b[0m: Jacobian mismatch for output 0 with respect to input 0,\nnumerical:tensor([[ 0.0000],\n        [ 0.0000],\n        [ 0.0000],\n        [ 0.0000],\n        [ 0.0000],\n        [ 0.0000],\n        [ 0.0000],\n        [ 0.0000],\n        [ 0.0000],\n        [ 0.0000],\n        [ 0.0000],\n        [ 0.0000],\n        [ 0.0000],\n        [ 0.0000],\n        [ 0.0000],\n        [ 0.0000],\n        [ 0.0000],\n        [ 0.0000],\n        [ 0.0000],\n        [ 0.0000],\n        [-0.2753],\n        [ 0.3938],\n        [ 0.4522],\n        [ 0.6506],\n        [ 0.5730],\n        [-0.2520],\n        [ 0.9310],\n        [-1.1611],\n        [-0.4659],\n        [ 0.2741],\n        [ 0.0998],\n        [-0.3811],\n        [ 0.9264],\n        [ 1.0181],\n        [-0.2067],\n        [-0.8382],\n        [-0.4639],\n        [ 0.6465],\n        [ 1.0204],\n        [ 0.1456]])\nanalytical:tensor([[0.],\n        [0.],\n        [0.],\n        [0.],\n        [0.],\n        [0.],\n        [0.],\n        [0.],\n        [0.],\n        [0.],\n        [0.],\n        [0.],\n        [0.],\n        [0.],\n        [0.],\n        [0.],\n        [0.],\n        [0.],\n        [0.],\n        [0.],\n        [0.],\n        [0.],\n        [0.],\n        [0.],\n        [0.],\n        [0.],\n        [0.],\n        [0.],\n        [0.],\n        [0.],\n        [0.],\n        [0.],\n        [0.],\n        [0.],\n        [0.],\n        [0.],\n        [0.],\n        [0.],\n        [0.],\n        [0.]])\n"
     ]
    }
   ],
   "source": [
    "def test_gradcheck_model():\n",
    "    def model(gd0, gd1, mom0, mom1):\n",
    "        \n",
    "        module_list[0].manifold.fill_gd(gd0)\n",
    "        module_list[0].manifold.fill_cotan(mom0)\n",
    "        module_list[1].manifold.fill_gd(gd1)\n",
    "        module_list[1].manifold.fill_cotan(mom1)\n",
    "        \n",
    "        model = dm.models.ModelMultishapePointsRegistration(source, module_list, sigma_bg,  dm.attachement.L2NormAttachement_multi(), constr_Id)\n",
    "        model.compute(target)\n",
    "        \n",
    "        return model.attach\n",
    "    return torch.autograd.gradcheck(model, (gd[0], gd[1], mom[0], mom[1]), raise_exception=True)\n",
    "\n",
    "gd = [10*torch.rand(mod.manifold.numel_gd, requires_grad=True) for mod in module_list]\n",
    "mom = [torch.rand(mod.manifold.numel_gd, requires_grad=True) for mod in module_list]\n",
    "\n",
    "test_gradcheck_model()"
   ]
  },
  {
   "cell_type": "code",
   "execution_count": null,
   "metadata": {},
   "outputs": [],
   "source": []
  }
 ],
 "metadata": {
  "kernelspec": {
   "display_name": "Python 3",
   "language": "python",
   "name": "python3"
  },
  "language_info": {
   "codemirror_mode": {
    "name": "ipython",
    "version": 3
   },
   "file_extension": ".py",
   "mimetype": "text/x-python",
   "name": "python",
   "nbconvert_exporter": "python",
   "pygments_lexer": "ipython3",
   "version": "3.6.8"
  }
 },
 "nbformat": 4,
 "nbformat_minor": 2
}
