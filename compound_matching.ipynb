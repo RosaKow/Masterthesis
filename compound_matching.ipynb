{
 "cells": [
  {
   "cell_type": "code",
   "execution_count": null,
   "metadata": {
    "autoscroll": false,
    "collapsed": false,
    "ein.hycell": false,
    "ein.tags": "worksheet-0",
    "slideshow": {
     "slide_type": "-"
    }
   },
   "outputs": [],
   "source": [
    "%reset\n",
    "%load_ext autoreload\n",
    "%autoreload 2\n",
    "\n",
    "import Sampling\n",
    "import UsefulFunctions as fun\n",
    "import DeformationModules as df\n",
    "import Models\n",
    "import Hamiltonian\n",
    "\n",
    "import numpy as np\n",
    "import matplotlib.pyplot as plt\n",
    "import torch\n",
    "\n",
    "torch.set_default_tensor_type(torch.DoubleTensor)"
   ]
  },
  {
   "cell_type": "code",
   "execution_count": null,
   "metadata": {
    "autoscroll": false,
    "collapsed": false,
    "ein.hycell": false,
    "ein.tags": "worksheet-0",
    "slideshow": {
     "slide_type": "-"
    }
   },
   "outputs": [],
   "source": [
    "source = Sampling.sampleFromGreyscale(\"data/density_a.png\", threshold=0.5, centered=True)\n",
    "target = Sampling.sampleFromGreyscale(\"data/density_b.png\", threshold=0.5, centered=True)"
   ]
  },
  {
   "cell_type": "code",
   "execution_count": null,
   "metadata": {
    "autoscroll": false,
    "collapsed": false,
    "ein.hycell": false,
    "ein.tags": "worksheet-0",
    "slideshow": {
     "slide_type": "-"
    }
   },
   "outputs": [],
   "source": [
    "minx, miny, maxx, maxy = np.min(source[0][:, 0].numpy()), np.min(source[0][:, 1].numpy()), np.max(source[0][:, 0].numpy()), np.max(source[0][:, 1].numpy())"
   ]
  },
  {
   "cell_type": "code",
   "execution_count": null,
   "metadata": {
    "autoscroll": false,
    "collapsed": false,
    "ein.hycell": false,
    "ein.tags": "worksheet-0",
    "slideshow": {
     "slide_type": "-"
    }
   },
   "outputs": [],
   "source": [
    "Sigma0 = 0.05\n",
    "Sigma1 = 0.2\n",
    "x0, y0 = torch.meshgrid([torch.arange(minx-Sigma0, maxx+Sigma0, step=Sigma0), torch.arange(miny-Sigma0, maxy+Sigma0, step=Sigma0)])\n",
    "x1, y1 = torch.meshgrid([torch.arange(minx-Sigma1, maxx+Sigma1, step=Sigma1), torch.arange(miny-Sigma1, maxy+Sigma1, step=Sigma1)])\n",
    "\n",
    "GD0 = fun.grid2vec(x0, y0).contiguous().view(-1)\n",
    "GD1 = fun.grid2vec(x1, y1).contiguous().view(-1)\n",
    "\n",
    "Trans0 = df.Translations(Sigma0, 2, GD0.view(-1, 2).shape[0])\n",
    "Trans1 = df.Translations(Sigma1, 2, GD1.view(-1, 2).shape[0])"
   ]
  },
  {
   "cell_type": "code",
   "execution_count": null,
   "metadata": {
    "autoscroll": false,
    "collapsed": false,
    "ein.hycell": false,
    "ein.tags": "worksheet-0",
    "slideshow": {
     "slide_type": "-"
    }
   },
   "outputs": [],
   "source": [
    "fun.plotTensorScatter(source, alpha=0.4)\n",
    "fun.plotTensorScatter(target, alpha=0.4)\n",
    "plt.plot(GD0.view(-1, 2)[:,1].numpy(), GD0.view(-1, 2)[:,0].numpy(), '.')\n",
    "plt.plot(GD1.view(-1, 2)[:,1].numpy(), GD1.view(-1, 2)[:,0].numpy(), '.')\n",
    "plt.show()"
   ]
  },
  {
   "cell_type": "code",
   "execution_count": null,
   "metadata": {
    "autoscroll": false,
    "collapsed": false,
    "ein.hycell": false,
    "ein.tags": "worksheet-0",
    "slideshow": {
     "slide_type": "-"
    }
   },
   "outputs": [],
   "source": [
    "myModel = Models.ModelCompoundRegistration(2, source, [Trans0, Trans1], [GD0, GD1], [False, False])\n",
    "costs = myModel.fit(target, lr=1e-5, l=20., maxiter=400, logInterval=10)"
   ]
  },
  {
   "cell_type": "code",
   "execution_count": null,
   "metadata": {
    "autoscroll": false,
    "collapsed": false,
    "ein.hycell": false,
    "ein.tags": "worksheet-0",
    "slideshow": {
     "slide_type": "-"
    }
   },
   "outputs": [],
   "source": [
    "out = myModel()\n",
    "outGD, _ = myModel.shootList()\n",
    "\n",
    "%matplotlib qt5\n",
    "plt.subplot(1, 2, 1)\n",
    "fun.plotTensorScatter(target, alpha=0.4)\n",
    "fun.plotTensorScatter(out, alpha=0.4)\n",
    "plt.plot(outGD[1].view(-1, 2).detach().numpy()[:, 1], outGD[1].view(-1, 2).detach().numpy()[:, 0], '.')\n",
    "plt.plot(outGD[2].view(-1, 2).detach().numpy()[:, 1], outGD[2].view(-1, 2).detach().numpy()[:, 0], '.')\n",
    "plt.subplot(1, 2, 2)\n",
    "fun.plotTensorScatter(target, alpha=0.4)\n",
    "fun.plotTensorScatter(source, alpha=0.4)\n",
    "plt.show()"
   ]
  },
  {
   "cell_type": "code",
   "execution_count": null,
   "metadata": {
    "autoscroll": false,
    "collapsed": false,
    "ein.hycell": false,
    "ein.tags": "worksheet-0",
    "slideshow": {
     "slide_type": "-"
    }
   },
   "outputs": [],
   "source": [
    "plt.plot(range(len(costs)), costs)\n",
    "plt.show()"
   ]
  }
 ],
 "metadata": {
  "kernelspec": {
   "display_name": "Python 3",
   "name": "python3"
  },
  "name": "compound_matching.ipynb"
 },
 "nbformat": 4,
 "nbformat_minor": 2
}
