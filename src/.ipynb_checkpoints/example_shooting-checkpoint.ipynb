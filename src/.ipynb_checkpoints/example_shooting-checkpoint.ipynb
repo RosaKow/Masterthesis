{
 "cells": [
  {
   "cell_type": "code",
   "execution_count": 1,
   "metadata": {},
   "outputs": [],
   "source": [
    "import torch\n",
    "import numpy as np"
   ]
  },
  {
   "cell_type": "code",
   "execution_count": 2,
   "metadata": {},
   "outputs": [],
   "source": [
    "import DeformationModules as defmod\n",
    "import Shooting as shoot\n",
    "import Hamiltonian as ham"
   ]
  },
  {
   "cell_type": "code",
   "execution_count": 3,
   "metadata": {},
   "outputs": [],
   "source": [
    "N = 10\n",
    "d=2"
   ]
  },
  {
   "cell_type": "code",
   "execution_count": 4,
   "metadata": {},
   "outputs": [],
   "source": [
    "sigma0 = 1\n",
    "nb_pts0 = 2\n",
    "sigma1 = 1\n",
    "nb_pts1 = 1\n",
    "\n",
    "Trans0 = defmod.TranslationsIdenticalCost(sigma0, d, nb_pts0)\n",
    "Trans1 = defmod.TranslationsIdenticalCost(sigma1, d, nb_pts1)\n"
   ]
  },
  {
   "cell_type": "code",
   "execution_count": 5,
   "metadata": {},
   "outputs": [],
   "source": [
    "Mod = defmod.Compound([Trans0, Trans1])"
   ]
  },
  {
   "cell_type": "code",
   "execution_count": 6,
   "metadata": {},
   "outputs": [],
   "source": [
    "hamilt = ham.Hamilt(Mod)"
   ]
  },
  {
   "cell_type": "code",
   "execution_count": 7,
   "metadata": {},
   "outputs": [],
   "source": [
    "def H_r(GD, MOM):\n",
    "    return hamilt(GD, MOM, hamilt.Cont_geo(GD, MOM))"
   ]
  },
  {
   "cell_type": "code",
   "execution_count": 8,
   "metadata": {},
   "outputs": [],
   "source": [
    "GD_Trans0 = torch.tensor([[-1., 0.], [1., 0.]], dtype=torch.float32, requires_grad=True).view(-1)\n",
    "MOM_Trans0 = torch.tensor([[1., 1.], [0., 1.]], dtype=torch.float32, requires_grad=True).view(-1)\n",
    "\n",
    "GD_Trans1 = torch.tensor([[0., 0.]], dtype=torch.float32, requires_grad=True).view(-1)\n",
    "MOM_Trans1 = torch.tensor([[0., -1.]], dtype=torch.float32, requires_grad=True).view(-1)"
   ]
  },
  {
   "cell_type": "code",
   "execution_count": 9,
   "metadata": {},
   "outputs": [],
   "source": [
    "GD = torch.cat([GD_Trans0, GD_Trans1])\n",
    "MOM = torch.cat([MOM_Trans0, MOM_Trans1])"
   ]
  },
  {
   "cell_type": "code",
   "execution_count": 10,
   "metadata": {},
   "outputs": [
    {
     "data": {
      "text/plain": [
       "tensor([ 1.0000,  0.6504,  0.0183,  0.6504,  0.3679, -0.2642],\n",
       "       grad_fn=<CatBackward>)"
      ]
     },
     "execution_count": 10,
     "metadata": {},
     "output_type": "execute_result"
    }
   ],
   "source": [
    "hamilt.Cont_geo(GD, MOM)"
   ]
  },
  {
   "cell_type": "code",
   "execution_count": 11,
   "metadata": {},
   "outputs": [],
   "source": [
    "GD_final = shoot.shoot(Mod, GD, MOM, H_r, N)"
   ]
  },
  {
   "cell_type": "code",
   "execution_count": 12,
   "metadata": {},
   "outputs": [
    {
     "data": {
      "text/plain": [
       "tensor([0.3191, 0.7277, 1.5451, 0.6413, 1.1199, 0.6627],\n",
       "       grad_fn=<AddBackward0>)"
      ]
     },
     "execution_count": 12,
     "metadata": {},
     "output_type": "execute_result"
    }
   ],
   "source": [
    "GD_final"
   ]
  },
  {
   "cell_type": "code",
   "execution_count": 13,
   "metadata": {},
   "outputs": [
    {
     "data": {
      "text/plain": [
       "tensor([-1.,  0.,  1.,  0.,  0.,  0.], grad_fn=<CatBackward>)"
      ]
     },
     "execution_count": 13,
     "metadata": {},
     "output_type": "execute_result"
    }
   ],
   "source": [
    "GD"
   ]
  },
  {
   "cell_type": "code",
   "execution_count": 14,
   "metadata": {},
   "outputs": [],
   "source": [
    "import matplotlib.pyplot as plt"
   ]
  },
  {
   "cell_type": "code",
   "execution_count": 15,
   "metadata": {},
   "outputs": [],
   "source": [
    "GD_np = GD.detach().numpy().reshape([-1,2])\n",
    "MOM_np = MOM.detach().numpy().reshape([-1,2])\n",
    "\n",
    "GD_final_np = GD_final.detach().numpy().reshape([-1,2])"
   ]
  },
  {
   "cell_type": "code",
   "execution_count": 16,
   "metadata": {},
   "outputs": [
    {
     "data": {
      "image/png": "[encoded data removed]",
      "text/plain": [
       "<matplotlib.figure.Figure at 0x7fc1d1007358>"
      ]
     },
     "metadata": {},
     "output_type": "display_data"
    }
   ],
   "source": [
    "plt.quiver(GD_np[:,0], GD_np[:,1], MOM_np[:,0], MOM_np[:,1], color=['r','b','g'], scale=21)\n",
    "plt.scatter(GD_final_np[:,0], GD_final_np[:,1], color=['r', 'b', 'g'], marker = 'x')\n",
    "plt.show()"
   ]
  },
  {
   "cell_type": "code",
   "execution_count": 17,
   "metadata": {},
   "outputs": [
    {
     "ename": "ModuleNotFoundError",
     "evalue": "No module named 'Visualization'",
     "output_type": "error",
     "traceback": [
      "\u001b[0;31m---------------------------------------------------------------------------\u001b[0m",
      "\u001b[0;31mModuleNotFoundError\u001b[0m                       Traceback (most recent call last)",
      "\u001b[0;32m<ipython-input-17-f7aeecc8231a>\u001b[0m in \u001b[0;36m<module>\u001b[0;34m\u001b[0m\n\u001b[0;32m----> 1\u001b[0;31m \u001b[0;32mimport\u001b[0m \u001b[0mVisualization\u001b[0m \u001b[0;32mas\u001b[0m \u001b[0mvis\u001b[0m\u001b[0;34m\u001b[0m\u001b[0;34m\u001b[0m\u001b[0m\n\u001b[0m\u001b[1;32m      2\u001b[0m \u001b[0;34m\u001b[0m\u001b[0m\n\u001b[1;32m      3\u001b[0m \u001b[0;34m\u001b[0m\u001b[0m\n\u001b[1;32m      4\u001b[0m \u001b[0mvis\u001b[0m\u001b[0;34m.\u001b[0m\u001b[0mplot_momentum\u001b[0m\u001b[0;34m(\u001b[0m\u001b[0mGD\u001b[0m\u001b[0;34m,\u001b[0m \u001b[0mMOM\u001b[0m\u001b[0;34m,\u001b[0m \u001b[0mGD_final\u001b[0m\u001b[0;34m)\u001b[0m\u001b[0;34m\u001b[0m\u001b[0;34m\u001b[0m\u001b[0m\n",
      "\u001b[0;31mModuleNotFoundError\u001b[0m: No module named 'Visualization'"
     ]
    }
   ],
   "source": [
    "import Visualization as vis\n",
    "\n",
    "\n",
    "vis.plot_momentum(GD, MOM, GD_final)"
   ]
  },
  {
   "cell_type": "code",
   "execution_count": 65,
   "metadata": {},
   "outputs": [],
   "source": [
    "nx, ny = (10,10)\n",
    "x = np.linspace(-1, 1, nx)\n",
    "y = np.linspace(-1, 1, ny)\n",
    "xv, yv = np.meshgrid(x, y)\n",
    "\n",
    "coordinate_grid = np.array([xv, yv])\n",
    "coordinate_grid = np.transpose(np.squeeze(np.reshape(coordinate_grid, (2,nx*ny,1))))\n",
    "\n",
    "Points = torch.tensor(coordinate_grid, dtype=torch.float32)"
   ]
  },
  {
   "cell_type": "code",
   "execution_count": 66,
   "metadata": {},
   "outputs": [
    {
     "data": {
      "image/png": "[encoded data removed]",
      "text/plain": [
       "<matplotlib.figure.Figure at 0x7f77dc5e79b0>"
      ]
     },
     "metadata": {},
     "output_type": "display_data"
    }
   ],
   "source": [
    "Vectorfield = Trans0(GD_Trans0, MOM_Trans0, Points).detach().numpy()\n",
    "\n",
    "plt.quiver(coordinate_grid[:,0], coordinate_grid[:,1], Vectorfield[:,0], Vectorfield[:,1], scale=21)\n",
    "plt.show()"
   ]
  },
  {
   "cell_type": "code",
   "execution_count": null,
   "metadata": {},
   "outputs": [],
   "source": []
  }
 ],
 "metadata": {
  "kernelspec": {
   "display_name": "Python 3",
   "language": "python",
   "name": "python3"
  },
  "language_info": {
   "codemirror_mode": {
    "name": "ipython",
    "version": 3
   },
   "file_extension": ".py",
   "mimetype": "text/x-python",
   "name": "python",
   "nbconvert_exporter": "python",
   "pygments_lexer": "ipython3",
   "version": "3.6.8"
  }
 },
 "nbformat": 4,
 "nbformat_minor": 2
}
