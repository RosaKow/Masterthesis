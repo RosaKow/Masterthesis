{
 "cells": [
  {
   "cell_type": "code",
   "execution_count": 1,
   "metadata": {},
   "outputs": [],
   "source": [
    "import torch\n",
    "import numpy as np"
   ]
  },
  {
   "cell_type": "code",
   "execution_count": 2,
   "metadata": {},
   "outputs": [],
   "source": [
    "import DeformationModules as defmod\n",
    "import Shooting as shoot\n",
    "import Hamiltonian as ham"
   ]
  },
  {
   "cell_type": "code",
   "execution_count": 3,
   "metadata": {},
   "outputs": [],
   "source": [
    "N = 10\n",
    "d=2"
   ]
  },
  {
   "cell_type": "code",
   "execution_count": 4,
   "metadata": {},
   "outputs": [],
   "source": [
    "sigma0 = 1\n",
    "nb_pts0 = 2\n",
    "sigma1 = 1\n",
    "nb_pts1 = 1\n",
    "\n",
    "Trans0 = defmod.TranslationsIdenticalCost(sigma0, d, nb_pts0)\n",
    "Trans1 = defmod.TranslationsIdenticalCost(sigma1, d, nb_pts1)\n"
   ]
  },
  {
   "cell_type": "code",
   "execution_count": 5,
   "metadata": {},
   "outputs": [],
   "source": [
    "Mod = defmod.Compound([Trans0, Trans1])"
   ]
  },
  {
   "cell_type": "code",
   "execution_count": 6,
   "metadata": {},
   "outputs": [],
   "source": [
    "hamilt = ham.Hamilt(Mod)"
   ]
  },
  {
   "cell_type": "code",
   "execution_count": 7,
   "metadata": {},
   "outputs": [],
   "source": [
    "def H_r(GD, MOM):\n",
    "    return hamilt(GD, MOM, hamilt.Cont_geo(GD, MOM))"
   ]
  },
  {
   "cell_type": "code",
   "execution_count": 8,
   "metadata": {},
   "outputs": [],
   "source": [
    "GD_Trans0 = torch.tensor([[-1., 0.], [1., 0.]], dtype=torch.float32, requires_grad=True).view(-1)\n",
    "MOM_Trans0 = torch.tensor([[1., 1.], [0., 1.]], dtype=torch.float32, requires_grad=True).view(-1)\n",
    "\n",
    "GD_Trans1 = torch.tensor([[0., 0.]], dtype=torch.float32, requires_grad=True).view(-1)\n",
    "MOM_Trans1 = torch.tensor([[0., -1.]], dtype=torch.float32, requires_grad=True).view(-1)"
   ]
  },
  {
   "cell_type": "code",
   "execution_count": 9,
   "metadata": {},
   "outputs": [],
   "source": [
    "GD = torch.cat([GD_Trans0, GD_Trans1])\n",
    "MOM = torch.cat([MOM_Trans0, MOM_Trans1])"
   ]
  },
  {
   "cell_type": "code",
   "execution_count": 10,
   "metadata": {},
   "outputs": [
    {
     "data": {
      "text/plain": [
       "tensor([ 1.0000,  0.6504,  0.0183,  0.6504,  0.3679, -0.2642],\n",
       "       grad_fn=<CatBackward>)"
      ]
     },
     "execution_count": 10,
     "metadata": {},
     "output_type": "execute_result"
    }
   ],
   "source": [
    "hamilt.Cont_geo(GD, MOM)"
   ]
  },
  {
   "cell_type": "code",
   "execution_count": 11,
   "metadata": {},
   "outputs": [],
   "source": [
    "GD_final = shoot.shoot(Mod, GD, MOM, H_r, N)"
   ]
  },
  {
   "cell_type": "code",
   "execution_count": 14,
   "metadata": {},
   "outputs": [
    {
     "data": {
      "image/png": "[encoded data removed]",
      "text/plain": [
       "<matplotlib.figure.Figure at 0x7fb72d9bf630>"
      ]
     },
     "metadata": {},
     "output_type": "display_data"
    }
   ],
   "source": [
    "import Visualisation as vis\n",
    "\n",
    "\n",
    "vis.plot_momentum(GD, MOM, GD_final)"
   ]
  },
  {
   "cell_type": "code",
   "execution_count": 13,
   "metadata": {},
   "outputs": [
    {
     "data": {
      "image/png": "[encoded data removed]",
      "text/plain": [
       "<matplotlib.figure.Figure at 0x7fb72d9bf3c8>"
      ]
     },
     "metadata": {},
     "output_type": "display_data"
    }
   ],
   "source": [
    "vis.plot_vectorfield(Mod, GD, MOM)"
   ]
  },
  {
   "cell_type": "code",
   "execution_count": null,
   "metadata": {},
   "outputs": [],
   "source": []
  },
  {
   "cell_type": "code",
   "execution_count": null,
   "metadata": {},
   "outputs": [],
   "source": []
  }
 ],
 "metadata": {
  "kernelspec": {
   "display_name": "Python 3",
   "language": "python",
   "name": "python3"
  },
  "language_info": {
   "codemirror_mode": {
    "name": "ipython",
    "version": 3
   },
   "file_extension": ".py",
   "mimetype": "text/x-python",
   "name": "python",
   "nbconvert_exporter": "python",
   "pygments_lexer": "ipython3",
   "version": "3.6.8"
  }
 },
 "nbformat": 4,
 "nbformat_minor": 2
}
