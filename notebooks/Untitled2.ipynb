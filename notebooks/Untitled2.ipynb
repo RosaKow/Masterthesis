{
 "cells": [
  {
   "cell_type": "code",
   "execution_count": 4,
   "metadata": {},
   "outputs": [
    {
     "name": "stdout",
     "output_type": "stream",
     "text": [
      "The autoreload extension is already loaded. To reload it, use:\n",
      "  %reload_ext autoreload\n"
     ]
    }
   ],
   "source": [
    "\n",
    "%load_ext autoreload\n",
    "%autoreload 2\n",
    "\n",
    "import sys\n",
    "sys.path.append(\"../\")\n",
    "\n",
    "import numpy as np\n",
    "import matplotlib.pyplot as plt\n",
    "import torch\n",
    "\n",
    "import defmod as dm\n",
    "import defmod.multimodule_usefulfunctions as mm\n",
    "\n",
    "torch.set_default_tensor_type(torch.DoubleTensor)"
   ]
  },
  {
   "cell_type": "code",
   "execution_count": 5,
   "metadata": {},
   "outputs": [
    {
     "data": {
      "image/png": "[encoded data removed]",
      "text/plain": [
       "<Figure size 432x288 with 1 Axes>"
      ]
     },
     "metadata": {
      "needs_background": "light"
     },
     "output_type": "display_data"
    }
   ],
   "source": [
    "dty = torch.float64\n",
    "sigma_scaling = 1.\n",
    "a = torch.sqrt(torch.tensor(3.))\n",
    "direc_scaling_pts = torch.tensor([[1., 0.], [-0.5 , 0.5* a],  [-0.5, -0.5* a]], requires_grad=True, dtype=dty)\n",
    "direc_scaling_vec =  torch.tensor([[1., 0.], [-0.5 , 0.5* a],  [-0.5, -0.5* a]], requires_grad=True, dtype=dty)\n",
    "def f(x):\n",
    "    centre = x.view(1,2).repeat(3,1)\n",
    "    return centre + 0.3 * sigma_scaling * direc_scaling_pts\n",
    "\n",
    "def g(x):\n",
    "    return direc_scaling_vec\n",
    "#%%\n",
    "gd0 = torch.tensor([[0., 0.]], requires_grad=True, dtype=dty)\n",
    "cotan0 = torch.tensor([[0., 0.]], requires_grad=True, dtype=dty)\n",
    "\n",
    "pts = f(gd0).detach().numpy()\n",
    "vec = g(gd0).detach().numpy()\n",
    "\n",
    "\n",
    "plt.quiver(pts[:,0], pts[:,1], vec[:,0], vec[:,1])\n",
    "\n",
    "scaling0 = dm.deformationmodules.ConstrainedTranslations(dm.manifold.Landmarks(2, 1, gd = gd0.view(-1), cotan = cotan0.view(-1)), f, g, sigma_scaling)\n"
   ]
  },
  {
   "cell_type": "code",
   "execution_count": null,
   "metadata": {},
   "outputs": [],
   "source": []
  }
 ],
 "metadata": {
  "kernelspec": {
   "display_name": "Python 3",
   "language": "python",
   "name": "python3"
  },
  "language_info": {
   "codemirror_mode": {
    "name": "ipython",
    "version": 3
   },
   "file_extension": ".py",
   "mimetype": "text/x-python",
   "name": "python",
   "nbconvert_exporter": "python",
   "pygments_lexer": "ipython3",
   "version": "3.5.6"
  }
 },
 "nbformat": 4,
 "nbformat_minor": 2
}
