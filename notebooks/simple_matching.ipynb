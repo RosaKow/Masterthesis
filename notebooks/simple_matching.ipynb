{
 "cells": [
  {
   "cell_type": "code",
   "execution_count": null,
   "metadata": {
    "autoscroll": false,
    "collapsed": false,
    "ein.hycell": false,
    "ein.tags": "worksheet-0",
    "slideshow": {
     "slide_type": "-"
    }
   },
   "outputs": [],
   "source": [
    "%reset\n",
    "%load_ext autoreload\n",
    "%autoreload 2\n",
    "\n",
    "import sys\n",
    "sys.path.append(\"../\")\n",
    "\n",
    "import numpy as np\n",
    "import matplotlib.pyplot as plt\n",
    "import torch\n",
    "\n",
    "import defmod as dm\n",
    "\n",
    "torch.set_default_tensor_type(torch.DoubleTensor)"
   ]
  },
  {
   "cell_type": "code",
   "execution_count": null,
   "metadata": {
    "autoscroll": false,
    "collapsed": false,
    "ein.hycell": false,
    "ein.tags": "worksheet-0",
    "slideshow": {
     "slide_type": "-"
    }
   },
   "outputs": [],
   "source": [
    "source = dm.sampling.load_and_sample_greyscale(\"../data/density_a.png\", threshold=0.5, centered=True)\n",
    "target = dm.sampling.load_and_sample_greyscale(\"../data/density_b.png\", threshold=0.5, centered=True)"
   ]
  },
  {
   "cell_type": "code",
   "execution_count": null,
   "metadata": {
    "autoscroll": false,
    "collapsed": false,
    "ein.hycell": false,
    "ein.tags": "worksheet-0",
    "slideshow": {
     "slide_type": "-"
    }
   },
   "outputs": [],
   "source": [
    "aabb = dm.usefulfunctions.AABB.build_from_points(source[0])\n",
    "aabb_total = dm.usefulfunctions.AABB.build_from_points(torch.cat([source[0], target[0]]))"
   ]
  },
  {
   "cell_type": "code",
   "execution_count": null,
   "metadata": {
    "autoscroll": false,
    "collapsed": false,
    "ein.hycell": false,
    "ein.tags": "worksheet-0",
    "slideshow": {
     "slide_type": "-"
    }
   },
   "outputs": [],
   "source": [
    "sigma = 0.1\n",
    "x, y = torch.meshgrid([torch.arange(aabb.xmin-sigma, aabb.xmax+sigma, step=sigma), torch.arange(aabb.ymin-sigma, aabb.ymax+sigma, step=sigma)])\n",
    "gd = dm.usefulfunctions.grid2vec(x, y).contiguous().view(-1)"
   ]
  },
  {
   "cell_type": "code",
   "execution_count": null,
   "metadata": {
    "autoscroll": false,
    "collapsed": false,
    "ein.hycell": false,
    "ein.tags": "worksheet-0",
    "slideshow": {
     "slide_type": "-"
    }
   },
   "outputs": [],
   "source": [
    "dm.usefulfunctions.plotTensorScatter(source, alpha=0.4)\n",
    "dm.usefulfunctions.plotTensorScatter(target, alpha=0.4)\n",
    "plt.plot(gd.view(-1, 2)[:, 1].numpy(), gd.view(-1, 2)[:, 0].numpy(), '.')\n",
    "plt.show()"
   ]
  },
  {
   "cell_type": "code",
   "execution_count": null,
   "metadata": {
    "autoscroll": false,
    "collapsed": false,
    "ein.hycell": false,
    "ein.tags": "worksheet-0",
    "slideshow": {
     "slide_type": "-"
    }
   },
   "outputs": [],
   "source": [
    "trans = dm.deformationmodules.Translations(2, gd.view(-1, 2).shape[0], sigma)\n",
    "my_model = dm.models.ModelCompoundWithPointsRegistration(2, source, [trans], [gd], [False])\n",
    "costs = my_model.fit(target, max_iter=200, l=80., lr=1e-3, log_interval=10)"
   ]
  },
  {
   "cell_type": "code",
   "execution_count": null,
   "metadata": {
    "autoscroll": false,
    "collapsed": false,
    "ein.hycell": false,
    "ein.tags": "worksheet-0",
    "slideshow": {
     "slide_type": "-"
    }
   },
   "outputs": [],
   "source": [
    "out = my_model()\n",
    "out_gd, _ = my_model.shoot_list()\n",
    "%matplotlib qt5\n",
    "plt.subplot(1, 2, 1)\n",
    "dm.usefulfunctions.plot_tensor_scatter(target, alpha=0.4)\n",
    "dm.usefulfunctions.plot_tensor_scatter(source, alpha=0.4)\n",
    "ax = plt.subplot(1, 2, 2)\n",
    "dm.usefulfunctions.plot_tensor_scatter(target, alpha=0.4)\n",
    "dm.usefulfunctions.plot_tensor_scatter(out, alpha=0.4)\n",
    "\n",
    "grid_x, grid_y = my_model.compute_deformation_grid(\n",
    "    torch.tensor([aabb_total.xmin - 2.*sigma, aabb_total.ymin - 2.*sigma]),\n",
    "    torch.tensor([aabb_total.width + 4.*sigma, aabb_total.height + 4.*sigma]),\n",
    "    torch.Size([32, 32]))\n",
    "\n",
    "dm.usefulfunctions.plot_grid(ax, grid_y.detach().numpy(), grid_x.detach().numpy(), color='C0')\n",
    "plt.show()\n"
   ]
  },
  {
   "cell_type": "code",
   "execution_count": null,
   "metadata": {
    "autoscroll": false,
    "collapsed": false,
    "ein.hycell": false,
    "ein.tags": "worksheet-0",
    "slideshow": {
     "slide_type": "-"
    }
   },
   "outputs": [],
   "source": [
    "plt.plot(range(0, len(costs)), costs)\n",
    "plt.show()"
   ]
  }
 ],
 "metadata": {
  "kernelspec": {
   "display_name": "Python 3",
   "name": "python3"
  },
  "language_info": {
   "codemirror_mode": {
    "name": "ipython",
    "version": 3
   },
   "file_extension": ".py",
   "mimetype": "text/x-python",
   "name": "python",
   "nbconvert_exporter": "python",
   "pygments_lexer": "ipython3",
   "version": "3.6.7"
  },
  "name": "simple_matching.ipynb"
 },
 "nbformat": 4,
 "nbformat_minor": 2
}
