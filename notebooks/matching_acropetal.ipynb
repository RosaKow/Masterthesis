{
 "cells": [
  {
   "cell_type": "code",
   "execution_count": null,
   "metadata": {
    "autoscroll": false,
    "collapsed": false,
    "ein.hycell": false,
    "ein.tags": "worksheet-0",
    "slideshow": {
     "slide_type": "-"
    }
   },
   "outputs": [],
   "source": [
    "%reset\n",
    "%load_ext autoreload\n",
    "%autoreload 2\n",
    "\n",
    "import pickle\n",
    "import math\n",
    "\n",
    "# The deformation module library is not automatically installed yet, we need to add its path manually\n",
    "import sys\n",
    "sys.path.append(\"../\")\n",
    "\n",
    "import numpy as np\n",
    "import matplotlib.pyplot as plt\n",
    "import torch\n",
    "import geomloss\n",
    "\n",
    "import defmod as dm\n",
    "\n",
    "torch.set_default_tensor_type(torch.FloatTensor)"
   ]
  },
  {
   "cell_type": "code",
   "execution_count": null,
   "metadata": {
    "autoscroll": false,
    "collapsed": false,
    "ein.hycell": false,
    "ein.tags": "worksheet-0",
    "slideshow": {
     "slide_type": "-"
    }
   },
   "outputs": [],
   "source": [
    "# Loading the datasets\n",
    "source_raw = pickle.load(open('../data/basi2btemp.pkl', 'rb'))\n",
    "target_raw = pickle.load(open('../data/basi2target.pkl', 'rb'))\n",
    "\n",
    "source = torch.tensor(source_raw[1], dtype=torch.get_default_dtype())\n",
    "target = torch.tensor(target_raw[1], dtype=torch.get_default_dtype())\n",
    "\n",
    "# Some rescaling for the source\n",
    "Dx = 0.\n",
    "Dy = 0.\n",
    "height_source = 90.\n",
    "height_target = 495.\n",
    "\n",
    "smin, smax = torch.min(source[:, 1]), torch.max(source[:, 1])\n",
    "sscale = height_source / (smax - smin)\n",
    "source[:, 0] = Dx + sscale * (source[:, 0] - torch.mean(source[:, 0]))\n",
    "source[:, 1] = Dy - sscale * (source[:, 1] - smax)\n",
    "\n",
    "# Some rescaling for the target\n",
    "tmin, tmax = torch.min(target[:, 1]), torch.max(target[:, 1])\n",
    "tscale = height_target / (tmax - tmin)\n",
    "target[:, 0] = tscale * (target[:, 0] - torch.mean(target[:, 0]))\n",
    "target[:, 1] = - tscale * (target[:, 1] - tmax)\n",
    "\n",
    "# Setting up tensors used by the deformation modules\n",
    "pos_source = source[source[:, 2] == 2, 0:2]\n",
    "pos_implicit1 = source[source[:, 2] == 1, 0:2]\n",
    "pos_implicit0 = source[source[:, 2] == 1, 0:2]\n",
    "\n",
    "pos_target = target[target[:, 2] == 2, 0:2]\n",
    "\n",
    "# Compute an AABB for plotting\n",
    "aabb = dm.usefulfunctions.AABB.build_from_points(pos_target)\n",
    "aabb.squared()"
   ]
  },
  {
   "cell_type": "code",
   "execution_count": null,
   "metadata": {
    "autoscroll": false,
    "collapsed": false,
    "ein.hycell": false,
    "ein.tags": "worksheet-0",
    "slideshow": {
     "slide_type": "-"
    }
   },
   "outputs": [],
   "source": [
    "# Some plots\n",
    "%matplotlib qt5\n",
    "\n",
    "plt.subplot(1, 2, 1)\n",
    "plt.axis(aabb.get_list())\n",
    "plt.title('Source')\n",
    "plt.xlabel('x')\n",
    "plt.ylabel('y')\n",
    "plt.plot(pos_source[:, 0].numpy(), pos_source[:, 1].numpy(), '-')\n",
    "plt.plot(pos_implicit1[:, 0].numpy(), pos_implicit1[:, 1].numpy(), '.')\n",
    "plt.plot(pos_implicit0[:, 0].numpy(), pos_implicit0[:, 1].numpy(), 'x')\n",
    "\n",
    "plt.subplot(1, 2, 2)\n",
    "plt.axis(aabb.get_list())\n",
    "plt.title('Target')\n",
    "plt.xlabel('x')\n",
    "plt.ylabel('y')\n",
    "plt.plot(pos_target[:, 0].numpy(), pos_target[:, 1].numpy(), '-')\n",
    "\n",
    "plt.show()"
   ]
  },
  {
   "cell_type": "code",
   "execution_count": null,
   "metadata": {
    "autoscroll": false,
    "collapsed": false,
    "ein.hycell": false,
    "ein.tags": "worksheet-0",
    "slideshow": {
     "slide_type": "-"
    }
   },
   "outputs": [],
   "source": [
    "# Setting up the modules\n",
    "# Local translation module\n",
    "sigma0 = 10.\n",
    "nu0 = 0.001\n",
    "coeff0 = 100.\n",
    "implicit0 = dm.implicitmodules.ImplicitModule0(dm.manifold.Landmarks(2, pos_implicit0.shape[0], gd=pos_implicit0.view(-1).requires_grad_()), sigma0, nu0, coeff0)\n",
    "\n",
    "# Global translation module\n",
    "sigma00 = 800.\n",
    "nu00 = 0.001\n",
    "coeff00 = 0.01\n",
    "implicit00 = dm.implicitmodules.ImplicitModule0(dm.manifold.Landmarks(2, 1, gd=torch.tensor([0., 0.], requires_grad=True)), sigma00, nu00, coeff00)\n",
    "\n",
    "# Elastic modules\n",
    "sigma1 = 100.\n",
    "nu1 = 0.001\n",
    "coeff1 = 0.000001\n",
    "C = torch.zeros(pos_implicit1.shape[0], 2, 1)\n",
    "K, L = 10, height_source\n",
    "a, b = 1./L, 3.\n",
    "z = a*(pos_implicit1[:, 1] - Dy)\n",
    "C[:, 1, 0] = K * ((1 - b) * z**2 + b * z)\n",
    "C[:, 0, 0] = 0.8 * C[:, 1, 0]\n",
    "th = 0. * math.pi * torch.ones(pos_implicit1.shape[0])\n",
    "R = torch.stack([dm.usefulfunctions.rot2d(t) for t in th])\n",
    "\n",
    "implicit1 = dm.implicitmodules.ImplicitModule1(dm.manifold.Stiefel(2, pos_implicit1.shape[0], gd=(pos_implicit1.view(-1).requires_grad_(), R.view(-1).requires_grad_())), C, sigma1, nu1, coeff1)"
   ]
  },
  {
   "cell_type": "code",
   "execution_count": null,
   "metadata": {
    "autoscroll": false,
    "collapsed": false,
    "ein.hycell": false,
    "ein.tags": "worksheet-0",
    "slideshow": {
     "slide_type": "-"
    }
   },
   "outputs": [],
   "source": [
    "# Setting up the model and start the fitting loop\n",
    "model = dm.models.ModelCompoundWithPointsRegistration((pos_source, torch.ones(pos_source.shape[0])), [implicit0, implicit00, implicit1], [True, True, True])\n",
    "costs = model.fit((pos_target, torch.ones(pos_target.shape[0])), max_iter=60, l=5e-3, lr=5e-2, log_interval=1)"
   ]
  },
  {
   "cell_type": "code",
   "execution_count": null,
   "metadata": {
    "autoscroll": false,
    "collapsed": false,
    "ein.hycell": false,
    "ein.tags": "worksheet-0",
    "slideshow": {
     "slide_type": "-"
    }
   },
   "outputs": [],
   "source": [
    "# Results\n",
    "%matplotlib qt5\n",
    "plt.subplot(1, 3, 1)\n",
    "plt.axis(aabb.get_list())\n",
    "plt.plot(pos_source[:, 0].numpy(), pos_source[:, 1].numpy(), '-')\n",
    "plt.plot(pos_implicit1[:, 0].numpy(), pos_implicit1[:, 1].numpy(), '.')\n",
    "plt.plot(pos_implicit0[:, 0].numpy(), pos_implicit0[:, 1].numpy(), 'x')\n",
    "\n",
    "\n",
    "plt.subplot(1, 3, 2)\n",
    "plt.axis(aabb.get_list())\n",
    "out = model.shot_manifold[0].gd.view(-1, 2).detach().numpy()\n",
    "shot_implicit0 = model.shot_manifold[2].gd.view(-1, 2).detach().numpy()\n",
    "shot_implicit00 = model.shot_manifold[1].gd.view(-1, 2).detach().numpy()\n",
    "shot_implicit1 = model.shot_manifold[3].gd[0].view(-1, 2).detach().numpy()\n",
    "plt.plot(out[:, 0], out[:, 1], '-')\n",
    "plt.plot(shot_implicit0[:, 0], shot_implicit0[:, 1], 'x')\n",
    "plt.plot(shot_implicit00[:, 0], shot_implicit00[:, 1], 'o')\n",
    "plt.plot(shot_implicit1[:, 0], shot_implicit1[:, 1], '.')\n",
    "\n",
    "plt.subplot(1, 3, 3)\n",
    "plt.axis(aabb.get_list())\n",
    "plt.plot(pos_target[:, 0].numpy(), pos_target[:, 1].numpy(), '-')\n",
    "plt.plot(out[:, 0], out[:, 1], '-')\n",
    "plt.show()"
   ]
  },
  {
   "cell_type": "code",
   "execution_count": null,
   "metadata": {
    "autoscroll": false,
    "collapsed": false,
    "ein.hycell": false,
    "ein.tags": "worksheet-0",
    "slideshow": {
     "slide_type": "-"
    }
   },
   "outputs": [],
   "source": [
    "compound = dm.deformationmodules.CompoundModule(model.modules)\n",
    "compound.manifold.fill(model.init_manifold.copy())\n",
    "#compound.manifold.fill_cotan(model.shot_manifold.cotan)\n",
    "\n",
    "itt = 4\n",
    "out = dm.shooting.shoot(dm.hamiltonian.Hamiltonian(compound), it=itt)\n",
    "\n",
    "for i in range(itt):\n",
    "    plt.figure()\n",
    "    plt.plot(out[i].gd[0].view(-1, 2)[:, 0].detach().numpy(), out[i].gd[0].view(-1, 2)[:, 1].detach().numpy(), '-')\n",
    "    plt.plot(out[i].gd[1].view(-1, 2)[:, 0].detach().numpy(), out[i].gd[1].view(-1, 2)[:, 1].detach().numpy(), '.')\n",
    "    plt.plot(out[i][2].gd.view(-1, 2)[:, 0].detach().numpy(), out[i][2].gd.view(-1, 2)[:, 1].detach().numpy(), 'o')\n",
    "    plt.plot(out[i][3].gd[0].view(-1, 2)[:, 0].detach().numpy(), out[i][3].gd[0].view(-1, 2)[:, 1].detach().numpy(), 'x')\n",
    "    plt.show()\n",
    "\n",
    "\n"
   ]
  },
  {
   "cell_type": "code",
   "execution_count": null,
   "metadata": {
    "autoscroll": false,
    "collapsed": false,
    "ein.hycell": false,
    "ein.tags": "worksheet-0",
    "slideshow": {
     "slide_type": "-"
    }
   },
   "outputs": [],
   "source": [
    "# Evolution of the cost with iterations\n",
    "plt.title(\"Cost\")\n",
    "plt.xlabel(\"Iteration(s)\")\n",
    "plt.ylabel(\"Cost\")\n",
    "plt.plot(range(len(costs)), costs)\n",
    "plt.show()"
   ]
  }
 ],
 "metadata": {
  "kernelspec": {
   "display_name": "Python 3",
   "name": "python3"
  },
  "name": "matching_acropetal.ipynb"
 },
 "nbformat": 4,
 "nbformat_minor": 2
}
