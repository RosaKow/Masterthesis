{
 "cells": [
  {
   "cell_type": "code",
   "execution_count": 5,
   "metadata": {
    "autoscroll": false,
    "collapsed": false,
    "ein.hycell": false,
    "ein.tags": "worksheet-0",
    "slideshow": {
     "slide_type": "-"
    }
   },
   "outputs": [
    {
     "name": "stdout",
     "output_type": "stream",
     "text": [
      "The autoreload extension is already loaded. To reload it, use:\n",
      "  %reload_ext autoreload\n"
     ]
    }
   ],
   "source": [
    "%reset\n",
    "%load_ext autoreload\n",
    "%autoreload 2\n",
    "\n",
    "import pickle\n",
    "import math\n",
    "\n",
    "# The deformation module library is not automatically installed yet, we need to add its path manually\n",
    "import sys\n",
    "sys.path.append(\"../\")\n",
    "\n",
    "import numpy as np\n",
    "import matplotlib.pyplot as plt\n",
    "import torch\n",
    "import geomloss\n",
    "\n",
    "import defmod as dm\n",
    "\n",
    "torch.set_default_tensor_type(torch.FloatTensor)"
   ]
  },
  {
   "cell_type": "code",
   "execution_count": 10,
   "metadata": {
    "autoscroll": false,
    "collapsed": false,
    "ein.hycell": false,
    "ein.tags": "worksheet-0",
    "slideshow": {
     "slide_type": "-"
    }
   },
   "outputs": [],
   "source": [
    "# Loading the datasets\n",
    "source_raw = pickle.load(open('../data/basi2btemp.pkl', 'rb'))\n",
    "target_raw = pickle.load(open('../data/basi2target.pkl', 'rb'))\n",
    "data = pickle.load(open('../data/data_acropetal.pkl', 'rb'))\n",
    "\n",
    "pos_source = torch.tensor(data['source_silent']).type(torch.get_default_dtype())\n",
    "pos_implicit0 = torch.tensor(data['source_implicit0']).type(torch.get_default_dtype())\n",
    "pos_implicit1 = torch.tensor(data['source_implicit1']).type(torch.get_default_dtype())\n",
    "pos_target = torch.tensor(data['target_silent']).type(torch.get_default_dtype())\n",
    "\n",
    "# Some rescaling for the source\n",
    "Dx = 0.\n",
    "Dy = 0.\n",
    "height_source = 90.\n",
    "height_target = 495.\n",
    "\n",
    "smin, smax = torch.min(pos_source[:, 1]), torch.max(pos_source[:, 1])\n",
    "sscale = height_source / (smax - smin)\n",
    "pos_source[:, 0] = Dx + sscale * (pos_source[:, 0] - torch.mean(pos_source[:, 0]))\n",
    "pos_source[:, 1] = Dy - sscale * (pos_source[:, 1] - smax)\n",
    "pos_implicit0[:, 0] = Dx + sscale * (pos_implicit0[:, 0] - torch.mean(pos_implicit0[:, 0]))\n",
    "pos_implicit0[:, 1] = Dy - sscale * (pos_implicit0[:, 1] - smax)\n",
    "pos_implicit1[:, 0] = Dx + sscale * (pos_implicit1[:, 0] - torch.mean(pos_implicit1[:, 0]))\n",
    "pos_implicit1[:, 1] = Dy - sscale * (pos_implicit1[:, 1] - smax)\n",
    "\n",
    "# Some rescaling for the target\n",
    "tmin, tmax = torch.min(pos_target[:, 1]), torch.max(pos_target[:, 1])\n",
    "tscale = height_target / (tmax - tmin)\n",
    "pos_target[:, 0] = tscale * (pos_target[:, 0] - torch.mean(pos_target[:, 0]))\n",
    "pos_target[:, 1] = - tscale * (pos_target[:, 1] - tmax)\n",
    "\n",
    "# Compute an AABB for plotting\n",
    "aabb = dm.usefulfunctions.AABB.build_from_points(pos_target)\n",
    "aabb.squared()"
   ]
  },
  {
   "cell_type": "code",
   "execution_count": 11,
   "metadata": {
    "autoscroll": false,
    "collapsed": false,
    "ein.hycell": false,
    "ein.tags": "worksheet-0",
    "slideshow": {
     "slide_type": "-"
    }
   },
   "outputs": [],
   "source": [
    "# Some plots\n",
    "%matplotlib qt5\n",
    "\n",
    "plt.subplot(1, 2, 1)\n",
    "plt.axis(aabb.get_list())\n",
    "plt.title('Source')\n",
    "plt.xlabel('x')\n",
    "plt.ylabel('y')\n",
    "plt.plot(pos_source[:, 0].numpy(), pos_source[:, 1].numpy(), '-')\n",
    "plt.plot(pos_implicit1[:, 0].numpy(), pos_implicit1[:, 1].numpy(), '.')\n",
    "plt.plot(pos_implicit0[:, 0].numpy(), pos_implicit0[:, 1].numpy(), 'x')\n",
    "\n",
    "plt.subplot(1, 2, 2)\n",
    "plt.axis(aabb.get_list())\n",
    "plt.title('Target')\n",
    "plt.xlabel('x')\n",
    "plt.ylabel('y')\n",
    "plt.plot(pos_target[:, 0].numpy(), pos_target[:, 1].numpy(), '-')\n",
    "\n",
    "plt.show()"
   ]
  },
  {
   "cell_type": "code",
   "execution_count": 46,
   "metadata": {
    "autoscroll": false,
    "collapsed": false,
    "ein.hycell": false,
    "ein.tags": "worksheet-0",
    "slideshow": {
     "slide_type": "-"
    }
   },
   "outputs": [],
   "source": [
    "# Setting up the modules\n",
    "# Local translation module\n",
    "sigma0 = 10.\n",
    "nu0 = 0.001\n",
    "coeff0 = 100.\n",
    "implicit0 = dm.implicitmodules.ImplicitModule0(dm.manifold.Landmarks(2, pos_implicit0.shape[0], gd=pos_implicit0.view(-1).requires_grad_()), sigma0, nu0, coeff0)\n",
    "\n",
    "# Global translation module\n",
    "sigma00 = 800.\n",
    "nu00 = 0.001\n",
    "coeff00 = 0.01\n",
    "implicit00 = dm.implicitmodules.ImplicitModule0(dm.manifold.Landmarks(2, 1, gd=torch.tensor([0., 0.], requires_grad=True)), sigma00, nu00, coeff00)\n",
    "\n",
    "# Elastic modules\n",
    "sigma1 = 100.\n",
    "nu1 = 0.001\n",
    "coeff1 = 0.000001\n",
    "C = torch.zeros(pos_implicit1.shape[0], 2, 1)\n",
    "K, L = 10, height_source\n",
    "a, b = 1./L, 3.\n",
    "z = a*(pos_implicit1[:, 1] - Dy)\n",
    "C[:, 1, 0] = K * ((1 - b) * z**2 + b * z)\n",
    "C[:, 0, 0] = 0.8 * C[:, 1, 0]\n",
    "th = 0. * math.pi * torch.ones(pos_implicit1.shape[0])\n",
    "R = torch.stack([dm.usefulfunctions.rot2d(t) for t in th])\n",
    "\n",
    "implicit1 = dm.implicitmodules.ImplicitModule1(dm.manifold.Stiefel(2, pos_implicit1.shape[0], gd=(pos_implicit1.view(-1).requires_grad_(), R.view(-1).requires_grad_())), C, sigma1, nu1, coeff1)"
   ]
  },
  {
   "cell_type": "code",
   "execution_count": 47,
   "metadata": {
    "autoscroll": false,
    "collapsed": false,
    "ein.hycell": false,
    "ein.tags": "worksheet-0",
    "slideshow": {
     "slide_type": "-"
    }
   },
   "outputs": [
    {
     "name": "stdout",
     "output_type": "stream",
     "text": [
      "It: 0, deformation cost: 0.000000, attach: 26.811464. Total cost: 26.811464\n"
     ]
    },
    {
     "name": "stdout",
     "output_type": "stream",
     "text": [
      "It: 1, deformation cost: 28.759995, attach: 95.446487. Total cost: 124.206482\n"
     ]
    },
    {
     "name": "stdout",
     "output_type": "stream",
     "text": [
      "It: 2, deformation cost: 23.678719, attach: 88.697556. Total cost: 112.376274\n"
     ]
    },
    {
     "name": "stdout",
     "output_type": "stream",
     "text": [
      "It: 3, deformation cost: 21.220154, attach: 85.055466. Total cost: 106.275620\n"
     ]
    },
    {
     "name": "stdout",
     "output_type": "stream",
     "text": [
      "It: 4, deformation cost: 11.638828, attach: 61.290871. Total cost: 72.929703\n"
     ]
    },
    {
     "name": "stdout",
     "output_type": "stream",
     "text": [
      "It: 5, deformation cost: 11.059816, attach: 58.409328. Total cost: 69.469147\n"
     ]
    },
    {
     "name": "stdout",
     "output_type": "stream",
     "text": [
      "It: 6, deformation cost: 10.954777, attach: 57.854439. Total cost: 68.809219\n"
     ]
    },
    {
     "name": "stdout",
     "output_type": "stream",
     "text": [
      "It: 7, deformation cost: 10.852327, attach: 57.353168. Total cost: 68.205498\n"
     ]
    },
    {
     "name": "stdout",
     "output_type": "stream",
     "text": [
      "It: 8, deformation cost: 10.736352, attach: 56.828594. Total cost: 67.564949\n"
     ]
    },
    {
     "name": "stdout",
     "output_type": "stream",
     "text": [
      "It: 9, deformation cost: 10.603662, attach: 56.272507. Total cost: 66.876167\n"
     ]
    },
    {
     "name": "stdout",
     "output_type": "stream",
     "text": [
      "It: 10, deformation cost: 10.450811, attach: 55.677162. Total cost: 66.127975\n"
     ]
    },
    {
     "name": "stdout",
     "output_type": "stream",
     "text": [
      "It: 11, deformation cost: 10.273535, attach: 55.032997. Total cost: 65.306534\n"
     ]
    },
    {
     "name": "stdout",
     "output_type": "stream",
     "text": [
      "It: 12, deformation cost: 10.065015, attach: 54.323086. Total cost: 64.388100\n"
     ]
    },
    {
     "name": "stdout",
     "output_type": "stream",
     "text": [
      "It: 13, deformation cost: 9.823883, attach: 53.551785. Total cost: 63.375668\n"
     ]
    },
    {
     "name": "stdout",
     "output_type": "stream",
     "text": [
      "It: 14, deformation cost: 9.530937, attach: 52.665855. Total cost: 62.196793\n"
     ]
    },
    {
     "name": "stdout",
     "output_type": "stream",
     "text": [
      "It: 15, deformation cost: 9.104757, attach: 51.441551. Total cost: 60.546310\n"
     ]
    },
    {
     "name": "stdout",
     "output_type": "stream",
     "text": [
      "It: 16, deformation cost: 8.671144, attach: 50.253517. Total cost: 58.924660\n"
     ]
    },
    {
     "name": "stdout",
     "output_type": "stream",
     "text": [
      "It: 17, deformation cost: 8.225063, attach: 49.077393. Total cost: 57.302456\n"
     ]
    },
    {
     "name": "stdout",
     "output_type": "stream",
     "text": [
      "It: 18, deformation cost: 7.493073, attach: 47.204880. Total cost: 54.697952\n"
     ]
    },
    {
     "name": "stdout",
     "output_type": "stream",
     "text": [
      "It: 19, deformation cost: 6.443037, attach: 44.567001. Total cost: 51.010036\n"
     ]
    },
    {
     "name": "stdout",
     "output_type": "stream",
     "text": [
      "It: 20, deformation cost: 4.644666, attach: 39.861893. Total cost: 44.506557\n"
     ]
    },
    {
     "name": "stdout",
     "output_type": "stream",
     "text": [
      "It: 21, deformation cost: 2.980214, attach: 34.901993. Total cost: 37.882206\n"
     ]
    },
    {
     "name": "stdout",
     "output_type": "stream",
     "text": [
      "It: 22, deformation cost: 0.823410, attach: 28.367334. Total cost: 29.190744\n"
     ]
    },
    {
     "name": "stdout",
     "output_type": "stream",
     "text": [
      "It: 23, deformation cost: 0.801046, attach: 28.301462. Total cost: 29.102509\n"
     ]
    },
    {
     "name": "stdout",
     "output_type": "stream",
     "text": [
      "It: 24, deformation cost: 0.774394, attach: 28.169554. Total cost: 28.943949\n"
     ]
    },
    {
     "name": "stdout",
     "output_type": "stream",
     "text": [
      "It: 25, deformation cost: 0.729331, attach: 27.878368. Total cost: 28.607700\n"
     ]
    },
    {
     "name": "stdout",
     "output_type": "stream",
     "text": [
      "It: 26, deformation cost: 0.088395, attach: 26.785191. Total cost: 26.873585\n"
     ]
    },
    {
     "name": "stdout",
     "output_type": "stream",
     "text": [
      "It: 27, deformation cost: 0.090999, attach: 26.591251. Total cost: 26.682251\n"
     ]
    },
    {
     "name": "stdout",
     "output_type": "stream",
     "text": [
      "It: 28, deformation cost: 0.094186, attach: 26.336218. Total cost: 26.430405\n"
     ]
    },
    {
     "name": "stdout",
     "output_type": "stream",
     "text": [
      "It: 29, deformation cost: 0.098084, attach: 26.037136. Total cost: 26.135220\n"
     ]
    },
    {
     "name": "stdout",
     "output_type": "stream",
     "text": [
      "It: 30, deformation cost: 0.103002, attach: 25.691730. Total cost: 25.794733\n"
     ]
    },
    {
     "name": "stdout",
     "output_type": "stream",
     "text": [
      "It: 31, deformation cost: 0.109252, attach: 25.296408. Total cost: 25.405659\n"
     ]
    },
    {
     "name": "stdout",
     "output_type": "stream",
     "text": [
      "It: 32, deformation cost: 0.117173, attach: 24.846756. Total cost: 24.963930\n"
     ]
    },
    {
     "name": "stdout",
     "output_type": "stream",
     "text": [
      "It: 33, deformation cost: 0.127556, attach: 24.323734. Total cost: 24.451290\n"
     ]
    },
    {
     "name": "stdout",
     "output_type": "stream",
     "text": [
      "It: 34, deformation cost: 0.139957, attach: 23.761169. Total cost: 23.901127\n"
     ]
    },
    {
     "name": "stdout",
     "output_type": "stream",
     "text": [
      "It: 35, deformation cost: 0.155436, attach: 23.122662. Total cost: 23.278097\n"
     ]
    },
    {
     "name": "stdout",
     "output_type": "stream",
     "text": [
      "It: 36, deformation cost: 0.174767, attach: 22.395168. Total cost: 22.569935\n"
     ]
    },
    {
     "name": "stdout",
     "output_type": "stream",
     "text": [
      "It: 37, deformation cost: 0.199022, attach: 21.560339. Total cost: 21.759361\n"
     ]
    },
    {
     "name": "stdout",
     "output_type": "stream",
     "text": [
      "It: 38, deformation cost: 0.234154, attach: 20.480059. Total cost: 20.714212\n"
     ]
    },
    {
     "name": "stdout",
     "output_type": "stream",
     "text": [
      "It: 39, deformation cost: 0.265937, attach: 19.554068. Total cost: 19.820004\n"
     ]
    },
    {
     "name": "stdout",
     "output_type": "stream",
     "text": [
      "It: 40, deformation cost: 0.319299, attach: 18.116732. Total cost: 18.436031\n"
     ]
    },
    {
     "name": "stdout",
     "output_type": "stream",
     "text": [
      "It: 41, deformation cost: 0.392563, attach: 16.338058. Total cost: 16.730621\n"
     ]
    },
    {
     "name": "stdout",
     "output_type": "stream",
     "text": [
      "It: 42, deformation cost: 0.491926, attach: 14.200340. Total cost: 14.692266\n"
     ]
    },
    {
     "name": "stdout",
     "output_type": "stream",
     "text": [
      "It: 43, deformation cost: 0.608903, attach: 12.036707. Total cost: 12.645610\n"
     ]
    },
    {
     "name": "stdout",
     "output_type": "stream",
     "text": [
      "It: 44, deformation cost: 0.724372, attach: 10.220663. Total cost: 10.945035\n"
     ]
    },
    {
     "name": "stdout",
     "output_type": "stream",
     "text": [
      "It: 45, deformation cost: 0.805518, attach: 9.072803. Total cost: 9.878322\n"
     ]
    },
    {
     "name": "stdout",
     "output_type": "stream",
     "text": [
      "It: 46, deformation cost: 0.869669, attach: 8.255994. Total cost: 9.125663\n"
     ]
    },
    {
     "name": "stdout",
     "output_type": "stream",
     "text": [
      "It: 47, deformation cost: 0.932504, attach: 7.523699. Total cost: 8.456203\n"
     ]
    },
    {
     "name": "stdout",
     "output_type": "stream",
     "text": [
      "It: 48, deformation cost: 0.984511, attach: 6.971378. Total cost: 7.955889\n"
     ]
    },
    {
     "name": "stdout",
     "output_type": "stream",
     "text": [
      "It: 49, deformation cost: 1.033454, attach: 6.491166. Total cost: 7.524620\n"
     ]
    },
    {
     "name": "stdout",
     "output_type": "stream",
     "text": [
      "It: 50, deformation cost: 1.080223, attach: 6.065067. Total cost: 7.145290\n"
     ]
    },
    {
     "name": "stdout",
     "output_type": "stream",
     "text": [
      "It: 51, deformation cost: 1.125284, attach: 5.682721. Total cost: 6.808005\n"
     ]
    },
    {
     "name": "stdout",
     "output_type": "stream",
     "text": [
      "It: 52, deformation cost: 1.168913, attach: 5.337008. Total cost: 6.505920\n"
     ]
    },
    {
     "name": "stdout",
     "output_type": "stream",
     "text": [
      "It: 53, deformation cost: 1.211286, attach: 5.022806. Total cost: 6.234092\n"
     ]
    },
    {
     "name": "stdout",
     "output_type": "stream",
     "text": [
      "It: 54, deformation cost: 1.252520, attach: 4.736018. Total cost: 5.988538\n"
     ]
    },
    {
     "name": "stdout",
     "output_type": "stream",
     "text": [
      "It: 55, deformation cost: 1.292698, attach: 4.473353. Total cost: 5.766051\n"
     ]
    },
    {
     "name": "stdout",
     "output_type": "stream",
     "text": [
      "It: 56, deformation cost: 1.331873, attach: 4.232058. Total cost: 5.563931\n"
     ]
    },
    {
     "name": "stdout",
     "output_type": "stream",
     "text": [
      "It: 57, deformation cost: 1.370080, attach: 4.009871. Total cost: 5.379951\n"
     ]
    },
    {
     "name": "stdout",
     "output_type": "stream",
     "text": [
      "It: 58, deformation cost: 1.407340, attach: 3.804860. Total cost: 5.212200\n"
     ]
    },
    {
     "name": "stdout",
     "output_type": "stream",
     "text": [
      "It: 59, deformation cost: 1.443671, attach: 3.615321. Total cost: 5.058992\n"
     ]
    },
    {
     "name": "stdout",
     "output_type": "stream",
     "text": [
      "It: 60, deformation cost: 1.479070, attach: 3.439882. Total cost: 4.918952\n"
     ]
    },
    {
     "name": "stdout",
     "output_type": "stream",
     "text": [
      "It: 61, deformation cost: 1.513545, attach: 3.277257. Total cost: 4.790802\n"
     ]
    },
    {
     "name": "stdout",
     "output_type": "stream",
     "text": [
      "It: 62, deformation cost: 1.547096, attach: 3.126344. Total cost: 4.673440\n"
     ]
    },
    {
     "name": "stdout",
     "output_type": "stream",
     "text": [
      "It: 63, deformation cost: 1.579724, attach: 2.986122. Total cost: 4.565846\n"
     ]
    },
    {
     "name": "stdout",
     "output_type": "stream",
     "text": [
      "It: 64, deformation cost: 1.611424, attach: 2.855761. Total cost: 4.467185\n"
     ]
    },
    {
     "name": "stdout",
     "output_type": "stream",
     "text": [
      "It: 65, deformation cost: 1.642195, attach: 2.734483. Total cost: 4.376678\n"
     ]
    },
    {
     "name": "stdout",
     "output_type": "stream",
     "text": [
      "It: 66, deformation cost: 1.672052, attach: 2.621472. Total cost: 4.293524\n"
     ]
    },
    {
     "name": "stdout",
     "output_type": "stream",
     "text": [
      "It: 67, deformation cost: 1.700975, attach: 2.516259. Total cost: 4.217234\n"
     ]
    },
    {
     "name": "stdout",
     "output_type": "stream",
     "text": [
      "It: 68, deformation cost: 1.728994, attach: 2.418012. Total cost: 4.147007\n"
     ]
    },
    {
     "name": "stdout",
     "output_type": "stream",
     "text": [
      "It: 69, deformation cost: 1.756083, attach: 2.326555. Total cost: 4.082638\n"
     ]
    },
    {
     "name": "stdout",
     "output_type": "stream",
     "text": [
      "It: 70, deformation cost: 1.782297, attach: 2.240906. Total cost: 4.023203\n"
     ]
    },
    {
     "name": "stdout",
     "output_type": "stream",
     "text": [
      "It: 71, deformation cost: 1.807598, attach: 2.161216. Total cost: 3.968815\n"
     ]
    },
    {
     "name": "stdout",
     "output_type": "stream",
     "text": [
      "It: 72, deformation cost: 1.832167, attach: 2.085909. Total cost: 3.918076\n"
     ]
    },
    {
     "name": "stdout",
     "output_type": "stream",
     "text": [
      "It: 73, deformation cost: 1.856464, attach: 2.014203. Total cost: 3.870666\n"
     ]
    },
    {
     "name": "stdout",
     "output_type": "stream",
     "text": [
      "It: 74, deformation cost: 1.880923, attach: 1.942971. Total cost: 3.823894\n"
     ]
    },
    {
     "name": "stdout",
     "output_type": "stream",
     "text": [
      "It: 75, deformation cost: 1.909193, attach: 1.864121. Total cost: 3.773313\n"
     ]
    },
    {
     "name": "stdout",
     "output_type": "stream",
     "text": [
      "It: 76, deformation cost: 1.936589, attach: 1.789525. Total cost: 3.726114\n"
     ]
    },
    {
     "name": "stdout",
     "output_type": "stream",
     "text": [
      "It: 77, deformation cost: 1.957610, attach: 1.736450. Total cost: 3.694060\n"
     ]
    },
    {
     "name": "stdout",
     "output_type": "stream",
     "text": [
      "It: 78, deformation cost: 1.978964, attach: 1.678865. Total cost: 3.657829\n"
     ]
    },
    {
     "name": "stdout",
     "output_type": "stream",
     "text": [
      "It: 79, deformation cost: 1.999548, attach: 1.631128. Total cost: 3.630676\n"
     ]
    },
    {
     "name": "stdout",
     "output_type": "stream",
     "text": [
      "It: 80, deformation cost: 2.019124, attach: 1.582706. Total cost: 3.601830\n"
     ]
    },
    {
     "name": "stdout",
     "output_type": "stream",
     "text": [
      "It: 81, deformation cost: 2.036659, attach: 1.542924. Total cost: 3.579583\n"
     ]
    },
    {
     "name": "stdout",
     "output_type": "stream",
     "text": [
      "It: 82, deformation cost: 2.053664, attach: 1.503546. Total cost: 3.557209\n"
     ]
    },
    {
     "name": "stdout",
     "output_type": "stream",
     "text": [
      "It: 83, deformation cost: 2.069548, attach: 1.468764. Total cost: 3.538312\n"
     ]
    },
    {
     "name": "stdout",
     "output_type": "stream",
     "text": [
      "It: 84, deformation cost: 2.084864, attach: 1.435118. Total cost: 3.519982\n"
     ]
    },
    {
     "name": "stdout",
     "output_type": "stream",
     "text": [
      "It: 85, deformation cost: 2.099349, attach: 1.404426. Total cost: 3.503775\n"
     ]
    },
    {
     "name": "stdout",
     "output_type": "stream",
     "text": [
      "It: 86, deformation cost: 2.113271, attach: 1.375091. Total cost: 3.488362\n"
     ]
    },
    {
     "name": "stdout",
     "output_type": "stream",
     "text": [
      "It: 87, deformation cost: 2.126504, attach: 1.347927. Total cost: 3.474431\n"
     ]
    },
    {
     "name": "stdout",
     "output_type": "stream",
     "text": [
      "It: 88, deformation cost: 2.139188, attach: 1.322132. Total cost: 3.461320\n"
     ]
    },
    {
     "name": "stdout",
     "output_type": "stream",
     "text": [
      "It: 89, deformation cost: 2.151270, attach: 1.298077. Total cost: 3.449347\n"
     ]
    },
    {
     "name": "stdout",
     "output_type": "stream",
     "text": [
      "It: 90, deformation cost: 2.162839, attach: 1.275271. Total cost: 3.438111\n"
     ]
    },
    {
     "name": "stdout",
     "output_type": "stream",
     "text": [
      "It: 91, deformation cost: 2.173862, attach: 1.253950. Total cost: 3.427812\n"
     ]
    },
    {
     "name": "stdout",
     "output_type": "stream",
     "text": [
      "It: 92, deformation cost: 2.184412, attach: 1.233740. Total cost: 3.418152\n"
     ]
    },
    {
     "name": "stdout",
     "output_type": "stream",
     "text": [
      "It: 93, deformation cost: 2.194466, attach: 1.214795. Total cost: 3.409261\n"
     ]
    },
    {
     "name": "stdout",
     "output_type": "stream",
     "text": [
      "It: 94, deformation cost: 2.204076, attach: 1.196877. Total cost: 3.400952\n"
     ]
    },
    {
     "name": "stdout",
     "output_type": "stream",
     "text": [
      "It: 95, deformation cost: 2.213255, attach: 1.179965. Total cost: 3.393219\n"
     ]
    },
    {
     "name": "stdout",
     "output_type": "stream",
     "text": [
      "It: 96, deformation cost: 2.222003, attach: 1.164077. Total cost: 3.386080\n"
     ]
    },
    {
     "name": "stdout",
     "output_type": "stream",
     "text": [
      "It: 97, deformation cost: 2.230370, attach: 1.148999. Total cost: 3.379369\n"
     ]
    },
    {
     "name": "stdout",
     "output_type": "stream",
     "text": [
      "It: 98, deformation cost: 2.238358, attach: 1.134769. Total cost: 3.373127\n"
     ]
    },
    {
     "name": "stdout",
     "output_type": "stream",
     "text": [
      "It: 99, deformation cost: 2.245973, attach: 1.121363. Total cost: 3.367336\n"
     ]
    },
    {
     "name": "stdout",
     "output_type": "stream",
     "text": [
      "It: 100, deformation cost: 2.253262, attach: 1.108605. Total cost: 3.361867\n"
     ]
    },
    {
     "name": "stdout",
     "output_type": "stream",
     "text": [
      "It: 101, deformation cost: 2.260203, attach: 1.096628. Total cost: 3.356831\n"
     ]
    },
    {
     "name": "stdout",
     "output_type": "stream",
     "text": [
      "It: 102, deformation cost: 2.266852, attach: 1.085188. Total cost: 3.352040\n"
     ]
    },
    {
     "name": "stdout",
     "output_type": "stream",
     "text": [
      "It: 103, deformation cost: 2.273190, attach: 1.074427. Total cost: 3.347617\n"
     ]
    },
    {
     "name": "stdout",
     "output_type": "stream",
     "text": [
      "It: 104, deformation cost: 2.279250, attach: 1.064180. Total cost: 3.343430\n"
     ]
    },
    {
     "name": "stdout",
     "output_type": "stream",
     "text": [
      "It: 105, deformation cost: 2.285022, attach: 1.054574. Total cost: 3.339596\n"
     ]
    },
    {
     "name": "stdout",
     "output_type": "stream",
     "text": [
      "It: 106, deformation cost: 2.290581, attach: 1.045337. Total cost: 3.335919\n"
     ]
    },
    {
     "name": "stdout",
     "output_type": "stream",
     "text": [
      "It: 107, deformation cost: 2.295934, attach: 1.036530. Total cost: 3.332464\n"
     ]
    },
    {
     "name": "stdout",
     "output_type": "stream",
     "text": [
      "It: 108, deformation cost: 2.301107, attach: 1.028030. Total cost: 3.329138\n"
     ]
    },
    {
     "name": "stdout",
     "output_type": "stream",
     "text": [
      "It: 109, deformation cost: 2.306112, attach: 1.019873. Total cost: 3.325985\n"
     ]
    },
    {
     "name": "stdout",
     "output_type": "stream",
     "text": [
      "It: 110, deformation cost: 2.310972, attach: 1.011998. Total cost: 3.322970\n"
     ]
    },
    {
     "name": "stdout",
     "output_type": "stream",
     "text": [
      "It: 111, deformation cost: 2.315748, attach: 1.004267. Total cost: 3.320015\n"
     ]
    },
    {
     "name": "stdout",
     "output_type": "stream",
     "text": [
      "It: 112, deformation cost: 2.320491, attach: 0.996586. Total cost: 3.317077\n"
     ]
    },
    {
     "name": "stdout",
     "output_type": "stream",
     "text": [
      "It: 113, deformation cost: 2.325281, attach: 0.988727. Total cost: 3.314008\n"
     ]
    },
    {
     "name": "stdout",
     "output_type": "stream",
     "text": [
      "It: 114, deformation cost: 2.329954, attach: 0.981297. Total cost: 3.311251\n"
     ]
    },
    {
     "name": "stdout",
     "output_type": "stream",
     "text": [
      "It: 115, deformation cost: 2.335376, attach: 0.971615. Total cost: 3.306991\n"
     ]
    },
    {
     "name": "stdout",
     "output_type": "stream",
     "text": [
      "It: 116, deformation cost: 2.340302, attach: 0.963743. Total cost: 3.304044\n"
     ]
    },
    {
     "name": "stdout",
     "output_type": "stream",
     "text": [
      "It: 117, deformation cost: 2.345345, attach: 0.954847. Total cost: 3.300191\n"
     ]
    },
    {
     "name": "stdout",
     "output_type": "stream",
     "text": [
      "It: 118, deformation cost: 2.349989, attach: 0.947448. Total cost: 3.297437\n"
     ]
    },
    {
     "name": "stdout",
     "output_type": "stream",
     "text": [
      "It: 119, deformation cost: 2.354983, attach: 0.938540. Total cost: 3.293523\n"
     ]
    },
    {
     "name": "stdout",
     "output_type": "stream",
     "text": [
      "It: 120, deformation cost: 2.359524, attach: 0.931180. Total cost: 3.290703\n"
     ]
    },
    {
     "name": "stdout",
     "output_type": "stream",
     "text": [
      "It: 121, deformation cost: 2.364420, attach: 0.922349. Total cost: 3.286768\n"
     ]
    },
    {
     "name": "stdout",
     "output_type": "stream",
     "text": [
      "It: 122, deformation cost: 2.368810, attach: 0.915182. Total cost: 3.283993\n"
     ]
    },
    {
     "name": "stdout",
     "output_type": "stream",
     "text": [
      "It: 123, deformation cost: 2.373737, attach: 0.906064. Total cost: 3.279801\n"
     ]
    },
    {
     "name": "stdout",
     "output_type": "stream",
     "text": [
      "It: 124, deformation cost: 2.378100, attach: 0.898606. Total cost: 3.276707\n"
     ]
    },
    {
     "name": "stdout",
     "output_type": "stream",
     "text": [
      "It: 125, deformation cost: 2.382931, attach: 0.889402. Total cost: 3.272334\n"
     ]
    },
    {
     "name": "stdout",
     "output_type": "stream",
     "text": [
      "It: 126, deformation cost: 2.387287, attach: 0.881334. Total cost: 3.268621\n"
     ]
    },
    {
     "name": "stdout",
     "output_type": "stream",
     "text": [
      "It: 127, deformation cost: 2.392007, attach: 0.871903. Total cost: 3.263910\n"
     ]
    },
    {
     "name": "stdout",
     "output_type": "stream",
     "text": [
      "It: 128, deformation cost: 2.396219, attach: 0.863803. Total cost: 3.260022\n"
     ]
    },
    {
     "name": "stdout",
     "output_type": "stream",
     "text": [
      "It: 129, deformation cost: 2.400744, attach: 0.854342. Total cost: 3.255086\n"
     ]
    },
    {
     "name": "stdout",
     "output_type": "stream",
     "text": [
      "It: 130, deformation cost: 2.404682, attach: 0.846255. Total cost: 3.250937\n"
     ]
    },
    {
     "name": "stdout",
     "output_type": "stream",
     "text": [
      "It: 131, deformation cost: 2.408922, attach: 0.836832. Total cost: 3.245754\n"
     ]
    },
    {
     "name": "stdout",
     "output_type": "stream",
     "text": [
      "It: 132, deformation cost: 2.412554, attach: 0.828658. Total cost: 3.241211\n"
     ]
    },
    {
     "name": "stdout",
     "output_type": "stream",
     "text": [
      "It: 133, deformation cost: 2.416408, attach: 0.819347. Total cost: 3.235755\n"
     ]
    },
    {
     "name": "stdout",
     "output_type": "stream",
     "text": [
      "It: 134, deformation cost: 2.419642, attach: 0.811069. Total cost: 3.230711\n"
     ]
    },
    {
     "name": "stdout",
     "output_type": "stream",
     "text": [
      "It: 135, deformation cost: 2.422989, attach: 0.801840. Total cost: 3.224829\n"
     ]
    },
    {
     "name": "stdout",
     "output_type": "stream",
     "text": [
      "It: 136, deformation cost: 2.425546, attach: 0.793784. Total cost: 3.219331\n"
     ]
    },
    {
     "name": "stdout",
     "output_type": "stream",
     "text": [
      "It: 137, deformation cost: 2.428182, attach: 0.784575. Total cost: 3.212758\n"
     ]
    },
    {
     "name": "stdout",
     "output_type": "stream",
     "text": [
      "It: 138, deformation cost: 2.429798, attach: 0.776998. Total cost: 3.206797\n"
     ]
    },
    {
     "name": "stdout",
     "output_type": "stream",
     "text": [
      "It: 139, deformation cost: 2.431546, attach: 0.767722. Total cost: 3.199268\n"
     ]
    },
    {
     "name": "stdout",
     "output_type": "stream",
     "text": [
      "It: 140, deformation cost: 2.432353, attach: 0.759647. Total cost: 3.192000\n",
      "End of the optimisation process.\n"
     ]
    }
   ],
   "source": [
    "# Setting up the model and start the fitting loop\n",
    "model = dm.models.ModelCompoundWithPointsRegistration((pos_source, torch.ones(pos_source.shape[0])), [implicit0, implicit00, implicit1], [True, True, True])\n",
    "costs = model.fit((pos_target, torch.ones(pos_target.shape[0])), max_iter=140, l=9e-4, lr=5e-2, log_interval=1)"
   ]
  },
  {
   "cell_type": "code",
   "execution_count": 49,
   "metadata": {
    "autoscroll": false,
    "collapsed": false,
    "ein.hycell": false,
    "ein.tags": "worksheet-0",
    "slideshow": {
     "slide_type": "-"
    }
   },
   "outputs": [],
   "source": [
    "# Results\n",
    "%matplotlib qt5\n",
    "plt.subplot(1, 3, 1)\n",
    "plt.axis(aabb.get_list())\n",
    "plt.plot(pos_source[:, 0].numpy(), pos_source[:, 1].numpy(), '-')\n",
    "plt.plot(pos_implicit1[:, 0].numpy(), pos_implicit1[:, 1].numpy(), '.')\n",
    "plt.plot(pos_implicit0[:, 0].numpy(), pos_implicit0[:, 1].numpy(), 'x')\n",
    "\n",
    "\n",
    "plt.subplot(1, 3, 2)\n",
    "plt.axis(aabb.get_list())\n",
    "out = model.shot_manifold[0].gd.view(-1, 2).detach().numpy()\n",
    "shot_implicit0 = model.shot_manifold[1].gd.view(-1, 2).detach().numpy()\n",
    "shot_implicit00 = model.shot_manifold[2].gd.view(-1, 2).detach().numpy()\n",
    "shot_implicit1 = model.shot_manifold[3].gd[0].view(-1, 2).detach().numpy()\n",
    "plt.plot(out[:, 0], out[:, 1], '-')\n",
    "plt.plot(shot_implicit0[:, 0], shot_implicit0[:, 1], 'x')\n",
    "plt.plot(shot_implicit00[:, 0], shot_implicit00[:, 1], 'o')\n",
    "plt.plot(shot_implicit1[:, 0], shot_implicit1[:, 1], '.')\n",
    "\n",
    "plt.subplot(1, 3, 3)\n",
    "plt.axis(aabb.get_list())\n",
    "plt.plot(pos_target[:, 0].numpy(), pos_target[:, 1].numpy(), '-')\n",
    "plt.plot(out[:, 0], out[:, 1], '-')\n",
    "plt.show()"
   ]
  },
  {
   "cell_type": "code",
   "execution_count": null,
   "metadata": {
    "autoscroll": false,
    "collapsed": false,
    "ein.hycell": false,
    "ein.tags": "worksheet-0",
    "slideshow": {
     "slide_type": "-"
    }
   },
   "outputs": [],
   "source": [
    "compound = dm.deformationmodules.CompoundModule(model.modules)\n",
    "compound.manifold.fill(model.init_manifold.copy())\n",
    "#compound.manifold.fill_cotan(model.shot_manifold.cotan)\n",
    "\n",
    "itt = 4\n",
    "out = dm.shooting.shoot(dm.hamiltonian.Hamiltonian(compound), it=itt)\n",
    "\n",
    "for i in range(itt):\n",
    "    plt.figure()\n",
    "    plt.plot(out[i].gd[0].view(-1, 2)[:, 0].detach().numpy(), out[i].gd[0].view(-1, 2)[:, 1].detach().numpy(), '-')\n",
    "    plt.plot(out[i].gd[1].view(-1, 2)[:, 0].detach().numpy(), out[i].gd[1].view(-1, 2)[:, 1].detach().numpy(), '.')\n",
    "    plt.plot(out[i][2].gd.view(-1, 2)[:, 0].detach().numpy(), out[i][2].gd.view(-1, 2)[:, 1].detach().numpy(), 'o')\n",
    "    plt.plot(out[i][3].gd[0].view(-1, 2)[:, 0].detach().numpy(), out[i][3].gd[0].view(-1, 2)[:, 1].detach().numpy(), 'x')\n",
    "    plt.show()\n",
    "\n",
    "\n"
   ]
  },
  {
   "cell_type": "code",
   "execution_count": null,
   "metadata": {
    "autoscroll": false,
    "collapsed": false,
    "ein.hycell": false,
    "ein.tags": "worksheet-0",
    "slideshow": {
     "slide_type": "-"
    }
   },
   "outputs": [],
   "source": [
    "# Evolution of the cost with iterations\n",
    "plt.title(\"Cost\")\n",
    "plt.xlabel(\"Iteration(s)\")\n",
    "plt.ylabel(\"Cost\")\n",
    "plt.plot(range(len(costs)), costs)\n",
    "plt.show()"
   ]
  }
 ],
 "metadata": {
  "kernelspec": {
   "display_name": "Python 3",
   "name": "python3"
  },
  "name": "matching_acropetal.ipynb"
 },
 "nbformat": 4,
 "nbformat_minor": 2
}
