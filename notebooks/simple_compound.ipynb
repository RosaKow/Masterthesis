{
 "cells": [
  {
   "cell_type": "code",
   "execution_count": null,
   "metadata": {
    "autoscroll": false,
    "collapsed": false,
    "ein.hycell": false,
    "ein.tags": "worksheet-0",
    "slideshow": {
     "slide_type": "-"
    }
   },
   "outputs": [],
   "source": [
    "%reset\n",
    "%load_ext autoreload\n",
    "%autoreload 2\n",
    "\n",
    "# The deformation module library is not automatically installed yet, we need to add its path manually\n",
    "import sys\n",
    "sys.path.append(\"../\")\n",
    "\n",
    "import torch\n",
    "import numpy as np\n",
    "import matplotlib.pyplot as plt\n",
    "\n",
    "import defmod as dm\n",
    "\n",
    "torch.manual_seed(1337)\n",
    "torch.set_default_tensor_type(torch.DoubleTensor)"
   ]
  },
  {
   "cell_type": "code",
   "execution_count": null,
   "metadata": {
    "autoscroll": false,
    "collapsed": false,
    "ein.hycell": false,
    "ein.tags": "worksheet-0",
    "slideshow": {
     "slide_type": "-"
    }
   },
   "outputs": [],
   "source": [
    "d = 2"
   ]
  },
  {
   "cell_type": "code",
   "execution_count": null,
   "metadata": {
    "autoscroll": false,
    "collapsed": false,
    "ein.hycell": false,
    "ein.tags": "worksheet-0",
    "slideshow": {
     "slide_type": "-"
    }
   },
   "outputs": [],
   "source": [
    "sigma = 0.1\n",
    "nb_pts_trans = 10\n",
    "nb_pts_trans2 = 5\n",
    "nb_pts_silent = 25\n",
    "\n",
    "trans = dm.deformationmodules.Translations(d, nb_pts_trans, sigma)\n",
    "trans2 = dm.deformationmodules.Translations(d, nb_pts_trans2, sigma)\n",
    "silent = dm.deformationmodules.SilentPoints(d, nb_pts_silent)\n",
    "\n",
    "compound = dm.deformationmodules.Compound([trans, trans2, silent])"
   ]
  },
  {
   "cell_type": "code",
   "execution_count": null,
   "metadata": {
    "autoscroll": false,
    "collapsed": false,
    "ein.hycell": false,
    "ein.tags": "worksheet-0",
    "slideshow": {
     "slide_type": "-"
    }
   },
   "outputs": [],
   "source": [
    "hamiltonian = dm.hamiltonian.Hamiltonian(compound)"
   ]
  },
  {
   "cell_type": "code",
   "execution_count": null,
   "metadata": {
    "autoscroll": false,
    "collapsed": false,
    "ein.hycell": false,
    "ein.tags": "worksheet-0",
    "slideshow": {
     "slide_type": "-"
    }
   },
   "outputs": [],
   "source": [
    "gd_trans = torch.rand(nb_pts_trans, d, requires_grad=True).view(-1)\n",
    "gd_trans2 = torch.rand(nb_pts_trans2, d, requires_grad=True).view(-1)\n",
    "gd_silent = torch.rand(nb_pts_silent, d, requires_grad=True).view(-1)\n",
    "\n",
    "mom_trans = torch.rand(nb_pts_trans, d, requires_grad=True).view(-1)\n",
    "mom_trans2 = torch.rand(nb_pts_trans2, d, requires_grad=True).view(-1)\n",
    "mom_silent = torch.rand(nb_pts_silent, d, requires_grad=True).view(-1)\n",
    "\n",
    "gd_comp = torch.cat([gd_trans, gd_trans2, gd_silent])\n",
    "mom_comp = torch.cat([mom_trans, mom_trans2, mom_silent])"
   ]
  },
  {
   "cell_type": "code",
   "execution_count": null,
   "metadata": {
    "autoscroll": false,
    "collapsed": false,
    "ein.hycell": false,
    "ein.tags": "worksheet-0",
    "slideshow": {
     "slide_type": "-"
    }
   },
   "outputs": [],
   "source": [
    "controls = hamiltonian.geodesic_controls(gd_comp, mom_comp).view(-1)"
   ]
  },
  {
   "cell_type": "code",
   "execution_count": null,
   "metadata": {
    "autoscroll": false,
    "collapsed": false,
    "ein.hycell": false,
    "ein.tags": "worksheet-0",
    "slideshow": {
     "slide_type": "-"
    }
   },
   "outputs": [],
   "source": [
    "gd_final, mom_final = dm.shooting.shoot(gd_comp, mom_comp, hamiltonian, 10)\n",
    "print(gd_final, mom_final)"
   ]
  },
  {
   "cell_type": "code",
   "execution_count": null,
   "metadata": {
    "autoscroll": false,
    "collapsed": false,
    "ein.hycell": false,
    "ein.tags": "worksheet-0",
    "slideshow": {
     "slide_type": "-"
    }
   },
   "outputs": [],
   "source": [
    "nx, ny = 100, 100\n",
    "sx, sy = 10, 10\n",
    "x, y = torch.meshgrid([torch.arange(0, nx), torch.arange(0, ny)])\n",
    "x = sx*(x.type(torch.get_default_dtype())/nx - 0.5)\n",
    "y = sy*(y.type(torch.get_default_dtype())/ny - 0.5)\n",
    "u, v = dm.usefulfunctions.vec2grid(compound(gd_final, controls, dm.usefulfunctions.grid2vec(x, y)), nx, ny)\n",
    "\n",
    "plt.quiver(x.numpy(), y.numpy(), u.detach().numpy(), v.detach().numpy())\n",
    "plt.show()"
   ]
  }
 ],
 "metadata": {
  "kernelspec": {
   "display_name": "Python 3",
   "name": "python3"
  },
  "name": "simple_compound.ipynb"
 },
 "nbformat": 4,
 "nbformat_minor": 2
}
