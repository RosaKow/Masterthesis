{
 "cells": [
  {
   "cell_type": "code",
   "execution_count": null,
   "metadata": {
    "autoscroll": false,
    "collapsed": false,
    "ein.hycell": false,
    "ein.tags": "worksheet-0",
    "slideshow": {
     "slide_type": "-"
    }
   },
   "outputs": [],
   "source": [
    "%reset\n",
    "%load_ext autoreload\n",
    "%autoreload 2\n",
    "\n",
    "# The deformation module library is not automatically installed yet, we need to add its path manually\n",
    "import sys\n",
    "sys.path.append(\"../\")\n",
    "\n",
    "import numpy as np\n",
    "import matplotlib.pyplot as plt\n",
    "import torch\n",
    "\n",
    "import defmod as dm\n",
    "\n",
    "torch.set_default_tensor_type(torch.FloatTensor)"
   ]
  },
  {
   "cell_type": "code",
   "execution_count": null,
   "metadata": {
    "autoscroll": false,
    "collapsed": false,
    "ein.hycell": false,
    "ein.tags": "worksheet-0",
    "slideshow": {
     "slide_type": "-"
    }
   },
   "outputs": [],
   "source": [
    "source = dm.sampling.load_and_sample_greyscale(\"../data/density_a.png\", threshold=0.5, centered=True)\n",
    "target = dm.sampling.load_and_sample_greyscale(\"../data/density_b.png\", threshold=0.5, centered=True)"
   ]
  },
  {
   "cell_type": "code",
   "execution_count": null,
   "metadata": {
    "autoscroll": false,
    "collapsed": false,
    "ein.hycell": false,
    "ein.tags": "worksheet-0",
    "slideshow": {
     "slide_type": "-"
    }
   },
   "outputs": [],
   "source": [
    "aabb = dm.usefulfunctions.AABB.build_from_points(source[0])"
   ]
  },
  {
   "cell_type": "code",
   "execution_count": null,
   "metadata": {
    "autoscroll": false,
    "collapsed": false,
    "ein.hycell": false,
    "ein.tags": "worksheet-0",
    "slideshow": {
     "slide_type": "-"
    }
   },
   "outputs": [],
   "source": [
    "sigma0 = 0.15\n",
    "sigma1 = 0.05\n",
    "x0, y0 = torch.meshgrid([torch.arange(aabb.xmin-sigma0, aabb.xmax+sigma0, step=sigma0), torch.arange(aabb.ymin-sigma0, aabb.ymax+sigma0, step=sigma0)])\n",
    "x1, y1 = torch.meshgrid([torch.arange(aabb.xmin-sigma1, aabb.xmax+sigma1, step=sigma1), torch.arange(aabb.ymin-sigma1, aabb.ymax+sigma1, step=sigma1)])\n",
    "\n",
    "gd0 = dm.usefulfunctions.grid2vec(x0, y0).contiguous().view(-1)\n",
    "gd1 = dm.usefulfunctions.grid2vec(x1, y1).contiguous().view(-1)\n",
    "\n",
    "trans0 = dm.deformationmodules.Translations(2, gd0.view(-1, 2).shape[0], sigma0)\n",
    "trans1 = dm.deformationmodules.Translations(2, gd1.view(-1, 2).shape[0], sigma1)"
   ]
  },
  {
   "cell_type": "code",
   "execution_count": null,
   "metadata": {
    "autoscroll": false,
    "collapsed": false,
    "ein.hycell": false,
    "ein.tags": "worksheet-0",
    "slideshow": {
     "slide_type": "-"
    }
   },
   "outputs": [],
   "source": [
    "dm.usefulfunctions.plot_tensor_scatter(source, alpha=0.4)\n",
    "dm.usefulfunctions.plot_tensor_scatter(target, alpha=0.4)\n",
    "plt.plot(gd0.view(-1, 2)[:,1].numpy(), gd0.view(-1, 2)[:,0].numpy(), '.')\n",
    "plt.plot(gd1.view(-1, 2)[:,1].numpy(), gd1.view(-1, 2)[:,0].numpy(), '.')\n",
    "plt.show()"
   ]
  },
  {
   "cell_type": "code",
   "execution_count": null,
   "metadata": {
    "autoscroll": false,
    "collapsed": false,
    "ein.hycell": false,
    "ein.tags": "worksheet-0",
    "slideshow": {
     "slide_type": "-"
    }
   },
   "outputs": [],
   "source": [
    "my_model = dm.models.ModelCompoundWithPointsRegistration(2, source, [trans0, trans1], [gd0, gd1], [False, True])\n",
    "costs = my_model.fit(target, lr=1e-4, l=50., max_iter=400, log_interval=5)"
   ]
  },
  {
   "cell_type": "code",
   "execution_count": null,
   "metadata": {
    "autoscroll": false,
    "collapsed": false,
    "ein.hycell": false,
    "ein.tags": "worksheet-0",
    "slideshow": {
     "slide_type": "-"
    }
   },
   "outputs": [],
   "source": [
    "out = my_model()\n",
    "out = out[0][-1], out[1][-1]\n",
    "out_gd, _ = my_model.shoot_list()\n",
    "in_gd, _ = my_model.get_var_list()\n",
    "\n",
    "%matplotlib qt5\n",
    "plt.subplot(1, 2, 1)\n",
    "dm.usefulfunctions.plot_tensor_scatter(target, alpha=0.4)\n",
    "dm.usefulfunctions.plot_tensor_scatter(out, alpha=0.4)\n",
    "plt.plot(out_gd[-1][1].view(-1, 2).detach().numpy()[:, 1], out_gd[-1][1].view(-1, 2).detach().numpy()[:, 0], '.')\n",
    "plt.plot(out_gd[-1][2].view(-1, 2).detach().numpy()[:, 1], out_gd[-1][2].view(-1, 2).detach().numpy()[:, 0], '.')\n",
    "plt.subplot(1, 2, 2)\n",
    "dm.usefulfunctions.plot_tensor_scatter(target, alpha=0.4)\n",
    "dm.usefulfunctions.plot_tensor_scatter(source, alpha=0.4)\n",
    "plt.plot(in_gd[1].view(-1, 2).detach().numpy()[:, 1], in_gd[1].view(-1, 2).detach().numpy()[:, 0], '.')\n",
    "plt.plot(in_gd[2].view(-1, 2).detach().numpy()[:, 1], in_gd[2].view(-1, 2).detach().numpy()[:, 0], '.')\n",
    "plt.show()"
   ]
  },
  {
   "cell_type": "code",
   "execution_count": null,
   "metadata": {
    "autoscroll": false,
    "collapsed": false,
    "ein.hycell": false,
    "ein.tags": "worksheet-0",
    "slideshow": {
     "slide_type": "-"
    }
   },
   "outputs": [],
   "source": [
    "plt.plot(range(len(costs)), costs)\n",
    "plt.show()"
   ]
  }
 ],
 "metadata": {
  "kernelspec": {
   "display_name": "Python 3",
   "name": "python3"
  },
  "name": "compound_matching.ipynb"
 },
 "nbformat": 4,
 "nbformat_minor": 2
}
