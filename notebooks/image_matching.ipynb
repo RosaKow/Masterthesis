{
 "cells": [
  {
   "cell_type": "code",
   "execution_count": null,
   "metadata": {
    "autoscroll": false,
    "collapsed": false,
    "ein.hycell": false,
    "ein.tags": "worksheet-0",
    "slideshow": {
     "slide_type": "-"
    }
   },
   "outputs": [],
   "source": [
    "%reset\n",
    "%load_ext autoreload\n",
    "%autoreload 2\n",
    "\n",
    "import time\n",
    "\n",
    "# The deformation module library is not automatically installed yet, we need to add its path manually\n",
    "import sys\n",
    "sys.path.append(\"../\")\n",
    "\n",
    "import numpy as np\n",
    "import matplotlib.pyplot as plt\n",
    "import torch\n",
    "\n",
    "import defmod as dm\n",
    "\n",
    "torch.set_default_tensor_type(torch.FloatTensor)"
   ]
  },
  {
   "cell_type": "code",
   "execution_count": null,
   "metadata": {
    "autoscroll": false,
    "collapsed": false,
    "ein.hycell": false,
    "ein.tags": "worksheet-0",
    "slideshow": {
     "slide_type": "-"
    }
   },
   "outputs": [],
   "source": [
    "source_image = dm.sampling.load_greyscale_image(\"../data/heart_a.png\")\n",
    "target_image = dm.sampling.load_greyscale_image(\"../data/heart_b.png\")"
   ]
  },
  {
   "cell_type": "code",
   "execution_count": null,
   "metadata": {
    "autoscroll": false,
    "collapsed": false,
    "ein.hycell": false,
    "ein.tags": "worksheet-0",
    "slideshow": {
     "slide_type": "-"
    }
   },
   "outputs": [],
   "source": [
    "#aabb = dm.usefulfunctions.AABB(50., 150., 75., 150.)\n",
    "aabb = dm.usefulfunctions.AABB(0., source_image.shape[0], 0., source_image.shape[1])\n",
    "sigma = 2.5\n",
    "sigma_2 = 10.\n",
    "x, y = torch.meshgrid([torch.arange(aabb.xmin, aabb.xmax, step=0.5*sigma), torch.arange(aabb.ymin, aabb.ymax, step=0.5*sigma)])\n",
    "x_2, y_2 = torch.meshgrid([torch.arange(aabb.xmin, aabb.xmax, step=sigma_2), torch.arange(aabb.ymin, aabb.ymax, step=sigma_2)])\n",
    "\n",
    "gd = dm.usefulfunctions.grid2vec(x, y).contiguous().view(-1)\n",
    "gd_2 = dm.usefulfunctions.grid2vec(x_2, y_2).contiguous().view(-1)\n",
    "\n",
    "trans = dm.deformationmodules.Translations(2, gd.view(-1, 2).shape[0], sigma)\n",
    "trans_2 = dm.deformationmodules.Translations(2, gd_2.view(-1, 2).shape[0], sigma_2)"
   ]
  },
  {
   "cell_type": "code",
   "execution_count": null,
   "metadata": {
    "autoscroll": false,
    "collapsed": false,
    "ein.hycell": false,
    "ein.tags": "worksheet-0",
    "slideshow": {
     "slide_type": "-"
    }
   },
   "outputs": [],
   "source": [
    "plt.imshow(source_image)\n",
    "plt.scatter(gd.view(-1, 2)[:, 0].numpy(), gd.view(-1, 2)[:, 1].numpy())\n",
    "#plt.scatter(gd_2.view(-1, 2)[:, 0].numpy(), gd_2.view(-1, 2)[:, 1].numpy())\n",
    "plt.show()"
   ]
  },
  {
   "cell_type": "code",
   "execution_count": null,
   "metadata": {
    "autoscroll": false,
    "collapsed": false,
    "ein.hycell": false,
    "ein.tags": "worksheet-0",
    "slideshow": {
     "slide_type": "-"
    }
   },
   "outputs": [],
   "source": [
    "my_model = dm.models.ModelCompoundImageRegistration(2, source_image, [trans], [gd], [False])\n",
    "start_time = time.clock()\n",
    "costs = my_model.fit(target_image, lr=0.0005, l=50., max_iter=240, log_interval=10)\n",
    "print(\"Elapsed time:\", time.clock() - start_time)"
   ]
  },
  {
   "cell_type": "code",
   "execution_count": null,
   "metadata": {
    "autoscroll": false,
    "collapsed": false,
    "ein.hycell": false,
    "ein.tags": "worksheet-0",
    "slideshow": {
     "slide_type": "-"
    }
   },
   "outputs": [],
   "source": [
    "out_gd, _ = my_model.shoot_list()\n",
    "out_points = out_gd[0].view(-1, 2).detach(), my_model.source[1]\n",
    "sampled_out = my_model()\n",
    "%matplotlib qt5\n",
    "plt.subplot(1, 3, 1)\n",
    "plt.imshow(source_image, cmap='gray')\n",
    "ax = plt.subplot(1, 3, 2)\n",
    "plt.imshow(sampled_out.detach().numpy(), cmap='gray')\n",
    "x_grid, y_grid = my_model.compute_deformation_grid(torch.tensor([0., 0.]), torch.tensor([32., 32.]), torch.Size([16, 16]))\n",
    "dm.usefulfunctions.plot_grid(ax, y_grid.detach().numpy(), x_grid.detach().numpy(), color=\"C0\")\n",
    "plt.subplot(1, 3, 3)\n",
    "plt.imshow(target_image, cmap='gray')\n",
    "plt.show()"
   ]
  },
  {
   "cell_type": "code",
   "execution_count": null,
   "metadata": {
    "autoscroll": false,
    "collapsed": false,
    "ein.hycell": false,
    "ein.tags": "worksheet-0",
    "slideshow": {
     "slide_type": "-"
    }
   },
   "outputs": [],
   "source": [
    "plt.plot(range(0, len(costs)), costs)\n",
    "plt.show()"
   ]
  }
 ],
 "metadata": {
  "kernelspec": {
   "display_name": "Python 3",
   "name": "python3"
  },
  "name": "image_matching.ipynb"
 },
 "nbformat": 4,
 "nbformat_minor": 2
}
