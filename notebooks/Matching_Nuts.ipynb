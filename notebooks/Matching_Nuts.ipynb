{
 "cells": [
  {
   "cell_type": "code",
   "execution_count": 28,
   "metadata": {},
   "outputs": [
    {
     "name": "stdout",
     "output_type": "stream",
     "text": [
      "The autoreload extension is already loaded. To reload it, use:\n",
      "  %reload_ext autoreload\n"
     ]
    }
   ],
   "source": [
    "%load_ext autoreload\n",
    "%autoreload 2\n",
    "\n",
    "import sys\n",
    "\n",
    "sys.path.append(\"../\")\n",
    "import torch\n",
    "import numpy as np\n",
    "import defmod as dm\n",
    "import defmod.multimodule_usefulfunctions as mm \n",
    "import matplotlib.pyplot as plt\n",
    "import defmod.registrationdata as regdata\n",
    "import defmod.hamiltonian_multishape as hamiltonian\n",
    "from defmod.energyfunctional import EnergyFunctional_unconstrained, EnergyFunctional\n",
    "from defmod import optimize\n",
    "\n",
    "\n",
    "torch.set_default_tensor_type(torch.DoubleTensor)"
   ]
  },
  {
   "cell_type": "code",
   "execution_count": 29,
   "metadata": {},
   "outputs": [],
   "source": [
    "data = regdata.Nuts()\n",
    "data()\n",
    "source = data.source\n",
    "target = data.target\n",
    "module_list = data.modules\n",
    "reduce_background = False\n",
    "\n",
    "sigma_bg = 1.\n",
    "modules = dm.multishape.MultiShapeModule(module_list, sigma_bg, reduce_background=False)\n",
    "\n",
    "constr_Id = dm.constraints.Identity_Silent()\n",
    "H = hamiltonian.Hamiltonian_multi(modules, constr_Id)"
   ]
  },
  {
   "cell_type": "code",
   "execution_count": 30,
   "metadata": {},
   "outputs": [
    {
     "data": {
      "text/plain": [
       "[<matplotlib.lines.Line2D at 0x7fd678fa4cf8>]"
      ]
     },
     "execution_count": 30,
     "metadata": {},
     "output_type": "execute_result"
    }
   ],
   "source": [
    "pts_source = source[0].detach().numpy()\n",
    "pts_target = target[0].detach().numpy()\n",
    "gd0 = modules.module_list[0].manifold[1].gd.view(-1,2)\n",
    "gd1 = modules.module_list[0].manifold[2].gd.view(-1,2)\n",
    "\n",
    "\n",
    "plt.figure()\n",
    "plt.plot(pts_source[:,0], pts_source[:,1])\n",
    "plt.scatter(gd0.detach().numpy()[:,0],gd0.detach().numpy()[:,1])\n",
    "plt.scatter(gd1.detach().numpy()[:,0],gd1.detach().numpy()[:,1])\n",
    "\n",
    "plt.figure()\n",
    "plt.plot(pts_target[:,0], pts_target[:,1])\n",
    "#plt.show()\n"
   ]
  },
  {
   "cell_type": "code",
   "execution_count": 32,
   "metadata": {},
   "outputs": [],
   "source": [
    "mod = modules.module_list[0]\n",
    "h = dm.hamiltonian.Hamiltonian(mod)\n",
    "def attach(modules, target):\n",
    "    return dm.attachement.VarifoldAttachement([1, 0.2])([modules.module_list[0].manifold.gd.view(-1,2) for i in range(len(target))], target)\n",
    "E = EnergyFunctional_unconstrained(mod, h, source, target, dim=2, gamma=0.01, attach=attach)"
   ]
  },
  {
   "cell_type": "code",
   "execution_count": 13,
   "metadata": {},
   "outputs": [
    {
     "name": "stdout",
     "output_type": "stream",
     "text": [
      "cost: [ 0.] attach: 12.933211334882209\n",
      "cost: [ 0.] attach: 12.933211334882209\n",
      "cost: [ 0.12911621] attach: 23.816974304916418\n",
      "cost: [ 0.12911621] attach: 23.816974304916418\n",
      "cost: [ 0.01218481] attach: 6.880685810897216\n",
      "cost: [ 0.01218481] attach: 6.880685810897216\n",
      "cost: [ 0.36388727] attach: 37.99509036013241\n",
      "cost: [ 0.36388727] attach: 37.99509036013241\n",
      "cost: [ 0.01596049] attach: 6.019198563833392\n",
      "cost: [ 0.01596049] attach: 6.019198563833392\n",
      "cost: [ 0.01835241] attach: 6.510598938886133\n",
      "cost: [ 0.01835241] attach: 6.510598938886133\n",
      "cost: [ 0.01625506] attach: 5.993999715236749\n",
      "cost: [ 0.01625506] attach: 5.993999715236749\n",
      "cost: [ 0.01545189] attach: 5.988316233053046\n",
      "cost: [ 0.01545189] attach: 5.988316233053046\n",
      "cost: [ 0.01474261] attach: 5.987492210560481\n",
      "cost: [ 0.01474261] attach: 5.987492210560481\n",
      "Warning: Maximum number of iterations has been exceeded.\n",
      "         Current function value: 6.002235\n",
      "         Iterations: 5\n",
      "         Function evaluations: 9\n",
      "         Gradient evaluations: 9\n"
     ]
    }
   ],
   "source": [
    "gd0_tensor = torch.cat(h.module.manifold.unroll_gd().copy(),0).requires_grad_().view(-1)\n",
    "mom0_tensor = torch.cat(h.module.manifold.unroll_cotan().copy(),0).requires_grad_().view(-1)\n",
    "    \n",
    "    \n",
    "gd0_tensor_init = gd0_tensor.clone()\n",
    "gd0_tensor.retain_grad()\n",
    "mom0_tensor.retain_grad()\n",
    "X = [gd0_tensor, mom0_tensor]\n",
    "\n",
    "from defmod import optimize\n",
    "X[1] = optimize.BFGS(E, X, disp=True)(maxiter=5)"
   ]
  },
  {
   "cell_type": "code",
   "execution_count": null,
   "metadata": {},
   "outputs": [],
   "source": []
  },
  {
   "cell_type": "code",
   "execution_count": 22,
   "metadata": {},
   "outputs": [],
   "source": [
    "gd0_tensor = torch.cat(H.module.manifold.unroll_gd().copy(),0).requires_grad_().view(-1)\n",
    "mom0_tensor = torch.cat(H.module.manifold.unroll_cotan().copy(),0).requires_grad_().view(-1)\n",
    "    \n",
    "    \n",
    "gd0_tensor_init = gd0_tensor.clone()\n",
    "gd0_tensor.retain_grad()\n",
    "mom0_tensor.retain_grad()\n",
    "X = [gd0_tensor, mom0_tensor]\n",
    "\n",
    "def attach(modules, target):\n",
    "    return dm.attachement.VarifoldAttachement([1, 0.2])([modules.module_list[i].module_list[0].manifold.gd.view(-1,2) for i in range(len(target))], target)\n",
    "\n",
    "E = EnergyFunctional(H.module, H, constr_Id, source, target, dim=2, gamma=0.01, attach=attach)"
   ]
  },
  {
   "cell_type": "code",
   "execution_count": 26,
   "metadata": {},
   "outputs": [
    {
     "name": "stdout",
     "output_type": "stream",
     "text": [
      "cost: [ 0.] attach: 12.933211334882209\n",
      "cost: [ 0.] attach: 12.933211334882209\n",
      "cost: [  8.24644015e+37] attach: 1.4669054031397378e+21\n",
      "cost: [  8.24644015e+37] attach: 1.4669054031397378e+21\n",
      "cost: [ -1.07281368e-195] attach: 12.933211334882209\n",
      "cost: [ -1.07281368e-195] attach: 12.933211334882209\n",
      "cost: [ -1.07281368e-195] attach: 12.933211334882209\n",
      "cost: [ -1.07281368e-195] attach: 12.933211334882209\n",
      "cost: [  8.24644015e+37] attach: 1.4669054031397378e+21\n",
      "cost: [  8.09253307e+44] attach: 1.2423034906325393e+26\n",
      "cost: [  2.71493476e+16] attach: 7469581399.440321\n",
      "cost: [  3.20127487e+43] attach: 1.0067845817632477e+23\n",
      "cost: [  4.66574204e+38] attach: 7.246556839528268e+20\n",
      "cost: [  2.35917858e+34] attach: 1.2700009670854878e+22\n",
      "cost: [ 152824.73393193] attach: 3796.968718702226\n",
      "cost: [  7.84782692e+36] attach: 7.51692502708499e+16\n",
      "cost: [  5.55136320e+15] attach: 419.3853630855643\n",
      "cost: [  4.02777196e+22] attach: 38078.68344777604\n",
      "cost: [  5.80161331e-06] attach: 12.998543611251634\n",
      "cost: [  1.82556737e-06] attach: 12.933844434292794\n",
      "Warning: Desired error not necessarily achieved due to precision loss.\n",
      "         Current function value: 12.933211\n",
      "         Iterations: 0\n",
      "         Function evaluations: 16\n",
      "         Gradient evaluations: 4\n"
     ]
    }
   ],
   "source": [
    "X[1] = optimize.BFGS(E, X, disp=True)(maxiter=5)"
   ]
  },
  {
   "cell_type": "code",
   "execution_count": 33,
   "metadata": {},
   "outputs": [],
   "source": []
  },
  {
   "cell_type": "code",
   "execution_count": 34,
   "metadata": {},
   "outputs": [
    {
     "data": {
      "text/plain": [
       "True"
      ]
     },
     "execution_count": 34,
     "metadata": {},
     "output_type": "execute_result"
    }
   ],
   "source": [
    "def test_gradcheck_Hamiltonian():\n",
    "    def hamiltonian(gd, mom):\n",
    "        \n",
    "        H.module.manifold.fill_gd(gd)\n",
    "        H.module.manifold.fill_cotan(mom)\n",
    "        H.geodesic_controls()\n",
    "        return H()\n",
    "    \n",
    "    return torch.autograd.gradcheck(hamiltonian, (gd, mom), raise_exception=True)\n",
    "\n",
    "gd = torch.cat(H.module.manifold.unroll_gd().copy()).requires_grad_().view(-1)\n",
    "mom = torch.cat(H.module.manifold.unroll_cotan().copy()).requires_grad_().view(-1)\n",
    "\n",
    "\n",
    "test_gradcheck_Hamiltonian()"
   ]
  },
  {
   "cell_type": "code",
   "execution_count": null,
   "metadata": {},
   "outputs": [],
   "source": []
  }
 ],
 "metadata": {
  "kernelspec": {
   "display_name": "Python 3",
   "language": "python",
   "name": "python3"
  },
  "language_info": {
   "codemirror_mode": {
    "name": "ipython",
    "version": 3
   },
   "file_extension": ".py",
   "mimetype": "text/x-python",
   "name": "python",
   "nbconvert_exporter": "python",
   "pygments_lexer": "ipython3",
   "version": "3.6.8"
  }
 },
 "nbformat": 4,
 "nbformat_minor": 2
}
