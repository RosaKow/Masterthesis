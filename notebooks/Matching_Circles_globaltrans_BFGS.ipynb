{
 "cells": [
  {
   "cell_type": "code",
   "execution_count": 1,
   "metadata": {},
   "outputs": [],
   "source": [
    "%load_ext autoreload\n",
    "%autoreload 2\n",
    "\n",
    "import sys\n",
    "\n",
    "sys.path.append(\"../\")\n",
    "import torch\n",
    "import numpy as np\n",
    "\n",
    "import defmod as dm\n",
    "import defmod.multimodule_usefulfunctions as mm \n",
    "import matplotlib.pyplot as plt\n",
    "import defmod.hamiltonian_multishape as hamiltonian\n",
    "import defmod.model_graddesc as model\n",
    "import scipy.optimize\n",
    "\n",
    "\n",
    "torch.set_default_tensor_type(torch.DoubleTensor)"
   ]
  },
  {
   "cell_type": "code",
   "execution_count": 2,
   "metadata": {},
   "outputs": [],
   "source": [
    "nb_pts1 = 10\n",
    "nb_pts2 = 7\n",
    "dim = 2\n",
    "\n",
    "o1 = torch.tensor([0.,-1.])\n",
    "o2 = torch.tensor([3.,3.])\n",
    "origin = [o1,o2]\n",
    "r1 = 2\n",
    "r2 = 1\n",
    "radius = [r1, r2]\n",
    "nb_pts = [nb_pts1, nb_pts2]\n",
    "source = mm.multipleCircles(origin, radius, nb_pts)\n",
    "\n",
    "origin_target = [[0.,2.], [3.,-2.]]\n",
    "\n",
    "target = mm.multipleCircles(origin_target, radius, nb_pts)"
   ]
  },
  {
   "cell_type": "code",
   "execution_count": 3,
   "metadata": {},
   "outputs": [
    {
     "data": {
      "text/plain": [
       "<matplotlib.collections.PathCollection at 0x7f598ea3db00>"
      ]
     },
     "execution_count": 3,
     "metadata": {},
     "output_type": "execute_result"
    }
   ],
   "source": [
    "figsize = (5,5)\n",
    "dpi = 100\n",
    "\n",
    "fig_source = plt.figure(figsize=figsize, dpi=100)\n",
    "plt.scatter(source[0][:, 0].detach().numpy(), source[0][:, 1].detach().numpy(), c='red')\n",
    "plt.scatter(source[1][:, 0].detach().numpy(), source[1][:, 1].detach().numpy(), c='blue')\n",
    "plt.axis('equal')\n",
    "\n",
    "fig_target = plt.figure(figsize=figsize, dpi=100)\n",
    "plt.scatter(target[0][:, 0].detach().numpy(), target[0][:, 1].detach().numpy(), c='red')\n",
    "plt.scatter(target[1][:, 0].detach().numpy(), target[1][:, 1].detach().numpy(), c='blue')\n",
    "\n",
    "#plt.axis('equal')\n",
    "#plt.show()"
   ]
  },
  {
   "cell_type": "code",
   "execution_count": 30,
   "metadata": {},
   "outputs": [],
   "source": [
    "# Defining the deformation modules\n",
    "sigma1 = 20\n",
    "manifold1 = dm.manifold.Landmarks(dim, nb_pts1, gd=source[0].view(-1))\n",
    "#trans1 = dm.deformationmodules.GlobalTranslation(manifold1, sigma1)\n",
    "trans1 = dm.deformationmodules.Translations(dm.manifold.Landmarks(2, 2, gd=torch.tensor([[0.,0.],[1.,1.]]).view(-1)), 5.)\n",
    "trans1 = dm.deformationmodules.Translations(manifold1.copy(retain_grad=True), 5.)\n",
    "trans1.fill_controls_zero()\n",
    "silent1 = dm.deformationmodules.SilentPoints(manifold1.copy(retain_grad=True))\n",
    "\n",
    "mod1 = dm.deformationmodules.CompoundModule([silent1, trans1])\n",
    "\n",
    "sigma2 = 20\n",
    "manifold2 = dm.manifold.Landmarks(dim, nb_pts2, gd=source[1].view(-1))\n",
    "trans2 = dm.deformationmodules.GlobalTranslation(manifold2, sigma2)\n",
    "#trans2 = dm.deformationmodules.Translations(manifold2, 5.)\n",
    "trans2.fill_controls_zero()\n",
    "\n",
    "mod2 = dm.deformationmodules.CompoundModule([trans2])\n",
    "\n",
    "module_list = [mod1, mod2]\n",
    "sigma_bg = 1.\n",
    "modules = dm.multishape.MultiShapeModule(module_list, sigma_bg)"
   ]
  },
  {
   "cell_type": "code",
   "execution_count": 31,
   "metadata": {},
   "outputs": [],
   "source": [
    "constr_Id = dm.constraints.Identity_Silent()\n",
    "H = hamiltonian.Hamiltonian_multi(modules, constr_Id)"
   ]
  },
  {
   "cell_type": "code",
   "execution_count": 32,
   "metadata": {
    "scrolled": false
   },
   "outputs": [],
   "source": [
    "# set parameters\n",
    "reg_param = 10**-3 \n",
    "\n",
    "gd0_tensor = torch.cat(H.module.manifold.unroll_gd(),0).requires_grad_().view(-1)\n",
    "mom0_tensor = torch.zeros(gd0_tensor.shape).requires_grad_().view(-1)\n",
    "gd0_tensor.retain_grad()\n",
    "mom0_tensor.retain_grad()\n",
    "    \n",
    "E = model.EnergyFunctional(modules, H, constr_Id, source, target, dim, reg_param)\n",
    "X = [gd0_tensor, mom0_tensor]"
   ]
  },
  {
   "cell_type": "code",
   "execution_count": 33,
   "metadata": {},
   "outputs": [
    {
     "name": "stdout",
     "output_type": "stream",
     "text": [
      "cost: 0.0 attach: 22.71558953582809\n",
      "cost: 0.0 attach: 22.71558953582809\n",
      "cost: 0.00646191182904 attach: 12.572064049983746\n",
      "cost: 0.00646191182904 attach: 12.572064049983746\n",
      "cost: 0.153637220835 attach: 44.448579140537674\n",
      "cost: 0.153637220835 attach: 44.448579140537674\n",
      "cost: 0.017019870753 attach: 17.056124658544437\n",
      "cost: 0.017019870753 attach: 17.056124658544437\n",
      "cost: 0.0198335512711 attach: 6.4933260422647\n",
      "cost: 0.0198335512711 attach: 6.4933260422647\n",
      "cost: 0.135991874642 attach: 20.329449772905335\n",
      "cost: 0.135991874642 attach: 20.329449772905335\n",
      "cost: 0.0287470577652 attach: 4.76231341248972\n",
      "cost: 0.0287470577652 attach: 4.76231341248972\n",
      "cost: 0.0524871140979 attach: 4.014072089651064\n",
      "cost: 0.0524871140979 attach: 4.014072089651064\n",
      "cost: 0.0367040098699 attach: 3.482847787057331\n",
      "cost: 0.0367040098699 attach: 3.482847787057331\n",
      "cost: 0.0601107492229 attach: 5.251067415236266\n",
      "cost: 0.0601107492229 attach: 5.251067415236266\n",
      "cost: 0.0435572790444 attach: 3.0160393834790167\n",
      "cost: 0.0435572790444 attach: 3.0160393834790167\n",
      "Warning: Maximum number of iterations has been exceeded.\n",
      "         Current function value: 3.059597\n",
      "         Iterations: 5\n",
      "         Function evaluations: 11\n",
      "         Gradient evaluations: 11\n"
     ]
    }
   ],
   "source": [
    "from defmod import optimize\n",
    "X[1] = optimize.BFGS(E, X, disp=True)(maxiter=5)"
   ]
  },
  {
   "cell_type": "code",
   "execution_count": 34,
   "metadata": {},
   "outputs": [
    {
     "data": {
      "text/plain": [
       "tensor([[-2.9546e-01,  4.2982e+00],\n",
       "        [-2.2851e-01,  4.3988e+00],\n",
       "        [-2.3431e-01,  4.5830e+00],\n",
       "        [-3.0585e-01,  4.7039e+00],\n",
       "        [-3.8560e-01,  4.7793e+00],\n",
       "        [-4.3752e-01,  4.8814e+00],\n",
       "        [-4.6096e-01,  4.9770e+00],\n",
       "        [-4.6294e-01,  4.9357e+00],\n",
       "        [-4.3935e-01,  4.7036e+00],\n",
       "        [-3.8080e-01,  4.4213e+00],\n",
       "        [-3.2196e-15,  8.8818e-16],\n",
       "        [-6.3283e-15,  1.7764e-15],\n",
       "        [ 1.6653e-15,  3.1086e-15],\n",
       "        [ 1.1435e-14,  5.3291e-15],\n",
       "        [-9.8810e-15,  7.1054e-15],\n",
       "        [ 4.3299e-15,  5.3291e-15],\n",
       "        [-4.5519e-15, -8.8818e-16]], grad_fn=<CatBackward>)"
      ]
     },
     "execution_count": 34,
     "metadata": {},
     "output_type": "execute_result"
    }
   ],
   "source": [
    "H.geodesic_controls()\n",
    "constr_Id(H.module)"
   ]
  },
  {
   "cell_type": "code",
   "execution_count": null,
   "metadata": {},
   "outputs": [],
   "source": [
    "H.module.manifold.fill_gd(X[0])\n",
    "H.module.manifold.fill_cotan(X[1])\n",
    "\n",
    "states, controls = dm.shooting.shoot_euler(H, it=10)\n",
    "\n",
    "import matplotlib.cm as cm\n",
    "colors = cm.rainbow(np.linspace(0, 1, len(states)))\n",
    "\n",
    "fig_shooting = plt.figure(figsize = figsize, dpi=100)\n",
    "for s,c in zip(states, colors):\n",
    "    plt.scatter(s[0][0].gd.view(-1,2)[:, 0].detach().numpy(), s[0][0].gd.view(-1,2)[:, 1].detach().numpy(), c=c)\n",
    "    plt.scatter(s[1][0].gd.view(-1,2)[:, 0].detach().numpy(), s[1][0].gd.view(-1,2)[:, 1].detach().numpy(), c=c)\n",
    "    plt.scatter(s[2][0].gd.view(-1,2)[:, 0].detach().numpy(), s[2][0].gd.view(-1,2)[:, 1].detach().numpy(), c=c)\n",
    "    plt.scatter(s[2][1].gd.view(-1,2)[:, 0].detach().numpy(), s[2][1].gd.view(-1,2)[:, 1].detach().numpy(), c=c)\n",
    "plt.plot(target[0][:, 0].detach().numpy(), target[0][:, 1].detach().numpy(), 'xk')\n",
    "plt.plot(target[1][:, 0].detach().numpy(), target[1][:, 1].detach().numpy(), 'xk')\n",
    "\n",
    "plt.plot(source[0][:, 0].detach().numpy(), source[0][:, 1].detach().numpy(), '.k')\n",
    "plt.plot(source[1][:, 0].detach().numpy(), source[1][:, 1].detach().numpy(), '.k')\n",
    "\n",
    "    \n",
    "plt.axis('equal')\n",
    "plt.show()"
   ]
  },
  {
   "cell_type": "code",
   "execution_count": null,
   "metadata": {},
   "outputs": [],
   "source": [
    "# Visualization of grid deformation for each submodule\n",
    "xmin = -5\n",
    "xmax = 5\n",
    "ymin = -5\n",
    "ymax = 5\n",
    "dx = 0.2\n",
    "dy = 0.2\n",
    "nx = int((xmax-xmin)/dx)\n",
    "ny = int((ymax-ymin)/dy)\n",
    "x,y,gridpoints = mm.gridpoints(xmin, xmax, ymin, ymax, dx, dy)"
   ]
  },
  {
   "cell_type": "code",
   "execution_count": null,
   "metadata": {},
   "outputs": [],
   "source": [
    "# TO DO: Find Bug in largeDeformation function\n",
    "phi = mm.largeDeformation(modules, states, controls, gridpoints)\n",
    "x1, y1 = dm.usefulfunctions.vec2grid(phi[0], nx, ny)\n",
    "x2, y2 = dm.usefulfunctions.vec2grid(phi[1], nx, ny)\n",
    "x3, y3 = dm.usefulfunctions.vec2grid(phi[2], nx, ny)\n",
    "\n",
    "#fig_grid1 = mm.plot_grid( x1.detach().numpy(), y1.detach().numpy(), color = 'blue', figsize=figsize, dpi=dpi)\n",
    "#fig_grid2 = mm.plot_grid(x2.detach().numpy(), y2.detach().numpy(), color = 'blue', figsize=figsize, dpi=dpi)\n",
    "#fig_grid_bg = mm.plot_grid( x3.detach().numpy(), y3.detach().numpy(), color = 'blue', figsize=figsize, dpi=dpi)\n",
    "#plt.show()\n",
    "\n",
    "#phi_grid = []\n",
    "#for a in range(len(phi)):\n",
    "#    phi_grid.append(dm.usefulfunctions.vec2grid(phi[a], nx, ny))\n",
    "#plt.figure()\n",
    "#_,_ = mm.plot_MultiGrid(phi_grid, [x, y], label)\n",
    "#plt.show()"
   ]
  },
  {
   "cell_type": "code",
   "execution_count": null,
   "metadata": {},
   "outputs": [],
   "source": [
    "label = mm.point_labels(source, gridpoints).view(nx, ny)\n"
   ]
  },
  {
   "cell_type": "code",
   "execution_count": null,
   "metadata": {},
   "outputs": [],
   "source": [
    "H.module.manifold.fill_gd(X[0])\n",
    "H.module.manifold.fill_cotan(X[1])\n",
    "grid_states, grid_controls, grid_intermediate = dm.shooting.shoot_euler_silent(H, gridpoints, it=10)\n",
    "\n",
    "grid_final = grid_intermediate[-1]"
   ]
  },
  {
   "cell_type": "code",
   "execution_count": null,
   "metadata": {},
   "outputs": [],
   "source": [
    "x1, y1 = dm.usefulfunctions.vec2grid(grid_final[0], nx,ny)\n",
    "x2, y2 = dm.usefulfunctions.vec2grid(grid_final[1], nx,ny)\n",
    "x3, y3 = dm.usefulfunctions.vec2grid(grid_final[2], nx,ny)\n",
    "\n",
    "\n",
    "fig_grid1 = mm.plot_grid(x1.detach().numpy(), y1.detach().numpy(), color = 'blue', figsize=figsize, dpi=dpi)\n",
    "fig_grid2 = mm.plot_grid(x2.detach().numpy(), y2.detach().numpy(), color = 'blue', figsize=figsize, dpi=dpi)\n",
    "fig_grid_bg = mm.plot_grid( x3.detach().numpy(), y3.detach().numpy(), color = 'blue', figsize=figsize, dpi=dpi)\n",
    "plt.show()"
   ]
  },
  {
   "cell_type": "code",
   "execution_count": null,
   "metadata": {},
   "outputs": [],
   "source": [
    "label = mm.point_labels(source, gridpoints).view(nx, ny)\n",
    "phi_grid = []\n",
    "\n",
    "plt.figure()\n",
    "mm.plot_MultiGrid([[x1,y1], [x2,y2], [x3,y3]], [x, y], label)\n",
    "plt.show()"
   ]
  },
  {
   "cell_type": "code",
   "execution_count": null,
   "metadata": {},
   "outputs": [],
   "source": []
  },
  {
   "cell_type": "code",
   "execution_count": null,
   "metadata": {},
   "outputs": [],
   "source": [
    "## LDDMM Module\n",
    "\n",
    "man_compound = dm.manifold.Landmarks(2, manifold1.nb_pts + manifold2.nb_pts, gd = torch.cat(source).view(-1))\n",
    "module_LDDMM = dm.deformationmodules.CompoundModule([dm.deformationmodules.Translations(man_compound, sigma=sigma_bg)])\n",
    "H_LDDMM = dm.hamiltonian.Hamiltonian([module_LDDMM])\n",
    "\n",
    "attach = dm.attachement.L2NormAttachement()\n",
    "Energy_LDDMM = model.EnergyFunctional_unconstrained(module_LDDMM, H_LDDMM, [torch.cat(source)], [torch.cat(target)], dim=2, gamma=reg_param, attach=attach)\n",
    "gd0 = torch.cat(module_LDDMM.manifold.unroll_gd())\n",
    "mom0 = torch.cat(module_LDDMM.manifold.unroll_cotan())\n",
    "X_LDDMM = [gd0, mom0]\n",
    "\n",
    "X_LDDMM[1] = optimize.BFGS(Energy_LDDMM, X_LDDMM, disp=True)(maxiter=5)"
   ]
  },
  {
   "cell_type": "code",
   "execution_count": null,
   "metadata": {},
   "outputs": [],
   "source": [
    "H_LDDMM.module.manifold.fill_gd(X_LDDMM[0])\n",
    "H_LDDMM.module.manifold.fill_cotan(X_LDDMM[1])\n",
    "\n",
    "states, controls = dm.shooting.shoot_euler(H_LDDMM, it=10)\n",
    "\n",
    "import matplotlib.cm as cm\n",
    "colors = cm.rainbow(np.linspace(0, 1, len(states)))\n",
    "\n",
    "fig_shooting = plt.figure(figsize = figsize, dpi=100)\n",
    "for s,c in zip(states, colors):\n",
    "    plt.scatter(s[0].gd.view(-1,2)[:, 0].detach().numpy(), s[0].gd.view(-1,2)[:, 1].detach().numpy(), c=c)\n",
    "plt.plot(target[0][:, 0].detach().numpy(), target[0][:, 1].detach().numpy(), 'xk')\n",
    "plt.plot(target[1][:, 0].detach().numpy(), target[1][:, 1].detach().numpy(), 'xk')\n",
    "\n",
    "plt.plot(source[0][:, 0].detach().numpy(), source[0][:, 1].detach().numpy(), '.k')\n",
    "plt.plot(source[1][:, 0].detach().numpy(), source[1][:, 1].detach().numpy(), '.k')\n",
    "\n",
    "    \n",
    "plt.axis('equal')\n",
    "plt.show()"
   ]
  },
  {
   "cell_type": "code",
   "execution_count": null,
   "metadata": {},
   "outputs": [],
   "source": [
    "# Visualization of grid deformation for LDDMM\n",
    "xmin = -5\n",
    "xmax = 5\n",
    "ymin = -5\n",
    "ymax = 5\n",
    "dx = 0.2\n",
    "dy = 0.2\n",
    "_,_,gridpoints = mm.gridpoints(xmin, xmax, ymin, ymax, dx, dy)\n",
    "\n",
    "\n",
    "phi = mm.largeDeformation_unconstrained(module_LDDMM, states, controls, gridpoints)\n",
    "nx = int((xmax-xmin) / dx)\n",
    "ny = int((ymax-ymin) / dy)\n",
    "x1, y1 = dm.usefulfunctions.vec2grid(phi, nx, ny)\n",
    "\n",
    "fig_grid1 = mm.plot_grid( x1.detach().numpy(), y1.detach().numpy(), color = 'blue', figsize=figsize, dpi=dpi)\n",
    "plt.scatter(states[-1][0].gd.view(-1,2)[:, 0].detach().numpy(), states[-1][0].gd.view(-1,2)[:, 1].detach().numpy(), c=c)\n",
    "\n",
    "plt.show()\n"
   ]
  },
  {
   "cell_type": "code",
   "execution_count": null,
   "metadata": {},
   "outputs": [],
   "source": [
    "## LDDMM Multishape Module\n",
    "man_list = [dm.manifold.Landmarks(2, len(source[i]), gd = source[i].view(-1).clone()) for i in range(len(source))]\n",
    "multi_LDDMM = dm.multishape.MultiShapeLDDMM(man_list, [10., 10., sigma_bg])\n",
    "constr = dm.constraints.Identity()\n",
    "H_multi_LDDMM = dm.hamiltonian_multishape.Hamiltonian_multi(multi_LDDMM, constr)\n",
    "\n",
    "#attach = dm.attachement.L2NormAttachement()\n",
    "Energy_multi_LDDMM = model.EnergyFunctional(multi_LDDMM, H_multi_LDDMM, constr, source, target, dim=2, gamma=reg_param)\n",
    "gd0 = torch.cat(multi_LDDMM.manifold.unroll_gd())\n",
    "mom0 = torch.cat(multi_LDDMM.manifold.unroll_cotan())\n",
    "X_multi_LDDMM = [gd0, mom0]\n",
    "\n",
    "\n",
    "X_multi_LDDMM[1] = optimize.BFGS(Energy_multi_LDDMM, X_multi_LDDMM, disp=True)(maxiter=5)"
   ]
  },
  {
   "cell_type": "code",
   "execution_count": null,
   "metadata": {},
   "outputs": [],
   "source": [
    "H_multi_LDDMM.geodesic_controls()\n",
    "constr(H_multi_LDDMM.module)"
   ]
  },
  {
   "cell_type": "code",
   "execution_count": null,
   "metadata": {},
   "outputs": [],
   "source": [
    "H_multi_LDDMM.module.manifold.fill_gd(X_multi_LDDMM[0])\n",
    "H_multi_LDDMM.module.manifold.fill_cotan(X_multi_LDDMM[1])"
   ]
  },
  {
   "cell_type": "code",
   "execution_count": null,
   "metadata": {},
   "outputs": [],
   "source": [
    "H_multi_LDDMM.module.manifold.fill_gd(X_multi_LDDMM[0])\n",
    "H_multi_LDDMM.module.manifold.fill_cotan(X_multi_LDDMM[1])\n",
    "\n",
    "states, controls = dm.shooting.shoot_euler(H_multi_LDDMM, it=10)\n",
    "\n",
    "import matplotlib.cm as cm\n",
    "colors = cm.rainbow(np.linspace(0, 1, len(states)))\n",
    "\n",
    "fig_shooting = plt.figure(figsize = figsize, dpi=100)\n",
    "for s,c in zip(states, colors):\n",
    "    plt.scatter(s[0][0].gd.view(-1,2)[:, 0].detach().numpy(), s[0][0].gd.view(-1,2)[:, 1].detach().numpy(), c=c)\n",
    "    plt.scatter(s[1][0].gd.view(-1,2)[:, 0].detach().numpy(), s[1][0].gd.view(-1,2)[:, 1].detach().numpy(), c=c)\n",
    "    plt.scatter(s[2][0].gd.view(-1,2)[:, 0].detach().numpy(), s[2][0].gd.view(-1,2)[:, 1].detach().numpy(), c=c)\n",
    "    plt.scatter(s[2][1].gd.view(-1,2)[:, 0].detach().numpy(), s[2][1].gd.view(-1,2)[:, 1].detach().numpy(), c=c)\n",
    "plt.plot(target[0][:, 0].detach().numpy(), target[0][:, 1].detach().numpy(), 'xk')\n",
    "plt.plot(target[1][:, 0].detach().numpy(), target[1][:, 1].detach().numpy(), 'xk')\n",
    "\n",
    "plt.plot(source[0][:, 0].detach().numpy(), source[0][:, 1].detach().numpy(), '.k')\n",
    "plt.plot(source[1][:, 0].detach().numpy(), source[1][:, 1].detach().numpy(), '.k')\n",
    "\n",
    "    \n",
    "plt.axis('equal')\n",
    "plt.show()"
   ]
  },
  {
   "cell_type": "code",
   "execution_count": null,
   "metadata": {},
   "outputs": [],
   "source": []
  },
  {
   "cell_type": "code",
   "execution_count": null,
   "metadata": {},
   "outputs": [],
   "source": []
  },
  {
   "cell_type": "code",
   "execution_count": null,
   "metadata": {},
   "outputs": [],
   "source": [
    "## Unconstrained Compound Module\n",
    "\n",
    "man_compound = dm.manifold.Landmarks(2, manifold1.nb_pts + manifold2.nb_pts, gd = torch.cat(source).view(-1))\n",
    "trans1_comp = dm.deformationmodules.GlobalTranslation(manifold1, sigma = 10.)\n",
    "trans1_comp.fill_controls_zero()\n",
    "trans2_comp = dm.deformationmodules.GlobalTranslation(manifold2, sigma = 10.)\n",
    "trans2_comp.fill_controls_zero()\n",
    "\n",
    "module_compound = dm.deformationmodules.CompoundModule([trans1_comp, trans2_comp])\n",
    "H_compound = dm.hamiltonian.Hamiltonian(module_compound)\n",
    "\n",
    "attach = dm.attachement.L2NormAttachement()\n",
    "Energy_compound = model.EnergyFunctional_unconstrained(module_compound, H_compound, source, target, dim=2, gamma=reg_param, attach=attach)\n",
    "gd0_c = torch.cat(module_compound.manifold.unroll_gd())\n",
    "mom0_c = torch.cat(module_compound.manifold.unroll_cotan())\n",
    "X_compound = [gd0_c, mom0_c]\n",
    "\n",
    "def fun_compound(P):\n",
    "    #EnergyFunctional = args[0]\n",
    "    Y = torch.tensor(P).requires_grad_()\n",
    "    return Energy_compound.energy_tensor(gd0_c, Y).detach().numpy()\n",
    "\n",
    "def jac_compound(P):\n",
    "    #EnergyFunctional = args[0]\n",
    "    Y = torch.tensor(P).requires_grad_()\n",
    "    return Energy_compound.gradE_autograd(gd0_c, Y).detach().numpy()\n",
    "\n",
    "\n",
    "#args = [EnergyFunctional]"
   ]
  },
  {
   "cell_type": "code",
   "execution_count": null,
   "metadata": {},
   "outputs": [],
   "source": [
    "## Optimisation for unconstrained compound\n",
    "res_compound = scipy.optimize.minimize(fun_compound, mom0_c.detach().numpy(),\n",
    "                              method='BFGS',\n",
    "                              jac=jac_compound,\n",
    "                              bounds=None,\n",
    "                              tol=None,\n",
    "                              callback=None,\n",
    "                              options={\n",
    "                                  #'maxcor': 10,\n",
    "                                  #'ftol': 1.e-09,\n",
    "                                  'gtol': 1e-03,\n",
    "                                  'eps': 1e-08,\n",
    "                                  #'maxfun': 500,\n",
    "                                  'maxiter': 500,\n",
    "                                  #'iprint': 1,\n",
    "                                  #'maxls': 25\n",
    "                                  'disp' : True\n",
    "                              })"
   ]
  },
  {
   "cell_type": "code",
   "execution_count": null,
   "metadata": {},
   "outputs": [],
   "source": [
    "X_compound[1] = torch.tensor(res_compound.x)\n",
    "\n",
    "H_compound.module.manifold.fill_gd(X_compound[0])\n",
    "H_compound.module.manifold.fill_cotan(X_compound[1])\n",
    "\n",
    "states, controls = dm.shooting.shoot_euler(H_compound, it=10)\n",
    "\n",
    "import matplotlib.cm as cm\n",
    "colors = cm.rainbow(np.linspace(0, 1, len(states)))\n",
    "\n",
    "fig_shooting = plt.figure(figsize = figsize, dpi=100)\n",
    "for s,c in zip(states, colors):\n",
    "    plt.scatter(s[0].gd.view(-1,2)[:, 0].detach().numpy(), s[0].gd.view(-1,2)[:, 1].detach().numpy(), c=c)\n",
    "    plt.scatter(s[1].gd.view(-1,2)[:, 0].detach().numpy(), s[1].gd.view(-1,2)[:, 1].detach().numpy(), c=c)\n",
    "\n",
    "    plt.plot(target[0][:, 0].detach().numpy(), target[0][:, 1].detach().numpy(), 'xk')\n",
    "plt.plot(target[1][:, 0].detach().numpy(), target[1][:, 1].detach().numpy(), 'xk')\n",
    "\n",
    "plt.plot(source[0][:, 0].detach().numpy(), source[0][:, 1].detach().numpy(), '.k')\n",
    "plt.plot(source[1][:, 0].detach().numpy(), source[1][:, 1].detach().numpy(), '.k')\n",
    "\n",
    "    \n",
    "plt.axis('equal')\n",
    "plt.show()"
   ]
  },
  {
   "cell_type": "code",
   "execution_count": null,
   "metadata": {},
   "outputs": [],
   "source": [
    "# Visualization of grid deformation for single shape Deformation Modules\n",
    "nx, ny = 30, 30\n",
    "sx, sy = 30, 30\n",
    "x, y = torch.meshgrid([torch.arange(0, nx), torch.arange(0, ny)])\n",
    "x = sx*(x.type(torch.DoubleTensor)/nx - 0.5)\n",
    "y = sy*(y.type(torch.DoubleTensor)/ny - 0.5)\n",
    "\n",
    "gridpoints = dm.usefulfunctions.grid2vec(x, y).type(torch.DoubleTensor)\n",
    "\n",
    "\n",
    "phi = mm.largeDeformation_unconstrained(module_compound, states, controls, gridpoints)\n",
    "x1, y1 = dm.usefulfunctions.vec2grid(phi, nx, ny)\n",
    "\n",
    "fig_grid1 = mm.plot_grid( x1.detach().numpy(), y1.detach().numpy(), color = 'blue', figsize=figsize, dpi=dpi)\n",
    "plt.show()\n"
   ]
  },
  {
   "cell_type": "code",
   "execution_count": null,
   "metadata": {},
   "outputs": [],
   "source": []
  },
  {
   "cell_type": "code",
   "execution_count": null,
   "metadata": {},
   "outputs": [],
   "source": []
  },
  {
   "cell_type": "code",
   "execution_count": null,
   "metadata": {},
   "outputs": [],
   "source": []
  },
  {
   "cell_type": "code",
   "execution_count": null,
   "metadata": {},
   "outputs": [],
   "source": [
    "def compute_deformation_grid(grid_origin, grid_size, grid_resolution, it=2, intermediate=False):\n",
    "    x, y = torch.meshgrid([\n",
    "        torch.linspace(grid_origin[0], grid_origin[0]+grid_size[0], grid_resolution[0]),\n",
    "        torch.linspace(grid_origin[1], grid_origin[1]+grid_size[1], grid_resolution[1])])\n",
    "\n",
    "    gridpos = dm.usefulfunctions.grid2vec(x, y)\n",
    "\n",
    "    grid_landmarks = dm.manifold.Landmarks(2, gridpos.shape[0], gd=gridpos.view(-1))\n",
    "    grid_silent = dm.deformationmodules.SilentPoints(grid_landmarks)\n",
    "\n",
    "    intermediate = dm.shooting.shoot_euler(dm.hamiltonian_multishape.Hamiltonian_multi(dm.multishape.MultiShapeModule([grid_silent, *modules.module_list]), constr_Id), it=10)\n",
    "\n",
    "    return dm.usefulfunctions.vec2grid(grid_landmarks.gd.view(-1, 2).detach(), grid_resolution[0], grid_resolution[1])\n",
    "\n",
    "compute_deformation_grid(torch.tensor([-3.,-3.]), torch.tensor([15.,10.]), torch.Size([16,16]))"
   ]
  },
  {
   "cell_type": "code",
   "execution_count": null,
   "metadata": {},
   "outputs": [],
   "source": [
    "fig_shooting.savefig('results/circles_translation/shooting.png')\n",
    "fig_source.savefig('results/circles_translation/source.png')\n",
    "fig_target.savefig('results/circles_translation/target.png')\n",
    "\n",
    "fig_grid1.savefig('results/circles_translation/grid1.png')\n",
    "fig_grid2.savefig('results/circles_translation/grid2.png')\n",
    "fig_grid_bg.savefig('results/circles_translation/grid_bg.png')"
   ]
  },
  {
   "cell_type": "code",
   "execution_count": null,
   "metadata": {},
   "outputs": [],
   "source": []
  },
  {
   "cell_type": "code",
   "execution_count": null,
   "metadata": {},
   "outputs": [],
   "source": [
    "def test_gradcheck_Hamiltonian():\n",
    "    def hamiltonian(gd, mom):\n",
    "        \n",
    "        H.module.manifold.fill_gd(gd)\n",
    "        H.module.manifold.fill_cotan(mom)\n",
    "        H.geodesic_controls()\n",
    "        return H()\n",
    "    \n",
    "    return torch.autograd.gradcheck(hamiltonian, (gd, mom), raise_exception=True)\n",
    "\n",
    "gd0_tensor = torch.cat(H.module.manifold.unroll_gd().copy(),0).requires_grad_().view(-1)\n",
    "gd = gd0_tensor\n",
    "mom = 1000*torch.rand(gd.shape)\n",
    "\n",
    "\n",
    "test_gradcheck_Hamiltonian()"
   ]
  },
  {
   "cell_type": "code",
   "execution_count": null,
   "metadata": {},
   "outputs": [],
   "source": [
    "def test_gradcheck_Hamiltonian():\n",
    "    def hamiltonian(gd, mom):\n",
    "        \n",
    "        mod.manifold.fill_gd(gd)\n",
    "        mod.manifold.fill_cotan(mom)\n",
    "        #H.geodesic_controls()\n",
    "        #return H()\n",
    "        mod.compute_geodesic_control_from_self(mod.manifold)\n",
    "        return mod.controls\n",
    "    \n",
    "    return torch.autograd.gradcheck(hamiltonian, (gd, mom), raise_exception=True)\n",
    "\n",
    "mod = H.module.module_list[0].copy()\n",
    "\n",
    "#gd0_tensor = torch.cat(mod.manifold.unroll_gd().copy(),0).requires_grad_().view(-1)\n",
    "#gd = gd0_tensor\n",
    "#mom = 1000*torch.rand(gd.shape)\n",
    "\n",
    "gd = torch.cat(mod.manifold.gd).clone().requires_grad_()\n",
    "mom = torch.cat(mod.manifold.cotan).clone().requires_grad_()\n",
    "\n",
    "\n",
    "test_gradcheck_Hamiltonian()"
   ]
  },
  {
   "cell_type": "code",
   "execution_count": null,
   "metadata": {},
   "outputs": [],
   "source": [
    "# Defining the deformation modules\n",
    "sigma1 = 20\n",
    "manifold1 = dm.manifold.Landmarks(dim, nb_pts1, gd=source[0].view(-1))\n",
    "trans1 = dm.deformationmodules.GlobalTranslation(manifold1, sigma1)\n",
    "trans1.fill_controls_zero()\n",
    "#trans1 = dm.deformationmodules.Translations(manifold1, sigma1)\n",
    "silent1 = dm.deformationmodules.SilentPoints(manifold1.copy())\n",
    "mod1 = dm.deformationmodules.CompoundModule([silent1, trans1])\n",
    "\n",
    "sigma_scaling = 1.\n",
    "a = torch.sqrt(torch.tensor(3.))\n",
    "direc_scaling_pts = torch.tensor([[1., 0.], [-0.5 , 0.5* a],  [-0.5, -0.5* a]], requires_grad=True, dtype=torch.float64)\n",
    "direc_scaling_vec =  torch.tensor([[1., 0.], [-0.5 , 0.5* a],  [-0.5, -0.5* a]], requires_grad=True, dtype=torch.float64)\n",
    "def f(x):\n",
    "    centre = x.view(1,2).repeat(3,1)\n",
    "    return centre + 0.3 * sigma_scaling * direc_scaling_pts\n",
    "\n",
    "def g(x):\n",
    "    return direc_scaling_vec\n",
    "scaling0 = dm.deformationmodules.ConstrainedTranslations(dm.manifold.Landmarks(2, 1, gd = torch.tensor([0.,0.]).view(-1).requires_grad_()), f, g, sigma_scaling)\n",
    "\n",
    "man_scal = dm.manifold.Landmarks(2,1, gd=torch.tensor([0.,0.]).view(-1).requires_grad_())\n",
    "scal = dm.deformationmodules.LocalScaling(man_scal, sigma=5.)\n",
    "sigma2 = 20\n",
    "manifold2 = dm.manifold.Landmarks(dim, nb_pts2, gd=source[1].view(-1))\n",
    "trans2 = dm.deformationmodules.GlobalTranslation(manifold2, sigma2)\n",
    "trans2.fill_controls_zero()\n",
    "trans2 = dm.deformationmodules.Translations(manifold2, sigma2)\n",
    "silent2 = dm.deformationmodules.SilentPoints(manifold2.copy())\n",
    "mod2 = dm.deformationmodules.CompoundModule([silent2, trans2, scal])\n",
    "\n",
    "\n",
    "module_list = [mod1, mod2]\n",
    "sigma_bg = 5.\n",
    "modules = dm.multishape.MultiShapeModule(module_list, sigma_bg)\n",
    "\n",
    "constr_Id = dm.constraints.Identity_Silent()\n",
    "H = hamiltonian.Hamiltonian_multi(modules, constr_Id)"
   ]
  },
  {
   "cell_type": "code",
   "execution_count": null,
   "metadata": {},
   "outputs": [],
   "source": [
    "dty = torch.float64\n",
    "gd0 = torch.tensor([-1., 0.], requires_grad=True, dtype=dty)\n",
    "gd1 = torch.tensor([1., 0.], requires_grad=True, dtype=dty)\n",
    "\n",
    "nb_pts = source[0].shape[0]\n",
    "man_silent = dm.manifold.Landmarks(2, nb_pts, gd=source[0].view(-1).requires_grad_())\n",
    "man_scal1 = dm.manifold.Landmarks(2,1,gd=gd0)\n",
    "man_scal2 = dm.manifold.Landmarks(2,1,gd=gd1)\n",
    "\n",
    "sigma_scaling = 1.\n",
    "silent = dm.deformationmodules.SilentPoints(man_silent)\n",
    "scal1 = dm.deformationmodules.LocalScaling(man_scal1, sigma = sigma_scaling)\n",
    "scal2 = dm.deformationmodules.LocalScaling(man_scal2, sigma = sigma_scaling)\n",
    "trans = dm.deformationmodules.Translations(dm.manifold.Landmarks(2,1,gd = torch.tensor([0.,0.]).view(-1).requires_grad_()), sigma=400, coeff=5.)\n",
    "\n",
    "comp1 = dm.deformationmodules.CompoundModule([silent, scal1, scal2, trans])\n",
    "\n",
    "modules = dm.multishape.MultiShapeModule([comp1], sigma_bg)\n",
    "constr_Id = dm.constraints.Identity_Silent()\n",
    "H = hamiltonian.Hamiltonian_multi(modules, constr_Id)"
   ]
  },
  {
   "cell_type": "code",
   "execution_count": null,
   "metadata": {},
   "outputs": [],
   "source": [
    "def test_gradcheck():\n",
    "    def fun(gd, mom):\n",
    "        mod.manifold.fill_gd(gd)\n",
    "        mod.manifold.fill_cotan(mom)\n",
    "        mod.compute_geodesic_control_from_self(mod.manifold.copy(retain_grad=True))\n",
    "        return mod.controls\n",
    "    return torch.autograd.gradcheck(fun, (gd, mom), raise_exception=True)\n",
    "\n",
    "mod = dm.deformationmodules.CompoundModule([silent1, trans1])\n",
    "#h = hamiltonian.Hamiltonian_multi(dm.multishape.MultiShapeModule(modlist, sigma_bg), constr_Id)\n",
    "\n",
    "gd = torch.cat(mod.manifold.gd.copy()).detach().requires_grad_()\n",
    "mom = torch.cat(mod.manifold.cotan.copy()).detach().requires_grad_()\n",
    "\n",
    "test_gradcheck()"
   ]
  },
  {
   "cell_type": "code",
   "execution_count": null,
   "metadata": {},
   "outputs": [],
   "source": [
    "H.module.module_list[0].module_list"
   ]
  },
  {
   "cell_type": "code",
   "execution_count": 27,
   "metadata": {},
   "outputs": [
    {
     "data": {
      "text/plain": [
       "True"
      ]
     },
     "execution_count": 27,
     "metadata": {},
     "output_type": "execute_result"
    }
   ],
   "source": [
    "def test_gradcheck_Hamiltonian():\n",
    "    def hamiltonian(gd, mom):\n",
    "        \n",
    "        H.module.manifold.fill_gd(gd)\n",
    "        H.module.manifold.fill_cotan(mom)\n",
    "        H.geodesic_controls()\n",
    "        return H()\n",
    "    \n",
    "    return torch.autograd.gradcheck(hamiltonian, (gd, mom), raise_exception=True)\n",
    "\n",
    "gd = torch.cat(H.module.manifold.unroll_gd().copy()).requires_grad_().view(-1)\n",
    "mom = torch.cat(H.module.manifold.unroll_cotan().copy()).requires_grad_().view(-1)\n",
    "\n",
    "\n",
    "test_gradcheck_Hamiltonian()"
   ]
  },
  {
   "cell_type": "code",
   "execution_count": null,
   "metadata": {},
   "outputs": [],
   "source": []
  }
 ],
 "metadata": {
  "kernelspec": {
   "display_name": "Python 3",
   "language": "python",
   "name": "python3"
  },
  "language_info": {
   "codemirror_mode": {
    "name": "ipython",
    "version": 3
   },
   "file_extension": ".py",
   "mimetype": "text/x-python",
   "name": "python",
   "nbconvert_exporter": "python",
   "pygments_lexer": "ipython3",
   "version": "3.6.8"
  }
 },
 "nbformat": 4,
 "nbformat_minor": 2
}
