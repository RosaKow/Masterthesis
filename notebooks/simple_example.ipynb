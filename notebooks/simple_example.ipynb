{
 "cells": [
  {
   "cell_type": "code",
   "execution_count": null,
   "metadata": {
    "autoscroll": false,
    "collapsed": false,
    "ein.hycell": false,
    "ein.tags": "worksheet-0",
    "slideshow": {
     "slide_type": "-"
    }
   },
   "outputs": [],
   "source": [
    "%reset\n",
    "%load_ext autoreload\n",
    "%autoreload 2\n",
    "import sys\n",
    "sys.path.append(\"../\")\n",
    "\n",
    "import torch\n",
    "import numpy as np\n",
    "import matplotlib.pyplot as plt\n",
    "\n",
    "import defmod as dm"
   ]
  },
  {
   "cell_type": "code",
   "execution_count": null,
   "metadata": {
    "autoscroll": false,
    "collapsed": false,
    "ein.hycell": false,
    "ein.tags": "worksheet-0",
    "slideshow": {
     "slide_type": "-"
    }
   },
   "outputs": [],
   "source": [
    "dim = 2\n",
    "sigma = 5.\n",
    "nb_pts = 2\n",
    "\n",
    "gd_trans = torch.tensor([[-2., 0.], [2., 0.]], requires_grad=True).view(-1)\n",
    "mom_trans = torch.tensor([[-1., 0.], [1., 3.]], requires_grad=True).view(-1)\n",
    "\n",
    "trans = dm.deformationmodules.Translations(dm.manifold.Landmarks(dim, nb_pts, gd=gd_trans, cotan=mom_trans), sigma)\n",
    "hamiltonian = dm.hamiltonian.Hamiltonian([trans])"
   ]
  },
  {
   "cell_type": "code",
   "execution_count": null,
   "metadata": {
    "autoscroll": false,
    "collapsed": false,
    "ein.hycell": false,
    "ein.tags": "worksheet-0",
    "slideshow": {
     "slide_type": "-"
    }
   },
   "outputs": [],
   "source": [
    "dm.shooting.shoot(hamiltonian, method='rk4', it=10)\n",
    "print(\"Initial\")\n",
    "print(gd_trans.view(-1, 2))\n",
    "print(mom_trans.view(-1, 2))\n",
    "print(\"Final\")\n",
    "print(trans.manifold.gd.view(-1, 2))\n",
    "print(trans.manifold.cotan.view(-1, 2))\n",
    "print(trans.controls.view(-1, 2))"
   ]
  },
  {
   "cell_type": "code",
   "execution_count": null,
   "metadata": {
    "autoscroll": false,
    "collapsed": false,
    "ein.hycell": false,
    "ein.tags": "worksheet-0",
    "slideshow": {
     "slide_type": "-"
    }
   },
   "outputs": [],
   "source": [
    "nx, ny = 100, 100\n",
    "sx, sy = 10, 10\n",
    "x, y = torch.meshgrid([torch.arange(0, nx), torch.arange(0, ny)])\n",
    "x = sx*(x.type(torch.FloatTensor)/nx - 0.5)\n",
    "y = sy*(y.type(torch.FloatTensor)/ny - 0.5)\n",
    "u, v = dm.usefulfunctions.vec2grid(trans(dm.usefulfunctions.grid2vec(x, y).type(torch.FloatTensor)), nx, ny)"
   ]
  },
  {
   "cell_type": "code",
   "execution_count": null,
   "metadata": {
    "autoscroll": false,
    "collapsed": false,
    "ein.hycell": false,
    "ein.tags": "worksheet-0",
    "slideshow": {
     "slide_type": "-"
    }
   },
   "outputs": [],
   "source": [
    "%matplotlib qt5\n",
    "\n",
    "plt.quiver(x.numpy(), y.numpy(), u.detach().numpy(), v.detach().numpy())\n",
    "plt.show()"
   ]
  }
 ],
 "metadata": {
  "kernelspec": {
   "display_name": "Python 3",
   "name": "python3"
  },
  "name": "simple_example.ipynb"
 },
 "nbformat": 4,
 "nbformat_minor": 2
}
