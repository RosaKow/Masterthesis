{
 "cells": [
  {
   "cell_type": "code",
   "execution_count": null,
   "metadata": {
    "autoscroll": false,
    "collapsed": false,
    "ein.hycell": false,
    "ein.tags": "worksheet-0",
    "slideshow": {
     "slide_type": "-"
    }
   },
   "outputs": [],
   "source": [
    "%reset\n",
    "%load_ext autoreload\n",
    "%autoreload 2\n",
    "\n",
    "import torch\n",
    "import numpy as np\n",
    "import matplotlib.pyplot as plt\n",
    "\n",
    "import DeformationModules as defmod\n",
    "import Shooting as shoot\n",
    "import Hamiltonian as ham\n",
    "import UsefulFunctions as fun\n",
    "import Shooting"
   ]
  },
  {
   "cell_type": "code",
   "execution_count": null,
   "metadata": {
    "autoscroll": false,
    "collapsed": false,
    "ein.hycell": false,
    "ein.tags": "worksheet-0",
    "slideshow": {
     "slide_type": "-"
    }
   },
   "outputs": [],
   "source": [
    "d = 2"
   ]
  },
  {
   "cell_type": "code",
   "execution_count": null,
   "metadata": {
    "autoscroll": false,
    "collapsed": false,
    "ein.hycell": false,
    "ein.tags": "worksheet-0",
    "slideshow": {
     "slide_type": "-"
    }
   },
   "outputs": [],
   "source": [
    "sigma = 0.5\n",
    "nbPtsTrans = 10\n",
    "nbPtsSilent = 25\n",
    "\n",
    "Trans = defmod.Translations(sigma, d, nbPtsTrans)\n",
    "Trans2 = defmod.Translations(sigma, d, nbPtsTrans2)\n",
    "Silent = defmod.SilentPoints(d, nbPtsSilent)\n",
    "\n",
    "Compound = defmod.Compound([Trans, Silent])"
   ]
  },
  {
   "cell_type": "code",
   "execution_count": null,
   "metadata": {
    "autoscroll": false,
    "collapsed": false,
    "ein.hycell": false,
    "ein.tags": "worksheet-0",
    "slideshow": {
     "slide_type": "-"
    }
   },
   "outputs": [],
   "source": [
    "Hamiltonian = ham.Hamilt(Compound)\n",
    "\n",
    "def H_r(GD, MOM):\n",
    "    return Hamiltonian(GD, MOM, Hamiltonian.Cont_geo(GD, MOM))"
   ]
  },
  {
   "cell_type": "code",
   "execution_count": null,
   "metadata": {
    "autoscroll": false,
    "collapsed": false,
    "ein.hycell": false,
    "ein.tags": "worksheet-0",
    "slideshow": {
     "slide_type": "-"
    }
   },
   "outputs": [],
   "source": [
    "GD_Trans = torch.rand(nbPtsTrans, d, requires_grad=True).view(-1)\n",
    "GD_Trans2 = torch.rand(nbPtsTrans2, d, requires_grad=True).view(-1)\n",
    "GD_Silent = torch.rand(nbPtsSilent, d, requires_grad=True).view(-1)\n",
    "\n",
    "MOM_Trans = torch.rand(nbPtsTrans, d, requires_grad=True).view(-1)\n",
    "MOM_Trans2 = torch.rand(nbPtsTrans2, d, requires_grad=True).view(-1)\n",
    "MOM_Silent = torch.rand(nbPtsSilent, d, requires_grad=True).view(-1)\n",
    "\n",
    "GD_Comp = torch.cat([GD_Trans, GD_Silent])\n",
    "MOM_Comp = torch.cat([MOM_Trans, MOM_Silent])"
   ]
  },
  {
   "cell_type": "code",
   "execution_count": null,
   "metadata": {
    "autoscroll": false,
    "collapsed": false,
    "ein.hycell": false,
    "ein.tags": "worksheet-0",
    "slideshow": {
     "slide_type": "-"
    }
   },
   "outputs": [],
   "source": [
    "Controls = Hamiltonian.Cont_geo(GD_Comp, MOM_Comp).view(-1)"
   ]
  },
  {
   "cell_type": "code",
   "execution_count": null,
   "metadata": {
    "autoscroll": false,
    "collapsed": false,
    "ein.hycell": false,
    "ein.tags": "worksheet-0",
    "slideshow": {
     "slide_type": "-"
    }
   },
   "outputs": [],
   "source": [
    "GD_Final, MOM_Final = Shooting.shoot(Compound, GD_Comp, MOM_Comp, H_r, 100)"
   ]
  },
  {
   "cell_type": "code",
   "execution_count": null,
   "metadata": {
    "autoscroll": false,
    "collapsed": false,
    "ein.hycell": false,
    "ein.tags": "worksheet-0",
    "slideshow": {
     "slide_type": "-"
    }
   },
   "outputs": [],
   "source": [
    "nx, ny = 100, 100\n",
    "sx, sy = 10, 10\n",
    "x, y = torch.meshgrid([torch.arange(0, nx), torch.arange(0, ny)])\n",
    "x = sx*(x.type(torch.FloatTensor)/nx - 0.5)\n",
    "y = sy*(y.type(torch.FloatTensor)/ny - 0.5)\n",
    "u, v = fun.vec2grid(Compound(GD_Final, Controls, fun.grid2vec(x, y).type(torch.FloatTensor)), nx, ny)\n",
    "\n",
    "plt.quiver(x.numpy(), y.numpy(), u.detach().numpy(), v.detach().numpy())\n",
    "plt.show()"
   ]
  }
 ],
 "metadata": {
  "kernelspec": {
   "display_name": "Python 3",
   "name": "python3"
  },
  "name": "simple_compound.ipynb"
 },
 "nbformat": 4,
 "nbformat_minor": 2
}
